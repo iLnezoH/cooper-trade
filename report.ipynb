{
 "cells": [
  {
   "cell_type": "markdown",
   "metadata": {},
   "source": [
    "## 1. 数据处理和分析\n",
    "\n",
    "### 1.1 数据预处理\n",
    "\n",
    "读取从 [UN Comtrade Database](https://comtrade.un.org/data/) 获取的 2016-2020 年全球铜及其精炼物（2603）贸易记录，并处理：\n",
    "\n",
    "1. 去除贸易对象为 World 的数据行\n",
    "2. 并保留关心的数据列：报告者及其代码、贸易对象及代码、贸易类型、贸易额\n",
    "\n",
    "**！注**：数据中上报者（Reporter）可能包含国家和地区以及**中国**港澳台地区，为方便起见以下统称“国家”."
   ]
  },
  {
   "cell_type": "code",
   "execution_count": 1,
   "metadata": {},
   "outputs": [],
   "source": [
    "from src.main import Report, pd, show_cluster_list, plt\n"
   ]
  },
  {
   "cell_type": "code",
   "execution_count": 2,
   "metadata": {},
   "outputs": [],
   "source": [
    "report_11 = Report(\n",
    "    'src/data/format-2011-world-copper-2063-trade.json', '2011', 2)\n",
    "report_12 = Report(\n",
    "    'src/data/format-2012-world-copper-2063-trade.json', '2012', 2)\n",
    "report_13 = Report(\n",
    "    'src/data/format-2013-world-copper-2063-trade.json', '2013', 2)\n",
    "report_14 = Report(\n",
    "    'src/data/format-2014-world-copper-2063-trade.json', '2014', 2)\n",
    "report_15 = Report(\n",
    "    'src/data/format-2015-world-copper-2063-trade.json', '2015', 2)\n",
    "report_16 = Report(\n",
    "    'src/data/format-2016-world-copper-2063-trade.json', '2016', 2)\n",
    "report_17 = Report(\n",
    "    'src/data/format-2017-world-copper-2063-trade.json', '2017', 2)\n",
    "report_18 = Report(\n",
    "    'src/data/format-2018-world-copper-2063-trade.json', '2018', 2)\n",
    "report_19 = Report(\n",
    "    'src/data/format-2019-world-copper-2063-trade.json', '2019', 2)\n",
    "report_20 = Report(\n",
    "    'src/data/format-2020-world-copper-2063-trade.json', '2020', 2)\n"
   ]
  },
  {
   "cell_type": "code",
   "execution_count": 3,
   "metadata": {},
   "outputs": [
    {
     "data": {
      "text/html": [
       "<div>\n",
       "<style scoped>\n",
       "    .dataframe tbody tr th:only-of-type {\n",
       "        vertical-align: middle;\n",
       "    }\n",
       "\n",
       "    .dataframe tbody tr th {\n",
       "        vertical-align: top;\n",
       "    }\n",
       "\n",
       "    .dataframe thead th {\n",
       "        text-align: right;\n",
       "    }\n",
       "</style>\n",
       "<table border=\"1\" class=\"dataframe\">\n",
       "  <thead>\n",
       "    <tr style=\"text-align: right;\">\n",
       "      <th></th>\n",
       "      <th>Code</th>\n",
       "      <th>Name</th>\n",
       "    </tr>\n",
       "  </thead>\n",
       "  <tbody>\n",
       "    <tr>\n",
       "      <th>15</th>\n",
       "      <td>156</td>\n",
       "      <td>China</td>\n",
       "    </tr>\n",
       "  </tbody>\n",
       "</table>\n",
       "</div>"
      ],
      "text/plain": [
       "    Code   Name\n",
       "15   156  China"
      ]
     },
     "execution_count": 3,
     "metadata": {},
     "output_type": "execute_result"
    }
   ],
   "source": [
    "reports = [report_11, report_12, report_13, report_14, report_15,\n",
    "           report_16, report_17, report_18, report_19, report_20]\n",
    "\n",
    "report_16.data.getByCode(156)\n"
   ]
  },
  {
   "cell_type": "markdown",
   "metadata": {},
   "source": [
    "### 1.2 数据分析与检验*\n",
    "\n",
    "以 2019 年数据为例，进行数据分析与检验\n",
    "\n",
    "1. 获取贸易参与者"
   ]
  },
  {
   "cell_type": "code",
   "execution_count": 4,
   "metadata": {},
   "outputs": [
    {
     "name": "stdout",
     "output_type": "stream",
     "text": [
      "上报进贸易记录的国家总数（不含重复）:  85\n",
      "上报进贸易记录的中的贸易对象国家总数（不含重复）:  104\n",
      "上报进贸易记录的国家，和记录中的贸易对象国家总数（不含重复）:  114\n"
     ]
    }
   ],
   "source": [
    "report_19.check_data()\n"
   ]
  },
  {
   "cell_type": "markdown",
   "metadata": {},
   "source": [
    "2. 数据检验\n",
    "\n",
    "从上面数据可以看出，各国上报的记录显然是有出入的，即上报记录中涉及的国家数要比上报数据的国家数多，这至少说明了一些参与了贸易的国家没有上报贸易记录\n",
    "\n",
    "下面以中国上报的记录为例检查和说明：\n",
    "\n",
    "        1. 查看中国上报的进口记录"
   ]
  },
  {
   "cell_type": "code",
   "execution_count": 5,
   "metadata": {},
   "outputs": [
    {
     "name": "stdout",
     "output_type": "stream",
     "text": [
      "中国上报的进口记录中，涉及出口国家的个数:  93\n"
     ]
    },
    {
     "data": {
      "text/html": [
       "<div>\n",
       "<style scoped>\n",
       "    .dataframe tbody tr th:only-of-type {\n",
       "        vertical-align: middle;\n",
       "    }\n",
       "\n",
       "    .dataframe tbody tr th {\n",
       "        vertical-align: top;\n",
       "    }\n",
       "\n",
       "    .dataframe thead th {\n",
       "        text-align: right;\n",
       "    }\n",
       "</style>\n",
       "<table border=\"1\" class=\"dataframe\">\n",
       "  <thead>\n",
       "    <tr style=\"text-align: right;\">\n",
       "      <th></th>\n",
       "      <th>Reporter Code</th>\n",
       "      <th>Reporter</th>\n",
       "      <th>Partner Code</th>\n",
       "      <th>Partner</th>\n",
       "      <th>Trade Flow</th>\n",
       "      <th>Trade Value (US$)</th>\n",
       "      <th>Trade Quantity</th>\n",
       "      <th>NetWeight</th>\n",
       "    </tr>\n",
       "  </thead>\n",
       "  <tbody>\n",
       "    <tr>\n",
       "      <th>0</th>\n",
       "      <td>156</td>\n",
       "      <td>China</td>\n",
       "      <td>784</td>\n",
       "      <td>United Arab Emirates</td>\n",
       "      <td>Import</td>\n",
       "      <td>70360785</td>\n",
       "      <td>53964805</td>\n",
       "      <td>53964805.0</td>\n",
       "    </tr>\n",
       "    <tr>\n",
       "      <th>1</th>\n",
       "      <td>156</td>\n",
       "      <td>China</td>\n",
       "      <td>792</td>\n",
       "      <td>Turkey</td>\n",
       "      <td>Import</td>\n",
       "      <td>60658162</td>\n",
       "      <td>59904304</td>\n",
       "      <td>59904304.0</td>\n",
       "    </tr>\n",
       "    <tr>\n",
       "      <th>2</th>\n",
       "      <td>156</td>\n",
       "      <td>China</td>\n",
       "      <td>826</td>\n",
       "      <td>United Kingdom</td>\n",
       "      <td>Import</td>\n",
       "      <td>74307</td>\n",
       "      <td>60000</td>\n",
       "      <td>60000.0</td>\n",
       "    </tr>\n",
       "    <tr>\n",
       "      <th>3</th>\n",
       "      <td>156</td>\n",
       "      <td>China</td>\n",
       "      <td>834</td>\n",
       "      <td>United Rep. of Tanzania</td>\n",
       "      <td>Import</td>\n",
       "      <td>8523190</td>\n",
       "      <td>2182580</td>\n",
       "      <td>2182580.0</td>\n",
       "    </tr>\n",
       "    <tr>\n",
       "      <th>4</th>\n",
       "      <td>156</td>\n",
       "      <td>China</td>\n",
       "      <td>842</td>\n",
       "      <td>USA</td>\n",
       "      <td>Import</td>\n",
       "      <td>13566717</td>\n",
       "      <td>9074822</td>\n",
       "      <td>9074822.0</td>\n",
       "    </tr>\n",
       "    <tr>\n",
       "      <th>...</th>\n",
       "      <td>...</td>\n",
       "      <td>...</td>\n",
       "      <td>...</td>\n",
       "      <td>...</td>\n",
       "      <td>...</td>\n",
       "      <td>...</td>\n",
       "      <td>...</td>\n",
       "      <td>...</td>\n",
       "    </tr>\n",
       "    <tr>\n",
       "      <th>88</th>\n",
       "      <td>724</td>\n",
       "      <td>Spain</td>\n",
       "      <td>156</td>\n",
       "      <td>China</td>\n",
       "      <td>Export</td>\n",
       "      <td>746141115</td>\n",
       "      <td>633941004</td>\n",
       "      <td>633941004.0</td>\n",
       "    </tr>\n",
       "    <tr>\n",
       "      <th>89</th>\n",
       "      <td>792</td>\n",
       "      <td>Turkey</td>\n",
       "      <td>156</td>\n",
       "      <td>China</td>\n",
       "      <td>Export</td>\n",
       "      <td>76043743</td>\n",
       "      <td>86924900</td>\n",
       "      <td>86924900.0</td>\n",
       "    </tr>\n",
       "    <tr>\n",
       "      <th>90</th>\n",
       "      <td>842</td>\n",
       "      <td>USA</td>\n",
       "      <td>156</td>\n",
       "      <td>China</td>\n",
       "      <td>Export</td>\n",
       "      <td>4248920</td>\n",
       "      <td>7546469</td>\n",
       "      <td>7546469.0</td>\n",
       "    </tr>\n",
       "    <tr>\n",
       "      <th>91</th>\n",
       "      <td>704</td>\n",
       "      <td>Viet Nam</td>\n",
       "      <td>156</td>\n",
       "      <td>China</td>\n",
       "      <td>Export</td>\n",
       "      <td>71467</td>\n",
       "      <td>59429</td>\n",
       "      <td>59429.0</td>\n",
       "    </tr>\n",
       "    <tr>\n",
       "      <th>92</th>\n",
       "      <td>894</td>\n",
       "      <td>Zambia</td>\n",
       "      <td>156</td>\n",
       "      <td>China</td>\n",
       "      <td>Export</td>\n",
       "      <td>1657677</td>\n",
       "      <td>7121485</td>\n",
       "      <td>7121485.0</td>\n",
       "    </tr>\n",
       "  </tbody>\n",
       "</table>\n",
       "<p>93 rows × 8 columns</p>\n",
       "</div>"
      ],
      "text/plain": [
       "    Reporter Code  Reporter  Partner Code                  Partner Trade Flow  Trade Value (US$)  Trade Quantity    NetWeight\n",
       "0             156     China           784     United Arab Emirates     Import           70360785        53964805   53964805.0\n",
       "1             156     China           792                   Turkey     Import           60658162        59904304   59904304.0\n",
       "2             156     China           826           United Kingdom     Import              74307           60000      60000.0\n",
       "3             156     China           834  United Rep. of Tanzania     Import            8523190         2182580    2182580.0\n",
       "4             156     China           842                      USA     Import           13566717         9074822    9074822.0\n",
       "..            ...       ...           ...                      ...        ...                ...             ...          ...\n",
       "88            724     Spain           156                    China     Export          746141115       633941004  633941004.0\n",
       "89            792    Turkey           156                    China     Export           76043743        86924900   86924900.0\n",
       "90            842       USA           156                    China     Export            4248920         7546469    7546469.0\n",
       "91            704  Viet Nam           156                    China     Export              71467           59429      59429.0\n",
       "92            894    Zambia           156                    China     Export            1657677         7121485    7121485.0\n",
       "\n",
       "[93 rows x 8 columns]"
      ]
     },
     "execution_count": 5,
     "metadata": {},
     "output_type": "execute_result"
    }
   ],
   "source": [
    "report_19.view_logs_by_china()\n"
   ]
  },
  {
   "cell_type": "markdown",
   "metadata": {},
   "source": [
    "        2. 查看中国进口对象上报的对中国的出口记录"
   ]
  },
  {
   "cell_type": "code",
   "execution_count": 6,
   "metadata": {},
   "outputs": [
    {
     "name": "stdout",
     "output_type": "stream",
     "text": [
      "全球上报了对中国有出口记录的国家 31\n"
     ]
    },
    {
     "data": {
      "text/html": [
       "<div>\n",
       "<style scoped>\n",
       "    .dataframe tbody tr th:only-of-type {\n",
       "        vertical-align: middle;\n",
       "    }\n",
       "\n",
       "    .dataframe tbody tr th {\n",
       "        vertical-align: top;\n",
       "    }\n",
       "\n",
       "    .dataframe thead th {\n",
       "        text-align: right;\n",
       "    }\n",
       "</style>\n",
       "<table border=\"1\" class=\"dataframe\">\n",
       "  <thead>\n",
       "    <tr style=\"text-align: right;\">\n",
       "      <th></th>\n",
       "      <th>Reporter Code</th>\n",
       "      <th>Reporter</th>\n",
       "      <th>Partner Code</th>\n",
       "      <th>Partner</th>\n",
       "      <th>Trade Flow</th>\n",
       "      <th>Trade Value (US$)</th>\n",
       "      <th>Trade Quantity</th>\n",
       "      <th>NetWeight</th>\n",
       "    </tr>\n",
       "  </thead>\n",
       "  <tbody>\n",
       "    <tr>\n",
       "      <th>0</th>\n",
       "      <td>56</td>\n",
       "      <td>Belgium</td>\n",
       "      <td>156</td>\n",
       "      <td>China</td>\n",
       "      <td>Import</td>\n",
       "      <td>10336</td>\n",
       "      <td>2149</td>\n",
       "      <td>2149.0</td>\n",
       "    </tr>\n",
       "    <tr>\n",
       "      <th>1</th>\n",
       "      <td>96</td>\n",
       "      <td>Brunei Darussalam</td>\n",
       "      <td>156</td>\n",
       "      <td>China</td>\n",
       "      <td>Import</td>\n",
       "      <td>16143</td>\n",
       "      <td>100000</td>\n",
       "      <td>100000.0</td>\n",
       "    </tr>\n",
       "    <tr>\n",
       "      <th>2</th>\n",
       "      <td>100</td>\n",
       "      <td>Bulgaria</td>\n",
       "      <td>156</td>\n",
       "      <td>China</td>\n",
       "      <td>Import</td>\n",
       "      <td>1850</td>\n",
       "      <td>74</td>\n",
       "      <td>74.0</td>\n",
       "    </tr>\n",
       "    <tr>\n",
       "      <th>3</th>\n",
       "      <td>116</td>\n",
       "      <td>Cambodia</td>\n",
       "      <td>156</td>\n",
       "      <td>China</td>\n",
       "      <td>Import</td>\n",
       "      <td>576278</td>\n",
       "      <td>1155237</td>\n",
       "      <td>1155237.0</td>\n",
       "    </tr>\n",
       "    <tr>\n",
       "      <th>4</th>\n",
       "      <td>124</td>\n",
       "      <td>Canada</td>\n",
       "      <td>156</td>\n",
       "      <td>China</td>\n",
       "      <td>Import</td>\n",
       "      <td>161</td>\n",
       "      <td>36</td>\n",
       "      <td>36.0</td>\n",
       "    </tr>\n",
       "    <tr>\n",
       "      <th>5</th>\n",
       "      <td>152</td>\n",
       "      <td>Chile</td>\n",
       "      <td>156</td>\n",
       "      <td>China</td>\n",
       "      <td>Import</td>\n",
       "      <td>10647</td>\n",
       "      <td>341</td>\n",
       "      <td>341.0</td>\n",
       "    </tr>\n",
       "    <tr>\n",
       "      <th>6</th>\n",
       "      <td>344</td>\n",
       "      <td>China, Hong Kong SAR</td>\n",
       "      <td>156</td>\n",
       "      <td>China</td>\n",
       "      <td>Import</td>\n",
       "      <td>124228</td>\n",
       "      <td>334780</td>\n",
       "      <td>334780.0</td>\n",
       "    </tr>\n",
       "    <tr>\n",
       "      <th>7</th>\n",
       "      <td>180</td>\n",
       "      <td>Dem. Rep. of the Congo</td>\n",
       "      <td>156</td>\n",
       "      <td>China</td>\n",
       "      <td>Import</td>\n",
       "      <td>539</td>\n",
       "      <td>5</td>\n",
       "      <td>5.0</td>\n",
       "    </tr>\n",
       "    <tr>\n",
       "      <th>8</th>\n",
       "      <td>222</td>\n",
       "      <td>El Salvador</td>\n",
       "      <td>156</td>\n",
       "      <td>China</td>\n",
       "      <td>Import</td>\n",
       "      <td>43</td>\n",
       "      <td>3</td>\n",
       "      <td>3.0</td>\n",
       "    </tr>\n",
       "    <tr>\n",
       "      <th>9</th>\n",
       "      <td>251</td>\n",
       "      <td>France</td>\n",
       "      <td>156</td>\n",
       "      <td>China</td>\n",
       "      <td>Import</td>\n",
       "      <td>6</td>\n",
       "      <td>1</td>\n",
       "      <td>1.0</td>\n",
       "    </tr>\n",
       "    <tr>\n",
       "      <th>10</th>\n",
       "      <td>320</td>\n",
       "      <td>Guatemala</td>\n",
       "      <td>156</td>\n",
       "      <td>China</td>\n",
       "      <td>Import</td>\n",
       "      <td>775</td>\n",
       "      <td>50</td>\n",
       "      <td>50.0</td>\n",
       "    </tr>\n",
       "    <tr>\n",
       "      <th>11</th>\n",
       "      <td>360</td>\n",
       "      <td>Indonesia</td>\n",
       "      <td>156</td>\n",
       "      <td>China</td>\n",
       "      <td>Import</td>\n",
       "      <td>1207</td>\n",
       "      <td>74</td>\n",
       "      <td>74.0</td>\n",
       "    </tr>\n",
       "    <tr>\n",
       "      <th>12</th>\n",
       "      <td>376</td>\n",
       "      <td>Israel</td>\n",
       "      <td>156</td>\n",
       "      <td>China</td>\n",
       "      <td>Import</td>\n",
       "      <td>1000</td>\n",
       "      <td>609</td>\n",
       "      <td>609.0</td>\n",
       "    </tr>\n",
       "    <tr>\n",
       "      <th>13</th>\n",
       "      <td>381</td>\n",
       "      <td>Italy</td>\n",
       "      <td>156</td>\n",
       "      <td>China</td>\n",
       "      <td>Import</td>\n",
       "      <td>76428</td>\n",
       "      <td>26000</td>\n",
       "      <td>26000.0</td>\n",
       "    </tr>\n",
       "    <tr>\n",
       "      <th>14</th>\n",
       "      <td>398</td>\n",
       "      <td>Kazakhstan</td>\n",
       "      <td>156</td>\n",
       "      <td>China</td>\n",
       "      <td>Import</td>\n",
       "      <td>46845</td>\n",
       "      <td>69000</td>\n",
       "      <td>69000.0</td>\n",
       "    </tr>\n",
       "    <tr>\n",
       "      <th>15</th>\n",
       "      <td>458</td>\n",
       "      <td>Malaysia</td>\n",
       "      <td>156</td>\n",
       "      <td>China</td>\n",
       "      <td>Import</td>\n",
       "      <td>989265</td>\n",
       "      <td>2768773</td>\n",
       "      <td>2768773.0</td>\n",
       "    </tr>\n",
       "    <tr>\n",
       "      <th>16</th>\n",
       "      <td>496</td>\n",
       "      <td>Mongolia</td>\n",
       "      <td>156</td>\n",
       "      <td>China</td>\n",
       "      <td>Import</td>\n",
       "      <td>13946</td>\n",
       "      <td>962</td>\n",
       "      <td>962.0</td>\n",
       "    </tr>\n",
       "    <tr>\n",
       "      <th>17</th>\n",
       "      <td>484</td>\n",
       "      <td>Mexico</td>\n",
       "      <td>156</td>\n",
       "      <td>China</td>\n",
       "      <td>Import</td>\n",
       "      <td>10878113</td>\n",
       "      <td>6491795</td>\n",
       "      <td>6491795.0</td>\n",
       "    </tr>\n",
       "    <tr>\n",
       "      <th>18</th>\n",
       "      <td>104</td>\n",
       "      <td>Myanmar</td>\n",
       "      <td>156</td>\n",
       "      <td>China</td>\n",
       "      <td>Import</td>\n",
       "      <td>393</td>\n",
       "      <td>52</td>\n",
       "      <td>52.0</td>\n",
       "    </tr>\n",
       "    <tr>\n",
       "      <th>19</th>\n",
       "      <td>528</td>\n",
       "      <td>Netherlands</td>\n",
       "      <td>156</td>\n",
       "      <td>China</td>\n",
       "      <td>Import</td>\n",
       "      <td>6113</td>\n",
       "      <td>109</td>\n",
       "      <td>109.0</td>\n",
       "    </tr>\n",
       "    <tr>\n",
       "      <th>20</th>\n",
       "      <td>410</td>\n",
       "      <td>Rep. of Korea</td>\n",
       "      <td>156</td>\n",
       "      <td>China</td>\n",
       "      <td>Import</td>\n",
       "      <td>30333</td>\n",
       "      <td>1238</td>\n",
       "      <td>1238.0</td>\n",
       "    </tr>\n",
       "    <tr>\n",
       "      <th>21</th>\n",
       "      <td>702</td>\n",
       "      <td>Singapore</td>\n",
       "      <td>156</td>\n",
       "      <td>China</td>\n",
       "      <td>Import</td>\n",
       "      <td>18176</td>\n",
       "      <td>2300</td>\n",
       "      <td>2300.0</td>\n",
       "    </tr>\n",
       "    <tr>\n",
       "      <th>22</th>\n",
       "      <td>710</td>\n",
       "      <td>South Africa</td>\n",
       "      <td>156</td>\n",
       "      <td>China</td>\n",
       "      <td>Import</td>\n",
       "      <td>181</td>\n",
       "      <td>8</td>\n",
       "      <td>8.0</td>\n",
       "    </tr>\n",
       "    <tr>\n",
       "      <th>23</th>\n",
       "      <td>724</td>\n",
       "      <td>Spain</td>\n",
       "      <td>156</td>\n",
       "      <td>China</td>\n",
       "      <td>Import</td>\n",
       "      <td>20613</td>\n",
       "      <td>188</td>\n",
       "      <td>188.0</td>\n",
       "    </tr>\n",
       "    <tr>\n",
       "      <th>24</th>\n",
       "      <td>788</td>\n",
       "      <td>Tunisia</td>\n",
       "      <td>156</td>\n",
       "      <td>China</td>\n",
       "      <td>Import</td>\n",
       "      <td>8973</td>\n",
       "      <td>1700</td>\n",
       "      <td>1700.0</td>\n",
       "    </tr>\n",
       "    <tr>\n",
       "      <th>25</th>\n",
       "      <td>792</td>\n",
       "      <td>Turkey</td>\n",
       "      <td>156</td>\n",
       "      <td>China</td>\n",
       "      <td>Import</td>\n",
       "      <td>1343</td>\n",
       "      <td>250</td>\n",
       "      <td>250.0</td>\n",
       "    </tr>\n",
       "    <tr>\n",
       "      <th>26</th>\n",
       "      <td>804</td>\n",
       "      <td>Ukraine</td>\n",
       "      <td>156</td>\n",
       "      <td>China</td>\n",
       "      <td>Import</td>\n",
       "      <td>3199</td>\n",
       "      <td>750</td>\n",
       "      <td>750.0</td>\n",
       "    </tr>\n",
       "    <tr>\n",
       "      <th>27</th>\n",
       "      <td>784</td>\n",
       "      <td>United Arab Emirates</td>\n",
       "      <td>156</td>\n",
       "      <td>China</td>\n",
       "      <td>Import</td>\n",
       "      <td>6170</td>\n",
       "      <td>25730</td>\n",
       "      <td>25730.0</td>\n",
       "    </tr>\n",
       "    <tr>\n",
       "      <th>28</th>\n",
       "      <td>826</td>\n",
       "      <td>United Kingdom</td>\n",
       "      <td>156</td>\n",
       "      <td>China</td>\n",
       "      <td>Import</td>\n",
       "      <td>8902</td>\n",
       "      <td>0</td>\n",
       "      <td>NaN</td>\n",
       "    </tr>\n",
       "    <tr>\n",
       "      <th>29</th>\n",
       "      <td>704</td>\n",
       "      <td>Viet Nam</td>\n",
       "      <td>156</td>\n",
       "      <td>China</td>\n",
       "      <td>Import</td>\n",
       "      <td>1100</td>\n",
       "      <td>670</td>\n",
       "      <td>670.0</td>\n",
       "    </tr>\n",
       "    <tr>\n",
       "      <th>30</th>\n",
       "      <td>894</td>\n",
       "      <td>Zambia</td>\n",
       "      <td>156</td>\n",
       "      <td>China</td>\n",
       "      <td>Import</td>\n",
       "      <td>24</td>\n",
       "      <td>2</td>\n",
       "      <td>2.0</td>\n",
       "    </tr>\n",
       "  </tbody>\n",
       "</table>\n",
       "</div>"
      ],
      "text/plain": [
       "    Reporter Code                Reporter  Partner Code Partner Trade Flow  Trade Value (US$)  Trade Quantity  NetWeight\n",
       "0              56                 Belgium           156   China     Import              10336            2149     2149.0\n",
       "1              96       Brunei Darussalam           156   China     Import              16143          100000   100000.0\n",
       "2             100                Bulgaria           156   China     Import               1850              74       74.0\n",
       "3             116                Cambodia           156   China     Import             576278         1155237  1155237.0\n",
       "4             124                  Canada           156   China     Import                161              36       36.0\n",
       "5             152                   Chile           156   China     Import              10647             341      341.0\n",
       "6             344    China, Hong Kong SAR           156   China     Import             124228          334780   334780.0\n",
       "7             180  Dem. Rep. of the Congo           156   China     Import                539               5        5.0\n",
       "8             222             El Salvador           156   China     Import                 43               3        3.0\n",
       "9             251                  France           156   China     Import                  6               1        1.0\n",
       "10            320               Guatemala           156   China     Import                775              50       50.0\n",
       "11            360               Indonesia           156   China     Import               1207              74       74.0\n",
       "12            376                  Israel           156   China     Import               1000             609      609.0\n",
       "13            381                   Italy           156   China     Import              76428           26000    26000.0\n",
       "14            398              Kazakhstan           156   China     Import              46845           69000    69000.0\n",
       "15            458                Malaysia           156   China     Import             989265         2768773  2768773.0\n",
       "16            496                Mongolia           156   China     Import              13946             962      962.0\n",
       "17            484                  Mexico           156   China     Import           10878113         6491795  6491795.0\n",
       "18            104                 Myanmar           156   China     Import                393              52       52.0\n",
       "19            528             Netherlands           156   China     Import               6113             109      109.0\n",
       "20            410           Rep. of Korea           156   China     Import              30333            1238     1238.0\n",
       "21            702               Singapore           156   China     Import              18176            2300     2300.0\n",
       "22            710            South Africa           156   China     Import                181               8        8.0\n",
       "23            724                   Spain           156   China     Import              20613             188      188.0\n",
       "24            788                 Tunisia           156   China     Import               8973            1700     1700.0\n",
       "25            792                  Turkey           156   China     Import               1343             250      250.0\n",
       "26            804                 Ukraine           156   China     Import               3199             750      750.0\n",
       "27            784    United Arab Emirates           156   China     Import               6170           25730    25730.0\n",
       "28            826          United Kingdom           156   China     Import               8902               0        NaN\n",
       "29            704                Viet Nam           156   China     Import               1100             670      670.0\n",
       "30            894                  Zambia           156   China     Import                 24               2        2.0"
      ]
     },
     "execution_count": 6,
     "metadata": {},
     "output_type": "execute_result"
    }
   ],
   "source": [
    "report_19.view_logs_about_china()\n"
   ]
  },
  {
   "cell_type": "markdown",
   "metadata": {},
   "source": [
    "对比上面两个表格，显然各国出入口数据是**普遍**有出入的：\n",
    "\n",
    "首先，进出口对象数量上就不一致：中国上报记录中显示，中国 2019 年共从 56 个国家进口铜资源；而只有 43 个国家上报了对中国出口铜资源的记录\n",
    "\n",
    "其次，对于有些进出口双方都上报了记录的情况，双方上报的贸易金额不一致，有的甚至出入较大\n",
    "\n",
    "这可能是有以下的原因导致的：\n",
    "\n",
    "1. 由于政策和统计方法不同导致的上报数据的结果不同. \n",
    "2. 由于货物在进出口过程中经第三方国家中转，而进出口国家对于出入口的目标国家登记不一致导致.\n",
    "3. 其他可能原因."
   ]
  },
  {
   "cell_type": "markdown",
   "metadata": {},
   "source": [
    "## 2. 构建网络\n",
    "\n",
    "根据以上数据和分析，构建有向加权网络是合适的，具体如下：\n",
    "\n",
    "1. 以国家为节点，进出口关系为指向（出口国 -> 进口国），贸易金额为权重，构建有向加权图\n",
    "\n",
    "2. 对于进出口关系，忽略各个国家之间上报数据的差异，即只要在任何一条记录中出现进出口关系即双方存在贸易关系，则为对应节点添加连边\n",
    "\n",
    "3. 对于贸易金额，若两方上报金额不一致则取两者均值\n",
    "  "
   ]
  },
  {
   "cell_type": "markdown",
   "metadata": {},
   "source": [
    "绘制网络（以 2020 年为例）："
   ]
  },
  {
   "cell_type": "code",
   "execution_count": 7,
   "metadata": {},
   "outputs": [],
   "source": [
    "# report_20.net.draw()\n"
   ]
  },
  {
   "cell_type": "markdown",
   "metadata": {},
   "source": [
    "## 3. 基于连接信息熵的节点重要性"
   ]
  },
  {
   "cell_type": "markdown",
   "metadata": {},
   "source": [
    "### 3.1 定义\n",
    "\n",
    "#### 3.1.1 连接度 $A_i$\n",
    "定义有向加权网络中节点的连接度为\n",
    "$$\n",
    "A_i = \\theta\\sum_{j\\in \\Gamma_{i\\_in}}k_j + (1-\\theta)\\sum_{j\\in \\Gamma_{i\\_out}}k_j\n",
    "$$"
   ]
  },
  {
   "cell_type": "markdown",
   "metadata": {},
   "source": [
    "其中 $\\Gamma_{i\\_in}$ 是指向节点 $i$ 的邻居节点集，$\\Gamma_{i\\_out}$ 是由节点 $i$ 指向的邻居节点集；$k_j$ 是对应节点的度；$\\theta \\in [0,1]$ 是参数.\n",
    "\n",
    "具体地，有向加权网络中，定义节点 $k_j$ 的度为："
   ]
  },
  {
   "cell_type": "markdown",
   "metadata": {},
   "source": [
    "$$\n",
    "\\begin{aligned}\n",
    "k_j &= \\lambda k_i^{in} + (1-\\lambda)k_i^{out} \\\\\n",
    "    &= \\lambda \\sum_{i=1}^m w_{ij} + (1 - \\lambda)\\sum_{i=1}^m w_{ji}\n",
    "\\end{aligned}\n",
    "$$"
   ]
  },
  {
   "cell_type": "markdown",
   "metadata": {},
   "source": [
    "其中 $w_{uv}$ 表示由节点 $u$ 指向节点 $v$ 的边的权重，若该边不存在则记为 $0$；$\\lambda$ 为出入边的权重参数.\n",
    "\n",
    "具体地上式表示，在节点 $j$ 与其邻居节点的连边中，按权重求出入连边的加重和."
   ]
  },
  {
   "cell_type": "markdown",
   "metadata": {},
   "source": [
    "#### 3.1.2 连边概率 $P_{i_j}$\n",
    "\n",
    "定义连边概率 $P_{i_j}$ 为节点 $i$ 被其邻居节点 $j$ 选择进行连边的概率：\n",
    "$$\n",
    "P_{i_j} = \\frac{k_i}{A_j}, \\ \\ \\ \\ (j\\in\\Gamma_i)\n",
    "$$"
   ]
  },
  {
   "cell_type": "markdown",
   "metadata": {},
   "source": [
    "#### 3.1.3 连接信息熵 $E_i$\n",
    "\n",
    "定义有向网络中连接信息熵如下："
   ]
  },
  {
   "cell_type": "markdown",
   "metadata": {},
   "source": [
    "$$\n",
    "E_i = \\sum\\limits_{j\\in\\Gamma_j}\\left| P_{i_j}\\log_2 P_{i_j} \\right|\n",
    "$$"
   ]
  },
  {
   "cell_type": "markdown",
   "metadata": {},
   "source": [
    "*这里取绝对值是因为 $\\theta$ 加权的原因，$P_{i_j}$ 可能大于 $1$*"
   ]
  },
  {
   "cell_type": "markdown",
   "metadata": {},
   "source": [
    "## 4. 实验和结果\n",
    "\n",
    "### 4.1 求各节点的连接信息熵\n",
    "根据第 3 节给出的定义，求各节点的连接信息熵，并将前 20 的连接信息熵绘图如下：\n",
    "\n",
    "*实验中取 $\\theta, \\lambda = 0.7$.*"
   ]
  },
  {
   "cell_type": "code",
   "execution_count": 8,
   "metadata": {},
   "outputs": [
    {
     "data": {
      "text/plain": [
       "\"\\nfor report in reports:\\n    print(report.name + '年连接信息熵分布')\\n    report.net.drawEntropiesBar()\\n\""
      ]
     },
     "execution_count": 8,
     "metadata": {},
     "output_type": "execute_result"
    }
   ],
   "source": [
    "'''\n",
    "for report in reports:\n",
    "    print(report.name + '年连接信息熵分布')\n",
    "    report.net.drawEntropiesBar()\n",
    "'''\n"
   ]
  },
  {
   "cell_type": "code",
   "execution_count": 9,
   "metadata": {},
   "outputs": [
    {
     "data": {
      "image/png": "[encoded data removed]",
      "text/plain": [
       "<Figure size 720x288 with 1 Axes>"
      ]
     },
     "metadata": {
      "needs_background": "light"
     },
     "output_type": "display_data"
    }
   ],
   "source": [
    "plt.figure(figsize=(10, 4))\n",
    "report_11.draw_entropy_plot(20)\n",
    "report_12.draw_entropy_plot(20)\n",
    "report_13.draw_entropy_plot(20)\n",
    "report_14.draw_entropy_plot(20)\n",
    "report_15.draw_entropy_plot(20)\n",
    "\n",
    "report_16.draw_entropy_plot(20)\n",
    "report_17.draw_entropy_plot(20)\n",
    "report_18.draw_entropy_plot(20)\n",
    "report_19.draw_entropy_plot(20)\n",
    "report_20.draw_entropy_plot(20)\n",
    "plt.show()\n"
   ]
  },
  {
   "cell_type": "markdown",
   "metadata": {},
   "source": [
    "从上表可以看出，中国、欧盟等铜贸易大国位列前茅，且前二十名均为贸易和工业水平发达的国家，说明使用“连接信息熵”来衡量铜贸易网络节点的重要性具备一定的合理性."
   ]
  },
  {
   "cell_type": "markdown",
   "metadata": {},
   "source": [
    "### 4.2 层次聚类\n",
    "对个节点的信息熵进行层次聚类，选择聚类数为 6；并为每个节点设置聚类标签，按熵值从大到小标记为 1 - 6"
   ]
  },
  {
   "cell_type": "markdown",
   "metadata": {},
   "source": [
    "### 4.3 选取属性并进行离散化划分\n",
    "\n",
    "选取以下属性，并选择聚类层数：\n",
    "\n",
    "* IS：入强度, 6 层，反应进口贸易总额\n",
    "* OS: 出强度，6 层，反应出口贸易总额\n",
    "* DC: 度中心性，6 层，反应贸易伙伴的数量\n",
    "* BC: 中介中心性，6 层，反应在贸易网络中的枢纽性质（不考虑权重）\n",
    "* CC: 接近中心性，6 层，反应与其他贸易者之间的平均距离（不考虑权重）\n",
    "\n",
    "属性值由大到小标记为 1-6"
   ]
  },
  {
   "cell_type": "code",
   "execution_count": 9,
   "metadata": {},
   "outputs": [],
   "source": [
    "cluster_list = show_cluster_list(reports, label_name=\"E\")\n"
   ]
  },
  {
   "cell_type": "code",
   "execution_count": 10,
   "metadata": {},
   "outputs": [
    {
     "data": {
      "text/html": [
       "<div>\n",
       "<style scoped>\n",
       "    .dataframe tbody tr th:only-of-type {\n",
       "        vertical-align: middle;\n",
       "    }\n",
       "\n",
       "    .dataframe tbody tr th {\n",
       "        vertical-align: top;\n",
       "    }\n",
       "\n",
       "    .dataframe thead th {\n",
       "        text-align: right;\n",
       "    }\n",
       "</style>\n",
       "<table border=\"1\" class=\"dataframe\">\n",
       "  <thead>\n",
       "    <tr style=\"text-align: right;\">\n",
       "      <th></th>\n",
       "      <th>code</th>\n",
       "      <th>code</th>\n",
       "      <th>code</th>\n",
       "      <th>code</th>\n",
       "      <th>code</th>\n",
       "      <th>code</th>\n",
       "      <th>code</th>\n",
       "      <th>code</th>\n",
       "      <th>code</th>\n",
       "      <th>code</th>\n",
       "    </tr>\n",
       "    <tr>\n",
       "      <th>E</th>\n",
       "      <th></th>\n",
       "      <th></th>\n",
       "      <th></th>\n",
       "      <th></th>\n",
       "      <th></th>\n",
       "      <th></th>\n",
       "      <th></th>\n",
       "      <th></th>\n",
       "      <th></th>\n",
       "      <th></th>\n",
       "    </tr>\n",
       "  </thead>\n",
       "  <tbody>\n",
       "    <tr>\n",
       "      <th>1</th>\n",
       "      <td>156</td>\n",
       "      <td>156</td>\n",
       "      <td>156</td>\n",
       "      <td>156</td>\n",
       "      <td>156</td>\n",
       "      <td>156</td>\n",
       "      <td>156</td>\n",
       "      <td>156</td>\n",
       "      <td>156</td>\n",
       "      <td>156</td>\n",
       "    </tr>\n",
       "    <tr>\n",
       "      <th>2</th>\n",
       "      <td>410</td>\n",
       "      <td>710</td>\n",
       "      <td>410</td>\n",
       "      <td>100,724</td>\n",
       "      <td>528</td>\n",
       "      <td>528</td>\n",
       "      <td>100</td>\n",
       "      <td>410,100</td>\n",
       "      <td>724</td>\n",
       "      <td>724</td>\n",
       "    </tr>\n",
       "    <tr>\n",
       "      <th>3</th>\n",
       "      <td>710</td>\n",
       "      <td>276,100,604,410</td>\n",
       "      <td>699,484,276,100</td>\n",
       "      <td>276,398,410,152,604,842,246,608</td>\n",
       "      <td>100,152,276,842,410,604,724</td>\n",
       "      <td>724,410,124,100</td>\n",
       "      <td>724,152,784</td>\n",
       "      <td>152,724,604,757</td>\n",
       "      <td>152</td>\n",
       "      <td>124</td>\n",
       "    </tr>\n",
       "    <tr>\n",
       "      <th>4</th>\n",
       "      <td>56,90,276,604</td>\n",
       "      <td>752,724,246,842,等14项</td>\n",
       "      <td>124,152,604,724,842,792,752,36</td>\n",
       "      <td>702,704,579,191,392,36,699,124</td>\n",
       "      <td>268</td>\n",
       "      <td>604,152,36,710,等12项</td>\n",
       "      <td>604,410,246,699,等16项</td>\n",
       "      <td>710,398,616,392,528,842,376,276</td>\n",
       "      <td>100,604</td>\n",
       "      <td>410,458</td>\n",
       "    </tr>\n",
       "    <tr>\n",
       "      <th>5</th>\n",
       "      <td>842,100,608,894,等17项</td>\n",
       "      <td>344,484,124,608,76,784,894</td>\n",
       "      <td>417,392,710,894,76,608,826</td>\n",
       "      <td>710,894,76,887,484</td>\n",
       "      <td>36,124,398,699,等10项</td>\n",
       "      <td>246,76</td>\n",
       "      <td>76,608,710,704,484</td>\n",
       "      <td>76,36,699,124,等11项</td>\n",
       "      <td>410,757,56,842,等15项</td>\n",
       "      <td>842,860,392,528,等10项</td>\n",
       "    </tr>\n",
       "    <tr>\n",
       "      <th>6</th>\n",
       "      <td>643,752,516,826,等100项</td>\n",
       "      <td>643,516,757,398,等99项</td>\n",
       "      <td>528,616,246,251,等101项</td>\n",
       "      <td>56,643,757,752,等98项</td>\n",
       "      <td>608,710,616,484,等146项</td>\n",
       "      <td>484,608,894,360,等94项</td>\n",
       "      <td>894,643,458,616,等101项</td>\n",
       "      <td>360,702,643,458,等97项</td>\n",
       "      <td>381,528,484,246,等94项</td>\n",
       "      <td>246,699,484,100,等95项</td>\n",
       "    </tr>\n",
       "  </tbody>\n",
       "</table>\n",
       "</div>"
      ],
      "text/plain": [
       "                    code                        code                            code                             code                         code                  code                   code                             code                  code                  code\n",
       "E                                                                                                                                                                                                                                                                           \n",
       "1                    156                         156                             156                              156                          156                   156                    156                              156                   156                   156\n",
       "2                    410                         710                             410                          100,724                          528                   528                    100                          410,100                   724                   724\n",
       "3                    710             276,100,604,410                 699,484,276,100  276,398,410,152,604,842,246,608  100,152,276,842,410,604,724       724,410,124,100            724,152,784                  152,724,604,757                   152                   124\n",
       "4          56,90,276,604        752,724,246,842,等14项  124,152,604,724,842,792,752,36   702,704,579,191,392,36,699,124                          268   604,152,36,710,等12项   604,410,246,699,等16项  710,398,616,392,528,842,376,276               100,604               410,458\n",
       "5   842,100,608,894,等17项  344,484,124,608,76,784,894      417,392,710,894,76,608,826               710,894,76,887,484          36,124,398,699,等10项                246,76     76,608,710,704,484               76,36,699,124,等11项   410,757,56,842,等15项  842,860,392,528,等10项\n",
       "6  643,752,516,826,等100项        643,516,757,398,等99项           528,616,246,251,等101项              56,643,757,752,等98项        608,710,616,484,等146项  484,608,894,360,等94项  894,643,458,616,等101项             360,702,643,458,等97项  381,528,484,246,等94项  246,699,484,100,等95项"
      ]
     },
     "execution_count": 10,
     "metadata": {},
     "output_type": "execute_result"
    }
   ],
   "source": [
    "cluster_list\n"
   ]
  },
  {
   "cell_type": "code",
   "execution_count": 11,
   "metadata": {},
   "outputs": [],
   "source": [
    "writer = pd.ExcelWriter('cluster_list.xlsx')\n",
    "cluster_list.to_excel(writer, float_format='%.5f')\n",
    "writer.save()\n"
   ]
  },
  {
   "cell_type": "markdown",
   "metadata": {},
   "source": []
  },
  {
   "cell_type": "code",
   "execution_count": 12,
   "metadata": {},
   "outputs": [
    {
     "data": {
      "text/html": [
       "<div>\n",
       "<style scoped>\n",
       "    .dataframe tbody tr th:only-of-type {\n",
       "        vertical-align: middle;\n",
       "    }\n",
       "\n",
       "    .dataframe tbody tr th {\n",
       "        vertical-align: top;\n",
       "    }\n",
       "\n",
       "    .dataframe thead th {\n",
       "        text-align: right;\n",
       "    }\n",
       "</style>\n",
       "<table border=\"1\" class=\"dataframe\">\n",
       "  <thead>\n",
       "    <tr style=\"text-align: right;\">\n",
       "      <th></th>\n",
       "      <th>code</th>\n",
       "      <th>name</th>\n",
       "      <th>IS</th>\n",
       "      <th>OS</th>\n",
       "      <th>DC</th>\n",
       "      <th>BC</th>\n",
       "      <th>CC</th>\n",
       "      <th>E</th>\n",
       "    </tr>\n",
       "  </thead>\n",
       "  <tbody>\n",
       "    <tr>\n",
       "      <th>0</th>\n",
       "      <td>156</td>\n",
       "      <td>China</td>\n",
       "      <td>1</td>\n",
       "      <td>6</td>\n",
       "      <td>1</td>\n",
       "      <td>1</td>\n",
       "      <td>1</td>\n",
       "      <td>1</td>\n",
       "    </tr>\n",
       "    <tr>\n",
       "      <th>1</th>\n",
       "      <td>724</td>\n",
       "      <td>Spain</td>\n",
       "      <td>4</td>\n",
       "      <td>5</td>\n",
       "      <td>3</td>\n",
       "      <td>4</td>\n",
       "      <td>2</td>\n",
       "      <td>2</td>\n",
       "    </tr>\n",
       "    <tr>\n",
       "      <th>2</th>\n",
       "      <td>152</td>\n",
       "      <td>Chile</td>\n",
       "      <td>6</td>\n",
       "      <td>2</td>\n",
       "      <td>2</td>\n",
       "      <td>3</td>\n",
       "      <td>2</td>\n",
       "      <td>3</td>\n",
       "    </tr>\n",
       "    <tr>\n",
       "      <th>3</th>\n",
       "      <td>100</td>\n",
       "      <td>Bulgaria</td>\n",
       "      <td>4</td>\n",
       "      <td>6</td>\n",
       "      <td>4</td>\n",
       "      <td>5</td>\n",
       "      <td>3</td>\n",
       "      <td>4</td>\n",
       "    </tr>\n",
       "    <tr>\n",
       "      <th>4</th>\n",
       "      <td>604</td>\n",
       "      <td>Peru</td>\n",
       "      <td>6</td>\n",
       "      <td>1</td>\n",
       "      <td>3</td>\n",
       "      <td>5</td>\n",
       "      <td>4</td>\n",
       "      <td>4</td>\n",
       "    </tr>\n",
       "    <tr>\n",
       "      <th>...</th>\n",
       "      <td>...</td>\n",
       "      <td>...</td>\n",
       "      <td>...</td>\n",
       "      <td>...</td>\n",
       "      <td>...</td>\n",
       "      <td>...</td>\n",
       "      <td>...</td>\n",
       "      <td>...</td>\n",
       "    </tr>\n",
       "    <tr>\n",
       "      <th>109</th>\n",
       "      <td>591</td>\n",
       "      <td>Panama</td>\n",
       "      <td>6</td>\n",
       "      <td>6</td>\n",
       "      <td>6</td>\n",
       "      <td>6</td>\n",
       "      <td>6</td>\n",
       "      <td>6</td>\n",
       "    </tr>\n",
       "    <tr>\n",
       "      <th>110</th>\n",
       "      <td>598</td>\n",
       "      <td>Papua New Guinea</td>\n",
       "      <td>6</td>\n",
       "      <td>6</td>\n",
       "      <td>6</td>\n",
       "      <td>6</td>\n",
       "      <td>6</td>\n",
       "      <td>6</td>\n",
       "    </tr>\n",
       "    <tr>\n",
       "      <th>111</th>\n",
       "      <td>620</td>\n",
       "      <td>Portugal</td>\n",
       "      <td>6</td>\n",
       "      <td>6</td>\n",
       "      <td>5</td>\n",
       "      <td>6</td>\n",
       "      <td>4</td>\n",
       "      <td>6</td>\n",
       "    </tr>\n",
       "    <tr>\n",
       "      <th>112</th>\n",
       "      <td>31</td>\n",
       "      <td>Azerbaijan</td>\n",
       "      <td>6</td>\n",
       "      <td>6</td>\n",
       "      <td>6</td>\n",
       "      <td>6</td>\n",
       "      <td>4</td>\n",
       "      <td>6</td>\n",
       "    </tr>\n",
       "    <tr>\n",
       "      <th>113</th>\n",
       "      <td>646</td>\n",
       "      <td>Rwanda</td>\n",
       "      <td>6</td>\n",
       "      <td>6</td>\n",
       "      <td>6</td>\n",
       "      <td>6</td>\n",
       "      <td>4</td>\n",
       "      <td>6</td>\n",
       "    </tr>\n",
       "  </tbody>\n",
       "</table>\n",
       "<p>114 rows × 8 columns</p>\n",
       "</div>"
      ],
      "text/plain": [
       "     code              name  IS  OS  DC  BC  CC  E\n",
       "0     156             China   1   6   1   1   1  1\n",
       "1     724             Spain   4   5   3   4   2  2\n",
       "2     152             Chile   6   2   2   3   2  3\n",
       "3     100          Bulgaria   4   6   4   5   3  4\n",
       "4     604              Peru   6   1   3   5   4  4\n",
       "..    ...               ...  ..  ..  ..  ..  .. ..\n",
       "109   591            Panama   6   6   6   6   6  6\n",
       "110   598  Papua New Guinea   6   6   6   6   6  6\n",
       "111   620          Portugal   6   6   5   6   4  6\n",
       "112    31        Azerbaijan   6   6   6   6   4  6\n",
       "113   646            Rwanda   6   6   6   6   4  6\n",
       "\n",
       "[114 rows x 8 columns]"
      ]
     },
     "execution_count": 12,
     "metadata": {},
     "output_type": "execute_result"
    }
   ],
   "source": [
    "report_19.show_nodes_attribute()\n"
   ]
  },
  {
   "cell_type": "markdown",
   "metadata": {},
   "source": [
    "上表以 2019 年数据，展示了各个节点的 5 个条件属性及 1 个决策属性所在的层次序号（1-6）"
   ]
  },
  {
   "cell_type": "markdown",
   "metadata": {},
   "source": [
    "### 4.5 生成决策树\n",
    "\n",
    "使用 ID3 算法生成决策树"
   ]
  },
  {
   "cell_type": "code",
   "execution_count": 13,
   "metadata": {},
   "outputs": [
    {
     "name": "stdout",
     "output_type": "stream",
     "text": [
      "决策树的正确率： 95.16129032258065 %\n",
      "决策树的正确率： 94.44444444444444 %\n",
      "决策树的正确率： 99.18032786885246 %\n",
      "决策树的正确率： 96.72131147540983 %\n",
      "决策树的正确率： 98.79518072289156 %\n",
      "决策树的正确率： 95.6140350877193 %\n",
      "决策树的正确率： 93.7007874015748 %\n",
      "决策树的正确率： 95.9349593495935 %\n",
      "决策树的正确率： 95.6140350877193 %\n",
      "决策树的正确率： 96.36363636363636 %\n"
     ]
    }
   ],
   "source": [
    "for report in reports:\n",
    "    report.decision_tree\n",
    "    report.show_dt_accuracy()\n",
    "    report.save_decision_tree('outputs/decision_tree_' + report.name + '.json')\n"
   ]
  },
  {
   "cell_type": "markdown",
   "metadata": {},
   "source": [
    "决策树（2019）：\n",
    "\n",
    "![decistion_tree](outputs/decision_tree.png)"
   ]
  },
  {
   "cell_type": "markdown",
   "metadata": {},
   "source": [
    "根据决策树生成决策表："
   ]
  },
  {
   "cell_type": "code",
   "execution_count": 14,
   "metadata": {},
   "outputs": [
    {
     "name": "stdout",
     "output_type": "stream",
     "text": [
      "{'layer': 6}\n"
     ]
    },
    {
     "ename": "KeyError",
     "evalue": "'cluster'",
     "output_type": "error",
     "traceback": [
      "\u001b[1;31m---------------------------------------------------------------------------\u001b[0m",
      "\u001b[1;31mKeyError\u001b[0m                                  Traceback (most recent call last)",
      "\u001b[1;32m~\\AppData\\Local\\Temp/ipykernel_1704/3572646094.py\u001b[0m in \u001b[0;36m<module>\u001b[1;34m\u001b[0m\n\u001b[0;32m      1\u001b[0m \u001b[1;32mfor\u001b[0m \u001b[0mreport\u001b[0m \u001b[1;32min\u001b[0m \u001b[0mreports\u001b[0m\u001b[1;33m:\u001b[0m\u001b[1;33m\u001b[0m\u001b[1;33m\u001b[0m\u001b[0m\n\u001b[1;32m----> 2\u001b[1;33m     \u001b[0mreport\u001b[0m\u001b[1;33m.\u001b[0m\u001b[0mset_attribute_probability\u001b[0m\u001b[1;33m(\u001b[0m\u001b[1;33m)\u001b[0m\u001b[1;33m\u001b[0m\u001b[1;33m\u001b[0m\u001b[0m\n\u001b[0m\u001b[0;32m      3\u001b[0m     \u001b[0mreport\u001b[0m\u001b[1;33m.\u001b[0m\u001b[0mdecision_list\u001b[0m\u001b[1;33m\u001b[0m\u001b[1;33m\u001b[0m\u001b[0m\n",
      "\u001b[1;32mc:\\Hozen\\Workspace\\cooper-trade\\src\\main.py\u001b[0m in \u001b[0;36mset_attribute_probability\u001b[1;34m(self)\u001b[0m\n\u001b[0;32m    218\u001b[0m             \u001b[0mprint\u001b[0m\u001b[1;33m(\u001b[0m\u001b[0mattr_values\u001b[0m\u001b[1;33m)\u001b[0m\u001b[1;33m\u001b[0m\u001b[1;33m\u001b[0m\u001b[0m\n\u001b[0;32m    219\u001b[0m             attr_values['p'] = [len(item) / len(self.nodes)\n\u001b[1;32m--> 220\u001b[1;33m                                 for item in attr_values[\"cluster\"]]\n\u001b[0m\u001b[0;32m    221\u001b[0m \u001b[1;33m\u001b[0m\u001b[0m\n\u001b[0;32m    222\u001b[0m     \u001b[1;32mdef\u001b[0m \u001b[0mshow_attributes_distribution\u001b[0m\u001b[1;33m(\u001b[0m\u001b[0mself\u001b[0m\u001b[1;33m)\u001b[0m\u001b[1;33m:\u001b[0m\u001b[1;33m\u001b[0m\u001b[1;33m\u001b[0m\u001b[0m\n",
      "\u001b[1;31mKeyError\u001b[0m: 'cluster'"
     ]
    }
   ],
   "source": [
    "for report in reports:\n",
    "    report.nodes\n",
    "    report.set_attribute_probability()\n",
    "    report.decision_list\n"
   ]
  },
  {
   "cell_type": "code",
   "execution_count": null,
   "metadata": {},
   "outputs": [
    {
     "data": {
      "text/html": [
       "<div>\n",
       "<style scoped>\n",
       "    .dataframe tbody tr th:only-of-type {\n",
       "        vertical-align: middle;\n",
       "    }\n",
       "\n",
       "    .dataframe tbody tr th {\n",
       "        vertical-align: top;\n",
       "    }\n",
       "\n",
       "    .dataframe thead th {\n",
       "        text-align: right;\n",
       "    }\n",
       "</style>\n",
       "<table border=\"1\" class=\"dataframe\">\n",
       "  <thead>\n",
       "    <tr style=\"text-align: right;\">\n",
       "      <th></th>\n",
       "      <th>IS</th>\n",
       "      <th>OS</th>\n",
       "      <th>DC</th>\n",
       "      <th>BC</th>\n",
       "      <th>CC</th>\n",
       "      <th>label</th>\n",
       "    </tr>\n",
       "  </thead>\n",
       "  <tbody>\n",
       "    <tr>\n",
       "      <th>0</th>\n",
       "      <td>NaN</td>\n",
       "      <td>NaN</td>\n",
       "      <td>1</td>\n",
       "      <td>NaN</td>\n",
       "      <td>NaN</td>\n",
       "      <td>1</td>\n",
       "    </tr>\n",
       "    <tr>\n",
       "      <th>1</th>\n",
       "      <td>NaN</td>\n",
       "      <td>1.0</td>\n",
       "      <td>2</td>\n",
       "      <td>NaN</td>\n",
       "      <td>NaN</td>\n",
       "      <td>2</td>\n",
       "    </tr>\n",
       "    <tr>\n",
       "      <th>2</th>\n",
       "      <td>NaN</td>\n",
       "      <td>2.0</td>\n",
       "      <td>2</td>\n",
       "      <td>NaN</td>\n",
       "      <td>NaN</td>\n",
       "      <td>2</td>\n",
       "    </tr>\n",
       "    <tr>\n",
       "      <th>3</th>\n",
       "      <td>NaN</td>\n",
       "      <td>3.0</td>\n",
       "      <td>2</td>\n",
       "      <td>NaN</td>\n",
       "      <td>NaN</td>\n",
       "      <td>2</td>\n",
       "    </tr>\n",
       "    <tr>\n",
       "      <th>5</th>\n",
       "      <td>NaN</td>\n",
       "      <td>5.0</td>\n",
       "      <td>2</td>\n",
       "      <td>NaN</td>\n",
       "      <td>NaN</td>\n",
       "      <td>2</td>\n",
       "    </tr>\n",
       "    <tr>\n",
       "      <th>...</th>\n",
       "      <td>...</td>\n",
       "      <td>...</td>\n",
       "      <td>...</td>\n",
       "      <td>...</td>\n",
       "      <td>...</td>\n",
       "      <td>...</td>\n",
       "    </tr>\n",
       "    <tr>\n",
       "      <th>39</th>\n",
       "      <td>1.0</td>\n",
       "      <td>NaN</td>\n",
       "      <td>5</td>\n",
       "      <td>NaN</td>\n",
       "      <td>NaN</td>\n",
       "      <td>6</td>\n",
       "    </tr>\n",
       "    <tr>\n",
       "      <th>64</th>\n",
       "      <td>6.0</td>\n",
       "      <td>NaN</td>\n",
       "      <td>5</td>\n",
       "      <td>6.0</td>\n",
       "      <td>1.0</td>\n",
       "      <td>6</td>\n",
       "    </tr>\n",
       "    <tr>\n",
       "      <th>65</th>\n",
       "      <td>6.0</td>\n",
       "      <td>1.0</td>\n",
       "      <td>5</td>\n",
       "      <td>6.0</td>\n",
       "      <td>2.0</td>\n",
       "      <td>6</td>\n",
       "    </tr>\n",
       "    <tr>\n",
       "      <th>67</th>\n",
       "      <td>6.0</td>\n",
       "      <td>3.0</td>\n",
       "      <td>5</td>\n",
       "      <td>6.0</td>\n",
       "      <td>2.0</td>\n",
       "      <td>6</td>\n",
       "    </tr>\n",
       "    <tr>\n",
       "      <th>85</th>\n",
       "      <td>NaN</td>\n",
       "      <td>NaN</td>\n",
       "      <td>6</td>\n",
       "      <td>6.0</td>\n",
       "      <td>6.0</td>\n",
       "      <td>6</td>\n",
       "    </tr>\n",
       "  </tbody>\n",
       "</table>\n",
       "<p>86 rows × 6 columns</p>\n",
       "</div>"
      ],
      "text/plain": [
       "     IS   OS  DC   BC   CC  label\n",
       "0   NaN  NaN   1  NaN  NaN      1\n",
       "1   NaN  1.0   2  NaN  NaN      2\n",
       "2   NaN  2.0   2  NaN  NaN      2\n",
       "3   NaN  3.0   2  NaN  NaN      2\n",
       "5   NaN  5.0   2  NaN  NaN      2\n",
       "..  ...  ...  ..  ...  ...    ...\n",
       "39  1.0  NaN   5  NaN  NaN      6\n",
       "64  6.0  NaN   5  6.0  1.0      6\n",
       "65  6.0  1.0   5  6.0  2.0      6\n",
       "67  6.0  3.0   5  6.0  2.0      6\n",
       "85  NaN  NaN   6  6.0  6.0      6\n",
       "\n",
       "[86 rows x 6 columns]"
      ]
     },
     "execution_count": 17,
     "metadata": {},
     "output_type": "execute_result"
    }
   ],
   "source": [
    "pd.DataFrame(report_19.decision_list)[\n",
    "    report_19.attribute_names + ['label']].sort_values('label')\n"
   ]
  },
  {
   "cell_type": "markdown",
   "metadata": {},
   "source": [
    "上表展示了决策树中的 86 条决策规则中各条件属性和决策属性的取值，NaN 表示该条件属性无需判断.\n",
    "\n",
    "例如若某一结点 DC 属性值为 1，则无需判断其余属性即可得到该节点的决策属分区为 1 的决策结论. 事实上，仅有中国的 DC 为 1，且仅有中国决策属性为 1，所以继续判断其余属性时多余的."
   ]
  },
  {
   "cell_type": "markdown",
   "metadata": {},
   "source": [
    "### 4.6 层次风险模型"
   ]
  },
  {
   "cell_type": "markdown",
   "metadata": {},
   "source": [
    "1. 条件属性的概率分布\n",
    "\n",
    "$$\n",
    "p_{jA_i} = \\frac{\\#jA_i}{N}\n",
    "$$\n",
    "\n",
    "其中 $A_i$ 表示条件属性，$jA_i$ 表示条件属性 $A_i$ 的属性取值. $\\#jA_i$ 表示属性 $A_i$ 取 $j$ 时的样本数，$N$ 表示总样本数。\n"
   ]
  },
  {
   "cell_type": "markdown",
   "metadata": {},
   "source": [
    "下面计算各个条件属性的概率分布："
   ]
  },
  {
   "cell_type": "code",
   "execution_count": null,
   "metadata": {},
   "outputs": [],
   "source": [
    "for report in reports:\n",
    "    report.set_attribute_probability()\n"
   ]
  },
  {
   "cell_type": "markdown",
   "metadata": {},
   "source": [
    "2. 决策规则的概率分布\n",
    "\n",
    "$$\n",
    "    P_{\\text{Rule}l} = p_{jA_i}\\cdots p_{jA_p}\n",
    "$$\n",
    "\n",
    "其中，$p_{jA_k}$ 表示在决策规则 $l$ 中对应的各条件属性 $A_k$ 的取值为 $j$ 的概率.\n",
    "\n",
    "*这里将各条件属性的分布近似看做为相互独立，即某条件属性的取值不受其他条件属性取值的影响*"
   ]
  },
  {
   "cell_type": "markdown",
   "metadata": {},
   "source": [
    "下面计算各个决策规则的概率分布："
   ]
  },
  {
   "cell_type": "markdown",
   "metadata": {},
   "source": [
    "下面绘制决策规则的概率分布柱状图："
   ]
  },
  {
   "cell_type": "code",
   "execution_count": null,
   "metadata": {},
   "outputs": [
    {
     "name": "stdout",
     "output_type": "stream",
     "text": [
      "2016年决策路径概率分布\n",
      "[[0.008264462809917356], [0.008264462809917356], [2.4986135284033322e-05, 0.0001249306764201666, 0.0007745701938050329, 7.495840585209997e-05, 0.0006496395173848664], [0.0024588484393142547, 2.201448327209732e-05, 0.0001100724163604866, 0.0006824489814350169, 6.604344981629197e-05, 0.0005723765650745303], [0.00020490403660952122, 0.00020490403660952122, 0.0006147121098285637, 0.00020490403660952122, 0.021105115770780686, 0.0008879174919745919, 0.0008879174919745919, 0.0012107965799653525, 0.0008879174919745919, 0.010655009903695103, 0.000755830592342008, 0.001511661184684016, 0.000755830592342008, 0.0001561633455252083, 0.0001561633455252083, 0.0003123266910504166, 0.0001561633455252083, 0.0007808167276260414, 0.06651309212609671, 0.020490403660952124], [0.0013742374406218326, 0.01733413135329812, 0.23140495867768596, 0.005122600915238031, 0.010245201830476062, 0.005122600915238031, 0.12806502288095076, 0.0037255279383549313, 0.018627639691774656, 0.20490403660952122, 0.11549136608900286, 0.011176583815064794, 0.09686372639722822]]\n"
     ]
    },
    {
     "data": {
      "image/png": "[encoded data removed]",
      "text/plain": [
       "<Figure size 1440x1440 with 1 Axes>"
      ]
     },
     "metadata": {
      "needs_background": "light"
     },
     "output_type": "display_data"
    },
    {
     "name": "stdout",
     "output_type": "stream",
     "text": [
      "2017年决策路径概率分布\n",
      "[[0.007518796992481203], [0.00011306461642828876, 0.00011306461642828876, 0.00011306461642828876, 0.00022612923285657752, 0.00045225846571315503], [0.00022612923285657752, 0.00022612923285657752, 0.00022612923285657752, 0.00045225846571315503, 0.00021082725469335044, 0.00021082725469335044, 0.00021082725469335044, 0.0014757907828534531, 0.025299270563202053, 0.0024874215614223527], [0.0009045169314263101, 0.0006218553903555882, 0.0006218553903555882, 0.0012437107807111763, 0.0005797749504067137, 0.0005797749504067137, 0.0005797749504067137, 0.004058424652846996], [0.014020012437107805, 0.0006324817640800514, 0.0006218553903555882, 0.006800367839356943], [0.0017393248512201412, 0.0005231052184120726, 0.019877998299658757, 0.02249352439171912, 0.003661736528884508, 0.01621626177077425, 0.0020351630957091975, 0.0020351630957091975, 0.004070326191418395, 0.010175815478545987, 0.0001836237379587246, 0.0023871085934634197, 0.0069777020424315345, 0.007895820732225157, 0.001285366165711072, 0.0056923358767204625, 0.0017138215542814295, 0.022279680205658584, 0.0004896633012232655, 0.0004896633012232655, 0.0004896633012232655, 0.000979326602446531, 0.001958653204893062, 0.00045652819061417233, 0.00045652819061417233, 0.00045652819061417233, 0.001369584571842517, 0.0031956973342992063, 0.05478338287370068, 0.07369432683410146, 0.011996750879970005, 0.05312846818272431, 0.004466052348917406, 0.058058680535926284, 0.16970998925886144, 0.19204025100344846, 0.03126236644242184, 0.1384476228164396]]\n"
     ]
    },
    {
     "data": {
      "image/png": "[encoded data removed]",
      "text/plain": [
       "<Figure size 1440x1440 with 1 Axes>"
      ]
     },
     "metadata": {
      "needs_background": "light"
     },
     "output_type": "display_data"
    },
    {
     "name": "stdout",
     "output_type": "stream",
     "text": [
      "2018年决策路径概率分布\n",
      "[[0.0078125], [0.00018310546875, 0.0003662109375, 0.000732421875, 0.02105712890625], [0.00018310546875, 0.001220703125, 0.0001430511474609375], [0.0006103515625, 0.0006103515625, 0.0018310546875, 0.0006103515625, 0.00057220458984375, 0.06580352783203125, 0.00743865966796875, 0.0005102157592773438], [0.00091552734375, 0.00057220458984375, 0.0011444091796875, 1.7881393432617188e-05, 0.0007510185241699219, 0.0009477138519287109, 5.364418029785156e-05, 0.00037550926208496094, 0.00286102294921875, 6.198883056640625e-05, 6.198883056640625e-05, 0.0001239776611328125, 0.00018596649169921875, 6.198883056640625e-05], [0.0006103515625, 0.0006103515625, 0.001220703125, 0.00244140625, 0.0005102157592773438, 0.0010204315185546875, 0.0015306472778320312, 0.0005102157592773438, 0.06122589111328125, 0.0009765625, 0.0078125, 0.0003204345703125, 0.0003204345703125, 0.000640869140625, 0.00128173828125, 0.0016021728515625, 0.0002878904342651367, 0.0002878904342651367, 0.0005757808685302734, 0.0011515617370605469, 0.0037425756454467773, 0.03080427646636963, 0.0517578125, 0.0029296875, 0.0205078125, 0.00537109375, 0.04296875, 0.2255859375, 0.002223968505859375, 0.002223968505859375, 0.00444793701171875, 0.0088958740234375, 0.028911590576171875, 0.23796463012695312, 0.01611328125, 0.11279296875]]\n"
     ]
    },
    {
     "data": {
      "image/png": "[encoded data removed]",
      "text/plain": [
       "<Figure size 1440x1440 with 1 Axes>"
      ]
     },
     "metadata": {
      "needs_background": "light"
     },
     "output_type": "display_data"
    },
    {
     "name": "stdout",
     "output_type": "stream",
     "text": [
      "2019年决策路径概率分布\n",
      "[[0.008403361344537815], [0.0001412329637737448, 0.0001412329637737448, 0.0001412329637737448, 0.0005649318550949792, 0.015253160087564437], [9.494653026806373e-05], [0.0005649318550949792, 0.0005649318550949792, 0.0011298637101899583, 1.4241979540209558e-05, 1.4241979540209558e-05, 1.4241979540209558e-05, 7.120989770104779e-05, 0.00017090375448251469, 0.007909045971329708, 0.053668526234023024, 2.3736632567015933e-05, 0.000356049488505239, 0.0007833088747115259, 0.0002848395908041912, 0.0005934158141753983, 0.00176541204717181, 2.0944087559131703e-05, 0.0003141613133869755, 0.0006911548894513463, 0.0006911548894513463, 0.0002513290507095804, 0.0005236021889782926, 0.00017278872236283657, 0.0025918308354425487, 0.005702027837973607, 0.002073464668354039, 0.004319718059070915, 0.01596169530110477], [0.0014099559744807464, 1.8989306053612745e-05, 1.8989306053612745e-05, 1.8989306053612745e-05, 0.00022787167264335295, 0.0018799412993076618, 0.0005649318550949792, 0.0005649318550949792, 0.0005649318550949792, 0.0007833088747115259, 0.0067791822611397495, 0.00046998532482691544, 0.00882706023585905, 0.00017802474425261948, 0.00035604948850523897, 0.0005340742327578585, 0.0007120989770104779, 0.07414730598121601], [0.00046998532482691544, 0.00046998532482691544, 0.0018799412993076618, 0.0018799412993076618, 0.050758415081306865, 0.00176541204717181, 0.00176541204717181, 0.016912350703998852, 0.001468704140084111, 0.002937408280168222, 0.004406112420252333, 0.005874816560336444, 0.005702027837973607, 0.0011724949017478195, 0.00014779347501022935, 0.00014779347501022935, 0.00014779347501022935, 0.0005911739000409174, 0.0005911739000409174, 0.03869233175767805, 0.03869233175767805, 0.014069938820973836, 0.02931237254369549, 0.005296236141515429, 0.010592472283030858, 0.01588870842454629, 0.021184944566061716, 0.004228087675999712, 0.06342131513999569, 0.13952689330799053, 0.13952689330799053, 0.050737052111996556, 0.10570219189999282]]\n"
     ]
    },
    {
     "data": {
      "image/png": "[encoded data removed]",
      "text/plain": [
       "<Figure size 1440x1440 with 1 Axes>"
      ]
     },
     "metadata": {
      "needs_background": "light"
     },
     "output_type": "display_data"
    },
    {
     "name": "stdout",
     "output_type": "stream",
     "text": [
      "2020年决策路径概率分布\n",
      "[[0.00847457627118644], [0.00847457627118644, 0.00014363688595231256, 0.00014363688595231256, 0.0002872737719046251, 0.00014363688595231256, 0.001005458201666188, 0.004524561907497846, 0.0023225354101441727], [0.0006463659867854065], [0.015225509910945132, 0.001292731973570813, 0.0011612677050720863, 0.0021545532892846882, 0.0019902229536612795], [0.0005806338525360432, 0.0021545532892846882], [0.0006463659867854065, 0.0006463659867854065, 0.0005806338525360432, 0.0005806338525360432, 0.0632890899264287, 0.0021545532892846882, 0.0043091065785693765, 0.008618213157138753, 0.0019902229536612795, 0.003980445907322559, 0.0019902229536612795, 0.013931560675628958, 0.0017878273990516581, 0.014302619192413265, 0.0006514964250781465, 0.0006514964250781465, 0.0019544892752344396, 0.001302992850156293, 0.002605985700312586, 0.06971011748336169, 0.05899830416870471, 0.0071513095962066325, 0.051846994572498084, 0.005386383223211721, 0.043091065785693765, 0.23161447859810397, 0.17775064636598675, 0.021545532892846882, 0.1562051134731399]]\n"
     ]
    },
    {
     "data": {
      "image/png": "[encoded data removed]",
      "text/plain": [
       "<Figure size 1440x1440 with 1 Axes>"
      ]
     },
     "metadata": {
      "needs_background": "light"
     },
     "output_type": "display_data"
    }
   ],
   "source": [
    "for report in reports:\n",
    "    report.decision_probability_bar()\n"
   ]
  },
  {
   "cell_type": "markdown",
   "metadata": {},
   "source": [
    "以第一个图为例，使用柱状图的形式展示了 86 条决策规则的概率值，并且按照决策规则的最终决策属性的取值进行了分区. 例如，决策结果为 1 的决策规则只有 1 条，其概率约为 $0.008403$，即图中从左数第一根柱形图."
   ]
  },
  {
   "cell_type": "markdown",
   "metadata": {},
   "source": [
    "3. 节点脆弱性风险\n",
    "\n",
    "节点脆弱性在对应离散分区下的层次风险：\n",
    "\n",
    "$$\n",
    "  P_j = \\sum_{l=1}^MP_{\\text{Rule}l}(j_{A_n})\n",
    "$$\n",
    "\n",
    "$P_j$ 表示了对于任意节点，通过决策树，做出决策属性为 $j$ 的概率，即各个决策属性为 $j$ 的决策规则的概率求和.\n",
    "  "
   ]
  },
  {
   "cell_type": "code",
   "execution_count": null,
   "metadata": {},
   "outputs": [
    {
     "ename": "KeyError",
     "evalue": "'p'",
     "output_type": "error",
     "traceback": [
      "\u001b[1;31m---------------------------------------------------------------------------\u001b[0m",
      "\u001b[1;31mKeyError\u001b[0m                                  Traceback (most recent call last)",
      "\u001b[1;32m~\\AppData\\Local\\Temp/ipykernel_8312/742135212.py\u001b[0m in \u001b[0;36m<module>\u001b[1;34m\u001b[0m\n\u001b[0;32m      1\u001b[0m \u001b[1;32mfor\u001b[0m \u001b[0mreport\u001b[0m \u001b[1;32min\u001b[0m \u001b[0mreports\u001b[0m\u001b[1;33m:\u001b[0m\u001b[1;33m\u001b[0m\u001b[1;33m\u001b[0m\u001b[0m\n\u001b[1;32m----> 2\u001b[1;33m     \u001b[0mreport\u001b[0m\u001b[1;33m.\u001b[0m\u001b[0mget_hierarchical_risk\u001b[0m\u001b[1;33m(\u001b[0m\u001b[1;33m)\u001b[0m\u001b[1;33m\u001b[0m\u001b[1;33m\u001b[0m\u001b[0m\n\u001b[0m\u001b[0;32m      3\u001b[0m     \u001b[0mprint\u001b[0m\u001b[1;33m(\u001b[0m\u001b[0mreport\u001b[0m\u001b[1;33m.\u001b[0m\u001b[0mname\u001b[0m \u001b[1;33m+\u001b[0m \u001b[1;34m'年层次风险分布'\u001b[0m\u001b[1;33m)\u001b[0m\u001b[1;33m\u001b[0m\u001b[1;33m\u001b[0m\u001b[0m\n\u001b[0;32m      4\u001b[0m     \u001b[0mreport\u001b[0m\u001b[1;33m.\u001b[0m\u001b[0mhierarchical_risk_bar\u001b[0m\u001b[1;33m(\u001b[0m\u001b[1;33m)\u001b[0m\u001b[1;33m\u001b[0m\u001b[1;33m\u001b[0m\u001b[0m\n",
      "\u001b[1;32mc:\\Hozen\\Workspace\\cooper-trade\\src\\main.py\u001b[0m in \u001b[0;36mget_hierarchical_risk\u001b[1;34m(self)\u001b[0m\n\u001b[0;32m    207\u001b[0m \u001b[1;33m\u001b[0m\u001b[0m\n\u001b[0;32m    208\u001b[0m         \u001b[1;32mfor\u001b[0m \u001b[0mitem\u001b[0m \u001b[1;32min\u001b[0m \u001b[0mself\u001b[0m\u001b[1;33m.\u001b[0m\u001b[0mdecision_list\u001b[0m\u001b[1;33m:\u001b[0m\u001b[1;33m\u001b[0m\u001b[1;33m\u001b[0m\u001b[0m\n\u001b[1;32m--> 209\u001b[1;33m             \u001b[0mrisk\u001b[0m\u001b[1;33m[\u001b[0m\u001b[0mint\u001b[0m\u001b[1;33m(\u001b[0m\u001b[0mitem\u001b[0m\u001b[1;33m[\u001b[0m\u001b[1;34m'label'\u001b[0m\u001b[1;33m]\u001b[0m\u001b[1;33m)\u001b[0m \u001b[1;33m-\u001b[0m \u001b[1;36m1\u001b[0m\u001b[1;33m]\u001b[0m \u001b[1;33m+=\u001b[0m \u001b[0mitem\u001b[0m\u001b[1;33m[\u001b[0m\u001b[1;34m'p'\u001b[0m\u001b[1;33m]\u001b[0m\u001b[1;33m\u001b[0m\u001b[1;33m\u001b[0m\u001b[0m\n\u001b[0m\u001b[0;32m    210\u001b[0m \u001b[1;33m\u001b[0m\u001b[0m\n\u001b[0;32m    211\u001b[0m         \u001b[0mself\u001b[0m\u001b[1;33m.\u001b[0m\u001b[0mhierarchical_risk\u001b[0m \u001b[1;33m=\u001b[0m \u001b[0mrisk\u001b[0m\u001b[1;33m\u001b[0m\u001b[1;33m\u001b[0m\u001b[0m\n",
      "\u001b[1;31mKeyError\u001b[0m: 'p'"
     ]
    }
   ],
   "source": [
    "for report in reports:\n",
    "    report.get_hierarchical_risk()\n",
    "    print(report.name + '年层次风险分布')\n",
    "    report.hierarchical_risk_bar()\n"
   ]
  },
  {
   "cell_type": "markdown",
   "metadata": {},
   "source": [
    "上图展示了各个决策属性的概率分布，其中决策属性为 $1,2,3$ 的概率值较小，决策属性为 $4,5,6$ 的概率较大，决策属性为 $6$ 的概率尤其大."
   ]
  },
  {
   "cell_type": "markdown",
   "metadata": {},
   "source": []
  },
  {
   "cell_type": "code",
   "execution_count": null,
   "metadata": {},
   "outputs": [],
   "source": [
    "import numpy as np\n",
    "\n",
    "xs = np.arange(10) + 1 + 2\n",
    "xs = [[1, 2], [2, 3]]\n"
   ]
  },
  {
   "cell_type": "code",
   "execution_count": null,
   "metadata": {},
   "outputs": [
    {
     "data": {
      "text/plain": [
       "[1, 2, 2, 3]"
      ]
     },
     "execution_count": 26,
     "metadata": {},
     "output_type": "execute_result"
    }
   ],
   "source": [
    "[x for j in xs for x in j]\n"
   ]
  },
  {
   "cell_type": "code",
   "execution_count": null,
   "metadata": {},
   "outputs": [
    {
     "data": {
      "text/plain": [
       "[1, 2, 2, 3]"
      ]
     },
     "execution_count": 30,
     "metadata": {},
     "output_type": "execute_result"
    }
   ],
   "source": [
    "[x for j in xs for x in j]\n"
   ]
  },
  {
   "cell_type": "code",
   "execution_count": null,
   "metadata": {},
   "outputs": [
    {
     "data": {
      "text/plain": [
       "[1, 2, 2, 3]"
      ]
     },
     "execution_count": 31,
     "metadata": {},
     "output_type": "execute_result"
    }
   ],
   "source": [
    "res = []\n",
    "for j in xs:\n",
    "    for x in j:\n",
    "        res.append(x)\n",
    "\n",
    "res\n"
   ]
  },
  {
   "cell_type": "code",
   "execution_count": null,
   "metadata": {},
   "outputs": [],
   "source": [
    "ps = [[0.008264462809917356], [0.008264462809917356], [2.4986135284033322e-05, 0.0001249306764201666, 0.0007745701938050329, 7.495840585209997e-05, 0.0006496395173848664], [0.0024588484393142547, 2.201448327209732e-05, 0.0001100724163604866, 0.0006824489814350169, 6.604344981629197e-05, 0.0005723765650745303], [0.00020490403660952122, 0.00020490403660952122, 0.0006147121098285637, 0.00020490403660952122, 0.021105115770780686, 0.0008879174919745919, 0.0008879174919745919, 0.0012107965799653525, 0.0008879174919745919,\n",
    "                                                                                                                                                                                                                                                                                                                         0.010655009903695103, 0.000755830592342008, 0.001511661184684016, 0.000755830592342008, 0.0001561633455252083, 0.0001561633455252083, 0.0003123266910504166, 0.0001561633455252083, 0.0007808167276260414, 0.06651309212609671, 0.020490403660952124], [0.0013742374406218326, 0.01733413135329812, 0.23140495867768596, 0.005122600915238031, 0.010245201830476062, 0.005122600915238031, 0.12806502288095076, 0.0037255279383549313, 0.018627639691774656, 0.20490403660952122, 0.11549136608900286, 0.011176583815064794, 0.09686372639722822]]\n"
   ]
  },
  {
   "cell_type": "code",
   "execution_count": null,
   "metadata": {},
   "outputs": [],
   "source": [
    "import numpy as np\n",
    "import matplotlib.pyplot as plt\n"
   ]
  },
  {
   "cell_type": "code",
   "execution_count": null,
   "metadata": {},
   "outputs": [
    {
     "name": "stdout",
     "output_type": "stream",
     "text": [
      "[5, 10, 15, 16, 17, 18, 19, 24, 25, 26, 27, 28, 29, 34, 35, 36, 37, 38, 39, 40, 41, 42, 43, 44, 45, 46, 47, 48, 49, 50, 51, 52, 53, 58, 59, 60, 61, 62, 63, 64, 65, 66, 67, 68, 69, 70] [1, 2, '', '', 3, '', '', '', '', '', 4, '', '', '', '', '', '', '', '', '', '', '', '', 5, '', '', '', '', '', '', '', '', '', '', '', '', '', '', '', 6, '', '', '', '', '', '']\n"
     ]
    },
    {
     "data": {
      "image/png": "[encoded data removed]",
      "text/plain": [
       "<Figure size 720x576 with 1 Axes>"
      ]
     },
     "metadata": {
      "needs_background": "light"
     },
     "output_type": "display_data"
    }
   ],
   "source": [
    "plt.figure(figsize=(10, 8))\n",
    "\n",
    "width = 1\n",
    "group_gap = 5\n",
    "\n",
    "# fig, ax = plt.subplots()\n",
    "\n",
    "last_index = 0\n",
    "ind = []\n",
    "xs = []\n",
    "\n",
    "for i in range(0, 6):\n",
    "    group_len = len(ps[i])\n",
    "\n",
    "    x = np.arange(group_len) + last_index + group_gap\n",
    "    xs.append(x)\n",
    "\n",
    "    last_index = x[-1]\n",
    "\n",
    "    plt.bar(x, ps[i], width)\n",
    "\n",
    "\n",
    "ind = [x for j in xs for x in j]\n",
    "\n",
    "x_labels = ['' for _ in range(len(ind))]\n",
    "\n",
    "former_index = 0\n",
    "for i, x in enumerate(xs):\n",
    "    x_labels[former_index + int(len(x) / 2)] = i + 1\n",
    "    former_index += len(x)\n",
    "\n",
    "# plt.xticklabels(x_labels, fontsize=14)\n",
    "\n",
    "plt.ylabel(r\"$P_{Path_l}$\", fontsize=20)\n",
    "# plt.xticks(ind, [i + 1 for i in range(len(xs))])\n",
    "plt.xticks(ind, x_labels)\n",
    "\n",
    "print(ind, x_labels)\n",
    "\n",
    "plt.show()\n"
   ]
  },
  {
   "cell_type": "code",
   "execution_count": null,
   "metadata": {},
   "outputs": [
    {
     "data": {
      "text/plain": [
       "1"
      ]
     },
     "execution_count": 2,
     "metadata": {},
     "output_type": "execute_result"
    }
   ],
   "source": [
    "a = -1\n",
    "b = 2\n",
    "abs(a)\n"
   ]
  },
  {
   "cell_type": "code",
   "execution_count": null,
   "metadata": {},
   "outputs": [
    {
     "name": "stdout",
     "output_type": "stream",
     "text": [
      "[ 1  3  5  7  9 11 13 15 17 19]\n"
     ]
    }
   ],
   "source": [
    "import numpy as np\n",
    "print(np.arange(1, 20, 2))\n"
   ]
  },
  {
   "cell_type": "code",
   "execution_count": null,
   "metadata": {},
   "outputs": [],
   "source": []
  }
 ],
 "metadata": {
  "interpreter": {
   "hash": "ac59ebe37160ed0dfa835113d9b8498d9f09ceb179beaac4002f036b9467c963"
  },
  "kernelspec": {
   "display_name": "Python 3.9.7 64-bit",
   "name": "python3"
  },
  "language_info": {
   "codemirror_mode": {
    "name": "ipython",
    "version": 3
   },
   "file_extension": ".py",
   "mimetype": "text/x-python",
   "name": "python",
   "nbconvert_exporter": "python",
   "pygments_lexer": "ipython3",
   "version": "3.9.7"
  },
  "orig_nbformat": 4
 },
 "nbformat": 4,
 "nbformat_minor": 2
}

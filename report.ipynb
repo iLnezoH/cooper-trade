{
 "metadata": {
  "language_info": {
   "codemirror_mode": {
    "name": "ipython",
    "version": 3
   },
   "file_extension": ".py",
   "mimetype": "text/x-python",
   "name": "python",
   "nbconvert_exporter": "python",
   "pygments_lexer": "ipython3",
   "version": "3.9.7"
  },
  "orig_nbformat": 4,
  "kernelspec": {
   "name": "python3",
   "display_name": "Python 3.9.7 64-bit"
  },
  "interpreter": {
   "hash": "ac59ebe37160ed0dfa835113d9b8498d9f09ceb179beaac4002f036b9467c963"
  }
 },
 "nbformat": 4,
 "nbformat_minor": 2,
 "cells": [
  {
   "cell_type": "markdown",
   "source": [
    "## 1. 数据处理和分析\n",
    "\n",
    "### 1.1 数据预处理\n",
    "\n",
    "读取从 [UN Comtrade Database](https://comtrade.un.org/data/) 获取的 2016-2020 年全球铜及其精炼物（2603）贸易记录，并处理：\n",
    "\n",
    "1. 去除贸易对象为 World 的数据行\n",
    "2. 并保留关心的数据列：报告者及其代码、贸易对象及代码、贸易类型、贸易额\n",
    "\n",
    "**！注**：数据中上报者（Reporter）可能包含国家和地区以及**中国**港澳台地区，为方便起见以下统称“国家”."
   ],
   "metadata": {}
  },
  {
   "cell_type": "code",
   "execution_count": 1,
   "source": [
    "from src.main import Report, pd, show_cluster_list, plt"
   ],
   "outputs": [],
   "metadata": {}
  },
  {
   "cell_type": "code",
   "execution_count": 2,
   "source": [
    "report_16 = Report('src/data/format-2016-world-copper-2063-trade.json', '2016')\r\n",
    "report_17 = Report('src/data/format-2017-world-copper-2063-trade.json', '2017')\r\n",
    "report_18 = Report('src/data/format-2018-world-copper-2063-trade.json', '2018')\r\n",
    "report_19 = Report('src/data/2019-world-copper-2063-trade.csv', '2019')\r\n",
    "report_20 = Report('src/data/format-2020-world-copper-2063-trade.json', '2020')"
   ],
   "outputs": [],
   "metadata": {}
  },
  {
   "cell_type": "code",
   "execution_count": 3,
   "source": [
    "reports = [report_16, report_17, report_18, report_19, report_20]\r\n",
    "\r\n",
    "report_16.data.getByCode(97)"
   ],
   "outputs": [
    {
     "output_type": "execute_result",
     "data": {
      "text/html": [
       "<div>\n",
       "<style scoped>\n",
       "    .dataframe tbody tr th:only-of-type {\n",
       "        vertical-align: middle;\n",
       "    }\n",
       "\n",
       "    .dataframe tbody tr th {\n",
       "        vertical-align: top;\n",
       "    }\n",
       "\n",
       "    .dataframe thead th {\n",
       "        text-align: right;\n",
       "    }\n",
       "</style>\n",
       "<table border=\"1\" class=\"dataframe\">\n",
       "  <thead>\n",
       "    <tr style=\"text-align: right;\">\n",
       "      <th></th>\n",
       "      <th>Code</th>\n",
       "      <th>name</th>\n",
       "    </tr>\n",
       "  </thead>\n",
       "  <tbody>\n",
       "    <tr>\n",
       "      <th>345</th>\n",
       "      <td>97</td>\n",
       "      <td>EU-28</td>\n",
       "    </tr>\n",
       "  </tbody>\n",
       "</table>\n",
       "</div>"
      ],
      "text/plain": [
       "     Code   name\n",
       "345    97  EU-28"
      ]
     },
     "metadata": {},
     "execution_count": 3
    }
   ],
   "metadata": {}
  },
  {
   "cell_type": "markdown",
   "source": [
    "### 1.2 数据分析与检验*\n",
    "\n",
    "以 2019 年数据为例，进行数据分析与检验\n",
    "\n",
    "1. 获取贸易参与者"
   ],
   "metadata": {}
  },
  {
   "cell_type": "code",
   "execution_count": 4,
   "source": [
    "report_19.check_data()"
   ],
   "outputs": [
    {
     "output_type": "stream",
     "name": "stdout",
     "text": [
      "上报进贸易记录的国家总数（不含重复）:  89\n",
      "上报进贸易记录的中的贸易对象国家总数（不含重复）:  109\n",
      "上报进贸易记录的国家，和记录中的贸易对象国家总数（不含重复）:  119\n"
     ]
    }
   ],
   "metadata": {}
  },
  {
   "cell_type": "markdown",
   "source": [
    "2. 数据检验\n",
    "\n",
    "从上面数据可以看出，各国上报的记录显然是有出入的，即上报记录中涉及的国家数要比上报数据的国家数多，这至少说明了一些参与了贸易的国家没有上报贸易记录\n",
    "\n",
    "下面以中国上报的记录为例检查和说明：\n",
    "\n",
    "        1. 查看中国上报的进口记录"
   ],
   "metadata": {}
  },
  {
   "cell_type": "code",
   "execution_count": 5,
   "source": [
    "report_19.view_logs_by_china()"
   ],
   "outputs": [
    {
     "output_type": "stream",
     "name": "stdout",
     "text": [
      "中国上报的进口记录中，涉及出口国家的个数:  56\n"
     ]
    },
    {
     "output_type": "execute_result",
     "data": {
      "text/html": [
       "<div>\n",
       "<style scoped>\n",
       "    .dataframe tbody tr th:only-of-type {\n",
       "        vertical-align: middle;\n",
       "    }\n",
       "\n",
       "    .dataframe tbody tr th {\n",
       "        vertical-align: top;\n",
       "    }\n",
       "\n",
       "    .dataframe thead th {\n",
       "        text-align: right;\n",
       "    }\n",
       "</style>\n",
       "<table border=\"1\" class=\"dataframe\">\n",
       "  <thead>\n",
       "    <tr style=\"text-align: right;\">\n",
       "      <th></th>\n",
       "      <th>Reporter Code</th>\n",
       "      <th>Reporter</th>\n",
       "      <th>Partner Code</th>\n",
       "      <th>Partner</th>\n",
       "      <th>Trade Flow</th>\n",
       "      <th>Trade Value (US$)</th>\n",
       "    </tr>\n",
       "  </thead>\n",
       "  <tbody>\n",
       "    <tr>\n",
       "      <th>247</th>\n",
       "      <td>156</td>\n",
       "      <td>China</td>\n",
       "      <td>8</td>\n",
       "      <td>Albania</td>\n",
       "      <td>Import</td>\n",
       "      <td>17013004</td>\n",
       "    </tr>\n",
       "    <tr>\n",
       "      <th>248</th>\n",
       "      <td>156</td>\n",
       "      <td>China</td>\n",
       "      <td>36</td>\n",
       "      <td>Australia</td>\n",
       "      <td>Import</td>\n",
       "      <td>1666113958</td>\n",
       "    </tr>\n",
       "    <tr>\n",
       "      <th>250</th>\n",
       "      <td>156</td>\n",
       "      <td>China</td>\n",
       "      <td>51</td>\n",
       "      <td>Armenia</td>\n",
       "      <td>Import</td>\n",
       "      <td>510563982</td>\n",
       "    </tr>\n",
       "    <tr>\n",
       "      <th>251</th>\n",
       "      <td>156</td>\n",
       "      <td>China</td>\n",
       "      <td>68</td>\n",
       "      <td>Bolivia (Plurinational State of)</td>\n",
       "      <td>Import</td>\n",
       "      <td>2677980</td>\n",
       "    </tr>\n",
       "    <tr>\n",
       "      <th>252</th>\n",
       "      <td>156</td>\n",
       "      <td>China</td>\n",
       "      <td>76</td>\n",
       "      <td>Brazil</td>\n",
       "      <td>Import</td>\n",
       "      <td>557705819</td>\n",
       "    </tr>\n",
       "    <tr>\n",
       "      <th>255</th>\n",
       "      <td>156</td>\n",
       "      <td>China</td>\n",
       "      <td>100</td>\n",
       "      <td>Bulgaria</td>\n",
       "      <td>Import</td>\n",
       "      <td>50</td>\n",
       "    </tr>\n",
       "    <tr>\n",
       "      <th>256</th>\n",
       "      <td>156</td>\n",
       "      <td>China</td>\n",
       "      <td>104</td>\n",
       "      <td>Myanmar</td>\n",
       "      <td>Import</td>\n",
       "      <td>2850825</td>\n",
       "    </tr>\n",
       "    <tr>\n",
       "      <th>258</th>\n",
       "      <td>156</td>\n",
       "      <td>China</td>\n",
       "      <td>124</td>\n",
       "      <td>Canada</td>\n",
       "      <td>Import</td>\n",
       "      <td>910149220</td>\n",
       "    </tr>\n",
       "    <tr>\n",
       "      <th>260</th>\n",
       "      <td>156</td>\n",
       "      <td>China</td>\n",
       "      <td>152</td>\n",
       "      <td>Chile</td>\n",
       "      <td>Import</td>\n",
       "      <td>12076025483</td>\n",
       "    </tr>\n",
       "    <tr>\n",
       "      <th>261</th>\n",
       "      <td>156</td>\n",
       "      <td>China</td>\n",
       "      <td>170</td>\n",
       "      <td>Colombia</td>\n",
       "      <td>Import</td>\n",
       "      <td>56382455</td>\n",
       "    </tr>\n",
       "    <tr>\n",
       "      <th>262</th>\n",
       "      <td>156</td>\n",
       "      <td>China</td>\n",
       "      <td>178</td>\n",
       "      <td>Congo</td>\n",
       "      <td>Import</td>\n",
       "      <td>520238</td>\n",
       "    </tr>\n",
       "    <tr>\n",
       "      <th>263</th>\n",
       "      <td>156</td>\n",
       "      <td>China</td>\n",
       "      <td>180</td>\n",
       "      <td>Dem. Rep. of the Congo</td>\n",
       "      <td>Import</td>\n",
       "      <td>386995691</td>\n",
       "    </tr>\n",
       "    <tr>\n",
       "      <th>265</th>\n",
       "      <td>156</td>\n",
       "      <td>China</td>\n",
       "      <td>212</td>\n",
       "      <td>Dominica</td>\n",
       "      <td>Import</td>\n",
       "      <td>57</td>\n",
       "    </tr>\n",
       "    <tr>\n",
       "      <th>266</th>\n",
       "      <td>156</td>\n",
       "      <td>China</td>\n",
       "      <td>214</td>\n",
       "      <td>Dominican Rep.</td>\n",
       "      <td>Import</td>\n",
       "      <td>123783836</td>\n",
       "    </tr>\n",
       "    <tr>\n",
       "      <th>267</th>\n",
       "      <td>156</td>\n",
       "      <td>China</td>\n",
       "      <td>218</td>\n",
       "      <td>Ecuador</td>\n",
       "      <td>Import</td>\n",
       "      <td>4952430</td>\n",
       "    </tr>\n",
       "    <tr>\n",
       "      <th>268</th>\n",
       "      <td>156</td>\n",
       "      <td>China</td>\n",
       "      <td>231</td>\n",
       "      <td>Ethiopia</td>\n",
       "      <td>Import</td>\n",
       "      <td>10326</td>\n",
       "    </tr>\n",
       "    <tr>\n",
       "      <th>269</th>\n",
       "      <td>156</td>\n",
       "      <td>China</td>\n",
       "      <td>232</td>\n",
       "      <td>Eritrea</td>\n",
       "      <td>Import</td>\n",
       "      <td>105319016</td>\n",
       "    </tr>\n",
       "    <tr>\n",
       "      <th>271</th>\n",
       "      <td>156</td>\n",
       "      <td>China</td>\n",
       "      <td>360</td>\n",
       "      <td>Indonesia</td>\n",
       "      <td>Import</td>\n",
       "      <td>618533133</td>\n",
       "    </tr>\n",
       "    <tr>\n",
       "      <th>272</th>\n",
       "      <td>156</td>\n",
       "      <td>China</td>\n",
       "      <td>364</td>\n",
       "      <td>Iran</td>\n",
       "      <td>Import</td>\n",
       "      <td>23701028</td>\n",
       "    </tr>\n",
       "    <tr>\n",
       "      <th>275</th>\n",
       "      <td>156</td>\n",
       "      <td>China</td>\n",
       "      <td>398</td>\n",
       "      <td>Kazakhstan</td>\n",
       "      <td>Import</td>\n",
       "      <td>964109620</td>\n",
       "    </tr>\n",
       "    <tr>\n",
       "      <th>276</th>\n",
       "      <td>156</td>\n",
       "      <td>China</td>\n",
       "      <td>404</td>\n",
       "      <td>Kenya</td>\n",
       "      <td>Import</td>\n",
       "      <td>501479</td>\n",
       "    </tr>\n",
       "    <tr>\n",
       "      <th>278</th>\n",
       "      <td>156</td>\n",
       "      <td>China</td>\n",
       "      <td>410</td>\n",
       "      <td>Rep. of Korea</td>\n",
       "      <td>Import</td>\n",
       "      <td>709</td>\n",
       "    </tr>\n",
       "    <tr>\n",
       "      <th>279</th>\n",
       "      <td>156</td>\n",
       "      <td>China</td>\n",
       "      <td>417</td>\n",
       "      <td>Kyrgyzstan</td>\n",
       "      <td>Import</td>\n",
       "      <td>199725</td>\n",
       "    </tr>\n",
       "    <tr>\n",
       "      <th>280</th>\n",
       "      <td>156</td>\n",
       "      <td>China</td>\n",
       "      <td>418</td>\n",
       "      <td>Lao People's Dem. Rep.</td>\n",
       "      <td>Import</td>\n",
       "      <td>458829040</td>\n",
       "    </tr>\n",
       "    <tr>\n",
       "      <th>281</th>\n",
       "      <td>156</td>\n",
       "      <td>China</td>\n",
       "      <td>450</td>\n",
       "      <td>Madagascar</td>\n",
       "      <td>Import</td>\n",
       "      <td>440772</td>\n",
       "    </tr>\n",
       "    <tr>\n",
       "      <th>282</th>\n",
       "      <td>156</td>\n",
       "      <td>China</td>\n",
       "      <td>458</td>\n",
       "      <td>Malaysia</td>\n",
       "      <td>Import</td>\n",
       "      <td>34683639</td>\n",
       "    </tr>\n",
       "    <tr>\n",
       "      <th>283</th>\n",
       "      <td>156</td>\n",
       "      <td>China</td>\n",
       "      <td>478</td>\n",
       "      <td>Mauritania</td>\n",
       "      <td>Import</td>\n",
       "      <td>209832472</td>\n",
       "    </tr>\n",
       "    <tr>\n",
       "      <th>284</th>\n",
       "      <td>156</td>\n",
       "      <td>China</td>\n",
       "      <td>484</td>\n",
       "      <td>Mexico</td>\n",
       "      <td>Import</td>\n",
       "      <td>1986012762</td>\n",
       "    </tr>\n",
       "    <tr>\n",
       "      <th>285</th>\n",
       "      <td>156</td>\n",
       "      <td>China</td>\n",
       "      <td>490</td>\n",
       "      <td>Other Asia, nes</td>\n",
       "      <td>Import</td>\n",
       "      <td>111136358</td>\n",
       "    </tr>\n",
       "    <tr>\n",
       "      <th>286</th>\n",
       "      <td>156</td>\n",
       "      <td>China</td>\n",
       "      <td>496</td>\n",
       "      <td>Mongolia</td>\n",
       "      <td>Import</td>\n",
       "      <td>1795514292</td>\n",
       "    </tr>\n",
       "    <tr>\n",
       "      <th>287</th>\n",
       "      <td>156</td>\n",
       "      <td>China</td>\n",
       "      <td>504</td>\n",
       "      <td>Morocco</td>\n",
       "      <td>Import</td>\n",
       "      <td>17746697</td>\n",
       "    </tr>\n",
       "    <tr>\n",
       "      <th>288</th>\n",
       "      <td>156</td>\n",
       "      <td>China</td>\n",
       "      <td>508</td>\n",
       "      <td>Mozambique</td>\n",
       "      <td>Import</td>\n",
       "      <td>2099031</td>\n",
       "    </tr>\n",
       "    <tr>\n",
       "      <th>289</th>\n",
       "      <td>156</td>\n",
       "      <td>China</td>\n",
       "      <td>516</td>\n",
       "      <td>Namibia</td>\n",
       "      <td>Import</td>\n",
       "      <td>18079</td>\n",
       "    </tr>\n",
       "    <tr>\n",
       "      <th>290</th>\n",
       "      <td>156</td>\n",
       "      <td>China</td>\n",
       "      <td>566</td>\n",
       "      <td>Nigeria</td>\n",
       "      <td>Import</td>\n",
       "      <td>9853</td>\n",
       "    </tr>\n",
       "    <tr>\n",
       "      <th>292</th>\n",
       "      <td>156</td>\n",
       "      <td>China</td>\n",
       "      <td>586</td>\n",
       "      <td>Pakistan</td>\n",
       "      <td>Import</td>\n",
       "      <td>193330</td>\n",
       "    </tr>\n",
       "    <tr>\n",
       "      <th>293</th>\n",
       "      <td>156</td>\n",
       "      <td>China</td>\n",
       "      <td>591</td>\n",
       "      <td>Panama</td>\n",
       "      <td>Import</td>\n",
       "      <td>387665029</td>\n",
       "    </tr>\n",
       "    <tr>\n",
       "      <th>294</th>\n",
       "      <td>156</td>\n",
       "      <td>China</td>\n",
       "      <td>598</td>\n",
       "      <td>Papua New Guinea</td>\n",
       "      <td>Import</td>\n",
       "      <td>159701250</td>\n",
       "    </tr>\n",
       "    <tr>\n",
       "      <th>295</th>\n",
       "      <td>156</td>\n",
       "      <td>China</td>\n",
       "      <td>604</td>\n",
       "      <td>Peru</td>\n",
       "      <td>Import</td>\n",
       "      <td>9052329871</td>\n",
       "    </tr>\n",
       "    <tr>\n",
       "      <th>296</th>\n",
       "      <td>156</td>\n",
       "      <td>China</td>\n",
       "      <td>608</td>\n",
       "      <td>Philippines</td>\n",
       "      <td>Import</td>\n",
       "      <td>268285022</td>\n",
       "    </tr>\n",
       "    <tr>\n",
       "      <th>297</th>\n",
       "      <td>156</td>\n",
       "      <td>China</td>\n",
       "      <td>642</td>\n",
       "      <td>Romania</td>\n",
       "      <td>Import</td>\n",
       "      <td>12115525</td>\n",
       "    </tr>\n",
       "    <tr>\n",
       "      <th>298</th>\n",
       "      <td>156</td>\n",
       "      <td>China</td>\n",
       "      <td>643</td>\n",
       "      <td>Russian Federation</td>\n",
       "      <td>Import</td>\n",
       "      <td>234860468</td>\n",
       "    </tr>\n",
       "    <tr>\n",
       "      <th>299</th>\n",
       "      <td>156</td>\n",
       "      <td>China</td>\n",
       "      <td>682</td>\n",
       "      <td>Saudi Arabia</td>\n",
       "      <td>Import</td>\n",
       "      <td>152889096</td>\n",
       "    </tr>\n",
       "    <tr>\n",
       "      <th>300</th>\n",
       "      <td>156</td>\n",
       "      <td>China</td>\n",
       "      <td>688</td>\n",
       "      <td>Serbia</td>\n",
       "      <td>Import</td>\n",
       "      <td>111</td>\n",
       "    </tr>\n",
       "    <tr>\n",
       "      <th>301</th>\n",
       "      <td>156</td>\n",
       "      <td>China</td>\n",
       "      <td>699</td>\n",
       "      <td>India</td>\n",
       "      <td>Import</td>\n",
       "      <td>78282781</td>\n",
       "    </tr>\n",
       "    <tr>\n",
       "      <th>302</th>\n",
       "      <td>156</td>\n",
       "      <td>China</td>\n",
       "      <td>704</td>\n",
       "      <td>Viet Nam</td>\n",
       "      <td>Import</td>\n",
       "      <td>22101901</td>\n",
       "    </tr>\n",
       "    <tr>\n",
       "      <th>303</th>\n",
       "      <td>156</td>\n",
       "      <td>China</td>\n",
       "      <td>706</td>\n",
       "      <td>Somalia</td>\n",
       "      <td>Import</td>\n",
       "      <td>154153</td>\n",
       "    </tr>\n",
       "    <tr>\n",
       "      <th>304</th>\n",
       "      <td>156</td>\n",
       "      <td>China</td>\n",
       "      <td>710</td>\n",
       "      <td>South Africa</td>\n",
       "      <td>Import</td>\n",
       "      <td>17009652</td>\n",
       "    </tr>\n",
       "    <tr>\n",
       "      <th>305</th>\n",
       "      <td>156</td>\n",
       "      <td>China</td>\n",
       "      <td>716</td>\n",
       "      <td>Zimbabwe</td>\n",
       "      <td>Import</td>\n",
       "      <td>783889</td>\n",
       "    </tr>\n",
       "    <tr>\n",
       "      <th>306</th>\n",
       "      <td>156</td>\n",
       "      <td>China</td>\n",
       "      <td>724</td>\n",
       "      <td>Spain</td>\n",
       "      <td>Import</td>\n",
       "      <td>872750734</td>\n",
       "    </tr>\n",
       "    <tr>\n",
       "      <th>307</th>\n",
       "      <td>156</td>\n",
       "      <td>China</td>\n",
       "      <td>764</td>\n",
       "      <td>Thailand</td>\n",
       "      <td>Import</td>\n",
       "      <td>115337</td>\n",
       "    </tr>\n",
       "    <tr>\n",
       "      <th>308</th>\n",
       "      <td>156</td>\n",
       "      <td>China</td>\n",
       "      <td>784</td>\n",
       "      <td>United Arab Emirates</td>\n",
       "      <td>Import</td>\n",
       "      <td>70360785</td>\n",
       "    </tr>\n",
       "    <tr>\n",
       "      <th>309</th>\n",
       "      <td>156</td>\n",
       "      <td>China</td>\n",
       "      <td>792</td>\n",
       "      <td>Turkey</td>\n",
       "      <td>Import</td>\n",
       "      <td>60658162</td>\n",
       "    </tr>\n",
       "    <tr>\n",
       "      <th>310</th>\n",
       "      <td>156</td>\n",
       "      <td>China</td>\n",
       "      <td>826</td>\n",
       "      <td>United Kingdom</td>\n",
       "      <td>Import</td>\n",
       "      <td>74307</td>\n",
       "    </tr>\n",
       "    <tr>\n",
       "      <th>311</th>\n",
       "      <td>156</td>\n",
       "      <td>China</td>\n",
       "      <td>834</td>\n",
       "      <td>United Rep. of Tanzania</td>\n",
       "      <td>Import</td>\n",
       "      <td>8523190</td>\n",
       "    </tr>\n",
       "    <tr>\n",
       "      <th>312</th>\n",
       "      <td>156</td>\n",
       "      <td>China</td>\n",
       "      <td>842</td>\n",
       "      <td>USA</td>\n",
       "      <td>Import</td>\n",
       "      <td>13566717</td>\n",
       "    </tr>\n",
       "    <tr>\n",
       "      <th>313</th>\n",
       "      <td>156</td>\n",
       "      <td>China</td>\n",
       "      <td>894</td>\n",
       "      <td>Zambia</td>\n",
       "      <td>Import</td>\n",
       "      <td>23748142</td>\n",
       "    </tr>\n",
       "  </tbody>\n",
       "</table>\n",
       "</div>"
      ],
      "text/plain": [
       "     Reporter Code Reporter  Partner Code                           Partner Trade Flow  Trade Value (US$)\n",
       "247            156    China             8                           Albania     Import           17013004\n",
       "248            156    China            36                         Australia     Import         1666113958\n",
       "250            156    China            51                           Armenia     Import          510563982\n",
       "251            156    China            68  Bolivia (Plurinational State of)     Import            2677980\n",
       "252            156    China            76                            Brazil     Import          557705819\n",
       "255            156    China           100                          Bulgaria     Import                 50\n",
       "256            156    China           104                           Myanmar     Import            2850825\n",
       "258            156    China           124                            Canada     Import          910149220\n",
       "260            156    China           152                             Chile     Import        12076025483\n",
       "261            156    China           170                          Colombia     Import           56382455\n",
       "262            156    China           178                             Congo     Import             520238\n",
       "263            156    China           180            Dem. Rep. of the Congo     Import          386995691\n",
       "265            156    China           212                          Dominica     Import                 57\n",
       "266            156    China           214                    Dominican Rep.     Import          123783836\n",
       "267            156    China           218                           Ecuador     Import            4952430\n",
       "268            156    China           231                          Ethiopia     Import              10326\n",
       "269            156    China           232                           Eritrea     Import          105319016\n",
       "271            156    China           360                         Indonesia     Import          618533133\n",
       "272            156    China           364                              Iran     Import           23701028\n",
       "275            156    China           398                        Kazakhstan     Import          964109620\n",
       "276            156    China           404                             Kenya     Import             501479\n",
       "278            156    China           410                     Rep. of Korea     Import                709\n",
       "279            156    China           417                        Kyrgyzstan     Import             199725\n",
       "280            156    China           418            Lao People's Dem. Rep.     Import          458829040\n",
       "281            156    China           450                        Madagascar     Import             440772\n",
       "282            156    China           458                          Malaysia     Import           34683639\n",
       "283            156    China           478                        Mauritania     Import          209832472\n",
       "284            156    China           484                            Mexico     Import         1986012762\n",
       "285            156    China           490                   Other Asia, nes     Import          111136358\n",
       "286            156    China           496                          Mongolia     Import         1795514292\n",
       "287            156    China           504                           Morocco     Import           17746697\n",
       "288            156    China           508                        Mozambique     Import            2099031\n",
       "289            156    China           516                           Namibia     Import              18079\n",
       "290            156    China           566                           Nigeria     Import               9853\n",
       "292            156    China           586                          Pakistan     Import             193330\n",
       "293            156    China           591                            Panama     Import          387665029\n",
       "294            156    China           598                  Papua New Guinea     Import          159701250\n",
       "295            156    China           604                              Peru     Import         9052329871\n",
       "296            156    China           608                       Philippines     Import          268285022\n",
       "297            156    China           642                           Romania     Import           12115525\n",
       "298            156    China           643                Russian Federation     Import          234860468\n",
       "299            156    China           682                      Saudi Arabia     Import          152889096\n",
       "300            156    China           688                            Serbia     Import                111\n",
       "301            156    China           699                             India     Import           78282781\n",
       "302            156    China           704                          Viet Nam     Import           22101901\n",
       "303            156    China           706                           Somalia     Import             154153\n",
       "304            156    China           710                      South Africa     Import           17009652\n",
       "305            156    China           716                          Zimbabwe     Import             783889\n",
       "306            156    China           724                             Spain     Import          872750734\n",
       "307            156    China           764                          Thailand     Import             115337\n",
       "308            156    China           784              United Arab Emirates     Import           70360785\n",
       "309            156    China           792                            Turkey     Import           60658162\n",
       "310            156    China           826                    United Kingdom     Import              74307\n",
       "311            156    China           834           United Rep. of Tanzania     Import            8523190\n",
       "312            156    China           842                               USA     Import           13566717\n",
       "313            156    China           894                            Zambia     Import           23748142"
      ]
     },
     "metadata": {},
     "execution_count": 5
    }
   ],
   "metadata": {}
  },
  {
   "cell_type": "markdown",
   "source": [
    "        2. 查看中国进口对象上报的对中国的出口记录"
   ],
   "metadata": {}
  },
  {
   "cell_type": "code",
   "execution_count": 6,
   "source": [
    "report_19.view_logs_about_china()"
   ],
   "outputs": [
    {
     "output_type": "stream",
     "name": "stdout",
     "text": [
      "全球上报了对中国有出口记录的国家 43\n"
     ]
    },
    {
     "output_type": "execute_result",
     "data": {
      "text/html": [
       "<div>\n",
       "<style scoped>\n",
       "    .dataframe tbody tr th:only-of-type {\n",
       "        vertical-align: middle;\n",
       "    }\n",
       "\n",
       "    .dataframe tbody tr th {\n",
       "        vertical-align: top;\n",
       "    }\n",
       "\n",
       "    .dataframe thead th {\n",
       "        text-align: right;\n",
       "    }\n",
       "</style>\n",
       "<table border=\"1\" class=\"dataframe\">\n",
       "  <thead>\n",
       "    <tr style=\"text-align: right;\">\n",
       "      <th></th>\n",
       "      <th>Reporter Code</th>\n",
       "      <th>Reporter</th>\n",
       "      <th>Partner Code</th>\n",
       "      <th>Partner</th>\n",
       "      <th>Trade Flow</th>\n",
       "      <th>Trade Value (US$)</th>\n",
       "    </tr>\n",
       "  </thead>\n",
       "  <tbody>\n",
       "    <tr>\n",
       "      <th>13</th>\n",
       "      <td>36</td>\n",
       "      <td>Australia</td>\n",
       "      <td>156</td>\n",
       "      <td>China</td>\n",
       "      <td>Export</td>\n",
       "      <td>1585564428</td>\n",
       "    </tr>\n",
       "    <tr>\n",
       "      <th>36</th>\n",
       "      <td>51</td>\n",
       "      <td>Armenia</td>\n",
       "      <td>156</td>\n",
       "      <td>China</td>\n",
       "      <td>Export</td>\n",
       "      <td>174415305</td>\n",
       "    </tr>\n",
       "    <tr>\n",
       "      <th>68</th>\n",
       "      <td>68</td>\n",
       "      <td>Bolivia (Plurinational State of)</td>\n",
       "      <td>156</td>\n",
       "      <td>China</td>\n",
       "      <td>Export</td>\n",
       "      <td>3882938</td>\n",
       "    </tr>\n",
       "    <tr>\n",
       "      <th>88</th>\n",
       "      <td>76</td>\n",
       "      <td>Brazil</td>\n",
       "      <td>156</td>\n",
       "      <td>China</td>\n",
       "      <td>Export</td>\n",
       "      <td>442971407</td>\n",
       "    </tr>\n",
       "    <tr>\n",
       "      <th>116</th>\n",
       "      <td>100</td>\n",
       "      <td>Bulgaria</td>\n",
       "      <td>156</td>\n",
       "      <td>China</td>\n",
       "      <td>Export</td>\n",
       "      <td>71216190</td>\n",
       "    </tr>\n",
       "    <tr>\n",
       "      <th>161</th>\n",
       "      <td>124</td>\n",
       "      <td>Canada</td>\n",
       "      <td>156</td>\n",
       "      <td>China</td>\n",
       "      <td>Export</td>\n",
       "      <td>764979617</td>\n",
       "    </tr>\n",
       "    <tr>\n",
       "      <th>208</th>\n",
       "      <td>152</td>\n",
       "      <td>Chile</td>\n",
       "      <td>156</td>\n",
       "      <td>China</td>\n",
       "      <td>Export</td>\n",
       "      <td>9649325301</td>\n",
       "    </tr>\n",
       "    <tr>\n",
       "      <th>316</th>\n",
       "      <td>170</td>\n",
       "      <td>Colombia</td>\n",
       "      <td>156</td>\n",
       "      <td>China</td>\n",
       "      <td>Export</td>\n",
       "      <td>40352028</td>\n",
       "    </tr>\n",
       "    <tr>\n",
       "      <th>328</th>\n",
       "      <td>204</td>\n",
       "      <td>Benin</td>\n",
       "      <td>156</td>\n",
       "      <td>China</td>\n",
       "      <td>Export</td>\n",
       "      <td>1708</td>\n",
       "    </tr>\n",
       "    <tr>\n",
       "      <th>334</th>\n",
       "      <td>218</td>\n",
       "      <td>Ecuador</td>\n",
       "      <td>156</td>\n",
       "      <td>China</td>\n",
       "      <td>Export</td>\n",
       "      <td>3562481</td>\n",
       "    </tr>\n",
       "    <tr>\n",
       "      <th>386</th>\n",
       "      <td>276</td>\n",
       "      <td>Germany</td>\n",
       "      <td>156</td>\n",
       "      <td>China</td>\n",
       "      <td>Export</td>\n",
       "      <td>7449316</td>\n",
       "    </tr>\n",
       "    <tr>\n",
       "      <th>416</th>\n",
       "      <td>344</td>\n",
       "      <td>China, Hong Kong SAR</td>\n",
       "      <td>156</td>\n",
       "      <td>China</td>\n",
       "      <td>Export</td>\n",
       "      <td>152061</td>\n",
       "    </tr>\n",
       "    <tr>\n",
       "      <th>427</th>\n",
       "      <td>360</td>\n",
       "      <td>Indonesia</td>\n",
       "      <td>156</td>\n",
       "      <td>China</td>\n",
       "      <td>Export</td>\n",
       "      <td>599729496</td>\n",
       "    </tr>\n",
       "    <tr>\n",
       "      <th>465</th>\n",
       "      <td>381</td>\n",
       "      <td>Italy</td>\n",
       "      <td>156</td>\n",
       "      <td>China</td>\n",
       "      <td>Export</td>\n",
       "      <td>35819</td>\n",
       "    </tr>\n",
       "    <tr>\n",
       "      <th>507</th>\n",
       "      <td>398</td>\n",
       "      <td>Kazakhstan</td>\n",
       "      <td>156</td>\n",
       "      <td>China</td>\n",
       "      <td>Export</td>\n",
       "      <td>738608504</td>\n",
       "    </tr>\n",
       "    <tr>\n",
       "      <th>515</th>\n",
       "      <td>404</td>\n",
       "      <td>Kenya</td>\n",
       "      <td>156</td>\n",
       "      <td>China</td>\n",
       "      <td>Export</td>\n",
       "      <td>15282</td>\n",
       "    </tr>\n",
       "    <tr>\n",
       "      <th>526</th>\n",
       "      <td>410</td>\n",
       "      <td>Rep. of Korea</td>\n",
       "      <td>156</td>\n",
       "      <td>China</td>\n",
       "      <td>Export</td>\n",
       "      <td>260380148</td>\n",
       "    </tr>\n",
       "    <tr>\n",
       "      <th>550</th>\n",
       "      <td>418</td>\n",
       "      <td>Lao People's Dem. Rep.</td>\n",
       "      <td>156</td>\n",
       "      <td>China</td>\n",
       "      <td>Export</td>\n",
       "      <td>589052464</td>\n",
       "    </tr>\n",
       "    <tr>\n",
       "      <th>562</th>\n",
       "      <td>450</td>\n",
       "      <td>Madagascar</td>\n",
       "      <td>156</td>\n",
       "      <td>China</td>\n",
       "      <td>Export</td>\n",
       "      <td>511442</td>\n",
       "    </tr>\n",
       "    <tr>\n",
       "      <th>571</th>\n",
       "      <td>458</td>\n",
       "      <td>Malaysia</td>\n",
       "      <td>156</td>\n",
       "      <td>China</td>\n",
       "      <td>Export</td>\n",
       "      <td>182078771</td>\n",
       "    </tr>\n",
       "    <tr>\n",
       "      <th>600</th>\n",
       "      <td>490</td>\n",
       "      <td>Other Asia, nes</td>\n",
       "      <td>156</td>\n",
       "      <td>China</td>\n",
       "      <td>Export</td>\n",
       "      <td>772507869</td>\n",
       "    </tr>\n",
       "    <tr>\n",
       "      <th>616</th>\n",
       "      <td>496</td>\n",
       "      <td>Mongolia</td>\n",
       "      <td>156</td>\n",
       "      <td>China</td>\n",
       "      <td>Export</td>\n",
       "      <td>1795868367</td>\n",
       "    </tr>\n",
       "    <tr>\n",
       "      <th>621</th>\n",
       "      <td>504</td>\n",
       "      <td>Morocco</td>\n",
       "      <td>156</td>\n",
       "      <td>China</td>\n",
       "      <td>Export</td>\n",
       "      <td>21256334</td>\n",
       "    </tr>\n",
       "    <tr>\n",
       "      <th>635</th>\n",
       "      <td>516</td>\n",
       "      <td>Namibia</td>\n",
       "      <td>156</td>\n",
       "      <td>China</td>\n",
       "      <td>Export</td>\n",
       "      <td>2991391</td>\n",
       "    </tr>\n",
       "    <tr>\n",
       "      <th>685</th>\n",
       "      <td>586</td>\n",
       "      <td>Pakistan</td>\n",
       "      <td>156</td>\n",
       "      <td>China</td>\n",
       "      <td>Export</td>\n",
       "      <td>314633</td>\n",
       "    </tr>\n",
       "    <tr>\n",
       "      <th>700</th>\n",
       "      <td>604</td>\n",
       "      <td>Peru</td>\n",
       "      <td>156</td>\n",
       "      <td>China</td>\n",
       "      <td>Export</td>\n",
       "      <td>8318062306</td>\n",
       "    </tr>\n",
       "    <tr>\n",
       "      <th>731</th>\n",
       "      <td>608</td>\n",
       "      <td>Philippines</td>\n",
       "      <td>156</td>\n",
       "      <td>China</td>\n",
       "      <td>Export</td>\n",
       "      <td>242323556</td>\n",
       "    </tr>\n",
       "    <tr>\n",
       "      <th>780</th>\n",
       "      <td>643</td>\n",
       "      <td>Russian Federation</td>\n",
       "      <td>156</td>\n",
       "      <td>China</td>\n",
       "      <td>Export</td>\n",
       "      <td>224055289</td>\n",
       "    </tr>\n",
       "    <tr>\n",
       "      <th>793</th>\n",
       "      <td>688</td>\n",
       "      <td>Serbia</td>\n",
       "      <td>156</td>\n",
       "      <td>China</td>\n",
       "      <td>Export</td>\n",
       "      <td>41</td>\n",
       "    </tr>\n",
       "    <tr>\n",
       "      <th>805</th>\n",
       "      <td>699</td>\n",
       "      <td>India</td>\n",
       "      <td>156</td>\n",
       "      <td>China</td>\n",
       "      <td>Export</td>\n",
       "      <td>293533475</td>\n",
       "    </tr>\n",
       "    <tr>\n",
       "      <th>835</th>\n",
       "      <td>704</td>\n",
       "      <td>Viet Nam</td>\n",
       "      <td>156</td>\n",
       "      <td>China</td>\n",
       "      <td>Export</td>\n",
       "      <td>71467</td>\n",
       "    </tr>\n",
       "    <tr>\n",
       "      <th>854</th>\n",
       "      <td>710</td>\n",
       "      <td>South Africa</td>\n",
       "      <td>156</td>\n",
       "      <td>China</td>\n",
       "      <td>Export</td>\n",
       "      <td>31830175</td>\n",
       "    </tr>\n",
       "    <tr>\n",
       "      <th>896</th>\n",
       "      <td>724</td>\n",
       "      <td>Spain</td>\n",
       "      <td>156</td>\n",
       "      <td>China</td>\n",
       "      <td>Export</td>\n",
       "      <td>746141115</td>\n",
       "    </tr>\n",
       "    <tr>\n",
       "      <th>980</th>\n",
       "      <td>792</td>\n",
       "      <td>Turkey</td>\n",
       "      <td>156</td>\n",
       "      <td>China</td>\n",
       "      <td>Export</td>\n",
       "      <td>76043743</td>\n",
       "    </tr>\n",
       "    <tr>\n",
       "      <th>1028</th>\n",
       "      <td>842</td>\n",
       "      <td>USA</td>\n",
       "      <td>156</td>\n",
       "      <td>China</td>\n",
       "      <td>Export</td>\n",
       "      <td>4248920</td>\n",
       "    </tr>\n",
       "    <tr>\n",
       "      <th>1069</th>\n",
       "      <td>894</td>\n",
       "      <td>Zambia</td>\n",
       "      <td>156</td>\n",
       "      <td>China</td>\n",
       "      <td>Export</td>\n",
       "      <td>1657677</td>\n",
       "    </tr>\n",
       "    <tr>\n",
       "      <th>1086</th>\n",
       "      <td>180</td>\n",
       "      <td>Dem. Rep. of the Congo</td>\n",
       "      <td>156</td>\n",
       "      <td>China</td>\n",
       "      <td>Export</td>\n",
       "      <td>566480615</td>\n",
       "    </tr>\n",
       "    <tr>\n",
       "      <th>1106</th>\n",
       "      <td>268</td>\n",
       "      <td>Georgia</td>\n",
       "      <td>156</td>\n",
       "      <td>China</td>\n",
       "      <td>Export</td>\n",
       "      <td>171641028</td>\n",
       "    </tr>\n",
       "    <tr>\n",
       "      <th>1122</th>\n",
       "      <td>478</td>\n",
       "      <td>Mauritania</td>\n",
       "      <td>156</td>\n",
       "      <td>China</td>\n",
       "      <td>Export</td>\n",
       "      <td>195646154</td>\n",
       "    </tr>\n",
       "    <tr>\n",
       "      <th>1129</th>\n",
       "      <td>484</td>\n",
       "      <td>Mexico</td>\n",
       "      <td>156</td>\n",
       "      <td>China</td>\n",
       "      <td>Export</td>\n",
       "      <td>2067770798</td>\n",
       "    </tr>\n",
       "    <tr>\n",
       "      <th>1142</th>\n",
       "      <td>682</td>\n",
       "      <td>Saudi Arabia</td>\n",
       "      <td>156</td>\n",
       "      <td>China</td>\n",
       "      <td>Export</td>\n",
       "      <td>135065597</td>\n",
       "    </tr>\n",
       "    <tr>\n",
       "      <th>636</th>\n",
       "      <td>516</td>\n",
       "      <td>Namibia</td>\n",
       "      <td>156</td>\n",
       "      <td>China</td>\n",
       "      <td>Re-Export</td>\n",
       "      <td>2973160</td>\n",
       "    </tr>\n",
       "    <tr>\n",
       "      <th>1107</th>\n",
       "      <td>268</td>\n",
       "      <td>Georgia</td>\n",
       "      <td>156</td>\n",
       "      <td>China</td>\n",
       "      <td>Re-Export</td>\n",
       "      <td>65397569</td>\n",
       "    </tr>\n",
       "  </tbody>\n",
       "</table>\n",
       "</div>"
      ],
      "text/plain": [
       "      Reporter Code                          Reporter  Partner Code Partner Trade Flow  Trade Value (US$)\n",
       "13               36                         Australia           156   China     Export         1585564428\n",
       "36               51                           Armenia           156   China     Export          174415305\n",
       "68               68  Bolivia (Plurinational State of)           156   China     Export            3882938\n",
       "88               76                            Brazil           156   China     Export          442971407\n",
       "116             100                          Bulgaria           156   China     Export           71216190\n",
       "161             124                            Canada           156   China     Export          764979617\n",
       "208             152                             Chile           156   China     Export         9649325301\n",
       "316             170                          Colombia           156   China     Export           40352028\n",
       "328             204                             Benin           156   China     Export               1708\n",
       "334             218                           Ecuador           156   China     Export            3562481\n",
       "386             276                           Germany           156   China     Export            7449316\n",
       "416             344              China, Hong Kong SAR           156   China     Export             152061\n",
       "427             360                         Indonesia           156   China     Export          599729496\n",
       "465             381                             Italy           156   China     Export              35819\n",
       "507             398                        Kazakhstan           156   China     Export          738608504\n",
       "515             404                             Kenya           156   China     Export              15282\n",
       "526             410                     Rep. of Korea           156   China     Export          260380148\n",
       "550             418            Lao People's Dem. Rep.           156   China     Export          589052464\n",
       "562             450                        Madagascar           156   China     Export             511442\n",
       "571             458                          Malaysia           156   China     Export          182078771\n",
       "600             490                   Other Asia, nes           156   China     Export          772507869\n",
       "616             496                          Mongolia           156   China     Export         1795868367\n",
       "621             504                           Morocco           156   China     Export           21256334\n",
       "635             516                           Namibia           156   China     Export            2991391\n",
       "685             586                          Pakistan           156   China     Export             314633\n",
       "700             604                              Peru           156   China     Export         8318062306\n",
       "731             608                       Philippines           156   China     Export          242323556\n",
       "780             643                Russian Federation           156   China     Export          224055289\n",
       "793             688                            Serbia           156   China     Export                 41\n",
       "805             699                             India           156   China     Export          293533475\n",
       "835             704                          Viet Nam           156   China     Export              71467\n",
       "854             710                      South Africa           156   China     Export           31830175\n",
       "896             724                             Spain           156   China     Export          746141115\n",
       "980             792                            Turkey           156   China     Export           76043743\n",
       "1028            842                               USA           156   China     Export            4248920\n",
       "1069            894                            Zambia           156   China     Export            1657677\n",
       "1086            180            Dem. Rep. of the Congo           156   China     Export          566480615\n",
       "1106            268                           Georgia           156   China     Export          171641028\n",
       "1122            478                        Mauritania           156   China     Export          195646154\n",
       "1129            484                            Mexico           156   China     Export         2067770798\n",
       "1142            682                      Saudi Arabia           156   China     Export          135065597\n",
       "636             516                           Namibia           156   China  Re-Export            2973160\n",
       "1107            268                           Georgia           156   China  Re-Export           65397569"
      ]
     },
     "metadata": {},
     "execution_count": 6
    }
   ],
   "metadata": {}
  },
  {
   "cell_type": "markdown",
   "source": [
    "对比上面两个表格，显然各国出入口数据是**普遍**有出入的：\n",
    "\n",
    "首先，进出口对象数量上就不一致：中国上报记录中显示，中国 2019 年共从 56 个国家进口铜资源；而只有 43 个国家上报了对中国出口铜资源的记录\n",
    "\n",
    "其次，对于有些进出口双方都上报了记录的情况，双方上报的贸易金额不一致，有的甚至出入较大\n",
    "\n",
    "这可能是有以下的原因导致的：\n",
    "\n",
    "1. 由于政策和统计方法不同导致的上报数据的结果不同. \n",
    "2. 由于货物在进出口过程中经第三方国家中转，而进出口国家对于出入口的目标国家登记不一致导致.\n",
    "3. 其他可能原因."
   ],
   "metadata": {}
  },
  {
   "cell_type": "markdown",
   "source": [
    "## 2. 构建网络\n",
    "\n",
    "根据以上数据和分析，构建有向加权网络是合适的，具体如下：\n",
    "\n",
    "1. 以国家为节点，进出口关系为指向（出口国 -> 进口国），贸易金额为权重，构建有向加权图\n",
    "\n",
    "2. 对于进出口关系，忽略各个国家之间上报数据的差异，即只要在任何一条记录中出现进出口关系即双方存在贸易关系，则为对应节点添加连边\n",
    "\n",
    "3. 对于贸易金额，若两方上报金额不一致则取两者均值\n",
    "  "
   ],
   "metadata": {}
  },
  {
   "cell_type": "markdown",
   "source": [
    "绘制网络（以 2020 年为例）："
   ],
   "metadata": {}
  },
  {
   "cell_type": "code",
   "execution_count": 7,
   "source": [
    "#report_20.net.draw()"
   ],
   "outputs": [],
   "metadata": {}
  },
  {
   "cell_type": "markdown",
   "source": [
    "## 3. 基于连接信息熵的节点重要性"
   ],
   "metadata": {}
  },
  {
   "cell_type": "markdown",
   "source": [
    "### 3.1 定义\n",
    "\n",
    "#### 3.1.1 连接度 $A_i$\n",
    "定义有向加权网络中节点的连接度为\n",
    "$$\n",
    "A_i = \\theta\\sum_{j\\in \\Gamma_{i\\_in}}k_j + (1-\\theta)\\sum_{j\\in \\Gamma_{i\\_out}}k_j\n",
    "$$"
   ],
   "metadata": {}
  },
  {
   "cell_type": "markdown",
   "source": [
    "其中 $\\Gamma_{i\\_in}$ 是指向节点 $i$ 的邻居节点集，$\\Gamma_{i\\_out}$ 是由节点 $i$ 指向的邻居节点集；$k_j$ 是对应节点的度；$\\theta \\in [0,1]$ 是参数.\n",
    "\n",
    "具体地，有向加权网络中，定义节点 $k_j$ 的度为："
   ],
   "metadata": {}
  },
  {
   "cell_type": "markdown",
   "source": [
    "$$\n",
    "\\begin{aligned}\n",
    "k_j &= \\lambda k_i^{in} + (1-\\lambda)k_i^{out} \\\\\n",
    "    &= \\lambda \\sum_{i=1}^m w_{ij} + (1 - \\lambda)\\sum_{i=1}^m w_{ji}\n",
    "\\end{aligned}\n",
    "$$"
   ],
   "metadata": {}
  },
  {
   "cell_type": "markdown",
   "source": [
    "其中 $w_{uv}$ 表示由节点 $u$ 指向节点 $v$ 的边的权重，若该边不存在则记为 $0$；$\\lambda$ 为出入边的权重参数.\n",
    "\n",
    "具体地上式表示，在节点 $j$ 与其邻居节点的连边中，按权重求出入连边的加重和."
   ],
   "metadata": {}
  },
  {
   "cell_type": "markdown",
   "source": [
    "#### 3.1.2 连边概率 $P_{i_j}$\n",
    "\n",
    "定义连边概率 $P_{i_j}$ 为节点 $i$ 被其邻居节点 $j$ 选择进行连边的概率：\n",
    "$$\n",
    "P_{i_j} = \\frac{k_i}{A_j}, \\ \\ \\ \\ (j\\in\\Gamma_i)\n",
    "$$"
   ],
   "metadata": {}
  },
  {
   "cell_type": "markdown",
   "source": [
    "#### 3.1.3 连接信息熵 $E_i$\n",
    "\n",
    "定义有向网络中连接信息熵如下："
   ],
   "metadata": {}
  },
  {
   "cell_type": "markdown",
   "source": [
    "$$\n",
    "E_i = \\sum\\limits_{j\\in\\Gamma_j}\\left| P_{i_j}\\log_2 P_{i_j} \\right|\n",
    "$$"
   ],
   "metadata": {}
  },
  {
   "cell_type": "markdown",
   "source": [
    "*这里取绝对值是因为 $\\theta$ 加权的原因，$P_{i_j}$ 可能大于 $1$*"
   ],
   "metadata": {}
  },
  {
   "cell_type": "markdown",
   "source": [
    "## 4. 实验和结果\n",
    "\n",
    "### 4.1 求各节点的连接信息熵\n",
    "根据第 3 节给出的定义，求各节点的连接信息熵，并将前 20 的连接信息熵绘图如下：\n",
    "\n",
    "*实验中取 $\\theta, \\lambda = 0.7$.*"
   ],
   "metadata": {}
  },
  {
   "cell_type": "code",
   "execution_count": 8,
   "source": [
    "'''\r\n",
    "for report in reports:\r\n",
    "    print(report.name + '年连接信息熵分布')\r\n",
    "    report.net.drawEntropiesBar()\r\n",
    "'''"
   ],
   "outputs": [
    {
     "output_type": "execute_result",
     "data": {
      "text/plain": [
       "\"\\nfor report in reports:\\n    print(report.name + '年连接信息熵分布')\\n    report.net.drawEntropiesBar()\\n\""
      ]
     },
     "metadata": {},
     "execution_count": 8
    }
   ],
   "metadata": {}
  },
  {
   "cell_type": "code",
   "execution_count": 9,
   "source": [
    "plt.figure(figsize=(10, 4))\r\n",
    "report_16.draw_entropy_plot(120)\r\n",
    "report_17.draw_entropy_plot()\r\n",
    "report_18.draw_entropy_plot()\r\n",
    "report_19.draw_entropy_plot()\r\n",
    "report_20.draw_entropy_plot()\r\n",
    "plt.show()"
   ],
   "outputs": [
    {
     "output_type": "display_data",
     "data": {
      "image/png": "[encoded data removed]",
      "text/plain": [
       "<Figure size 720x288 with 1 Axes>"
      ]
     },
     "metadata": {
      "needs_background": "light"
     }
    }
   ],
   "metadata": {}
  },
  {
   "cell_type": "markdown",
   "source": [
    "从上表可以看出，中国、欧盟等铜贸易大国位列前茅，且前二十名均为贸易和工业水平发达的国家，说明使用“连接信息熵”来衡量铜贸易网络节点的重要性具备一定的合理性."
   ],
   "metadata": {}
  },
  {
   "cell_type": "markdown",
   "source": [
    "### 4.2 层次聚类\n",
    "对个节点的信息熵进行层次聚类，选择聚类数为 6；并为每个节点设置聚类标签，按熵值从大到小标记为 1 - 6"
   ],
   "metadata": {}
  },
  {
   "cell_type": "markdown",
   "source": [
    "### 4.3 选取属性并进行离散化划分\n",
    "\n",
    "选取以下属性，并选择聚类层数：\n",
    "\n",
    "* IS：入强度, 6 层，反应进口贸易总额\n",
    "* OS: 出强度，6 层，反应出口贸易总额\n",
    "* DC: 度中心性，6 层，反应贸易伙伴的数量\n",
    "* BC: 中介中心性，6 层，反应在贸易网络中的枢纽性质（不考虑权重）\n",
    "* CC: 接近中心性，6 层，反应与其他贸易者之间的平均距离（不考虑权重）\n",
    "\n",
    "属性值由大到小标记为 1-6"
   ],
   "metadata": {}
  },
  {
   "cell_type": "code",
   "execution_count": 10,
   "source": [
    "for report in reports:\r\n",
    "    report.cluster_nodes()"
   ],
   "outputs": [],
   "metadata": {}
  },
  {
   "cell_type": "code",
   "execution_count": 11,
   "source": [
    "cluster_list = show_cluster_list(reports)"
   ],
   "outputs": [],
   "metadata": {}
  },
  {
   "cell_type": "code",
   "execution_count": 12,
   "source": [
    "cluster_list.head()"
   ],
   "outputs": [
    {
     "output_type": "execute_result",
     "data": {
      "text/html": [
       "<div>\n",
       "<style scoped>\n",
       "    .dataframe tbody tr th:only-of-type {\n",
       "        vertical-align: middle;\n",
       "    }\n",
       "\n",
       "    .dataframe tbody tr th {\n",
       "        vertical-align: top;\n",
       "    }\n",
       "\n",
       "    .dataframe thead th {\n",
       "        text-align: right;\n",
       "    }\n",
       "</style>\n",
       "<table border=\"1\" class=\"dataframe\">\n",
       "  <thead>\n",
       "    <tr style=\"text-align: right;\">\n",
       "      <th></th>\n",
       "      <th>code</th>\n",
       "      <th>code</th>\n",
       "      <th>code</th>\n",
       "      <th>code</th>\n",
       "      <th>code</th>\n",
       "    </tr>\n",
       "    <tr>\n",
       "      <th>label</th>\n",
       "      <th></th>\n",
       "      <th></th>\n",
       "      <th></th>\n",
       "      <th></th>\n",
       "      <th></th>\n",
       "    </tr>\n",
       "  </thead>\n",
       "  <tbody>\n",
       "    <tr>\n",
       "      <th>1</th>\n",
       "      <td>156</td>\n",
       "      <td>156</td>\n",
       "      <td>156</td>\n",
       "      <td>156</td>\n",
       "      <td>156</td>\n",
       "    </tr>\n",
       "    <tr>\n",
       "      <th>2</th>\n",
       "      <td>97</td>\n",
       "      <td>97</td>\n",
       "      <td>97</td>\n",
       "      <td>152</td>\n",
       "      <td>97,124,975,724</td>\n",
       "    </tr>\n",
       "    <tr>\n",
       "      <th>3</th>\n",
       "      <td>528</td>\n",
       "      <td>410,724,100,152,784</td>\n",
       "      <td>410,975,152</td>\n",
       "      <td>724</td>\n",
       "      <td>276</td>\n",
       "    </tr>\n",
       "    <tr>\n",
       "      <th>4</th>\n",
       "      <td>124,410</td>\n",
       "      <td>276,699,975,604,36</td>\n",
       "      <td>276,724,100,710,392,757,604</td>\n",
       "      <td>410,276,116,100,等12项</td>\n",
       "      <td>410,842,392,76,152,860</td>\n",
       "    </tr>\n",
       "    <tr>\n",
       "      <th>5</th>\n",
       "      <td>100,276,152,724,等13项</td>\n",
       "      <td>124,826,842,392,等10项</td>\n",
       "      <td>124,36,842,699,826,76,268,376,48</td>\n",
       "      <td>124,528,710,458,等13项</td>\n",
       "      <td>268,36,604</td>\n",
       "    </tr>\n",
       "  </tbody>\n",
       "</table>\n",
       "</div>"
      ],
      "text/plain": [
       "                       code                  code                              code                  code                    code\n",
       "label                                                                                                                            \n",
       "1                       156                   156                               156                   156                     156\n",
       "2                        97                    97                                97                   152          97,124,975,724\n",
       "3                       528   410,724,100,152,784                       410,975,152                   724                     276\n",
       "4                   124,410    276,699,975,604,36       276,724,100,710,392,757,604  410,276,116,100,等12项  410,842,392,76,152,860\n",
       "5      100,276,152,724,等13项  124,826,842,392,等10项  124,36,842,699,826,76,268,376,48  124,528,710,458,等13项              268,36,604"
      ]
     },
     "metadata": {},
     "execution_count": 12
    }
   ],
   "metadata": {}
  },
  {
   "cell_type": "code",
   "execution_count": 13,
   "source": [
    "writer = pd.ExcelWriter('cluster_list.xlsx')\r\n",
    "cluster_list.to_excel(writer, float_format='%.5f')\r\n",
    "writer.save()"
   ],
   "outputs": [],
   "metadata": {}
  },
  {
   "cell_type": "markdown",
   "source": [],
   "metadata": {}
  },
  {
   "cell_type": "code",
   "execution_count": 14,
   "source": [
    "report_19.show_nodes_attribute()"
   ],
   "outputs": [
    {
     "output_type": "stream",
     "name": "stdout",
     "text": [
      "     code                name  IS  OS  DC  BC  CC  label\n",
      "0     156               China   1   6   1   1   1      1\n",
      "1     152               Chile   6   1   2   2   2      2\n",
      "2     724               Spain   4   5   3   4   2      3\n",
      "3     757         Switzerland   6   6   5   5   3      4\n",
      "4     392               Japan   2   6   5   6   3      4\n",
      "..    ...                 ...  ..  ..  ..  ..  ..    ...\n",
      "114    40             Austria   6   6   6   6   4      6\n",
      "115   642             Romania   6   6   5   5   4      6\n",
      "116   643  Russian Federation   5   6   5   6   3      6\n",
      "117   212            Dominica   6   6   6   6   6      6\n",
      "118    50          Bangladesh   6   6   6   6   6      6\n",
      "\n",
      "[119 rows x 8 columns]\n"
     ]
    }
   ],
   "metadata": {}
  },
  {
   "cell_type": "markdown",
   "source": [
    "上表以 2019 年数据，展示了各个节点的 5 个条件属性及 1 个决策属性所在的层次序号（1-6）"
   ],
   "metadata": {}
  },
  {
   "cell_type": "markdown",
   "source": [
    "### 4.5 生成决策树\n",
    "\n",
    "使用 ID3 算法生成决策树"
   ],
   "metadata": {}
  },
  {
   "cell_type": "code",
   "execution_count": 15,
   "source": [
    "for report in reports:\r\n",
    "    report.decision_tree\r\n",
    "    report.show_dt_accuracy()\r\n",
    "    report.save_decision_tree('outputs/decision_tree_' + report.name + '.json')\r\n"
   ],
   "outputs": [
    {
     "output_type": "stream",
     "name": "stdout",
     "text": [
      "决策树的正确率： 99.17355371900827 %\n",
      "决策树的正确率： 94.73684210526315 %\n",
      "决策树的正确率： 96.09375 %\n",
      "决策树的正确率： 94.9579831932773 %\n",
      "决策树的正确率： 98.30508474576271 %\n"
     ]
    }
   ],
   "metadata": {}
  },
  {
   "cell_type": "markdown",
   "source": [
    "决策树（2019）：\n",
    "\n",
    "![decistion_tree](outputs/decision_tree.png)"
   ],
   "metadata": {}
  },
  {
   "cell_type": "markdown",
   "source": [
    "根据决策树生成决策表："
   ],
   "metadata": {}
  },
  {
   "cell_type": "code",
   "execution_count": 16,
   "source": [
    "for report in reports:\r\n",
    "    report.decision_list"
   ],
   "outputs": [],
   "metadata": {}
  },
  {
   "cell_type": "code",
   "execution_count": 17,
   "source": [
    "pd.DataFrame(report_19.decision_list)[report_19.attribute_names + ['label']].sort_values('label')"
   ],
   "outputs": [
    {
     "output_type": "execute_result",
     "data": {
      "text/html": [
       "<div>\n",
       "<style scoped>\n",
       "    .dataframe tbody tr th:only-of-type {\n",
       "        vertical-align: middle;\n",
       "    }\n",
       "\n",
       "    .dataframe tbody tr th {\n",
       "        vertical-align: top;\n",
       "    }\n",
       "\n",
       "    .dataframe thead th {\n",
       "        text-align: right;\n",
       "    }\n",
       "</style>\n",
       "<table border=\"1\" class=\"dataframe\">\n",
       "  <thead>\n",
       "    <tr style=\"text-align: right;\">\n",
       "      <th></th>\n",
       "      <th>IS</th>\n",
       "      <th>OS</th>\n",
       "      <th>DC</th>\n",
       "      <th>BC</th>\n",
       "      <th>CC</th>\n",
       "      <th>label</th>\n",
       "    </tr>\n",
       "  </thead>\n",
       "  <tbody>\n",
       "    <tr>\n",
       "      <th>0</th>\n",
       "      <td>NaN</td>\n",
       "      <td>NaN</td>\n",
       "      <td>1</td>\n",
       "      <td>NaN</td>\n",
       "      <td>NaN</td>\n",
       "      <td>1</td>\n",
       "    </tr>\n",
       "    <tr>\n",
       "      <th>1</th>\n",
       "      <td>NaN</td>\n",
       "      <td>1.0</td>\n",
       "      <td>2</td>\n",
       "      <td>NaN</td>\n",
       "      <td>NaN</td>\n",
       "      <td>2</td>\n",
       "    </tr>\n",
       "    <tr>\n",
       "      <th>2</th>\n",
       "      <td>NaN</td>\n",
       "      <td>2.0</td>\n",
       "      <td>2</td>\n",
       "      <td>NaN</td>\n",
       "      <td>NaN</td>\n",
       "      <td>2</td>\n",
       "    </tr>\n",
       "    <tr>\n",
       "      <th>3</th>\n",
       "      <td>NaN</td>\n",
       "      <td>3.0</td>\n",
       "      <td>2</td>\n",
       "      <td>NaN</td>\n",
       "      <td>NaN</td>\n",
       "      <td>2</td>\n",
       "    </tr>\n",
       "    <tr>\n",
       "      <th>5</th>\n",
       "      <td>NaN</td>\n",
       "      <td>5.0</td>\n",
       "      <td>2</td>\n",
       "      <td>NaN</td>\n",
       "      <td>NaN</td>\n",
       "      <td>2</td>\n",
       "    </tr>\n",
       "    <tr>\n",
       "      <th>...</th>\n",
       "      <td>...</td>\n",
       "      <td>...</td>\n",
       "      <td>...</td>\n",
       "      <td>...</td>\n",
       "      <td>...</td>\n",
       "      <td>...</td>\n",
       "    </tr>\n",
       "    <tr>\n",
       "      <th>39</th>\n",
       "      <td>1.0</td>\n",
       "      <td>NaN</td>\n",
       "      <td>5</td>\n",
       "      <td>NaN</td>\n",
       "      <td>NaN</td>\n",
       "      <td>6</td>\n",
       "    </tr>\n",
       "    <tr>\n",
       "      <th>64</th>\n",
       "      <td>6.0</td>\n",
       "      <td>NaN</td>\n",
       "      <td>5</td>\n",
       "      <td>6.0</td>\n",
       "      <td>1.0</td>\n",
       "      <td>6</td>\n",
       "    </tr>\n",
       "    <tr>\n",
       "      <th>65</th>\n",
       "      <td>6.0</td>\n",
       "      <td>1.0</td>\n",
       "      <td>5</td>\n",
       "      <td>6.0</td>\n",
       "      <td>2.0</td>\n",
       "      <td>6</td>\n",
       "    </tr>\n",
       "    <tr>\n",
       "      <th>67</th>\n",
       "      <td>6.0</td>\n",
       "      <td>3.0</td>\n",
       "      <td>5</td>\n",
       "      <td>6.0</td>\n",
       "      <td>2.0</td>\n",
       "      <td>6</td>\n",
       "    </tr>\n",
       "    <tr>\n",
       "      <th>85</th>\n",
       "      <td>NaN</td>\n",
       "      <td>NaN</td>\n",
       "      <td>6</td>\n",
       "      <td>6.0</td>\n",
       "      <td>6.0</td>\n",
       "      <td>6</td>\n",
       "    </tr>\n",
       "  </tbody>\n",
       "</table>\n",
       "<p>86 rows × 6 columns</p>\n",
       "</div>"
      ],
      "text/plain": [
       "     IS   OS  DC   BC   CC  label\n",
       "0   NaN  NaN   1  NaN  NaN      1\n",
       "1   NaN  1.0   2  NaN  NaN      2\n",
       "2   NaN  2.0   2  NaN  NaN      2\n",
       "3   NaN  3.0   2  NaN  NaN      2\n",
       "5   NaN  5.0   2  NaN  NaN      2\n",
       "..  ...  ...  ..  ...  ...    ...\n",
       "39  1.0  NaN   5  NaN  NaN      6\n",
       "64  6.0  NaN   5  6.0  1.0      6\n",
       "65  6.0  1.0   5  6.0  2.0      6\n",
       "67  6.0  3.0   5  6.0  2.0      6\n",
       "85  NaN  NaN   6  6.0  6.0      6\n",
       "\n",
       "[86 rows x 6 columns]"
      ]
     },
     "metadata": {},
     "execution_count": 17
    }
   ],
   "metadata": {}
  },
  {
   "cell_type": "markdown",
   "source": [
    "上表展示了决策树中的 86 条决策规则中各条件属性和决策属性的取值，NaN 表示该条件属性无需判断.\r\n",
    "\r\n",
    "例如若某一结点 DC 属性值为 1，则无需判断其余属性即可得到该节点的决策属分区为 1 的决策结论. 事实上，仅有中国的 DC 为 1，且仅有中国决策属性为 1，所以继续判断其余属性时多余的."
   ],
   "metadata": {}
  },
  {
   "cell_type": "markdown",
   "source": [
    "### 4.6 层次风险模型"
   ],
   "metadata": {}
  },
  {
   "cell_type": "markdown",
   "source": [
    "1. 条件属性的概率分布\n",
    "\n",
    "$$\n",
    "p_{jA_i} = \\frac{\\#jA_i}{N}\n",
    "$$\n",
    "\n",
    "其中 $A_i$ 表示条件属性，$jA_i$ 表示条件属性 $A_i$ 的属性取值. $\\#jA_i$ 表示属性 $A_i$ 取 $j$ 时的样本数，$N$ 表示总样本数。\n"
   ],
   "metadata": {}
  },
  {
   "cell_type": "markdown",
   "source": [
    "下面计算各个条件属性的概率分布："
   ],
   "metadata": {}
  },
  {
   "cell_type": "code",
   "execution_count": 18,
   "source": [
    "for report in reports:\r\n",
    "    report.set_attribute_probability()"
   ],
   "outputs": [],
   "metadata": {}
  },
  {
   "cell_type": "markdown",
   "source": [
    "2. 决策规则的概率分布\r\n",
    "\r\n",
    "$$\r\n",
    "    P_{\\text{Rule}l} = p_{jA_i}\\cdots p_{jA_p}\r\n",
    "$$\r\n",
    "\r\n",
    "其中，$p_{jA_k}$ 表示在决策规则 $l$ 中对应的各条件属性 $A_k$ 的取值为 $j$ 的概率.\r\n",
    "\r\n",
    "*这里将各条件属性的分布近似看做为相互独立，即某条件属性的取值不受其他条件属性取值的影响*"
   ],
   "metadata": {}
  },
  {
   "cell_type": "markdown",
   "source": [
    "下面计算各个决策规则的概率分布："
   ],
   "metadata": {}
  },
  {
   "cell_type": "markdown",
   "source": [
    "下面绘制决策规则的概率分布柱状图："
   ],
   "metadata": {}
  },
  {
   "cell_type": "code",
   "execution_count": 20,
   "source": [
    "for report in reports:\r\n",
    "    report.decision_probability_bar()"
   ],
   "outputs": [
    {
     "output_type": "stream",
     "name": "stdout",
     "text": [
      "2016年决策路径概率分布\n",
      "[[0.008264462809917356], [0.008264462809917356], [2.4986135284033322e-05, 0.0001249306764201666, 0.0007745701938050329, 7.495840585209997e-05, 0.0006496395173848664], [0.0024588484393142547, 2.201448327209732e-05, 0.0001100724163604866, 0.0006824489814350169, 6.604344981629197e-05, 0.0005723765650745303], [0.00020490403660952122, 0.00020490403660952122, 0.0006147121098285637, 0.00020490403660952122, 0.021105115770780686, 0.0008879174919745919, 0.0008879174919745919, 0.0012107965799653525, 0.0008879174919745919, 0.010655009903695103, 0.000755830592342008, 0.001511661184684016, 0.000755830592342008, 0.0001561633455252083, 0.0001561633455252083, 0.0003123266910504166, 0.0001561633455252083, 0.0007808167276260414, 0.06651309212609671, 0.020490403660952124], [0.0013742374406218326, 0.01733413135329812, 0.23140495867768596, 0.005122600915238031, 0.010245201830476062, 0.005122600915238031, 0.12806502288095076, 0.0037255279383549313, 0.018627639691774656, 0.20490403660952122, 0.11549136608900286, 0.011176583815064794, 0.09686372639722822]]\n"
     ]
    },
    {
     "output_type": "display_data",
     "data": {
      "image/png": "[encoded data removed]",
      "text/plain": [
       "<Figure size 1440x1440 with 1 Axes>"
      ]
     },
     "metadata": {
      "needs_background": "light"
     }
    },
    {
     "output_type": "stream",
     "name": "stdout",
     "text": [
      "2017年决策路径概率分布\n",
      "[[0.007518796992481203], [0.00011306461642828876, 0.00011306461642828876, 0.00011306461642828876, 0.00022612923285657752, 0.00045225846571315503], [0.00022612923285657752, 0.00022612923285657752, 0.00022612923285657752, 0.00045225846571315503, 0.00021082725469335044, 0.00021082725469335044, 0.00021082725469335044, 0.0014757907828534531, 0.025299270563202053, 0.0024874215614223527], [0.0009045169314263101, 0.0006218553903555882, 0.0006218553903555882, 0.0012437107807111763, 0.0005797749504067137, 0.0005797749504067137, 0.0005797749504067137, 0.004058424652846996], [0.014020012437107805, 0.0006324817640800514, 0.0006218553903555882, 0.006800367839356943], [0.0017393248512201412, 0.0005231052184120726, 0.019877998299658757, 0.02249352439171912, 0.003661736528884508, 0.01621626177077425, 0.0020351630957091975, 0.0020351630957091975, 0.004070326191418395, 0.010175815478545987, 0.0001836237379587246, 0.0023871085934634197, 0.0069777020424315345, 0.007895820732225157, 0.001285366165711072, 0.0056923358767204625, 0.0017138215542814295, 0.022279680205658584, 0.0004896633012232655, 0.0004896633012232655, 0.0004896633012232655, 0.000979326602446531, 0.001958653204893062, 0.00045652819061417233, 0.00045652819061417233, 0.00045652819061417233, 0.001369584571842517, 0.0031956973342992063, 0.05478338287370068, 0.07369432683410146, 0.011996750879970005, 0.05312846818272431, 0.004466052348917406, 0.058058680535926284, 0.16970998925886144, 0.19204025100344846, 0.03126236644242184, 0.1384476228164396]]\n"
     ]
    },
    {
     "output_type": "display_data",
     "data": {
      "image/png": "[encoded data removed]",
      "text/plain": [
       "<Figure size 1440x1440 with 1 Axes>"
      ]
     },
     "metadata": {
      "needs_background": "light"
     }
    },
    {
     "output_type": "stream",
     "name": "stdout",
     "text": [
      "2018年决策路径概率分布\n",
      "[[0.0078125], [0.00018310546875, 0.0003662109375, 0.000732421875, 0.02105712890625], [0.00018310546875, 0.001220703125, 0.0001430511474609375], [0.0006103515625, 0.0006103515625, 0.0018310546875, 0.0006103515625, 0.00057220458984375, 0.06580352783203125, 0.00743865966796875, 0.0005102157592773438], [0.00091552734375, 0.00057220458984375, 0.0011444091796875, 1.7881393432617188e-05, 0.0007510185241699219, 0.0009477138519287109, 5.364418029785156e-05, 0.00037550926208496094, 0.00286102294921875, 6.198883056640625e-05, 6.198883056640625e-05, 0.0001239776611328125, 0.00018596649169921875, 6.198883056640625e-05], [0.0006103515625, 0.0006103515625, 0.001220703125, 0.00244140625, 0.0005102157592773438, 0.0010204315185546875, 0.0015306472778320312, 0.0005102157592773438, 0.06122589111328125, 0.0009765625, 0.0078125, 0.0003204345703125, 0.0003204345703125, 0.000640869140625, 0.00128173828125, 0.0016021728515625, 0.0002878904342651367, 0.0002878904342651367, 0.0005757808685302734, 0.0011515617370605469, 0.0037425756454467773, 0.03080427646636963, 0.0517578125, 0.0029296875, 0.0205078125, 0.00537109375, 0.04296875, 0.2255859375, 0.002223968505859375, 0.002223968505859375, 0.00444793701171875, 0.0088958740234375, 0.028911590576171875, 0.23796463012695312, 0.01611328125, 0.11279296875]]\n"
     ]
    },
    {
     "output_type": "display_data",
     "data": {
      "image/png": "[encoded data removed]",
      "text/plain": [
       "<Figure size 1440x1440 with 1 Axes>"
      ]
     },
     "metadata": {
      "needs_background": "light"
     }
    },
    {
     "output_type": "stream",
     "name": "stdout",
     "text": [
      "2019年决策路径概率分布\n",
      "[[0.008403361344537815], [0.0001412329637737448, 0.0001412329637737448, 0.0001412329637737448, 0.0005649318550949792, 0.015253160087564437], [9.494653026806373e-05], [0.0005649318550949792, 0.0005649318550949792, 0.0011298637101899583, 1.4241979540209558e-05, 1.4241979540209558e-05, 1.4241979540209558e-05, 7.120989770104779e-05, 0.00017090375448251469, 0.007909045971329708, 0.053668526234023024, 2.3736632567015933e-05, 0.000356049488505239, 0.0007833088747115259, 0.0002848395908041912, 0.0005934158141753983, 0.00176541204717181, 2.0944087559131703e-05, 0.0003141613133869755, 0.0006911548894513463, 0.0006911548894513463, 0.0002513290507095804, 0.0005236021889782926, 0.00017278872236283657, 0.0025918308354425487, 0.005702027837973607, 0.002073464668354039, 0.004319718059070915, 0.01596169530110477], [0.0014099559744807464, 1.8989306053612745e-05, 1.8989306053612745e-05, 1.8989306053612745e-05, 0.00022787167264335295, 0.0018799412993076618, 0.0005649318550949792, 0.0005649318550949792, 0.0005649318550949792, 0.0007833088747115259, 0.0067791822611397495, 0.00046998532482691544, 0.00882706023585905, 0.00017802474425261948, 0.00035604948850523897, 0.0005340742327578585, 0.0007120989770104779, 0.07414730598121601], [0.00046998532482691544, 0.00046998532482691544, 0.0018799412993076618, 0.0018799412993076618, 0.050758415081306865, 0.00176541204717181, 0.00176541204717181, 0.016912350703998852, 0.001468704140084111, 0.002937408280168222, 0.004406112420252333, 0.005874816560336444, 0.005702027837973607, 0.0011724949017478195, 0.00014779347501022935, 0.00014779347501022935, 0.00014779347501022935, 0.0005911739000409174, 0.0005911739000409174, 0.03869233175767805, 0.03869233175767805, 0.014069938820973836, 0.02931237254369549, 0.005296236141515429, 0.010592472283030858, 0.01588870842454629, 0.021184944566061716, 0.004228087675999712, 0.06342131513999569, 0.13952689330799053, 0.13952689330799053, 0.050737052111996556, 0.10570219189999282]]\n"
     ]
    },
    {
     "output_type": "display_data",
     "data": {
      "image/png": "[encoded data removed]",
      "text/plain": [
       "<Figure size 1440x1440 with 1 Axes>"
      ]
     },
     "metadata": {
      "needs_background": "light"
     }
    },
    {
     "output_type": "stream",
     "name": "stdout",
     "text": [
      "2020年决策路径概率分布\n",
      "[[0.00847457627118644], [0.00847457627118644, 0.00014363688595231256, 0.00014363688595231256, 0.0002872737719046251, 0.00014363688595231256, 0.001005458201666188, 0.004524561907497846, 0.0023225354101441727], [0.0006463659867854065], [0.015225509910945132, 0.001292731973570813, 0.0011612677050720863, 0.0021545532892846882, 0.0019902229536612795], [0.0005806338525360432, 0.0021545532892846882], [0.0006463659867854065, 0.0006463659867854065, 0.0005806338525360432, 0.0005806338525360432, 0.0632890899264287, 0.0021545532892846882, 0.0043091065785693765, 0.008618213157138753, 0.0019902229536612795, 0.003980445907322559, 0.0019902229536612795, 0.013931560675628958, 0.0017878273990516581, 0.014302619192413265, 0.0006514964250781465, 0.0006514964250781465, 0.0019544892752344396, 0.001302992850156293, 0.002605985700312586, 0.06971011748336169, 0.05899830416870471, 0.0071513095962066325, 0.051846994572498084, 0.005386383223211721, 0.043091065785693765, 0.23161447859810397, 0.17775064636598675, 0.021545532892846882, 0.1562051134731399]]\n"
     ]
    },
    {
     "output_type": "display_data",
     "data": {
      "image/png": "[encoded data removed]",
      "text/plain": [
       "<Figure size 1440x1440 with 1 Axes>"
      ]
     },
     "metadata": {
      "needs_background": "light"
     }
    }
   ],
   "metadata": {}
  },
  {
   "cell_type": "markdown",
   "source": [
    "以第一个图为例，使用柱状图的形式展示了 86 条决策规则的概率值，并且按照决策规则的最终决策属性的取值进行了分区. 例如，决策结果为 1 的决策规则只有 1 条，其概率约为 $0.008403$，即图中从左数第一根柱形图."
   ],
   "metadata": {}
  },
  {
   "cell_type": "markdown",
   "source": [
    "3. 节点脆弱性风险\r\n",
    "\r\n",
    "节点脆弱性在对应离散分区下的层次风险：\r\n",
    "\r\n",
    "$$\r\n",
    "  P_j = \\sum_{l=1}^MP_{\\text{Rule}l}(j_{A_n})\r\n",
    "$$\r\n",
    "\r\n",
    "$P_j$ 表示了对于任意节点，通过决策树，做出决策属性为 $j$ 的概率，即各个决策属性为 $j$ 的决策规则的概率求和.\r\n",
    "  "
   ],
   "metadata": {}
  },
  {
   "cell_type": "code",
   "execution_count": 21,
   "source": [
    "for report in reports:\r\n",
    "    report.get_hierarchical_risk()\r\n",
    "    print(report.name + '年层次风险分布')\r\n",
    "    report.hierarchical_risk_bar()"
   ],
   "outputs": [
    {
     "output_type": "error",
     "ename": "KeyError",
     "evalue": "'p'",
     "traceback": [
      "\u001b[1;31m---------------------------------------------------------------------------\u001b[0m",
      "\u001b[1;31mKeyError\u001b[0m                                  Traceback (most recent call last)",
      "\u001b[1;32m~\\AppData\\Local\\Temp/ipykernel_8312/742135212.py\u001b[0m in \u001b[0;36m<module>\u001b[1;34m\u001b[0m\n\u001b[0;32m      1\u001b[0m \u001b[1;32mfor\u001b[0m \u001b[0mreport\u001b[0m \u001b[1;32min\u001b[0m \u001b[0mreports\u001b[0m\u001b[1;33m:\u001b[0m\u001b[1;33m\u001b[0m\u001b[1;33m\u001b[0m\u001b[0m\n\u001b[1;32m----> 2\u001b[1;33m     \u001b[0mreport\u001b[0m\u001b[1;33m.\u001b[0m\u001b[0mget_hierarchical_risk\u001b[0m\u001b[1;33m(\u001b[0m\u001b[1;33m)\u001b[0m\u001b[1;33m\u001b[0m\u001b[1;33m\u001b[0m\u001b[0m\n\u001b[0m\u001b[0;32m      3\u001b[0m     \u001b[0mprint\u001b[0m\u001b[1;33m(\u001b[0m\u001b[0mreport\u001b[0m\u001b[1;33m.\u001b[0m\u001b[0mname\u001b[0m \u001b[1;33m+\u001b[0m \u001b[1;34m'年层次风险分布'\u001b[0m\u001b[1;33m)\u001b[0m\u001b[1;33m\u001b[0m\u001b[1;33m\u001b[0m\u001b[0m\n\u001b[0;32m      4\u001b[0m     \u001b[0mreport\u001b[0m\u001b[1;33m.\u001b[0m\u001b[0mhierarchical_risk_bar\u001b[0m\u001b[1;33m(\u001b[0m\u001b[1;33m)\u001b[0m\u001b[1;33m\u001b[0m\u001b[1;33m\u001b[0m\u001b[0m\n",
      "\u001b[1;32mc:\\Hozen\\Workspace\\cooper-trade\\src\\main.py\u001b[0m in \u001b[0;36mget_hierarchical_risk\u001b[1;34m(self)\u001b[0m\n\u001b[0;32m    207\u001b[0m \u001b[1;33m\u001b[0m\u001b[0m\n\u001b[0;32m    208\u001b[0m         \u001b[1;32mfor\u001b[0m \u001b[0mitem\u001b[0m \u001b[1;32min\u001b[0m \u001b[0mself\u001b[0m\u001b[1;33m.\u001b[0m\u001b[0mdecision_list\u001b[0m\u001b[1;33m:\u001b[0m\u001b[1;33m\u001b[0m\u001b[1;33m\u001b[0m\u001b[0m\n\u001b[1;32m--> 209\u001b[1;33m             \u001b[0mrisk\u001b[0m\u001b[1;33m[\u001b[0m\u001b[0mint\u001b[0m\u001b[1;33m(\u001b[0m\u001b[0mitem\u001b[0m\u001b[1;33m[\u001b[0m\u001b[1;34m'label'\u001b[0m\u001b[1;33m]\u001b[0m\u001b[1;33m)\u001b[0m \u001b[1;33m-\u001b[0m \u001b[1;36m1\u001b[0m\u001b[1;33m]\u001b[0m \u001b[1;33m+=\u001b[0m \u001b[0mitem\u001b[0m\u001b[1;33m[\u001b[0m\u001b[1;34m'p'\u001b[0m\u001b[1;33m]\u001b[0m\u001b[1;33m\u001b[0m\u001b[1;33m\u001b[0m\u001b[0m\n\u001b[0m\u001b[0;32m    210\u001b[0m \u001b[1;33m\u001b[0m\u001b[0m\n\u001b[0;32m    211\u001b[0m         \u001b[0mself\u001b[0m\u001b[1;33m.\u001b[0m\u001b[0mhierarchical_risk\u001b[0m \u001b[1;33m=\u001b[0m \u001b[0mrisk\u001b[0m\u001b[1;33m\u001b[0m\u001b[1;33m\u001b[0m\u001b[0m\n",
      "\u001b[1;31mKeyError\u001b[0m: 'p'"
     ]
    }
   ],
   "metadata": {}
  },
  {
   "cell_type": "markdown",
   "source": [
    "上图展示了各个决策属性的概率分布，其中决策属性为 $1,2,3$ 的概率值较小，决策属性为 $4,5,6$ 的概率较大，决策属性为 $6$ 的概率尤其大."
   ],
   "metadata": {}
  },
  {
   "cell_type": "markdown",
   "source": [],
   "metadata": {}
  },
  {
   "cell_type": "code",
   "execution_count": null,
   "source": [
    "import numpy as np\r\n",
    "\r\n",
    "xs = np.arange(10) + 1 + 2\r\n",
    "xs = [[1,2],[2,3]]"
   ],
   "outputs": [],
   "metadata": {}
  },
  {
   "cell_type": "code",
   "execution_count": null,
   "source": [
    "[x for j in xs for x in j]"
   ],
   "outputs": [
    {
     "output_type": "execute_result",
     "data": {
      "text/plain": [
       "[1, 2, 2, 3]"
      ]
     },
     "metadata": {},
     "execution_count": 26
    }
   ],
   "metadata": {}
  },
  {
   "cell_type": "code",
   "execution_count": null,
   "source": [
    "[x for j in xs for x in j]"
   ],
   "outputs": [
    {
     "output_type": "execute_result",
     "data": {
      "text/plain": [
       "[1, 2, 2, 3]"
      ]
     },
     "metadata": {},
     "execution_count": 30
    }
   ],
   "metadata": {}
  },
  {
   "cell_type": "code",
   "execution_count": null,
   "source": [
    "res = []\r\n",
    "for j in xs:\r\n",
    "    for x in j:\r\n",
    "        res.append(x)\r\n",
    "\r\n",
    "res"
   ],
   "outputs": [
    {
     "output_type": "execute_result",
     "data": {
      "text/plain": [
       "[1, 2, 2, 3]"
      ]
     },
     "metadata": {},
     "execution_count": 31
    }
   ],
   "metadata": {}
  },
  {
   "cell_type": "code",
   "execution_count": null,
   "source": [
    "ps = [[0.008264462809917356], [0.008264462809917356], [2.4986135284033322e-05, 0.0001249306764201666, 0.0007745701938050329, 7.495840585209997e-05, 0.0006496395173848664], [0.0024588484393142547, 2.201448327209732e-05, 0.0001100724163604866, 0.0006824489814350169, 6.604344981629197e-05, 0.0005723765650745303], [0.00020490403660952122, 0.00020490403660952122, 0.0006147121098285637, 0.00020490403660952122, 0.021105115770780686, 0.0008879174919745919, 0.0008879174919745919, 0.0012107965799653525, 0.0008879174919745919, 0.010655009903695103, 0.000755830592342008, 0.001511661184684016, 0.000755830592342008, 0.0001561633455252083, 0.0001561633455252083, 0.0003123266910504166, 0.0001561633455252083, 0.0007808167276260414, 0.06651309212609671, 0.020490403660952124], [0.0013742374406218326, 0.01733413135329812, 0.23140495867768596, 0.005122600915238031, 0.010245201830476062, 0.005122600915238031, 0.12806502288095076, 0.0037255279383549313, 0.018627639691774656, 0.20490403660952122, 0.11549136608900286, 0.011176583815064794, 0.09686372639722822]]"
   ],
   "outputs": [],
   "metadata": {}
  },
  {
   "cell_type": "code",
   "execution_count": null,
   "source": [
    "import numpy as np\r\n",
    "import matplotlib.pyplot as plt"
   ],
   "outputs": [],
   "metadata": {}
  },
  {
   "cell_type": "code",
   "execution_count": null,
   "source": [
    "plt.figure(figsize=(10, 8))\r\n",
    "\r\n",
    "width = 1\r\n",
    "group_gap = 5\r\n",
    "\r\n",
    "# fig, ax = plt.subplots()\r\n",
    "\r\n",
    "last_index = 0\r\n",
    "ind = []\r\n",
    "xs = []\r\n",
    "\r\n",
    "for i in range(0, 6):\r\n",
    "    group_len = len(ps[i])\r\n",
    "\r\n",
    "    x = np.arange(group_len) + last_index + group_gap\r\n",
    "    xs.append(x)\r\n",
    "\r\n",
    "    last_index = x[-1]\r\n",
    "\r\n",
    "    plt.bar(x, ps[i], width)\r\n",
    "\r\n",
    "\r\n",
    "ind = [x for j in xs for x in j]\r\n",
    "\r\n",
    "x_labels = ['' for _ in range(len(ind))]\r\n",
    "\r\n",
    "former_index = 0\r\n",
    "for i, x in enumerate(xs):\r\n",
    "    x_labels[former_index + int(len(x) / 2)] = i + 1\r\n",
    "    former_index += len(x)\r\n",
    "\r\n",
    "# plt.xticklabels(x_labels, fontsize=14)\r\n",
    "\r\n",
    "plt.ylabel(r\"$P_{Path_l}$\", fontsize=20)\r\n",
    "# plt.xticks(ind, [i + 1 for i in range(len(xs))])\r\n",
    "plt.xticks(ind, x_labels)\r\n",
    "\r\n",
    "print(ind, x_labels)\r\n",
    "\r\n",
    "plt.show()"
   ],
   "outputs": [
    {
     "output_type": "stream",
     "name": "stdout",
     "text": [
      "[5, 10, 15, 16, 17, 18, 19, 24, 25, 26, 27, 28, 29, 34, 35, 36, 37, 38, 39, 40, 41, 42, 43, 44, 45, 46, 47, 48, 49, 50, 51, 52, 53, 58, 59, 60, 61, 62, 63, 64, 65, 66, 67, 68, 69, 70] [1, 2, '', '', 3, '', '', '', '', '', 4, '', '', '', '', '', '', '', '', '', '', '', '', 5, '', '', '', '', '', '', '', '', '', '', '', '', '', '', '', 6, '', '', '', '', '', '']\n"
     ]
    },
    {
     "output_type": "display_data",
     "data": {
      "image/png": "[encoded data removed]",
      "text/plain": [
       "<Figure size 720x576 with 1 Axes>"
      ]
     },
     "metadata": {
      "needs_background": "light"
     }
    }
   ],
   "metadata": {}
  },
  {
   "cell_type": "code",
   "execution_count": 2,
   "source": [
    "a = -1\r\n",
    "b = 2\r\n",
    "abs(a)"
   ],
   "outputs": [
    {
     "output_type": "execute_result",
     "data": {
      "text/plain": [
       "1"
      ]
     },
     "metadata": {},
     "execution_count": 2
    }
   ],
   "metadata": {}
  },
  {
   "cell_type": "code",
   "execution_count": 5,
   "source": [
    "import numpy as np\r\n",
    "print(np.arange(1,20,2))"
   ],
   "outputs": [
    {
     "output_type": "stream",
     "name": "stdout",
     "text": [
      "[ 1  3  5  7  9 11 13 15 17 19]\n"
     ]
    }
   ],
   "metadata": {}
  },
  {
   "cell_type": "code",
   "execution_count": null,
   "source": [],
   "outputs": [],
   "metadata": {}
  }
 ]
}
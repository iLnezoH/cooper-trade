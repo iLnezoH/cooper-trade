{
    "cells": [
        {
            "cell_type": "code",
            "execution_count": null,
            "source": [
                "import json\n",
                "import pandas as pd\n",
                "\n",
                "with open('2016-world-copper-2063-trade.json', 'r') as f:\n",
                "    data = json.load(f)"
            ],
            "outputs": [],
            "metadata": {}
        }
    ],
    "metadata": {
        "orig_nbformat": 4,
        "language_info": {
            "name": "python",
            "version": "3.9.5"
        },
        "kernelspec": {
            "name": "python3",
            "display_name": "Python 3.9.5 64-bit"
        },
        "interpreter": {
            "hash": "aee8b7b246df8f9039afb4144a1f6fd8d2ca17a180786b69acc140d282b71a49"
        }
    },
    "nbformat": 4,
    "nbformat_minor": 2
}
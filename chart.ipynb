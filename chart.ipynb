{
 "cells": [
  {
   "cell_type": "code",
   "execution_count": 1,
   "metadata": {},
   "outputs": [],
   "source": [
    "from src.main import *\n",
    "import matplotlib.pyplot as plt\n",
    "import numpy as np\n"
   ]
  },
  {
   "cell_type": "code",
   "execution_count": 2,
   "metadata": {},
   "outputs": [],
   "source": [
    "report_11 = Report(\n",
    "    'src/data/format-2011-world-copper-2063-trade.json', '2011', 2)\n",
    "report_12 = Report(\n",
    "    'src/data/format-2012-world-copper-2063-trade.json', '2012', 2)\n",
    "report_13 = Report(\n",
    "    'src/data/format-2013-world-copper-2063-trade.json', '2013', 2)\n",
    "report_14 = Report(\n",
    "    'src/data/format-2014-world-copper-2063-trade.json', '2014', 2)\n",
    "report_15 = Report(\n",
    "    'src/data/format-2015-world-copper-2063-trade.json', '2015', 2)\n",
    "\n",
    "report_16 = Report(\n",
    "    'src/data/format-2016-world-copper-2063-trade.json', '2016', 2)\n",
    "report_17 = Report(\n",
    "    'src/data/format-2017-world-copper-2063-trade.json', '2017', 2)\n",
    "report_18 = Report(\n",
    "    'src/data/format-2018-world-copper-2063-trade.json', '2018', 2)\n",
    "report_19 = Report(\n",
    "    'src/data/format-2019-world-copper-2063-trade.json', '2019', 2)\n",
    "report_20 = Report(\n",
    "    'src/data/format-2020-world-copper-2063-trade.json', '2020', 2)\n"
   ]
  },
  {
   "cell_type": "code",
   "execution_count": 3,
   "metadata": {},
   "outputs": [],
   "source": [
    "reports = [\n",
    "    report_11, report_12, report_13, report_14, report_15,\n",
    "    report_16, report_17, report_18, report_19, report_20\n",
    "]\n",
    "\n",
    "\n",
    "def batch_fn(inject, **args):\n",
    "    for report in reports:\n",
    "        inject(report, **args)\n"
   ]
  },
  {
   "cell_type": "code",
   "execution_count": 4,
   "metadata": {},
   "outputs": [],
   "source": [
    "def get_network_scale_review():\n",
    "    lines = []\n",
    "    for report in reports:\n",
    "        lines.append({\n",
    "            'year': report.name,\n",
    "            'nodes': len(report.net._G.nodes),\n",
    "            'scale of connetct components': [len(i) for i in nx.weakly_connected_components(report.net._G)]\n",
    "        })\n",
    "\n",
    "    \n",
    "    write_to_excel(pd.DataFrame(lines), 'excel/net_overview.xlsx')\n",
    "\n",
    "get_network_scale_review()\n",
    "\n"
   ]
  },
  {
   "cell_type": "code",
   "execution_count": 5,
   "metadata": {},
   "outputs": [],
   "source": [
    "def view_subgraph():\n",
    "    for report in reports:\n",
    "        subgraphs = [g for g in nx.weakly_connected_components(report.G)]\n",
    "        if len(subgraphs) > 1:\n",
    "            for i in range(1, len(subgraphs)):\n",
    "                print(subgraphs[i])\n",
    "\n",
    "view_subgraph()"
   ]
  },
  {
   "cell_type": "code",
   "execution_count": 6,
   "metadata": {},
   "outputs": [
    {
     "name": "stdout",
     "output_type": "stream",
     "text": [
      "   year  nodes  average degree  average strength        export  clustering  path length scale of connetct components\n",
      "0  2011    120       10.233333        471.992258  56639.070920    0.286078     1.697129                        [120]\n",
      "1  2012    124       10.403226        286.453829  35520.274738    0.251577     1.588710                        [124]\n",
      "2  2013    121       10.942149        345.931148  41857.668957    0.301089     1.674656                        [121]\n",
      "3  2014    119       10.722689        363.025279  43200.008182    0.306924     1.758297                        [119]\n",
      "4  2015    121       10.628099        384.211060  46489.538308    0.285224     1.643251                        [121]\n",
      "5  2016    109       11.339450        534.289330  58237.536974    0.270551     1.612300                        [109]\n",
      "6  2017    121       10.330579        512.677876  62034.022982    0.282779     1.664118                        [121]\n",
      "7  2018    122       10.016393        528.926370  64529.017084    0.265958     1.617193                        [122]\n",
      "8  2019    110       11.018182        583.065859  64137.244516    0.302630     1.673728                        [110]\n",
      "9  2020    106        9.283019        659.690569  69927.200330    0.277226     1.701168                        [106]\n"
     ]
    }
   ],
   "source": [
    "def get_network_indexs():\n",
    "    lines = []\n",
    "    for report in reports:\n",
    "        lines.append({\n",
    "            'year': report.name,\n",
    "            'nodes': len(report.G.nodes),\n",
    "            'average degree': np.array(list(dict(report.G.degree).values())).mean(),\n",
    "            'average strength': np.array(list(dict(report.G.degree(weight=\"weight\")).values())).mean()/1000000,\n",
    "            'export': np.array(list(dict(report.G.degree(weight=\"weight\")).values())).sum()/1000000,\n",
    "            'clustering': nx.average_clustering(report.G),\n",
    "            'path length': nx.average_shortest_path_length(report.G),\n",
    "            'scale of connetct components': [len(i) for i in nx.weakly_connected_components(report.G)]\n",
    "        })\n",
    "    \n",
    "    return lines\n",
    "\n",
    "lines = get_network_indexs()\n",
    "lines = pd.DataFrame(lines)\n",
    "print(lines)\n",
    "# write_to_excel(lines, 'excel/net_detail.xlsx')\n"
   ]
  },
  {
   "cell_type": "code",
   "execution_count": 7,
   "metadata": {},
   "outputs": [
    {
     "data": {
      "text/plain": [
       "\"\\nfor report in reports:\\n    write_to_excel(report.data_overview(), 'excel/' +\\n                   report.name + '_copper_2063_trade.xlsx')\\n\""
      ]
     },
     "execution_count": 7,
     "metadata": {},
     "output_type": "execute_result"
    }
   ],
   "source": [
    "\"\"\"\n",
    "for report in reports:\n",
    "    write_to_excel(report.data_overview(), 'excel/' +\n",
    "                   report.name + '_copper_2063_trade.xlsx')\n",
    "\"\"\"\n"
   ]
  },
  {
   "cell_type": "markdown",
   "metadata": {},
   "source": []
  },
  {
   "cell_type": "code",
   "execution_count": 8,
   "metadata": {},
   "outputs": [],
   "source": [
    "# report_20.net.draw()\n",
    "\n"
   ]
  },
  {
   "cell_type": "code",
   "execution_count": 9,
   "metadata": {},
   "outputs": [
    {
     "data": {
      "text/html": [
       "<div>\n",
       "<style scoped>\n",
       "    .dataframe tbody tr th:only-of-type {\n",
       "        vertical-align: middle;\n",
       "    }\n",
       "\n",
       "    .dataframe tbody tr th {\n",
       "        vertical-align: top;\n",
       "    }\n",
       "\n",
       "    .dataframe thead th {\n",
       "        text-align: right;\n",
       "    }\n",
       "</style>\n",
       "<table border=\"1\" class=\"dataframe\">\n",
       "  <thead>\n",
       "    <tr style=\"text-align: right;\">\n",
       "      <th></th>\n",
       "      <th>Reporter Code</th>\n",
       "      <th>Reporter</th>\n",
       "      <th>Partner Code</th>\n",
       "      <th>Partner</th>\n",
       "      <th>Trade Flow</th>\n",
       "      <th>Trade Value (US$)</th>\n",
       "      <th>Trade Quantity</th>\n",
       "      <th>NetWeight</th>\n",
       "    </tr>\n",
       "  </thead>\n",
       "  <tbody>\n",
       "    <tr>\n",
       "      <th>1</th>\n",
       "      <td>8</td>\n",
       "      <td>Albania</td>\n",
       "      <td>156</td>\n",
       "      <td>China</td>\n",
       "      <td>Export</td>\n",
       "      <td>13244524</td>\n",
       "      <td>10912650.0</td>\n",
       "      <td>10912650.0</td>\n",
       "    </tr>\n",
       "    <tr>\n",
       "      <th>2</th>\n",
       "      <td>8</td>\n",
       "      <td>Albania</td>\n",
       "      <td>792</td>\n",
       "      <td>Turkey</td>\n",
       "      <td>Export</td>\n",
       "      <td>28169884</td>\n",
       "      <td>20568660.0</td>\n",
       "      <td>20568660.0</td>\n",
       "    </tr>\n",
       "    <tr>\n",
       "      <th>3</th>\n",
       "      <td>12</td>\n",
       "      <td>Algeria</td>\n",
       "      <td>156</td>\n",
       "      <td>China</td>\n",
       "      <td>Export</td>\n",
       "      <td>550</td>\n",
       "      <td>105.0</td>\n",
       "      <td>105.0</td>\n",
       "    </tr>\n",
       "    <tr>\n",
       "      <th>4</th>\n",
       "      <td>24</td>\n",
       "      <td>Angola</td>\n",
       "      <td>826</td>\n",
       "      <td>United Kingdom</td>\n",
       "      <td>Import</td>\n",
       "      <td>51</td>\n",
       "      <td>1.0</td>\n",
       "      <td>1.0</td>\n",
       "    </tr>\n",
       "    <tr>\n",
       "      <th>5</th>\n",
       "      <td>32</td>\n",
       "      <td>Argentina</td>\n",
       "      <td>68</td>\n",
       "      <td>Bolivia (Plurinational State of)</td>\n",
       "      <td>Import</td>\n",
       "      <td>288092</td>\n",
       "      <td>5310000.0</td>\n",
       "      <td>5310000.0</td>\n",
       "    </tr>\n",
       "    <tr>\n",
       "      <th>...</th>\n",
       "      <td>...</td>\n",
       "      <td>...</td>\n",
       "      <td>...</td>\n",
       "      <td>...</td>\n",
       "      <td>...</td>\n",
       "      <td>...</td>\n",
       "      <td>...</td>\n",
       "      <td>...</td>\n",
       "    </tr>\n",
       "    <tr>\n",
       "      <th>815</th>\n",
       "      <td>894</td>\n",
       "      <td>Zambia</td>\n",
       "      <td>757</td>\n",
       "      <td>Switzerland</td>\n",
       "      <td>Export</td>\n",
       "      <td>3228272</td>\n",
       "      <td>3738141.0</td>\n",
       "      <td>3738141.0</td>\n",
       "    </tr>\n",
       "    <tr>\n",
       "      <th>816</th>\n",
       "      <td>894</td>\n",
       "      <td>Zambia</td>\n",
       "      <td>784</td>\n",
       "      <td>United Arab Emirates</td>\n",
       "      <td>Export</td>\n",
       "      <td>40</td>\n",
       "      <td>1.0</td>\n",
       "      <td>1.0</td>\n",
       "    </tr>\n",
       "    <tr>\n",
       "      <th>817</th>\n",
       "      <td>894</td>\n",
       "      <td>Zambia</td>\n",
       "      <td>826</td>\n",
       "      <td>United Kingdom</td>\n",
       "      <td>Export</td>\n",
       "      <td>1193</td>\n",
       "      <td>862.0</td>\n",
       "      <td>862.0</td>\n",
       "    </tr>\n",
       "    <tr>\n",
       "      <th>818</th>\n",
       "      <td>894</td>\n",
       "      <td>Zambia</td>\n",
       "      <td>842</td>\n",
       "      <td>USA</td>\n",
       "      <td>Import</td>\n",
       "      <td>902</td>\n",
       "      <td>7.0</td>\n",
       "      <td>7.0</td>\n",
       "    </tr>\n",
       "    <tr>\n",
       "      <th>819</th>\n",
       "      <td>894</td>\n",
       "      <td>Zambia</td>\n",
       "      <td>842</td>\n",
       "      <td>USA</td>\n",
       "      <td>Export</td>\n",
       "      <td>13326</td>\n",
       "      <td>90077.0</td>\n",
       "      <td>90077.0</td>\n",
       "    </tr>\n",
       "  </tbody>\n",
       "</table>\n",
       "<p>819 rows × 8 columns</p>\n",
       "</div>"
      ],
      "text/plain": [
       "     Reporter Code   Reporter  Partner Code                           Partner Trade Flow  Trade Value (US$)  Trade Quantity   NetWeight\n",
       "1                8    Albania           156                             China     Export           13244524      10912650.0  10912650.0\n",
       "2                8    Albania           792                            Turkey     Export           28169884      20568660.0  20568660.0\n",
       "3               12    Algeria           156                             China     Export                550           105.0       105.0\n",
       "4               24     Angola           826                    United Kingdom     Import                 51             1.0         1.0\n",
       "5               32  Argentina            68  Bolivia (Plurinational State of)     Import             288092       5310000.0   5310000.0\n",
       "..             ...        ...           ...                               ...        ...                ...             ...         ...\n",
       "815            894     Zambia           757                       Switzerland     Export            3228272       3738141.0   3738141.0\n",
       "816            894     Zambia           784              United Arab Emirates     Export                 40             1.0         1.0\n",
       "817            894     Zambia           826                    United Kingdom     Export               1193           862.0       862.0\n",
       "818            894     Zambia           842                               USA     Import                902             7.0         7.0\n",
       "819            894     Zambia           842                               USA     Export              13326         90077.0     90077.0\n",
       "\n",
       "[819 rows x 8 columns]"
      ]
     },
     "execution_count": 9,
     "metadata": {},
     "output_type": "execute_result"
    }
   ],
   "source": [
    "overview = report_11.data_overview()\n",
    "# write_to_excel(overview, 'excel/t1_data_overview_16.xlsx')\n",
    "overview\n"
   ]
  },
  {
   "cell_type": "code",
   "execution_count": 10,
   "metadata": {},
   "outputs": [],
   "source": [
    "def get_bigest_BC(G):\n",
    "    betweenness_centralities = nx.betweenness_centrality(G)\n",
    "    return sorted(G.nodes, key=lambda node: betweenness_centralities[node])[-1]\n"
   ]
  },
  {
   "cell_type": "code",
   "execution_count": 11,
   "metadata": {},
   "outputs": [],
   "source": [
    "def get_bigest_DC(G):\n",
    "    degree_centralities = nx.degree_centrality(G)\n",
    "    return sorted(G.nodes, key=lambda node: degree_centralities[node])[-1]\n"
   ]
  },
  {
   "cell_type": "code",
   "execution_count": 12,
   "metadata": {},
   "outputs": [],
   "source": [
    "def get_bigest_CC(G):\n",
    "    closeness_centralities = nx.closeness_centrality(G)\n",
    "    return sorted(G.nodes, key=lambda node: closeness_centralities[node])[-1]"
   ]
  },
  {
   "cell_type": "code",
   "execution_count": 13,
   "metadata": {},
   "outputs": [],
   "source": [
    "def get_bigest_IS(G):\n",
    "    in_strengths = G.in_degree(weight=\"weight\")\n",
    "    return sorted(G.nodes, key=lambda node: in_strengths[node])[-1]"
   ]
  },
  {
   "cell_type": "code",
   "execution_count": 14,
   "metadata": {},
   "outputs": [],
   "source": [
    "def get_bigest_OS(G):\n",
    "    out_strengths = G.out_degree(weight=\"weight\")\n",
    "    return sorted(G.nodes, key=lambda node: out_strengths[node])[-1]"
   ]
  },
  {
   "cell_type": "code",
   "execution_count": 15,
   "metadata": {},
   "outputs": [],
   "source": [
    "def get_bigest_E(G):\n",
    "    Es = Net.getAdjacencyEntropies(G)\n",
    "\n",
    "    return sorted(G.nodes, key=lambda node: Es[node])[-1]"
   ]
  },
  {
   "cell_type": "code",
   "execution_count": 16,
   "metadata": {},
   "outputs": [
    {
     "data": {
      "text/plain": [
       "156"
      ]
     },
     "execution_count": 16,
     "metadata": {},
     "output_type": "execute_result"
    }
   ],
   "source": [
    "get_bigest_E(report_11.G)"
   ]
  },
  {
   "cell_type": "code",
   "execution_count": 17,
   "metadata": {},
   "outputs": [],
   "source": [
    "def removeTest(report):\n",
    "\n",
    "    fig, axes = plt.subplots()\n",
    "\n",
    "    x = np.arange(len(report.G.nodes)) / len(report.G.nodes)\n",
    "\n",
    "    y = Net.removeTest(report.G, to_remove=get_bigest_BC)\n",
    "    axes.plot(x, y, label='BC')\n",
    "    y = Net.removeTest(report.G, to_remove=get_bigest_DC)\n",
    "    axes.plot(x, y, label='DC')\n",
    "    y = Net.removeTest(report.G, to_remove=get_bigest_CC)\n",
    "    axes.plot(x, y, label='CC')\n",
    "    '''\n",
    "    y = Net.removeTest(report.G, to_remove=get_bigest_IS)\n",
    "    axes.plot(x, y, label='IS')\n",
    "    y = Net.removeTest(report.G, to_remove=get_bigest_OS)\n",
    "    axes.plot(x, y, label='OS')\n",
    "    '''\n",
    "    y = Net.removeTest(report.G, to_remove=get_bigest_E)\n",
    "    axes.plot(x, y, label='E')\n",
    "\n",
    "    '''\n",
    "    indexs = ['BC', 'CC', 'DC', 'E']\n",
    "\n",
    "    for index in indexs:\n",
    "\n",
    "        sorted_nodes = sorted(\n",
    "            report.nodes, key=lambda e: e[index], reverse=True)\n",
    "        x = [item['code'] for item in sorted_nodes]\n",
    "        y = report.net.removeTest(report.G, to_remove=)\n",
    "\n",
    "        axes.plot(np.arange(len(x)+1), y, label=index)\n",
    "    '''\n",
    "\n",
    "    axes.legend()\n",
    "    plt.show()\n"
   ]
  },
  {
   "cell_type": "code",
   "execution_count": 18,
   "metadata": {},
   "outputs": [],
   "source": [
    "nodes_sort_by_BC = sorted(report_11.nodes, key=lambda e: e['BC'], reverse=True)\n",
    "series_BC = [item[\"code\"] for item in nodes_sort_by_BC]\n",
    "\n",
    "nodes_sort_by_DC = sorted(report_11.nodes, key=lambda e: e['DC'], reverse=True)\n",
    "series_DC = [item[\"code\"] for item in nodes_sort_by_DC]\n",
    "\n",
    "nodes_sort_by_CC = sorted(report_11.nodes, key=lambda e: e['CC'], reverse=True)\n",
    "series_CC = [item[\"code\"] for item in nodes_sort_by_CC]\n"
   ]
  },
  {
   "cell_type": "code",
   "execution_count": 19,
   "metadata": {},
   "outputs": [],
   "source": [
    "def rank_analys():\n",
    "    mat = np.zeros((len(reports), 10), dtype='int')\n",
    "    for i, report in enumerate(reports):\n",
    "        nodes = report.net.sortedNodes[:10]\n",
    "        mat[i, :] = [node['code'] for node in nodes]\n",
    "\n",
    "    nodes = mat.ravel()\n",
    "\n",
    "    def sort_nodes():\n",
    "        nodes_set = set(mat.ravel())\n",
    "        nodes_score = {}\n",
    "        for node in nodes_set:\n",
    "            nodes_score[node] = 0\n",
    "        for line in mat:\n",
    "            for i, node in enumerate(line):\n",
    "                nodes_score[node] += 10 - i\n",
    "\n",
    "        sorted_nodes = sorted(list(zip(nodes_score.keys(), nodes_score.values())), key=lambda i:i[1], reverse=True)\n",
    "        return [item[0] for item in sorted_nodes]\n",
    "\n",
    "    sorted_nodes = sort_nodes()\n",
    "\n",
    "    ys = []\n",
    "    for n in sorted_nodes:\n",
    "        ys.append((n, list(nodes).count(n)))\n",
    "    ys = sorted(ys, key=lambda item: item[1], reverse=True)\n",
    "    fig, axe = plt.subplots(figsize=(10,4))\n",
    "    axe.bar(np.arange(len(ys)), [item[1] for item in ys], color=\"#012E6B\")\n",
    "    x_labels = [report_11.net.countries[str(item[0])] for item in ys]\n",
    "    sorted_nodes = [report_11.net.countries[str(item[0])] for item in ys]\n",
    "    axe.spines[['right', 'top']].set_visible(False)\n",
    "\n",
    "    axe.set_xticks(np.arange(len(ys)))\n",
    "    axe.set_xticklabels(x_labels, rotation=\"45\", ha=\"right\", va=\"top\")\n",
    "\n",
    "    axe.set_ylabel('number of top 10')\n",
    "\n",
    "    plt.savefig('c3.svg', format=\"svg\", bbox_inches=\"tight\")\n",
    "    plt.show()\n",
    "    \n",
    "    from textwrap import fill\n",
    "\n",
    "\n",
    "    def draw_entropy_map(slice=10):\n",
    "\n",
    "        fig, axe = plt.subplots(figsize=(20, 10))\n",
    "\n",
    "        axe.spines[['right', 'top', 'left', 'bottom']].set_visible(False)\n",
    "\n",
    "        data = np.zeros((len(reports),slice))\n",
    "        for i in range(len(reports)):\n",
    "            for j in range(slice):\n",
    "                c_name = report.net.countries[str(\n",
    "                    mat[i, j])]\n",
    "                data[i,j] = sorted_nodes.index(c_name)\n",
    "                axe.text(j, i, fill(c_name, width=11), ha=\"center\", va=\"center\", color=\"w\")\n",
    "        axe.imshow(data, cmap=\"cividis\")\n",
    "        axe.set_xticks(np.arange(slice))\n",
    "        axe.set_yticks(np.arange(len(reports)))\n",
    "        axe.set_xticklabels(np.arange(1, slice+1))\n",
    "        axe.set_yticklabels([report.name for report in reports])\n",
    "\n",
    "        plt.savefig('c4.svg', format=\"svg\", bbox_inches=\"tight\")\n",
    "        plt.show()\n",
    "\n",
    "\n",
    "    draw_entropy_map()\n",
    "\n",
    "# rank_analys()\n",
    "\n"
   ]
  },
  {
   "cell_type": "code",
   "execution_count": 20,
   "metadata": {},
   "outputs": [],
   "source": [
    "def draw_entropy_plots(slice=None):\n",
    "    fig, axes = plt.subplots(5, 2, sharex=True, sharey=True, figsize=(10, 10))\n",
    "    y_label = \"E\"\n",
    "\n",
    "    for i, report in enumerate(reports):\n",
    "        nodes = report.net.sortedNodes\n",
    "        x = np.arange(len(nodes)) + 1\n",
    "        y = [node['E'] for node in nodes]\n",
    "\n",
    "        r = int(i / 2)\n",
    "        c = i - r * 2\n",
    "\n",
    "        if slice is None:\n",
    "            axes[r, c].plot(x, y, '.-', label=report.name, color=\"#012E6B\")\n",
    "        else:\n",
    "            axes[r, c].plot(x[slice[0]: slice[1]], y[slice[0]: slice[1]],\n",
    "                            '.-', label=report.name, color=\"#012E6B\")\n",
    "\n",
    "        # axes[r,c].set_title(report.name)\n",
    "\n",
    "    for axe in axes.ravel():\n",
    "        axe.spines['right'].set_visible(False)\n",
    "        axe.spines['top'].set_visible(False)\n",
    "        axe.legend()\n",
    "        axe.set_xlabel('n')\n",
    "        axe.set_ylabel(y_label)\n",
    "        axe.set_xlim(0, None)\n",
    "        axe.set_ylim(0, 26)\n",
    "\n",
    "    # plt.title('图2 2011-2020 年全球铜贸易网络节点的脆弱性指标（前50名）', y=-0.3, size=11)\n",
    "\n",
    "    plt.savefig('c2.svg', format=\"svg\", bbox_inches=\"tight\")\n",
    "    plt.show()\n",
    "\n",
    "\n",
    "# draw_entropy_plots([0, 50])\n"
   ]
  },
  {
   "cell_type": "code",
   "execution_count": 22,
   "metadata": {},
   "outputs": [],
   "source": [
    "table_entropy_cluster = show_cluster_list(reports)\n",
    "table_entropy_cluster\n",
    "write_to_excel(table_entropy_cluster, 'excel/entropy_cluster.xlsx')\n"
   ]
  },
  {
   "cell_type": "code",
   "execution_count": 24,
   "metadata": {},
   "outputs": [],
   "source": [
    "nodes_attribute_20 = report_20.show_nodes_attribute()\n",
    "nodes_attribute_20\n",
    "write_to_excel(nodes_attribute_20, 'excel/t2_attributes_2020.xlsx')\n"
   ]
  },
  {
   "cell_type": "code",
   "execution_count": null,
   "metadata": {},
   "outputs": [],
   "source": [
    "for report in reports:\n",
    "    report.set_attribute_probability()\n"
   ]
  },
  {
   "cell_type": "code",
   "execution_count": null,
   "metadata": {},
   "outputs": [],
   "source": [
    "for report in reports:\n",
    "    # report.show_dt_accuracy()\n",
    "    # report.save_decision_tree('outputs/decision_tree_' + report.name + '.json')\n",
    "    for _report in reports:\n",
    "        res = ID3.checkPrecesion(\n",
    "            _report.nodes, report.decision_tree) / len(_report.nodes)\n",
    "        print(report.name + \" - \" + _report.name + \": \" + str(res))\n"
   ]
  },
  {
   "cell_type": "code",
   "execution_count": null,
   "metadata": {},
   "outputs": [],
   "source": [
    "Es = get_all_E(reports)"
   ]
  },
  {
   "cell_type": "code",
   "execution_count": null,
   "metadata": {},
   "outputs": [],
   "source": [
    "fig, axes = plt.subplots()\n",
    "n, bins, pathces = axes.hist(Es, 6, density=True)\n",
    "plt.show()"
   ]
  },
  {
   "cell_type": "code",
   "execution_count": null,
   "metadata": {},
   "outputs": [],
   "source": [
    "for report in reports:\n",
    "    decision_list = pd.DataFrame(report.decision_list)[\n",
    "        report.attribute_names + ['label', 'p']]\\\n",
    "        .sort_values('p')\\\n",
    "        .reset_index(drop=True)\n",
    "\n",
    "    print(decision_list[-5:-1])\n",
    "\n",
    "#write_to_excel(decision_list_20, 'excel/t4_decision_list_2020.xlsx')\n"
   ]
  },
  {
   "cell_type": "code",
   "execution_count": null,
   "metadata": {},
   "outputs": [],
   "source": [
    "decision_attribute_distribute = get_decision_attribute_distribute(reports)\n",
    "# write_to_excel(decision_attribute_distribute, 'excel/t5_decision_attribute_distribute.xlsx')\n",
    "decision_attribute_distribute\n"
   ]
  },
  {
   "cell_type": "code",
   "execution_count": null,
   "metadata": {},
   "outputs": [],
   "source": [
    "for report in reports:\n",
    "    report.decision_probability_bar()\n"
   ]
  },
  {
   "cell_type": "code",
   "execution_count": null,
   "metadata": {},
   "outputs": [],
   "source": [
    "show_hierarchical_risk_bar(reports)\n"
   ]
  }
 ],
 "metadata": {
  "interpreter": {
   "hash": "ac59ebe37160ed0dfa835113d9b8498d9f09ceb179beaac4002f036b9467c963"
  },
  "kernelspec": {
   "display_name": "Python 3.9.7 64-bit",
   "name": "python3"
  },
  "language_info": {
   "codemirror_mode": {
    "name": "ipython",
    "version": 3
   },
   "file_extension": ".py",
   "mimetype": "text/x-python",
   "name": "python",
   "nbconvert_exporter": "python",
   "pygments_lexer": "ipython3",
   "version": "3.8.9"
  },
  "orig_nbformat": 4
 },
 "nbformat": 4,
 "nbformat_minor": 2
}

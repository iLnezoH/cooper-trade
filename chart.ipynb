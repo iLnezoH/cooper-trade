{
 "cells": [
  {
   "cell_type": "code",
   "execution_count": 1,
   "source": [
    "from src.main import Report, pd, show_cluster_list, plt"
   ],
   "outputs": [],
   "metadata": {}
  },
  {
   "cell_type": "code",
   "execution_count": 2,
   "source": [
    "report_16 = Report('src/data/format-2016-world-copper-2063-trade.json', '2016')\r\n",
    "report_17 = Report('src/data/format-2017-world-copper-2063-trade.json', '2017')\r\n",
    "report_18 = Report('src/data/format-2018-world-copper-2063-trade.json', '2018')\r\n",
    "report_19 = Report('src/data/2019-world-copper-2063-trade.csv', '2019')\r\n",
    "report_20 = Report('src/data/format-2020-world-copper-2063-trade.json', '2020')"
   ],
   "outputs": [],
   "metadata": {}
  },
  {
   "cell_type": "code",
   "execution_count": 3,
   "source": [
    "reports = [report_16, report_17, report_18, report_19, report_20]"
   ],
   "outputs": [],
   "metadata": {}
  },
  {
   "cell_type": "code",
   "execution_count": 4,
   "source": [
    "plt.figure(figsize=(10, 4))\r\n",
    "report_16.draw_entropy_plot(120)\r\n",
    "report_17.draw_entropy_plot()\r\n",
    "report_18.draw_entropy_plot()\r\n",
    "report_19.draw_entropy_plot()\r\n",
    "report_20.draw_entropy_plot()\r\n",
    "\r\n",
    "plt.legend()\r\n",
    "plt.show()\r\n"
   ],
   "outputs": [
    {
     "output_type": "display_data",
     "data": {
      "image/png": "[encoded data removed]",
      "text/plain": [
       "<Figure size 720x288 with 1 Axes>"
      ]
     },
     "metadata": {
      "needs_background": "light"
     }
    }
   ],
   "metadata": {}
  },
  {
   "cell_type": "code",
   "execution_count": 5,
   "source": [
    "for report in reports:\r\n",
    "    report.cluster_nodes()"
   ],
   "outputs": [],
   "metadata": {}
  },
  {
   "cell_type": "code",
   "execution_count": 6,
   "source": [
    "show_cluster_list(reports)"
   ],
   "outputs": [
    {
     "output_type": "execute_result",
     "data": {
      "text/html": [
       "<div>\n",
       "<style scoped>\n",
       "    .dataframe tbody tr th:only-of-type {\n",
       "        vertical-align: middle;\n",
       "    }\n",
       "\n",
       "    .dataframe tbody tr th {\n",
       "        vertical-align: top;\n",
       "    }\n",
       "\n",
       "    .dataframe thead th {\n",
       "        text-align: right;\n",
       "    }\n",
       "</style>\n",
       "<table border=\"1\" class=\"dataframe\">\n",
       "  <thead>\n",
       "    <tr style=\"text-align: right;\">\n",
       "      <th></th>\n",
       "      <th>code</th>\n",
       "      <th>code</th>\n",
       "      <th>code</th>\n",
       "      <th>code</th>\n",
       "      <th>code</th>\n",
       "    </tr>\n",
       "    <tr>\n",
       "      <th>label</th>\n",
       "      <th></th>\n",
       "      <th></th>\n",
       "      <th></th>\n",
       "      <th></th>\n",
       "      <th></th>\n",
       "    </tr>\n",
       "  </thead>\n",
       "  <tbody>\n",
       "    <tr>\n",
       "      <th>1</th>\n",
       "      <td>156</td>\n",
       "      <td>156</td>\n",
       "      <td>156</td>\n",
       "      <td>156</td>\n",
       "      <td>156</td>\n",
       "    </tr>\n",
       "    <tr>\n",
       "      <th>2</th>\n",
       "      <td>97</td>\n",
       "      <td>97</td>\n",
       "      <td>97</td>\n",
       "      <td>152</td>\n",
       "      <td>97,124,975,724</td>\n",
       "    </tr>\n",
       "    <tr>\n",
       "      <th>3</th>\n",
       "      <td>528</td>\n",
       "      <td>410,724,100,152,784</td>\n",
       "      <td>410,975,152</td>\n",
       "      <td>724</td>\n",
       "      <td>276</td>\n",
       "    </tr>\n",
       "    <tr>\n",
       "      <th>4</th>\n",
       "      <td>124,410</td>\n",
       "      <td>276,699,975,604,36</td>\n",
       "      <td>276,724,100,710,392,757,604</td>\n",
       "      <td>410,276,116,100,等12项</td>\n",
       "      <td>410,842,392,76,152,860</td>\n",
       "    </tr>\n",
       "    <tr>\n",
       "      <th>5</th>\n",
       "      <td>100,276,152,724,等13项</td>\n",
       "      <td>124,826,842,392,等10项</td>\n",
       "      <td>124,36,842,699,826,76,268,376,48</td>\n",
       "      <td>124,528,710,458,等13项</td>\n",
       "      <td>268,36,604</td>\n",
       "    </tr>\n",
       "    <tr>\n",
       "      <th>6</th>\n",
       "      <td>616,381,484,752,等103项</td>\n",
       "      <td>490,516,458,608,等111项</td>\n",
       "      <td>116,490,458,752,等107项</td>\n",
       "      <td>360,826,704,381,等91项</td>\n",
       "      <td>710,458,490,251,等103项</td>\n",
       "    </tr>\n",
       "  </tbody>\n",
       "</table>\n",
       "</div>"
      ],
      "text/plain": [
       "                        code                   code                              code                  code                    code\n",
       "label                                                                                                                              \n",
       "1                        156                    156                               156                   156                     156\n",
       "2                         97                     97                                97                   152          97,124,975,724\n",
       "3                        528    410,724,100,152,784                       410,975,152                   724                     276\n",
       "4                    124,410     276,699,975,604,36       276,724,100,710,392,757,604  410,276,116,100,等12项  410,842,392,76,152,860\n",
       "5       100,276,152,724,等13项   124,826,842,392,等10项  124,36,842,699,826,76,268,376,48  124,528,710,458,等13项              268,36,604\n",
       "6      616,381,484,752,等103项  490,516,458,608,等111项             116,490,458,752,等107项  360,826,704,381,等91项   710,458,490,251,等103项"
      ]
     },
     "metadata": {},
     "execution_count": 6
    }
   ],
   "metadata": {}
  },
  {
   "cell_type": "code",
   "execution_count": 7,
   "source": [
    "report_16.show_nodes_attribute()"
   ],
   "outputs": [
    {
     "output_type": "stream",
     "name": "stdout",
     "text": [
      "     code                              name  IS  OS  DC  BC  CC  label\n",
      "0     156                             China   1   6   1   1   1      1\n",
      "1      97                             EU-28   3   6   2   2   2      2\n",
      "2     528                       Netherlands   6   6   4   4   2      3\n",
      "3     124                            Canada   5   4   3   4   2      4\n",
      "4     410                     Rep. of Korea   3   6   4   5   2      4\n",
      "..    ...                               ...  ..  ..  ..  ..  ..    ...\n",
      "116    70                Bosnia Herzegovina   6   6   6   6   3      6\n",
      "117   788                           Tunisia   6   6   6   6   3      6\n",
      "118    68  Bolivia (Plurinational State of)   6   6   6   6   3      6\n",
      "119   834           United Rep. of Tanzania   6   6   5   6   4      6\n",
      "120   646                            Rwanda   6   6   6   6   6      6\n",
      "\n",
      "[121 rows x 8 columns]\n"
     ]
    }
   ],
   "metadata": {}
  },
  {
   "cell_type": "code",
   "execution_count": 8,
   "source": [
    "pd.DataFrame(report_19.decision_list)[report_19.attribute_names + ['label']].sort_values('label')"
   ],
   "outputs": [
    {
     "output_type": "execute_result",
     "data": {
      "text/html": [
       "<div>\n",
       "<style scoped>\n",
       "    .dataframe tbody tr th:only-of-type {\n",
       "        vertical-align: middle;\n",
       "    }\n",
       "\n",
       "    .dataframe tbody tr th {\n",
       "        vertical-align: top;\n",
       "    }\n",
       "\n",
       "    .dataframe thead th {\n",
       "        text-align: right;\n",
       "    }\n",
       "</style>\n",
       "<table border=\"1\" class=\"dataframe\">\n",
       "  <thead>\n",
       "    <tr style=\"text-align: right;\">\n",
       "      <th></th>\n",
       "      <th>IS</th>\n",
       "      <th>OS</th>\n",
       "      <th>DC</th>\n",
       "      <th>BC</th>\n",
       "      <th>CC</th>\n",
       "      <th>label</th>\n",
       "    </tr>\n",
       "  </thead>\n",
       "  <tbody>\n",
       "    <tr>\n",
       "      <th>0</th>\n",
       "      <td>NaN</td>\n",
       "      <td>NaN</td>\n",
       "      <td>1</td>\n",
       "      <td>NaN</td>\n",
       "      <td>NaN</td>\n",
       "      <td>1</td>\n",
       "    </tr>\n",
       "    <tr>\n",
       "      <th>1</th>\n",
       "      <td>NaN</td>\n",
       "      <td>1.0</td>\n",
       "      <td>2</td>\n",
       "      <td>NaN</td>\n",
       "      <td>NaN</td>\n",
       "      <td>2</td>\n",
       "    </tr>\n",
       "    <tr>\n",
       "      <th>2</th>\n",
       "      <td>NaN</td>\n",
       "      <td>2.0</td>\n",
       "      <td>2</td>\n",
       "      <td>NaN</td>\n",
       "      <td>NaN</td>\n",
       "      <td>2</td>\n",
       "    </tr>\n",
       "    <tr>\n",
       "      <th>3</th>\n",
       "      <td>NaN</td>\n",
       "      <td>3.0</td>\n",
       "      <td>2</td>\n",
       "      <td>NaN</td>\n",
       "      <td>NaN</td>\n",
       "      <td>2</td>\n",
       "    </tr>\n",
       "    <tr>\n",
       "      <th>5</th>\n",
       "      <td>NaN</td>\n",
       "      <td>5.0</td>\n",
       "      <td>2</td>\n",
       "      <td>NaN</td>\n",
       "      <td>NaN</td>\n",
       "      <td>2</td>\n",
       "    </tr>\n",
       "    <tr>\n",
       "      <th>...</th>\n",
       "      <td>...</td>\n",
       "      <td>...</td>\n",
       "      <td>...</td>\n",
       "      <td>...</td>\n",
       "      <td>...</td>\n",
       "      <td>...</td>\n",
       "    </tr>\n",
       "    <tr>\n",
       "      <th>39</th>\n",
       "      <td>1.0</td>\n",
       "      <td>NaN</td>\n",
       "      <td>5</td>\n",
       "      <td>NaN</td>\n",
       "      <td>NaN</td>\n",
       "      <td>6</td>\n",
       "    </tr>\n",
       "    <tr>\n",
       "      <th>64</th>\n",
       "      <td>6.0</td>\n",
       "      <td>NaN</td>\n",
       "      <td>5</td>\n",
       "      <td>6.0</td>\n",
       "      <td>1.0</td>\n",
       "      <td>6</td>\n",
       "    </tr>\n",
       "    <tr>\n",
       "      <th>65</th>\n",
       "      <td>6.0</td>\n",
       "      <td>1.0</td>\n",
       "      <td>5</td>\n",
       "      <td>6.0</td>\n",
       "      <td>2.0</td>\n",
       "      <td>6</td>\n",
       "    </tr>\n",
       "    <tr>\n",
       "      <th>67</th>\n",
       "      <td>6.0</td>\n",
       "      <td>3.0</td>\n",
       "      <td>5</td>\n",
       "      <td>6.0</td>\n",
       "      <td>2.0</td>\n",
       "      <td>6</td>\n",
       "    </tr>\n",
       "    <tr>\n",
       "      <th>85</th>\n",
       "      <td>NaN</td>\n",
       "      <td>NaN</td>\n",
       "      <td>6</td>\n",
       "      <td>6.0</td>\n",
       "      <td>6.0</td>\n",
       "      <td>6</td>\n",
       "    </tr>\n",
       "  </tbody>\n",
       "</table>\n",
       "<p>86 rows × 6 columns</p>\n",
       "</div>"
      ],
      "text/plain": [
       "     IS   OS  DC   BC   CC  label\n",
       "0   NaN  NaN   1  NaN  NaN      1\n",
       "1   NaN  1.0   2  NaN  NaN      2\n",
       "2   NaN  2.0   2  NaN  NaN      2\n",
       "3   NaN  3.0   2  NaN  NaN      2\n",
       "5   NaN  5.0   2  NaN  NaN      2\n",
       "..  ...  ...  ..  ...  ...    ...\n",
       "39  1.0  NaN   5  NaN  NaN      6\n",
       "64  6.0  NaN   5  6.0  1.0      6\n",
       "65  6.0  1.0   5  6.0  2.0      6\n",
       "67  6.0  3.0   5  6.0  2.0      6\n",
       "85  NaN  NaN   6  6.0  6.0      6\n",
       "\n",
       "[86 rows x 6 columns]"
      ]
     },
     "metadata": {},
     "execution_count": 8
    }
   ],
   "metadata": {}
  },
  {
   "cell_type": "code",
   "execution_count": 10,
   "source": [
    "pd.DataFrame(report_16.decision_attribute_distribute)"
   ],
   "outputs": [
    {
     "output_type": "execute_result",
     "data": {
      "text/html": [
       "<div>\n",
       "<style scoped>\n",
       "    .dataframe tbody tr th:only-of-type {\n",
       "        vertical-align: middle;\n",
       "    }\n",
       "\n",
       "    .dataframe tbody tr th {\n",
       "        vertical-align: top;\n",
       "    }\n",
       "\n",
       "    .dataframe thead th {\n",
       "        text-align: right;\n",
       "    }\n",
       "</style>\n",
       "<table border=\"1\" class=\"dataframe\">\n",
       "  <thead>\n",
       "    <tr style=\"text-align: right;\">\n",
       "      <th></th>\n",
       "      <th>0</th>\n",
       "    </tr>\n",
       "  </thead>\n",
       "  <tbody>\n",
       "    <tr>\n",
       "      <th>0</th>\n",
       "      <td>0.695652</td>\n",
       "    </tr>\n",
       "    <tr>\n",
       "      <th>1</th>\n",
       "      <td>0.130435</td>\n",
       "    </tr>\n",
       "    <tr>\n",
       "      <th>2</th>\n",
       "      <td>1.000000</td>\n",
       "    </tr>\n",
       "    <tr>\n",
       "      <th>3</th>\n",
       "      <td>0.586957</td>\n",
       "    </tr>\n",
       "    <tr>\n",
       "      <th>4</th>\n",
       "      <td>0.391304</td>\n",
       "    </tr>\n",
       "  </tbody>\n",
       "</table>\n",
       "</div>"
      ],
      "text/plain": [
       "          0\n",
       "0  0.695652\n",
       "1  0.130435\n",
       "2  1.000000\n",
       "3  0.586957\n",
       "4  0.391304"
      ]
     },
     "metadata": {},
     "execution_count": 10
    }
   ],
   "metadata": {}
  }
 ],
 "metadata": {
  "orig_nbformat": 4,
  "language_info": {
   "name": "python",
   "version": "3.9.7",
   "mimetype": "text/x-python",
   "codemirror_mode": {
    "name": "ipython",
    "version": 3
   },
   "pygments_lexer": "ipython3",
   "nbconvert_exporter": "python",
   "file_extension": ".py"
  },
  "kernelspec": {
   "name": "python3",
   "display_name": "Python 3.9.7 64-bit"
  },
  "interpreter": {
   "hash": "ac59ebe37160ed0dfa835113d9b8498d9f09ceb179beaac4002f036b9467c963"
  }
 },
 "nbformat": 4,
 "nbformat_minor": 2
}
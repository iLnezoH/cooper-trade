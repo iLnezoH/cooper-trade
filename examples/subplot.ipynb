{
  "cells": [
    {
      "cell_type": "code",
      "execution_count": 1,
      "source": [
        "%matplotlib inline"
      ],
      "outputs": [],
      "metadata": {
        "collapsed": false
      }
    },
    {
      "cell_type": "markdown",
      "source": [
        "\n",
        "# Multiple subplots\n",
        "\n",
        "Simple demo with multiple subplots.\n"
      ],
      "metadata": {}
    },
    {
      "cell_type": "code",
      "execution_count": 3,
      "source": [
        "import numpy as np\r\n",
        "import matplotlib.pyplot as plt"
      ],
      "outputs": [],
      "metadata": {
        "collapsed": false
      }
    },
    {
      "cell_type": "code",
      "execution_count": null,
      "source": [
        "x1 = np.linspace(0.0, 5.0)\r\n",
        "x2 = np.linspace(0.0, 2.0)\r\n",
        "\r\n",
        "y1 = np.cos(2 * np.pi * x1) * np.exp(-x1)\r\n",
        "y2 = np.cos(2 * np.pi * x2)\r\n",
        "\r\n",
        "fig, (ax1, ax2) = plt.subplots(2, 1)\r\n",
        "fig.suptitle('A tale of 2 subplots')\r\n",
        "\r\n",
        "ax1.plot(x1, y1, 'o-')\r\n",
        "ax1.set_ylabel('Damped oscillation')\r\n",
        "\r\n",
        "ax2.plot(x2, y2, '.-')\r\n",
        "ax2.set_xlabel('time (s)')\r\n",
        "ax2.set_ylabel('Undamped')\r\n",
        "\r\n",
        "plt.show()"
      ],
      "outputs": [],
      "metadata": {
        "collapsed": false
      }
    },
    {
      "cell_type": "markdown",
      "source": [
        "## Alternative Method For Creating Multiple Plots\n",
        "\n",
        "Subplots can also be generated using `~.pyplot.subplot()` \\\n",
        "as in the following example:\n",
        "\n",
        "\n"
      ],
      "metadata": {}
    },
    {
      "cell_type": "code",
      "execution_count": 5,
      "source": [
        "x1 = np.linspace(0.0, 5.0)\r\n",
        "x2 = np.linspace(0.0, 2.0)\r\n",
        "\r\n",
        "y1 = np.cos(2 * np.pi * x1) * np.exp(-x1)\r\n",
        "y2 = np.cos(2 * np.pi * x2)\r\n",
        "\r\n",
        "plt.subplot(3, 1, 1)\r\n",
        "plt.plot(x1, y1, 'o-')\r\n",
        "plt.title('A tale of 2 subplots')\r\n",
        "plt.ylabel('Damped oscillation')\r\n",
        "\r\n",
        "plt.subplot(3, 1, 1)\r\n",
        "plt.plot(x2, y2, '.-')\r\n",
        "plt.xlabel('time (s)')\r\n",
        "plt.ylabel('Undamped')\r\n",
        "\r\n",
        "plt.show()"
      ],
      "outputs": [
        {
          "output_type": "display_data",
          "data": {
            "image/png": "[encoded data removed]",
            "text/plain": [
              "<Figure size 432x288 with 1 Axes>"
            ]
          },
          "metadata": {
            "needs_background": "light"
          }
        }
      ],
      "metadata": {
        "collapsed": false
      }
    }
  ],
  "metadata": {
    "kernelspec": {
      "name": "python3",
      "display_name": "Python 3.9.7 64-bit"
    },
    "language_info": {
      "codemirror_mode": {
        "name": "ipython",
        "version": 3
      },
      "file_extension": ".py",
      "mimetype": "text/x-python",
      "name": "python",
      "nbconvert_exporter": "python",
      "pygments_lexer": "ipython3",
      "version": "3.9.7"
    },
    "interpreter": {
      "hash": "ac59ebe37160ed0dfa835113d9b8498d9f09ceb179beaac4002f036b9467c963"
    }
  },
  "nbformat": 4,
  "nbformat_minor": 2
}
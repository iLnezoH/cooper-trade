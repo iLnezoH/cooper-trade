{
 "cells": [
  {
   "cell_type": "code",
   "execution_count": 1,
   "metadata": {},
   "outputs": [],
   "source": [
    "import json\n"
   ]
  },
  {
   "cell_type": "code",
   "execution_count": 2,
   "metadata": {},
   "outputs": [],
   "source": [
    "cluster = [\n",
    "    [7432321740.0],\n",
    "    [6167522109.0],\n",
    "    [5551467928.0],\n",
    "    [2514969442.0],\n",
    "    [1042580010.0, 931749218.0, 915045194.0, 910360336.0],\n",
    "    [484014708.0, 312106827.0, 304406965.0, 260477815.0, 228769401.0, 196037656.0, 188246330.0, 182687057.0, 124618387.0, 105071824.0, 58522017.0, 58378179.0, 57389046.0, 46110565.0, 44702830.0, 41850608.0, 38570198.0, 29167362.0, 16747909.0, 13742728.0, 10806845.0, 10650500.0, 10359644.0, 9069314.0, 7251826.0, 6100002.0, 3111139.0, 3076673.0, 3062904.0, 2702001.0, 2511547.0, 2370896.0, 728920.0,\n",
    "     583481.0, 419615.0, 419593.0, 348663, 301161.0, 272260.0, 239118.0, 205957.0, 198748.0, 96097.0, 95542.0, 90400.0, 88669.0, 79206.0, 69438.0, 54103.0, 43126.0, 37155.0, 29754.0, 28766.0, 27982.0, 26389.0, 25020, 15922.0, 14991.0, 13373.0, 11000.0, 8873.0, 7428.0, 3010.0, 2789.0, 2140.0, 1884.0, 1200.0, 1051.0, 1001.0, 928.0, 757.0, 729, 588.0, 558, 496.0, 425.0, 370.0, 350.0, 320.0, 181.0, 120.0, 90.0, 56.0, 38.0, 34.0, 33.0, 20.0, 17.0, 15.0, 11.0, 10.0, 6.0, 5.0, 4.0, 3, 3.0, 2.0, 1.0, 1.0, 1.0, 0, 0, 0, 0, 0, 0, 0, 0, 0, 0, 0, 0, 0, 0, 0, 0]\n",
    "]\n"
   ]
  },
  {
   "cell_type": "code",
   "execution_count": 3,
   "metadata": {},
   "outputs": [
    {
     "data": {
      "text/plain": [
       "124"
      ]
     },
     "execution_count": 3,
     "metadata": {},
     "output_type": "execute_result"
    }
   ],
   "source": [
    "len([j for i in cluster for j in i])\n"
   ]
  },
  {
   "cell_type": "code",
   "execution_count": 4,
   "metadata": {},
   "outputs": [],
   "source": [
    "class Foo:\n",
    "    def __init__(self):\n",
    "        self.nodes = [i for i in range(0, 124)]\n",
    "        with open('src/data/network2/2011-attributes.json') as f:\n",
    "            self.attributes = json.load(f)\n",
    "\n",
    "    def set_attributes(self, attributes=None):\n",
    "\n",
    "        # ... some code\n",
    "\n",
    "        if attributes is None:\n",
    "            self.attributes = {\n",
    "                \"IS\": {\"layer\": 6, \"cluster\": cluster},\n",
    "            }\n",
    "\n",
    "    def set_attribute_probability(self):\n",
    "        for key in self.attributes.keys():\n",
    "            print(key)\n",
    "            self.attributes[key]['p'] = [len(item) / len(self.nodes)\n",
    "                                         for item in self.attributes[key][\"cluster\"]]\n",
    "            print(self.attributes[key]['p'])\n",
    "        print(self.attributes['IS']['p'])\n",
    "\n",
    "        \"\"\"\n",
    "        for attr_values in self.attributes.values():\n",
    "            attr_values['p'] = [len(item) / len(self.nodes)\n",
    "                                for item in attr_values[\"cluster\"]]\n",
    "        \"\"\"\n"
   ]
  },
  {
   "cell_type": "code",
   "execution_count": 5,
   "metadata": {},
   "outputs": [
    {
     "name": "stdout",
     "output_type": "stream",
     "text": [
      "IS\n",
      "[0.008064516129032258, 0.008064516129032258, 0.008064516129032258, 0.008064516129032258, 0.03225806451612903, 0.9354838709677419]\n",
      "OS\n",
      "[0.008064516129032258, 0.016129032258064516, 0.008064516129032258, 0.056451612903225805, 0.07258064516129033, 0.8387096774193549]\n",
      "BC\n",
      "[0.008064516129032258, 0.008064516129032258, 0.008064516129032258, 0.008064516129032258, 0.016129032258064516, 0.9516129032258065]\n",
      "DC\n",
      "[0.016129032258064516, 0.016129032258064516, 0.04032258064516129, 0.14516129032258066, 0.10483870967741936, 0.6774193548387096]\n",
      "CC\n",
      "[0.008064516129032258, 0.016129032258064516, 0.12096774193548387, 0.1532258064516129, 0.5645161290322581, 0.13709677419354838]\n",
      "E\n",
      "[0.008064516129032258, 0.008064516129032258, 0.008064516129032258, 0.03225806451612903, 0.13709677419354838, 0.8064516129032258]\n",
      "[0.008064516129032258, 0.008064516129032258, 0.008064516129032258, 0.008064516129032258, 0.03225806451612903, 0.9354838709677419]\n"
     ]
    }
   ],
   "source": [
    "f = Foo()\n",
    "print(f.attributes)\n",
    "\n",
    "f.set_attribute_probability()\n"
   ]
  },
  {
   "cell_type": "code",
   "execution_count": null,
   "metadata": {},
   "outputs": [],
   "source": []
  }
 ],
 "metadata": {
  "interpreter": {
   "hash": "ac59ebe37160ed0dfa835113d9b8498d9f09ceb179beaac4002f036b9467c963"
  },
  "kernelspec": {
   "display_name": "Python 3.9.7 64-bit",
   "name": "python3"
  },
  "language_info": {
   "codemirror_mode": {
    "name": "ipython",
    "version": 3
   },
   "file_extension": ".py",
   "mimetype": "text/x-python",
   "name": "python",
   "nbconvert_exporter": "python",
   "pygments_lexer": "ipython3",
   "version": "3.9.7"
  },
  "orig_nbformat": 4
 },
 "nbformat": 4,
 "nbformat_minor": 2
}

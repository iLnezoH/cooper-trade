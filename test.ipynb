{
 "cells": [
  {
   "cell_type": "markdown",
   "metadata": {},
   "source": []
  },
  {
   "cell_type": "code",
   "execution_count": 1,
   "metadata": {},
   "outputs": [],
   "source": [
    "import json\n",
    "from src.modules.fullDose import *\n",
    "from src.main import *\n",
    "\n",
    "a = FullDoseDT()\n"
   ]
  },
  {
   "cell_type": "code",
   "execution_count": 2,
   "metadata": {},
   "outputs": [
    {
     "name": "stdout",
     "output_type": "stream",
     "text": [
      "747 248 249 1244\n"
     ]
    }
   ],
   "source": [
    "print(len(a.train_data), len(a.test_data), len(a.validate_data), len(a.data))\n"
   ]
  },
  {
   "cell_type": "code",
   "execution_count": 3,
   "metadata": {},
   "outputs": [],
   "source": [
    "a.train()\n"
   ]
  },
  {
   "cell_type": "code",
   "execution_count": 4,
   "metadata": {},
   "outputs": [
    {
     "name": "stdout",
     "output_type": "stream",
     "text": [
      "241\n"
     ]
    }
   ],
   "source": [
    "print(len(a.decision_list))\n"
   ]
  },
  {
   "cell_type": "code",
   "execution_count": 5,
   "metadata": {},
   "outputs": [
    {
     "name": "stdout",
     "output_type": "stream",
     "text": [
      "决策树的正确率： 93.14516129032258 %\n",
      "决策树的正确率： 91.16465863453816 %\n",
      "决策树的正确率： 96.5194109772423 %\n"
     ]
    }
   ],
   "source": [
    "a.test()\n",
    "a.test(a.validate_data)\n",
    "a.test(a.train_data)\n"
   ]
  },
  {
   "cell_type": "code",
   "execution_count": 6,
   "metadata": {},
   "outputs": [],
   "source": [
    "len(a.decision_list)\n",
    "complete_tree = pd.DataFrame(a.decision_list)\n",
    "write_to_excel(complete_tree, 'excel/t4.1_complete_tree.xlsx')\n"
   ]
  },
  {
   "cell_type": "code",
   "execution_count": 7,
   "metadata": {},
   "outputs": [],
   "source": [
    "a.cut()\n"
   ]
  },
  {
   "cell_type": "code",
   "execution_count": 8,
   "metadata": {},
   "outputs": [
    {
     "name": "stdout",
     "output_type": "stream",
     "text": [
      "56\n",
      "决策树的正确率： 91.12903225806451 %\n",
      "决策树的正确率： 92.3694779116466 %\n",
      "决策树的正确率： 93.17269076305222 %\n"
     ]
    }
   ],
   "source": [
    "print(len(a.decision_list))\n",
    "a.test()\n",
    "a.test(a.validate_data)\n",
    "a.test(a.train_data)\n"
   ]
  },
  {
   "cell_type": "code",
   "execution_count": 9,
   "metadata": {},
   "outputs": [],
   "source": [
    "import pandas as pd\n"
   ]
  },
  {
   "cell_type": "code",
   "execution_count": 10,
   "metadata": {},
   "outputs": [],
   "source": [
    "cut_tree = pd.DataFrame(a.decision_list)\n",
    "write_to_excel(cut_tree, 'excel/t4.2_cut_tree.xlsx')\n"
   ]
  },
  {
   "cell_type": "code",
   "execution_count": 11,
   "metadata": {},
   "outputs": [],
   "source": [
    "Ps = {\n",
    "    'DC': 0,\n",
    "    'OS': 0,\n",
    "    'IS': 0,\n",
    "    'BC': 0,\n",
    "    'CC': 0,\n",
    "}\n",
    "for path in a.decision_list:\n",
    "    for attr in Ps.keys():\n",
    "        if attr in path.keys():\n",
    "            Ps[attr] += 1\n",
    "\n",
    "\n",
    "count = np.array(list(Ps.values()))\n",
    "\n",
    "y = count / 56\n"
   ]
  },
  {
   "cell_type": "code",
   "execution_count": 12,
   "metadata": {},
   "outputs": [
    {
     "name": "stdout",
     "output_type": "stream",
     "text": [
      "[1.         0.85714286 0.78571429 0.10714286 0.21428571]\n"
     ]
    }
   ],
   "source": [
    "Ps = {\n",
    "    'DC': 0,\n",
    "    'OS': 0,\n",
    "    'IS': 0,\n",
    "    'BC': 0,\n",
    "    'CC': 0,\n",
    "}\n",
    "for path in a.decision_list:\n",
    "    for attr in Ps.keys():\n",
    "        if attr in path.keys():\n",
    "            Ps[attr] += 1\n",
    "\n",
    "\n",
    "count = np.array(list(Ps.values()))\n",
    "\n",
    "ys = count / 56\n",
    "\n",
    "print(ys)\n"
   ]
  },
  {
   "cell_type": "markdown",
   "metadata": {},
   "source": []
  },
  {
   "cell_type": "code",
   "execution_count": 13,
   "metadata": {},
   "outputs": [
    {
     "data": {
      "image/png": "[encoded data removed]",
      "text/plain": [
       "<Figure size 432x288 with 1 Axes>"
      ]
     },
     "metadata": {
      "needs_background": "light"
     },
     "output_type": "display_data"
    }
   ],
   "source": [
    "fig, axes = plt.subplots()\n",
    "xs = list(Ps.keys())\n",
    "axes.bar(xs, ys, width=0.5, color=\"k\")\n",
    "axes.spines[['right', 'top']].set_visible(False)\n",
    "for x, y in zip(xs, ys):\n",
    "    plt.text(x, y+0.02, '%.2f' % y, ha=\"center\")\n",
    "\n",
    "axes.set_ylabel('概率')\n",
    "axes.set_xlabel('条件属性')\n",
    "\n",
    "plt.title('图3 条件属性在决策路径中的概率分布', y=-0.3, size=11)\n",
    "plt.savefig('c3.svg', format=\"svg\", bbox_inches=\"tight\")\n",
    "plt.show()\n"
   ]
  },
  {
   "cell_type": "code",
   "execution_count": 14,
   "metadata": {},
   "outputs": [],
   "source": [
    "Ps = [0 for _ in range(len(a.decision_list))]\n"
   ]
  },
  {
   "cell_type": "code",
   "execution_count": 15,
   "metadata": {},
   "outputs": [],
   "source": [
    "for node in a.test_data:\n",
    "    for i, path in enumerate(a.decision_list):\n",
    "        is_hit = True\n",
    "        for attr, v in path.items():\n",
    "            if attr == 'label':\n",
    "                continue\n",
    "            if v != node[attr]:\n",
    "                is_hit = False\n",
    "                # break\n",
    "        if(is_hit):\n",
    "            Ps[i] += 1\n",
    "            # break\n"
   ]
  },
  {
   "cell_type": "code",
   "execution_count": 16,
   "metadata": {},
   "outputs": [
    {
     "data": {
      "text/plain": [
       "248"
      ]
     },
     "execution_count": 16,
     "metadata": {},
     "output_type": "execute_result"
    }
   ],
   "source": [
    "len(a.test_data)\n"
   ]
  },
  {
   "cell_type": "code",
   "execution_count": 17,
   "metadata": {},
   "outputs": [
    {
     "data": {
      "text/plain": [
       "[1, 3, 5, 11, 21, 15]"
      ]
     },
     "execution_count": 17,
     "metadata": {},
     "output_type": "execute_result"
    }
   ],
   "source": [
    "cluster = [[] for _ in range(0, 6)]\n",
    "for i, path in enumerate(a.decision_list):\n",
    "    cluster[path['label'] - 1].append(Ps[i])\n",
    "\n",
    "group_count = [len(g) for g in cluster]\n",
    "\n",
    "group_count\n"
   ]
  },
  {
   "cell_type": "code",
   "execution_count": 18,
   "metadata": {},
   "outputs": [],
   "source": [
    "cluster = [[count for count in label if count > 0] for label in cluster]\n",
    "\n",
    "total = sum([sum(g) for g in cluster])\n"
   ]
  },
  {
   "cell_type": "code",
   "execution_count": 19,
   "metadata": {},
   "outputs": [
    {
     "data": {
      "image/png": "[encoded data removed]",
      "text/plain": [
       "<Figure size 432x288 with 1 Axes>"
      ]
     },
     "metadata": {
      "needs_background": "light"
     },
     "output_type": "display_data"
    }
   ],
   "source": [
    "fig, axes = plt.subplots()\n",
    "\n",
    "x_offset = 0\n",
    "width = 0.8\n",
    "group_gap = 2\n",
    "\n",
    "x_ticks = []\n",
    "\n",
    "max_y = 0\n",
    "\n",
    "for i, group in enumerate(cluster):\n",
    "    xs = np.arange(0, len(group)) + x_offset + width / 2 + group_gap\n",
    "    ys = [count / total for count in sorted(group)]\n",
    "    x_offset = xs[-1]\n",
    "\n",
    "    tick = (xs[-1] + xs[0]) / 2\n",
    "    x_ticks.append(tick)\n",
    "\n",
    "    axes.text(xs[-1], ys[-1] + 0.02, '%.3f' % ys[-1], ha=\"center\", fontsize=11)\n",
    "\n",
    "    if ys[-1] > max_y:\n",
    "        max_y = ys[-1]\n",
    "\n",
    "    axes.bar(xs, ys, width=0.8, color=\"k\")\n",
    "\n",
    "for i, count in enumerate(group_count):\n",
    "    axes.text(x_ticks[i], max_y + 0.04, count, ha=\"center\", fontsize=11)\n",
    "\n",
    "axes.set_xticks(x_ticks)\n",
    "axes.set_xticklabels([1, 2, 3, 4, 5, 6])\n",
    "\n",
    "axes.set_ylabel(r'$P_{Path_l}$', size=11)\n",
    "axes.set_xlabel(r'j', size=11)\n",
    "\n",
    "plt.title('图4 决策路径的分布概率', y=-0.3, size=11)\n",
    "\n",
    "\n",
    "axes.spines[['top', 'right']].set_visible(False)\n",
    "\n",
    "plt.savefig('c4.svg', format=\"svg\", bbox_inches=\"tight\")\n"
   ]
  },
  {
   "cell_type": "code",
   "execution_count": 20,
   "metadata": {},
   "outputs": [
    {
     "data": {
      "image/png": "[encoded data removed]",
      "text/plain": [
       "<Figure size 432x288 with 1 Axes>"
      ]
     },
     "metadata": {
      "needs_background": "light"
     },
     "output_type": "display_data"
    }
   ],
   "source": [
    "hierarchical_risk = [sum(g) / total for g in cluster]\n",
    "\n",
    "fig, ax = plt.subplots()\n",
    "ys = hierarchical_risk\n",
    "xs = np.arange(1, len(ys) + 1)\n",
    "\n",
    "ax.spines[['right', 'top']].set_visible(False)\n",
    "for x, y in zip(xs, ys):\n",
    "    plt.text(x, y+0.02, '%.3f' % y, ha=\"center\")\n",
    "\n",
    "ax.set_xlabel(r'$j$', fontsize=11)\n",
    "ax.set_ylabel(r'$P_j$', fontsize=11)\n",
    "\n",
    "\n",
    "ax.bar(xs, ys, width=0.5, color=\"k\")\n",
    "\n",
    "plt.title('图5 线路脆弱性层次风险', y=-0.3, size=11)\n",
    "\n",
    "plt.savefig(\"c5.svg\", format=\"svg\", bbox_inches=\"tight\")\n"
   ]
  },
  {
   "cell_type": "code",
   "execution_count": 21,
   "metadata": {},
   "outputs": [],
   "source": [
    "with open(\"src/data/all_Es.json\") as f:\n",
    "    all_Es = json.load(f)\n",
    "Es = [item['E'] for item in all_Es]\n"
   ]
  },
  {
   "cell_type": "code",
   "execution_count": 24,
   "metadata": {},
   "outputs": [
    {
     "data": {
      "text/plain": [
       "'\\nclusters, nodes = Report.cluster_nodes_by(all_Es, \\'E\\', \\'E\\', layers=50)\\nwith open(\"src/data/all_Es_cluster_50.json\", \\'w\\') as f:\\n    json.dump(clusters, f)\\n'"
      ]
     },
     "execution_count": 24,
     "metadata": {},
     "output_type": "execute_result"
    }
   ],
   "source": [
    "'''\n",
    "clusters, nodes = Report.cluster_nodes_by(all_Es, 'E', 'E', layers=50)\n",
    "with open(\"src/data/all_Es_cluster_50.json\", 'w') as f:\n",
    "    json.dump(clusters, f)\n",
    "'''\n"
   ]
  },
  {
   "cell_type": "code",
   "execution_count": 26,
   "metadata": {},
   "outputs": [],
   "source": [
    "with open(\"src/data/all_Es_cluster_50.json\") as f:\n",
    "    clusters = json.load(f)\n"
   ]
  },
  {
   "cell_type": "code",
   "execution_count": 27,
   "metadata": {},
   "outputs": [],
   "source": [
    "Ps = [len(cls) / len(all_Es) for cls in clusters]\n"
   ]
  },
  {
   "cell_type": "code",
   "execution_count": 28,
   "metadata": {},
   "outputs": [],
   "source": [
    "def find_ind(v):\n",
    "    for ind, group in enumerate(clusters):\n",
    "        if v in group:\n",
    "            return ind\n"
   ]
  },
  {
   "cell_type": "code",
   "execution_count": 109,
   "metadata": {},
   "outputs": [
    {
     "data": {
      "image/png": "[encoded data removed]",
      "text/plain": [
       "<Figure size 720x432 with 1 Axes>"
      ]
     },
     "metadata": {
      "needs_background": "light"
     },
     "output_type": "display_data"
    }
   ],
   "source": [
    "with open(\"src/data/Es_20.json\") as f:\n",
    "    Es_20 = json.load(f)\n",
    "\n",
    "\n",
    "xs = [item['E'] for item in Es_20]\n",
    "ys = [Ps[find_ind(x)] for x in xs]\n",
    "\n",
    "xs_m = sum(xs) / len(xs)\n",
    "ys_m = sum(ys) / len(ys)\n",
    "\n",
    "xys = list(zip(xs, ys))\n",
    "hh = [xy for xy in xys if xy[0] > xs_m and xy[1] > ys_m]\n",
    "hl = [xy for xy in xys if xy[0] > xs_m and xy[1] <= ys_m]\n",
    "lh = [xy for xy in xys if xy[0] <= xs_m and xy[1] > ys_m]\n",
    "ll = [xy for xy in xys if xy[0] <= xs_m and xy[1] <= ys_m]\n",
    "\n",
    "fig, axe = plt.subplots(figsize=(10, 6))\n",
    "axe.scatter(xs, ys, marker='*', c=\"k\", linewidths=0.5)\n",
    "axe.axhline(y=ys_m, c='k', ls='--', lw=1)\n",
    "axe.axvline(x=xs_m, c='k', ls='--', lw=1)\n",
    "\n",
    "x_ticks = list(axe.get_xticks())\n",
    "x_ticks.append(xs_m)\n",
    "axe.set_xticks(x_ticks)\n",
    "y_ticks = list(axe.get_yticks())\n",
    "y_ticks.append(ys_m)\n",
    "axe.set_yticks(y_ticks)\n",
    "\n",
    "axe.set_xlabel('脆弱性指标', fontsize=11)\n",
    "axe.set_ylabel('概率', fontsize=11)\n",
    "\n",
    "axe.spines[['right',  'top']].set_visible(False)\n",
    "count = str(len(lh)) + '  ' + str(len(hh)) + '\\n' + \\\n",
    "    str(len(ll)) + '  ' + str(len(hl))\n",
    "axe.text(xs_m-0.1, ys_m+0.01, str(len(lh)), va=\"bottom\", ha=\"right\", fontsize=11)\n",
    "axe.text(xs_m+0.1, ys_m+0.01, str(len(hh)), va=\"bottom\", ha=\"left\", fontsize=11)\n",
    "axe.text(xs_m-0.1, ys_m-0.01, str(len(ll)), va=\"top\", ha=\"right\", fontsize=11)\n",
    "axe.text(xs_m+0.1, ys_m-0.01, str(len(hl)), va=\"top\", ha=\"left\", fontsize=11)\n",
    "axe.set_xlim(0, None)\n",
    "axe.set_ylim(0, None)\n",
    "\n",
    "plt.title('图6 2020年各节点脆弱性的概率水平', y=-0.2, size=11)\n",
    "plt.savefig('c6.svg', format=\"svg\", bbox_inches=\"tight\")\n",
    "\n",
    "plt.show()\n"
   ]
  },
  {
   "cell_type": "code",
   "execution_count": null,
   "metadata": {},
   "outputs": [],
   "source": []
  },
  {
   "cell_type": "code",
   "execution_count": null,
   "metadata": {},
   "outputs": [],
   "source": []
  }
 ],
 "metadata": {
  "interpreter": {
   "hash": "ac59ebe37160ed0dfa835113d9b8498d9f09ceb179beaac4002f036b9467c963"
  },
  "kernelspec": {
   "display_name": "Python 3.9.7 64-bit",
   "name": "python3"
  },
  "language_info": {
   "codemirror_mode": {
    "name": "ipython",
    "version": 3
   },
   "file_extension": ".py",
   "mimetype": "text/x-python",
   "name": "python",
   "nbconvert_exporter": "python",
   "pygments_lexer": "ipython3",
   "version": "3.9.7"
  },
  "orig_nbformat": 4
 },
 "nbformat": 4,
 "nbformat_minor": 2
}

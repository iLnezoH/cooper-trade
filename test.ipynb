{
 "cells": [
  {
   "cell_type": "markdown",
   "metadata": {},
   "source": []
  },
  {
   "cell_type": "code",
   "execution_count": 332,
   "metadata": {},
   "outputs": [],
   "source": [
    "import json\n",
    "from src.modules.fullDose import *\n",
    "from src.main import *\n",
    "\n",
    "a = FullDoseDT()\n"
   ]
  },
  {
   "cell_type": "code",
   "execution_count": 333,
   "metadata": {},
   "outputs": [
    {
     "name": "stdout",
     "output_type": "stream",
     "text": [
      "704 234 235 1173\n"
     ]
    }
   ],
   "source": [
    "print(len(a.train_data), len(a.test_data), len(a.validate_data), len(a.data))\n"
   ]
  },
  {
   "cell_type": "code",
   "execution_count": 334,
   "metadata": {},
   "outputs": [],
   "source": [
    "a.train()\n"
   ]
  },
  {
   "cell_type": "code",
   "execution_count": 335,
   "metadata": {},
   "outputs": [
    {
     "name": "stdout",
     "output_type": "stream",
     "text": [
      "221\n"
     ]
    }
   ],
   "source": [
    "print(len(a.decision_list))\n"
   ]
  },
  {
   "cell_type": "code",
   "execution_count": 336,
   "metadata": {},
   "outputs": [
    {
     "name": "stdout",
     "output_type": "stream",
     "text": [
      "决策树的正确率： 93.58974358974359 %\n",
      "决策树的正确率： 92.34042553191489 %\n",
      "决策树的正确率： 97.44318181818183 %\n"
     ]
    }
   ],
   "source": [
    "a.test()\n",
    "a.test(a.validate_data)\n",
    "a.test(a.train_data)\n"
   ]
  },
  {
   "cell_type": "code",
   "execution_count": null,
   "metadata": {},
   "outputs": [],
   "source": []
  },
  {
   "cell_type": "code",
   "execution_count": 337,
   "metadata": {},
   "outputs": [],
   "source": [
    "len(a.decision_list)\n",
    "complete_tree = pd.DataFrame(a.decision_list)\n",
    "write_to_excel(complete_tree, 'excel/t4.1_complete_tree.xlsx')\n"
   ]
  },
  {
   "cell_type": "code",
   "execution_count": 338,
   "metadata": {},
   "outputs": [],
   "source": [
    "a.cut()\n"
   ]
  },
  {
   "cell_type": "code",
   "execution_count": 339,
   "metadata": {},
   "outputs": [
    {
     "name": "stdout",
     "output_type": "stream",
     "text": [
      "56\n",
      "决策树的正确率： 92.73504273504274 %\n",
      "决策树的正确率： 94.04255319148936 %\n",
      "决策树的正确率： 93.18181818181817 %\n"
     ]
    }
   ],
   "source": [
    "print(len(a.decision_list))\n",
    "a.test()\n",
    "a.test(a.validate_data)\n",
    "a.test(a.train_data)\n"
   ]
  },
  {
   "cell_type": "code",
   "execution_count": 340,
   "metadata": {},
   "outputs": [],
   "source": [
    "import pandas as pd\n"
   ]
  },
  {
   "cell_type": "code",
   "execution_count": 341,
   "metadata": {},
   "outputs": [],
   "source": [
    "cut_tree = pd.DataFrame(a.decision_list)\n",
    "write_to_excel(cut_tree, 'excel/t4.2_cut_tree.xlsx')\n"
   ]
  },
  {
   "cell_type": "code",
   "execution_count": 342,
   "metadata": {},
   "outputs": [],
   "source": [
    "Ps = {\n",
    "    'DC': 0,\n",
    "    'OS': 0,\n",
    "    'IS': 0,\n",
    "    'BC': 0,\n",
    "    'CC': 0,\n",
    "}\n",
    "for path in a.decision_list:\n",
    "    for attr in Ps.keys():\n",
    "        if attr in path.keys():\n",
    "            Ps[attr] += 1\n",
    "\n",
    "\n",
    "count = np.array(list(Ps.values()))\n",
    "\n",
    "y = count / 56\n"
   ]
  },
  {
   "cell_type": "code",
   "execution_count": 343,
   "metadata": {},
   "outputs": [
    {
     "name": "stdout",
     "output_type": "stream",
     "text": [
      "[1.         0.67857143 0.875      0.39285714 0.10714286]\n"
     ]
    }
   ],
   "source": [
    "Ps = {\n",
    "    'DC': 0,\n",
    "    'OS': 0,\n",
    "    'IS': 0,\n",
    "    'BC': 0,\n",
    "    'CC': 0,\n",
    "}\n",
    "for path in a.decision_list:\n",
    "    for attr in Ps.keys():\n",
    "        if attr in path.keys():\n",
    "            Ps[attr] += 1\n",
    "\n",
    "\n",
    "count = np.array(list(Ps.values()))\n",
    "\n",
    "ys = count / 56\n",
    "\n",
    "print(ys)\n"
   ]
  },
  {
   "cell_type": "markdown",
   "metadata": {},
   "source": []
  },
  {
   "cell_type": "code",
   "execution_count": 344,
   "metadata": {},
   "outputs": [
    {
     "data": {
      "image/png": "[encoded data removed]",
      "text/plain": [
       "<Figure size 432x288 with 1 Axes>"
      ]
     },
     "metadata": {
      "needs_background": "light"
     },
     "output_type": "display_data"
    }
   ],
   "source": [
    "fig, axes = plt.subplots()\n",
    "xs = list(Ps.keys())\n",
    "axes.bar(xs, ys, width=0.5, color=\"#012E6B\")\n",
    "axes.spines[['right', 'top']].set_visible(False)\n",
    "for x, y in zip(xs, ys):\n",
    "    plt.text(x, y+0.02, '%.2f' % y, ha=\"center\")\n",
    "\n",
    "axes.set_ylabel('P')\n",
    "# axes.set_xlabel('条件属性')\n",
    "\n",
    "plt.savefig('c5.svg', format=\"svg\", bbox_inches=\"tight\")\n",
    "plt.show()\n"
   ]
  },
  {
   "cell_type": "code",
   "execution_count": 345,
   "metadata": {},
   "outputs": [],
   "source": [
    "Ps = [0 for _ in range(len(a.decision_list))]\n"
   ]
  },
  {
   "cell_type": "code",
   "execution_count": 346,
   "metadata": {},
   "outputs": [],
   "source": [
    "for node in a.data:\n",
    "    for i, path in enumerate(a.decision_list):\n",
    "        is_hit = True\n",
    "        for attr, v in path.items():\n",
    "            if attr == 'label':\n",
    "                continue\n",
    "            if v != node[attr]:\n",
    "                is_hit = False\n",
    "                # break\n",
    "        if(is_hit):\n",
    "            Ps[i] += 1\n",
    "            # break\n"
   ]
  },
  {
   "cell_type": "code",
   "execution_count": 347,
   "metadata": {},
   "outputs": [
    {
     "data": {
      "text/plain": [
       "[10,\n",
       " 20,\n",
       " 8,\n",
       " 5,\n",
       " 1,\n",
       " 0,\n",
       " 0,\n",
       " 3,\n",
       " 0,\n",
       " 1,\n",
       " 5,\n",
       " 11,\n",
       " 0,\n",
       " 0,\n",
       " 10,\n",
       " 4,\n",
       " 2,\n",
       " 0,\n",
       " 1,\n",
       " 0,\n",
       " 4,\n",
       " 2,\n",
       " 0,\n",
       " 0,\n",
       " 0,\n",
       " 2,\n",
       " 1,\n",
       " 0,\n",
       " 0,\n",
       " 6,\n",
       " 7,\n",
       " 7,\n",
       " 19,\n",
       " 1,\n",
       " 5,\n",
       " 5,\n",
       " 5,\n",
       " 7,\n",
       " 40,\n",
       " 0,\n",
       " 4,\n",
       " 0,\n",
       " 4,\n",
       " 0,\n",
       " 0,\n",
       " 0,\n",
       " 0,\n",
       " 8,\n",
       " 0,\n",
       " 0,\n",
       " 1,\n",
       " 3,\n",
       " 2,\n",
       " 21,\n",
       " 145,\n",
       " 793]"
      ]
     },
     "execution_count": 347,
     "metadata": {},
     "output_type": "execute_result"
    }
   ],
   "source": [
    "Ps"
   ]
  },
  {
   "cell_type": "code",
   "execution_count": 348,
   "metadata": {},
   "outputs": [],
   "source": [
    "cluster = [[] for _ in range(0, 6)]\n",
    "for i, path in enumerate(a.decision_list):\n",
    "    cluster[path['label'] - 1].append(Ps[i])\n",
    "\n",
    "group_count = [len(g) for g in cluster]\n",
    "\n"
   ]
  },
  {
   "cell_type": "code",
   "execution_count": 349,
   "metadata": {},
   "outputs": [],
   "source": [
    "cluster = [[count for count in label if count > 0] for label in cluster]\n",
    "\n",
    "total = sum([sum(g) for g in cluster])\n"
   ]
  },
  {
   "cell_type": "code",
   "execution_count": 350,
   "metadata": {},
   "outputs": [
    {
     "name": "stdout",
     "output_type": "stream",
     "text": [
      "[2.4]\n",
      "[4.8 5.8 6.8]\n",
      "[ 9.2 10.2 11.2 12.2 13.2]\n",
      "[15.6 16.6 17.6 18.6 19.6 20.6 21.6 22.6]\n",
      "[25. 26. 27. 28. 29. 30. 31. 32.]\n",
      "[34.4 35.4 36.4 37.4 38.4 39.4 40.4 41.4 42.4 43.4 44.4]\n"
     ]
    },
    {
     "data": {
      "image/png": "[encoded data removed]",
      "text/plain": [
       "<Figure size 432x288 with 1 Axes>"
      ]
     },
     "metadata": {
      "needs_background": "light"
     },
     "output_type": "display_data"
    }
   ],
   "source": [
    "fig, axes = plt.subplots()\n",
    "\n",
    "x_offset = 0\n",
    "width = 0.8\n",
    "group_gap = 2\n",
    "\n",
    "x_ticks = []\n",
    "\n",
    "max_y = 0\n",
    "\n",
    "for i, group in enumerate(cluster):\n",
    "    xs = np.arange(0, len(group)) + x_offset + width / 2 + group_gap\n",
    "    print(xs)\n",
    "    ys = [count / total for count in sorted(group)]\n",
    "    x_offset = xs[-1]\n",
    "\n",
    "    tick = (xs[-1] + xs[0]) / 2\n",
    "    x_ticks.append(tick)\n",
    "\n",
    "    axes.text(xs[-1], ys[-1] + 0.02, '%.3f' % ys[-1], ha=\"center\", fontsize=11)\n",
    "\n",
    "    if ys[-1] > max_y:\n",
    "        max_y = ys[-1]\n",
    "\n",
    "    axes.bar(xs, ys, width=0.8, color=\"#012E6B\")\n",
    "\n",
    "for i, count in enumerate(group_count):\n",
    "    axes.text(x_ticks[i], max_y + 0.06, count, ha=\"center\", fontsize=11)\n",
    "\n",
    "axes.set_xticks(x_ticks)\n",
    "axes.set_xticklabels([1, 2, 3, 4, 5, 6])\n",
    "\n",
    "axes.set_ylabel(r'$P_{Path_l}$', size=11)\n",
    "axes.set_xlabel(r'j', size=11)\n",
    "\n",
    "# plt.title('图6 决策路径的分布概率', y=-0.3, size=11)\n",
    "\n",
    "\n",
    "axes.spines[['top', 'right']].set_visible(False)\n",
    "\n",
    "plt.savefig('c6.svg', format=\"svg\", bbox_inches=\"tight\")\n"
   ]
  },
  {
   "cell_type": "code",
   "execution_count": 351,
   "metadata": {},
   "outputs": [
    {
     "data": {
      "image/png": "[encoded data removed]",
      "text/plain": [
       "<Figure size 432x288 with 1 Axes>"
      ]
     },
     "metadata": {
      "needs_background": "light"
     },
     "output_type": "display_data"
    }
   ],
   "source": [
    "hierarchical_risk = [sum(g) / total for g in cluster]\n",
    "\n",
    "fig, ax = plt.subplots()\n",
    "ys = hierarchical_risk\n",
    "xs = np.arange(1, len(ys) + 1)\n",
    "\n",
    "ax.spines[['right', 'top']].set_visible(False)\n",
    "for x, y in zip(xs, ys):\n",
    "    plt.text(x, y+0.02, '%.3f' % y, ha=\"center\")\n",
    "\n",
    "ax.set_xlabel(r'$j$', fontsize=11)\n",
    "ax.set_ylabel(r'$P_j$', fontsize=11)\n",
    "\n",
    "\n",
    "ax.bar(xs, ys, width=0.5, color=\"#012E6B\")\n",
    "\n",
    "# plt.title('图7 线路脆弱性层次风险', y=-0.3, size=11)\n",
    "\n",
    "plt.savefig(\"c7.svg\", format=\"svg\", bbox_inches=\"tight\")\n"
   ]
  },
  {
   "cell_type": "code",
   "execution_count": 352,
   "metadata": {},
   "outputs": [],
   "source": [
    "with open(\"src/data/all_Es.json\") as f:\n",
    "    all_Es = json.load(f)\n",
    "Es = [item['E'] for item in all_Es]\n"
   ]
  },
  {
   "cell_type": "code",
   "execution_count": 353,
   "metadata": {},
   "outputs": [
    {
     "data": {
      "text/plain": [
       "'\\nclusters, nodes = Report.cluster_nodes_by(all_Es, \\'E\\', \\'E\\', layers=50)\\nwith open(\"src/data/all_Es_cluster_50.json\", \\'w\\') as f:\\n    json.dump(clusters, f)\\n'"
      ]
     },
     "execution_count": 353,
     "metadata": {},
     "output_type": "execute_result"
    }
   ],
   "source": [
    "'''\n",
    "clusters, nodes = Report.cluster_nodes_by(all_Es, 'E', 'E', layers=50)\n",
    "with open(\"src/data/all_Es_cluster_50.json\", 'w') as f:\n",
    "    json.dump(clusters, f)\n",
    "'''\n"
   ]
  },
  {
   "cell_type": "code",
   "execution_count": 354,
   "metadata": {},
   "outputs": [],
   "source": [
    "with open(\"src/data/all_Es_cluster_50.json\") as f:\n",
    "    clusters = json.load(f)\n"
   ]
  },
  {
   "cell_type": "code",
   "execution_count": 355,
   "metadata": {},
   "outputs": [],
   "source": [
    "Ps = [len(cls) / len(all_Es) for cls in clusters]\n"
   ]
  },
  {
   "cell_type": "code",
   "execution_count": 356,
   "metadata": {},
   "outputs": [],
   "source": [
    "def find_ind(v):\n",
    "    for ind, group in enumerate(clusters):\n",
    "        if v in group:\n",
    "            return ind\n"
   ]
  },
  {
   "cell_type": "code",
   "execution_count": 357,
   "metadata": {},
   "outputs": [
    {
     "data": {
      "image/png": "[encoded data removed]",
      "text/plain": [
       "<Figure size 720x432 with 1 Axes>"
      ]
     },
     "metadata": {
      "needs_background": "light"
     },
     "output_type": "display_data"
    }
   ],
   "source": [
    "with open(\"src/data/Es_20.json\") as f:\n",
    "    Es_20 = json.load(f)\n",
    "\n",
    "\n",
    "xs = [item['E'] for item in Es_20]\n",
    "ys = [Ps[find_ind(x)] for x in xs]\n",
    "\n",
    "xs_m = sum(xs) / len(xs)\n",
    "ys_m = sum(ys) / len(ys)\n",
    "\n",
    "xys = list(zip(xs, ys))\n",
    "hh = [xy for xy in xys if xy[0] > xs_m and xy[1] > ys_m]\n",
    "hl = [xy for xy in xys if xy[0] > xs_m and xy[1] <= ys_m]\n",
    "lh = [xy for xy in xys if xy[0] <= xs_m and xy[1] > ys_m]\n",
    "ll = [xy for xy in xys if xy[0] <= xs_m and xy[1] <= ys_m]\n",
    "\n",
    "fig, axe = plt.subplots(figsize=(10, 6))\n",
    "axe.scatter(xs, ys, marker='*', c=\"#012E6B\", linewidths=0.5)\n",
    "axe.axhline(y=ys_m, c='#012E6B', ls='--', lw=1)\n",
    "axe.axvline(x=xs_m, c='#012E6B', ls='--', lw=1)\n",
    "\n",
    "x_ticks = list(axe.get_xticks())\n",
    "x_ticks.append(xs_m)\n",
    "axe.set_xticks(x_ticks)\n",
    "y_ticks = list(axe.get_yticks())\n",
    "y_ticks.append(ys_m)\n",
    "axe.set_yticks(y_ticks)\n",
    "\n",
    "axe.set_xlabel('脆弱性指标', fontsize=11)\n",
    "axe.set_ylabel('概率', fontsize=11)\n",
    "\n",
    "axe.spines[['right',  'top']].set_visible(False)\n",
    "count = str(len(lh)) + '  ' + str(len(hh)) + '\\n' + \\\n",
    "    str(len(ll)) + '  ' + str(len(hl))\n",
    "axe.text(xs_m-0.1, ys_m+0.01, str(len(lh)), va=\"bottom\", ha=\"right\", fontsize=11)\n",
    "axe.text(xs_m+0.1, ys_m+0.01, str(len(hh)), va=\"bottom\", ha=\"left\", fontsize=11)\n",
    "axe.text(xs_m-0.1, ys_m-0.01, str(len(ll)), va=\"top\", ha=\"right\", fontsize=11)\n",
    "axe.text(xs_m+0.1, ys_m-0.01, str(len(hl)), va=\"top\", ha=\"left\", fontsize=11)\n",
    "axe.set_xlim(0, None)\n",
    "axe.set_ylim(0, None)\n",
    "\n",
    "# plt.title('图8 2020年各节点脆弱性的概率水平', y=-0.2, size=11)\n",
    "plt.savefig('c8.svg', format=\"svg\", bbox_inches=\"tight\")\n",
    "\n",
    "plt.show()\n"
   ]
  },
  {
   "cell_type": "code",
   "execution_count": null,
   "metadata": {},
   "outputs": [],
   "source": []
  },
  {
   "cell_type": "code",
   "execution_count": null,
   "metadata": {},
   "outputs": [],
   "source": []
  }
 ],
 "metadata": {
  "interpreter": {
   "hash": "ac59ebe37160ed0dfa835113d9b8498d9f09ceb179beaac4002f036b9467c963"
  },
  "kernelspec": {
   "display_name": "Python 3.9.7 64-bit",
   "name": "python3"
  },
  "language_info": {
   "codemirror_mode": {
    "name": "ipython",
    "version": 3
   },
   "file_extension": ".py",
   "mimetype": "text/x-python",
   "name": "python",
   "nbconvert_exporter": "python",
   "pygments_lexer": "ipython3",
   "version": "3.8.9"
  },
  "orig_nbformat": 4
 },
 "nbformat": 4,
 "nbformat_minor": 2
}

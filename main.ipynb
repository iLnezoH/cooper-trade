{
 "metadata": {
  "language_info": {
   "codemirror_mode": {
    "name": "ipython",
    "version": 3
   },
   "file_extension": ".py",
   "mimetype": "text/x-python",
   "name": "python",
   "nbconvert_exporter": "python",
   "pygments_lexer": "ipython3",
   "version": "3.9.5"
  },
  "orig_nbformat": 4,
  "kernelspec": {
   "name": "python3",
   "display_name": "Python 3.9.5 64-bit"
  },
  "interpreter": {
   "hash": "aee8b7b246df8f9039afb4144a1f6fd8d2ca17a180786b69acc140d282b71a49"
  }
 },
 "nbformat": 4,
 "nbformat_minor": 2,
 "cells": [
  {
   "source": [
    "## 1. 数据处理和分析"
   ],
   "cell_type": "markdown",
   "metadata": {}
  },
  {
   "cell_type": "code",
   "execution_count": 192,
   "metadata": {},
   "outputs": [],
   "source": [
    "import pandas as pd"
   ]
  },
  {
   "source": [
    "读取从 [UN Comtrade Database](https://comtrade.un.org/data/) 获取的 2019 年全球铜及其精炼物（2603）贸易记录，并处理：\n",
    "\n",
    "1. 去除贸易对象为 World 的数据行\n",
    "2. 并保留关心的数据列：报告者及其代码、贸易对象及代码、贸易类型、贸易额\n"
   ],
   "cell_type": "markdown",
   "metadata": {}
  },
  {
   "source": [
    "resourceData = pd.read_csv('2019-world-copper-2063-trade.csv')\n",
    "data = (\n",
    "    resourceData[resourceData[\"Partner Code\"] != 0]\n",
    "    .loc[:, [\"Reporter Code\", \"Reporter\", \"Partner Code\", \"Partner\", \"Trade Flow\", \"Trade Value (US$)\"]]\n",
    ")\n",
    "data.head()"
   ],
   "cell_type": "code",
   "metadata": {},
   "execution_count": 230,
   "outputs": [
    {
     "output_type": "execute_result",
     "data": {
      "text/plain": [
       "   Reporter Code    Reporter  Partner Code         Partner Trade Flow  \\\n",
       "2             31  Azerbaijan           702       Singapore     Export   \n",
       "3             31  Azerbaijan           757     Switzerland     Export   \n",
       "4             31  Azerbaijan           826  United Kingdom     Import   \n",
       "5             31  Azerbaijan           860      Uzbekistan     Export   \n",
       "6             31  Azerbaijan           899      Areas, nes     Import   \n",
       "\n",
       "   Trade Value (US$)  \n",
       "2             419159  \n",
       "3            3043343  \n",
       "4                 79  \n",
       "5           17248944  \n",
       "6               1007  "
      ],
      "text/html": "<div>\n<style scoped>\n    .dataframe tbody tr th:only-of-type {\n        vertical-align: middle;\n    }\n\n    .dataframe tbody tr th {\n        vertical-align: top;\n    }\n\n    .dataframe thead th {\n        text-align: right;\n    }\n</style>\n<table border=\"1\" class=\"dataframe\">\n  <thead>\n    <tr style=\"text-align: right;\">\n      <th></th>\n      <th>Reporter Code</th>\n      <th>Reporter</th>\n      <th>Partner Code</th>\n      <th>Partner</th>\n      <th>Trade Flow</th>\n      <th>Trade Value (US$)</th>\n    </tr>\n  </thead>\n  <tbody>\n    <tr>\n      <th>2</th>\n      <td>31</td>\n      <td>Azerbaijan</td>\n      <td>702</td>\n      <td>Singapore</td>\n      <td>Export</td>\n      <td>419159</td>\n    </tr>\n    <tr>\n      <th>3</th>\n      <td>31</td>\n      <td>Azerbaijan</td>\n      <td>757</td>\n      <td>Switzerland</td>\n      <td>Export</td>\n      <td>3043343</td>\n    </tr>\n    <tr>\n      <th>4</th>\n      <td>31</td>\n      <td>Azerbaijan</td>\n      <td>826</td>\n      <td>United Kingdom</td>\n      <td>Import</td>\n      <td>79</td>\n    </tr>\n    <tr>\n      <th>5</th>\n      <td>31</td>\n      <td>Azerbaijan</td>\n      <td>860</td>\n      <td>Uzbekistan</td>\n      <td>Export</td>\n      <td>17248944</td>\n    </tr>\n    <tr>\n      <th>6</th>\n      <td>31</td>\n      <td>Azerbaijan</td>\n      <td>899</td>\n      <td>Areas, nes</td>\n      <td>Import</td>\n      <td>1007</td>\n    </tr>\n  </tbody>\n</table>\n</div>"
     },
     "metadata": {},
     "execution_count": 230
    }
   ]
  },
  {
   "source": [
    "抽样检查各国报告数据是否一致"
   ],
   "cell_type": "markdown",
   "metadata": {}
  },
  {
   "cell_type": "code",
   "execution_count": 209,
   "metadata": {},
   "outputs": [],
   "source": [
    "reporters = data.loc[:, [\"Reporter Code\", \"Reporter\"]].drop_duplicates()\n"
   ]
  },
  {
   "source": [
    "1. 查看中国上报的进口记录："
   ],
   "cell_type": "markdown",
   "metadata": {}
  },
  {
   "source": [
    "groupedDataOfImport = (data[data[\"Trade Flow\"] == \"Import\"]\n",
    "    .groupby(\"Reporter Code\")\n",
    ")\n",
    "\n",
    "ChinaImportReport = groupedDataOfImport.get_group(156)\n",
    "\n",
    "partnerNum = ChinaImportReport.shape[0]\n",
    "print(\"中上报的进口记录中，进口对象的个数: \", partnerNum)\n",
    "\n",
    "ChinaImportReport.head(partnerNum)"
   ],
   "cell_type": "code",
   "metadata": {},
   "execution_count": 228,
   "outputs": [
    {
     "output_type": "stream",
     "name": "stdout",
     "text": [
      "中上报的进口记录中，进口对象的个数:  56\n"
     ]
    },
    {
     "output_type": "execute_result",
     "data": {
      "text/plain": [
       "     Reporter Code Reporter  Partner Code                           Partner  \\\n",
       "247            156    China             8                           Albania   \n",
       "248            156    China            36                         Australia   \n",
       "250            156    China            51                           Armenia   \n",
       "251            156    China            68  Bolivia (Plurinational State of)   \n",
       "252            156    China            76                            Brazil   \n",
       "255            156    China           100                          Bulgaria   \n",
       "256            156    China           104                           Myanmar   \n",
       "258            156    China           124                            Canada   \n",
       "260            156    China           152                             Chile   \n",
       "261            156    China           170                          Colombia   \n",
       "262            156    China           178                             Congo   \n",
       "263            156    China           180            Dem. Rep. of the Congo   \n",
       "265            156    China           212                          Dominica   \n",
       "266            156    China           214                    Dominican Rep.   \n",
       "267            156    China           218                           Ecuador   \n",
       "268            156    China           231                          Ethiopia   \n",
       "269            156    China           232                           Eritrea   \n",
       "271            156    China           360                         Indonesia   \n",
       "272            156    China           364                              Iran   \n",
       "275            156    China           398                        Kazakhstan   \n",
       "276            156    China           404                             Kenya   \n",
       "278            156    China           410                     Rep. of Korea   \n",
       "279            156    China           417                        Kyrgyzstan   \n",
       "280            156    China           418            Lao People's Dem. Rep.   \n",
       "281            156    China           450                        Madagascar   \n",
       "282            156    China           458                          Malaysia   \n",
       "283            156    China           478                        Mauritania   \n",
       "284            156    China           484                            Mexico   \n",
       "285            156    China           490                   Other Asia, nes   \n",
       "286            156    China           496                          Mongolia   \n",
       "287            156    China           504                           Morocco   \n",
       "288            156    China           508                        Mozambique   \n",
       "289            156    China           516                           Namibia   \n",
       "290            156    China           566                           Nigeria   \n",
       "292            156    China           586                          Pakistan   \n",
       "293            156    China           591                            Panama   \n",
       "294            156    China           598                  Papua New Guinea   \n",
       "295            156    China           604                              Peru   \n",
       "296            156    China           608                       Philippines   \n",
       "297            156    China           642                           Romania   \n",
       "298            156    China           643                Russian Federation   \n",
       "299            156    China           682                      Saudi Arabia   \n",
       "300            156    China           688                            Serbia   \n",
       "301            156    China           699                             India   \n",
       "302            156    China           704                          Viet Nam   \n",
       "303            156    China           706                           Somalia   \n",
       "304            156    China           710                      South Africa   \n",
       "305            156    China           716                          Zimbabwe   \n",
       "306            156    China           724                             Spain   \n",
       "307            156    China           764                          Thailand   \n",
       "308            156    China           784              United Arab Emirates   \n",
       "309            156    China           792                            Turkey   \n",
       "310            156    China           826                    United Kingdom   \n",
       "311            156    China           834           United Rep. of Tanzania   \n",
       "312            156    China           842                               USA   \n",
       "313            156    China           894                            Zambia   \n",
       "\n",
       "    Trade Flow  Trade Value (US$)  \n",
       "247     Import           17013004  \n",
       "248     Import         1666113958  \n",
       "250     Import          510563982  \n",
       "251     Import            2677980  \n",
       "252     Import          557705819  \n",
       "255     Import                 50  \n",
       "256     Import            2850825  \n",
       "258     Import          910149220  \n",
       "260     Import        12076025483  \n",
       "261     Import           56382455  \n",
       "262     Import             520238  \n",
       "263     Import          386995691  \n",
       "265     Import                 57  \n",
       "266     Import          123783836  \n",
       "267     Import            4952430  \n",
       "268     Import              10326  \n",
       "269     Import          105319016  \n",
       "271     Import          618533133  \n",
       "272     Import           23701028  \n",
       "275     Import          964109620  \n",
       "276     Import             501479  \n",
       "278     Import                709  \n",
       "279     Import             199725  \n",
       "280     Import          458829040  \n",
       "281     Import             440772  \n",
       "282     Import           34683639  \n",
       "283     Import          209832472  \n",
       "284     Import         1986012762  \n",
       "285     Import          111136358  \n",
       "286     Import         1795514292  \n",
       "287     Import           17746697  \n",
       "288     Import            2099031  \n",
       "289     Import              18079  \n",
       "290     Import               9853  \n",
       "292     Import             193330  \n",
       "293     Import          387665029  \n",
       "294     Import          159701250  \n",
       "295     Import         9052329871  \n",
       "296     Import          268285022  \n",
       "297     Import           12115525  \n",
       "298     Import          234860468  \n",
       "299     Import          152889096  \n",
       "300     Import                111  \n",
       "301     Import           78282781  \n",
       "302     Import           22101901  \n",
       "303     Import             154153  \n",
       "304     Import           17009652  \n",
       "305     Import             783889  \n",
       "306     Import          872750734  \n",
       "307     Import             115337  \n",
       "308     Import           70360785  \n",
       "309     Import           60658162  \n",
       "310     Import              74307  \n",
       "311     Import            8523190  \n",
       "312     Import           13566717  \n",
       "313     Import           23748142  "
      ],
      "text/html": "<div>\n<style scoped>\n    .dataframe tbody tr th:only-of-type {\n        vertical-align: middle;\n    }\n\n    .dataframe tbody tr th {\n        vertical-align: top;\n    }\n\n    .dataframe thead th {\n        text-align: right;\n    }\n</style>\n<table border=\"1\" class=\"dataframe\">\n  <thead>\n    <tr style=\"text-align: right;\">\n      <th></th>\n      <th>Reporter Code</th>\n      <th>Reporter</th>\n      <th>Partner Code</th>\n      <th>Partner</th>\n      <th>Trade Flow</th>\n      <th>Trade Value (US$)</th>\n    </tr>\n  </thead>\n  <tbody>\n    <tr>\n      <th>247</th>\n      <td>156</td>\n      <td>China</td>\n      <td>8</td>\n      <td>Albania</td>\n      <td>Import</td>\n      <td>17013004</td>\n    </tr>\n    <tr>\n      <th>248</th>\n      <td>156</td>\n      <td>China</td>\n      <td>36</td>\n      <td>Australia</td>\n      <td>Import</td>\n      <td>1666113958</td>\n    </tr>\n    <tr>\n      <th>250</th>\n      <td>156</td>\n      <td>China</td>\n      <td>51</td>\n      <td>Armenia</td>\n      <td>Import</td>\n      <td>510563982</td>\n    </tr>\n    <tr>\n      <th>251</th>\n      <td>156</td>\n      <td>China</td>\n      <td>68</td>\n      <td>Bolivia (Plurinational State of)</td>\n      <td>Import</td>\n      <td>2677980</td>\n    </tr>\n    <tr>\n      <th>252</th>\n      <td>156</td>\n      <td>China</td>\n      <td>76</td>\n      <td>Brazil</td>\n      <td>Import</td>\n      <td>557705819</td>\n    </tr>\n    <tr>\n      <th>255</th>\n      <td>156</td>\n      <td>China</td>\n      <td>100</td>\n      <td>Bulgaria</td>\n      <td>Import</td>\n      <td>50</td>\n    </tr>\n    <tr>\n      <th>256</th>\n      <td>156</td>\n      <td>China</td>\n      <td>104</td>\n      <td>Myanmar</td>\n      <td>Import</td>\n      <td>2850825</td>\n    </tr>\n    <tr>\n      <th>258</th>\n      <td>156</td>\n      <td>China</td>\n      <td>124</td>\n      <td>Canada</td>\n      <td>Import</td>\n      <td>910149220</td>\n    </tr>\n    <tr>\n      <th>260</th>\n      <td>156</td>\n      <td>China</td>\n      <td>152</td>\n      <td>Chile</td>\n      <td>Import</td>\n      <td>12076025483</td>\n    </tr>\n    <tr>\n      <th>261</th>\n      <td>156</td>\n      <td>China</td>\n      <td>170</td>\n      <td>Colombia</td>\n      <td>Import</td>\n      <td>56382455</td>\n    </tr>\n    <tr>\n      <th>262</th>\n      <td>156</td>\n      <td>China</td>\n      <td>178</td>\n      <td>Congo</td>\n      <td>Import</td>\n      <td>520238</td>\n    </tr>\n    <tr>\n      <th>263</th>\n      <td>156</td>\n      <td>China</td>\n      <td>180</td>\n      <td>Dem. Rep. of the Congo</td>\n      <td>Import</td>\n      <td>386995691</td>\n    </tr>\n    <tr>\n      <th>265</th>\n      <td>156</td>\n      <td>China</td>\n      <td>212</td>\n      <td>Dominica</td>\n      <td>Import</td>\n      <td>57</td>\n    </tr>\n    <tr>\n      <th>266</th>\n      <td>156</td>\n      <td>China</td>\n      <td>214</td>\n      <td>Dominican Rep.</td>\n      <td>Import</td>\n      <td>123783836</td>\n    </tr>\n    <tr>\n      <th>267</th>\n      <td>156</td>\n      <td>China</td>\n      <td>218</td>\n      <td>Ecuador</td>\n      <td>Import</td>\n      <td>4952430</td>\n    </tr>\n    <tr>\n      <th>268</th>\n      <td>156</td>\n      <td>China</td>\n      <td>231</td>\n      <td>Ethiopia</td>\n      <td>Import</td>\n      <td>10326</td>\n    </tr>\n    <tr>\n      <th>269</th>\n      <td>156</td>\n      <td>China</td>\n      <td>232</td>\n      <td>Eritrea</td>\n      <td>Import</td>\n      <td>105319016</td>\n    </tr>\n    <tr>\n      <th>271</th>\n      <td>156</td>\n      <td>China</td>\n      <td>360</td>\n      <td>Indonesia</td>\n      <td>Import</td>\n      <td>618533133</td>\n    </tr>\n    <tr>\n      <th>272</th>\n      <td>156</td>\n      <td>China</td>\n      <td>364</td>\n      <td>Iran</td>\n      <td>Import</td>\n      <td>23701028</td>\n    </tr>\n    <tr>\n      <th>275</th>\n      <td>156</td>\n      <td>China</td>\n      <td>398</td>\n      <td>Kazakhstan</td>\n      <td>Import</td>\n      <td>964109620</td>\n    </tr>\n    <tr>\n      <th>276</th>\n      <td>156</td>\n      <td>China</td>\n      <td>404</td>\n      <td>Kenya</td>\n      <td>Import</td>\n      <td>501479</td>\n    </tr>\n    <tr>\n      <th>278</th>\n      <td>156</td>\n      <td>China</td>\n      <td>410</td>\n      <td>Rep. of Korea</td>\n      <td>Import</td>\n      <td>709</td>\n    </tr>\n    <tr>\n      <th>279</th>\n      <td>156</td>\n      <td>China</td>\n      <td>417</td>\n      <td>Kyrgyzstan</td>\n      <td>Import</td>\n      <td>199725</td>\n    </tr>\n    <tr>\n      <th>280</th>\n      <td>156</td>\n      <td>China</td>\n      <td>418</td>\n      <td>Lao People's Dem. Rep.</td>\n      <td>Import</td>\n      <td>458829040</td>\n    </tr>\n    <tr>\n      <th>281</th>\n      <td>156</td>\n      <td>China</td>\n      <td>450</td>\n      <td>Madagascar</td>\n      <td>Import</td>\n      <td>440772</td>\n    </tr>\n    <tr>\n      <th>282</th>\n      <td>156</td>\n      <td>China</td>\n      <td>458</td>\n      <td>Malaysia</td>\n      <td>Import</td>\n      <td>34683639</td>\n    </tr>\n    <tr>\n      <th>283</th>\n      <td>156</td>\n      <td>China</td>\n      <td>478</td>\n      <td>Mauritania</td>\n      <td>Import</td>\n      <td>209832472</td>\n    </tr>\n    <tr>\n      <th>284</th>\n      <td>156</td>\n      <td>China</td>\n      <td>484</td>\n      <td>Mexico</td>\n      <td>Import</td>\n      <td>1986012762</td>\n    </tr>\n    <tr>\n      <th>285</th>\n      <td>156</td>\n      <td>China</td>\n      <td>490</td>\n      <td>Other Asia, nes</td>\n      <td>Import</td>\n      <td>111136358</td>\n    </tr>\n    <tr>\n      <th>286</th>\n      <td>156</td>\n      <td>China</td>\n      <td>496</td>\n      <td>Mongolia</td>\n      <td>Import</td>\n      <td>1795514292</td>\n    </tr>\n    <tr>\n      <th>287</th>\n      <td>156</td>\n      <td>China</td>\n      <td>504</td>\n      <td>Morocco</td>\n      <td>Import</td>\n      <td>17746697</td>\n    </tr>\n    <tr>\n      <th>288</th>\n      <td>156</td>\n      <td>China</td>\n      <td>508</td>\n      <td>Mozambique</td>\n      <td>Import</td>\n      <td>2099031</td>\n    </tr>\n    <tr>\n      <th>289</th>\n      <td>156</td>\n      <td>China</td>\n      <td>516</td>\n      <td>Namibia</td>\n      <td>Import</td>\n      <td>18079</td>\n    </tr>\n    <tr>\n      <th>290</th>\n      <td>156</td>\n      <td>China</td>\n      <td>566</td>\n      <td>Nigeria</td>\n      <td>Import</td>\n      <td>9853</td>\n    </tr>\n    <tr>\n      <th>292</th>\n      <td>156</td>\n      <td>China</td>\n      <td>586</td>\n      <td>Pakistan</td>\n      <td>Import</td>\n      <td>193330</td>\n    </tr>\n    <tr>\n      <th>293</th>\n      <td>156</td>\n      <td>China</td>\n      <td>591</td>\n      <td>Panama</td>\n      <td>Import</td>\n      <td>387665029</td>\n    </tr>\n    <tr>\n      <th>294</th>\n      <td>156</td>\n      <td>China</td>\n      <td>598</td>\n      <td>Papua New Guinea</td>\n      <td>Import</td>\n      <td>159701250</td>\n    </tr>\n    <tr>\n      <th>295</th>\n      <td>156</td>\n      <td>China</td>\n      <td>604</td>\n      <td>Peru</td>\n      <td>Import</td>\n      <td>9052329871</td>\n    </tr>\n    <tr>\n      <th>296</th>\n      <td>156</td>\n      <td>China</td>\n      <td>608</td>\n      <td>Philippines</td>\n      <td>Import</td>\n      <td>268285022</td>\n    </tr>\n    <tr>\n      <th>297</th>\n      <td>156</td>\n      <td>China</td>\n      <td>642</td>\n      <td>Romania</td>\n      <td>Import</td>\n      <td>12115525</td>\n    </tr>\n    <tr>\n      <th>298</th>\n      <td>156</td>\n      <td>China</td>\n      <td>643</td>\n      <td>Russian Federation</td>\n      <td>Import</td>\n      <td>234860468</td>\n    </tr>\n    <tr>\n      <th>299</th>\n      <td>156</td>\n      <td>China</td>\n      <td>682</td>\n      <td>Saudi Arabia</td>\n      <td>Import</td>\n      <td>152889096</td>\n    </tr>\n    <tr>\n      <th>300</th>\n      <td>156</td>\n      <td>China</td>\n      <td>688</td>\n      <td>Serbia</td>\n      <td>Import</td>\n      <td>111</td>\n    </tr>\n    <tr>\n      <th>301</th>\n      <td>156</td>\n      <td>China</td>\n      <td>699</td>\n      <td>India</td>\n      <td>Import</td>\n      <td>78282781</td>\n    </tr>\n    <tr>\n      <th>302</th>\n      <td>156</td>\n      <td>China</td>\n      <td>704</td>\n      <td>Viet Nam</td>\n      <td>Import</td>\n      <td>22101901</td>\n    </tr>\n    <tr>\n      <th>303</th>\n      <td>156</td>\n      <td>China</td>\n      <td>706</td>\n      <td>Somalia</td>\n      <td>Import</td>\n      <td>154153</td>\n    </tr>\n    <tr>\n      <th>304</th>\n      <td>156</td>\n      <td>China</td>\n      <td>710</td>\n      <td>South Africa</td>\n      <td>Import</td>\n      <td>17009652</td>\n    </tr>\n    <tr>\n      <th>305</th>\n      <td>156</td>\n      <td>China</td>\n      <td>716</td>\n      <td>Zimbabwe</td>\n      <td>Import</td>\n      <td>783889</td>\n    </tr>\n    <tr>\n      <th>306</th>\n      <td>156</td>\n      <td>China</td>\n      <td>724</td>\n      <td>Spain</td>\n      <td>Import</td>\n      <td>872750734</td>\n    </tr>\n    <tr>\n      <th>307</th>\n      <td>156</td>\n      <td>China</td>\n      <td>764</td>\n      <td>Thailand</td>\n      <td>Import</td>\n      <td>115337</td>\n    </tr>\n    <tr>\n      <th>308</th>\n      <td>156</td>\n      <td>China</td>\n      <td>784</td>\n      <td>United Arab Emirates</td>\n      <td>Import</td>\n      <td>70360785</td>\n    </tr>\n    <tr>\n      <th>309</th>\n      <td>156</td>\n      <td>China</td>\n      <td>792</td>\n      <td>Turkey</td>\n      <td>Import</td>\n      <td>60658162</td>\n    </tr>\n    <tr>\n      <th>310</th>\n      <td>156</td>\n      <td>China</td>\n      <td>826</td>\n      <td>United Kingdom</td>\n      <td>Import</td>\n      <td>74307</td>\n    </tr>\n    <tr>\n      <th>311</th>\n      <td>156</td>\n      <td>China</td>\n      <td>834</td>\n      <td>United Rep. of Tanzania</td>\n      <td>Import</td>\n      <td>8523190</td>\n    </tr>\n    <tr>\n      <th>312</th>\n      <td>156</td>\n      <td>China</td>\n      <td>842</td>\n      <td>USA</td>\n      <td>Import</td>\n      <td>13566717</td>\n    </tr>\n    <tr>\n      <th>313</th>\n      <td>156</td>\n      <td>China</td>\n      <td>894</td>\n      <td>Zambia</td>\n      <td>Import</td>\n      <td>23748142</td>\n    </tr>\n  </tbody>\n</table>\n</div>"
     },
     "metadata": {},
     "execution_count": 228
    }
   ]
  },
  {
   "source": [
    "2. 查看中国进口对象上报的对中国的出口记录"
   ],
   "cell_type": "markdown",
   "metadata": {}
  },
  {
   "cell_type": "code",
   "execution_count": 229,
   "metadata": {},
   "outputs": [
    {
     "output_type": "stream",
     "name": "stdout",
     "text": [
      "中上报的进口记录中，进口对象的个数:  41\n"
     ]
    },
    {
     "output_type": "execute_result",
     "data": {
      "text/plain": [
       "      Reporter Code                          Reporter  Partner Code Partner  \\\n",
       "13               36                         Australia           156   China   \n",
       "36               51                           Armenia           156   China   \n",
       "68               68  Bolivia (Plurinational State of)           156   China   \n",
       "88               76                            Brazil           156   China   \n",
       "116             100                          Bulgaria           156   China   \n",
       "161             124                            Canada           156   China   \n",
       "208             152                             Chile           156   China   \n",
       "316             170                          Colombia           156   China   \n",
       "328             204                             Benin           156   China   \n",
       "334             218                           Ecuador           156   China   \n",
       "386             276                           Germany           156   China   \n",
       "416             344              China, Hong Kong SAR           156   China   \n",
       "427             360                         Indonesia           156   China   \n",
       "465             381                             Italy           156   China   \n",
       "507             398                        Kazakhstan           156   China   \n",
       "515             404                             Kenya           156   China   \n",
       "526             410                     Rep. of Korea           156   China   \n",
       "550             418            Lao People's Dem. Rep.           156   China   \n",
       "562             450                        Madagascar           156   China   \n",
       "571             458                          Malaysia           156   China   \n",
       "600             490                   Other Asia, nes           156   China   \n",
       "616             496                          Mongolia           156   China   \n",
       "621             504                           Morocco           156   China   \n",
       "635             516                           Namibia           156   China   \n",
       "685             586                          Pakistan           156   China   \n",
       "700             604                              Peru           156   China   \n",
       "731             608                       Philippines           156   China   \n",
       "780             643                Russian Federation           156   China   \n",
       "793             688                            Serbia           156   China   \n",
       "805             699                             India           156   China   \n",
       "835             704                          Viet Nam           156   China   \n",
       "854             710                      South Africa           156   China   \n",
       "896             724                             Spain           156   China   \n",
       "980             792                            Turkey           156   China   \n",
       "1028            842                               USA           156   China   \n",
       "1069            894                            Zambia           156   China   \n",
       "1086            180            Dem. Rep. of the Congo           156   China   \n",
       "1106            268                           Georgia           156   China   \n",
       "1122            478                        Mauritania           156   China   \n",
       "1129            484                            Mexico           156   China   \n",
       "1142            682                      Saudi Arabia           156   China   \n",
       "\n",
       "     Trade Flow  Trade Value (US$)  \n",
       "13       Export         1585564428  \n",
       "36       Export          174415305  \n",
       "68       Export            3882938  \n",
       "88       Export          442971407  \n",
       "116      Export           71216190  \n",
       "161      Export          764979617  \n",
       "208      Export         9649325301  \n",
       "316      Export           40352028  \n",
       "328      Export               1708  \n",
       "334      Export            3562481  \n",
       "386      Export            7449316  \n",
       "416      Export             152061  \n",
       "427      Export          599729496  \n",
       "465      Export              35819  \n",
       "507      Export          738608504  \n",
       "515      Export              15282  \n",
       "526      Export          260380148  \n",
       "550      Export          589052464  \n",
       "562      Export             511442  \n",
       "571      Export          182078771  \n",
       "600      Export          772507869  \n",
       "616      Export         1795868367  \n",
       "621      Export           21256334  \n",
       "635      Export            2991391  \n",
       "685      Export             314633  \n",
       "700      Export         8318062306  \n",
       "731      Export          242323556  \n",
       "780      Export          224055289  \n",
       "793      Export                 41  \n",
       "805      Export          293533475  \n",
       "835      Export              71467  \n",
       "854      Export           31830175  \n",
       "896      Export          746141115  \n",
       "980      Export           76043743  \n",
       "1028     Export            4248920  \n",
       "1069     Export            1657677  \n",
       "1086     Export          566480615  \n",
       "1106     Export          171641028  \n",
       "1122     Export          195646154  \n",
       "1129     Export         2067770798  \n",
       "1142     Export          135065597  "
      ],
      "text/html": "<div>\n<style scoped>\n    .dataframe tbody tr th:only-of-type {\n        vertical-align: middle;\n    }\n\n    .dataframe tbody tr th {\n        vertical-align: top;\n    }\n\n    .dataframe thead th {\n        text-align: right;\n    }\n</style>\n<table border=\"1\" class=\"dataframe\">\n  <thead>\n    <tr style=\"text-align: right;\">\n      <th></th>\n      <th>Reporter Code</th>\n      <th>Reporter</th>\n      <th>Partner Code</th>\n      <th>Partner</th>\n      <th>Trade Flow</th>\n      <th>Trade Value (US$)</th>\n    </tr>\n  </thead>\n  <tbody>\n    <tr>\n      <th>13</th>\n      <td>36</td>\n      <td>Australia</td>\n      <td>156</td>\n      <td>China</td>\n      <td>Export</td>\n      <td>1585564428</td>\n    </tr>\n    <tr>\n      <th>36</th>\n      <td>51</td>\n      <td>Armenia</td>\n      <td>156</td>\n      <td>China</td>\n      <td>Export</td>\n      <td>174415305</td>\n    </tr>\n    <tr>\n      <th>68</th>\n      <td>68</td>\n      <td>Bolivia (Plurinational State of)</td>\n      <td>156</td>\n      <td>China</td>\n      <td>Export</td>\n      <td>3882938</td>\n    </tr>\n    <tr>\n      <th>88</th>\n      <td>76</td>\n      <td>Brazil</td>\n      <td>156</td>\n      <td>China</td>\n      <td>Export</td>\n      <td>442971407</td>\n    </tr>\n    <tr>\n      <th>116</th>\n      <td>100</td>\n      <td>Bulgaria</td>\n      <td>156</td>\n      <td>China</td>\n      <td>Export</td>\n      <td>71216190</td>\n    </tr>\n    <tr>\n      <th>161</th>\n      <td>124</td>\n      <td>Canada</td>\n      <td>156</td>\n      <td>China</td>\n      <td>Export</td>\n      <td>764979617</td>\n    </tr>\n    <tr>\n      <th>208</th>\n      <td>152</td>\n      <td>Chile</td>\n      <td>156</td>\n      <td>China</td>\n      <td>Export</td>\n      <td>9649325301</td>\n    </tr>\n    <tr>\n      <th>316</th>\n      <td>170</td>\n      <td>Colombia</td>\n      <td>156</td>\n      <td>China</td>\n      <td>Export</td>\n      <td>40352028</td>\n    </tr>\n    <tr>\n      <th>328</th>\n      <td>204</td>\n      <td>Benin</td>\n      <td>156</td>\n      <td>China</td>\n      <td>Export</td>\n      <td>1708</td>\n    </tr>\n    <tr>\n      <th>334</th>\n      <td>218</td>\n      <td>Ecuador</td>\n      <td>156</td>\n      <td>China</td>\n      <td>Export</td>\n      <td>3562481</td>\n    </tr>\n    <tr>\n      <th>386</th>\n      <td>276</td>\n      <td>Germany</td>\n      <td>156</td>\n      <td>China</td>\n      <td>Export</td>\n      <td>7449316</td>\n    </tr>\n    <tr>\n      <th>416</th>\n      <td>344</td>\n      <td>China, Hong Kong SAR</td>\n      <td>156</td>\n      <td>China</td>\n      <td>Export</td>\n      <td>152061</td>\n    </tr>\n    <tr>\n      <th>427</th>\n      <td>360</td>\n      <td>Indonesia</td>\n      <td>156</td>\n      <td>China</td>\n      <td>Export</td>\n      <td>599729496</td>\n    </tr>\n    <tr>\n      <th>465</th>\n      <td>381</td>\n      <td>Italy</td>\n      <td>156</td>\n      <td>China</td>\n      <td>Export</td>\n      <td>35819</td>\n    </tr>\n    <tr>\n      <th>507</th>\n      <td>398</td>\n      <td>Kazakhstan</td>\n      <td>156</td>\n      <td>China</td>\n      <td>Export</td>\n      <td>738608504</td>\n    </tr>\n    <tr>\n      <th>515</th>\n      <td>404</td>\n      <td>Kenya</td>\n      <td>156</td>\n      <td>China</td>\n      <td>Export</td>\n      <td>15282</td>\n    </tr>\n    <tr>\n      <th>526</th>\n      <td>410</td>\n      <td>Rep. of Korea</td>\n      <td>156</td>\n      <td>China</td>\n      <td>Export</td>\n      <td>260380148</td>\n    </tr>\n    <tr>\n      <th>550</th>\n      <td>418</td>\n      <td>Lao People's Dem. Rep.</td>\n      <td>156</td>\n      <td>China</td>\n      <td>Export</td>\n      <td>589052464</td>\n    </tr>\n    <tr>\n      <th>562</th>\n      <td>450</td>\n      <td>Madagascar</td>\n      <td>156</td>\n      <td>China</td>\n      <td>Export</td>\n      <td>511442</td>\n    </tr>\n    <tr>\n      <th>571</th>\n      <td>458</td>\n      <td>Malaysia</td>\n      <td>156</td>\n      <td>China</td>\n      <td>Export</td>\n      <td>182078771</td>\n    </tr>\n    <tr>\n      <th>600</th>\n      <td>490</td>\n      <td>Other Asia, nes</td>\n      <td>156</td>\n      <td>China</td>\n      <td>Export</td>\n      <td>772507869</td>\n    </tr>\n    <tr>\n      <th>616</th>\n      <td>496</td>\n      <td>Mongolia</td>\n      <td>156</td>\n      <td>China</td>\n      <td>Export</td>\n      <td>1795868367</td>\n    </tr>\n    <tr>\n      <th>621</th>\n      <td>504</td>\n      <td>Morocco</td>\n      <td>156</td>\n      <td>China</td>\n      <td>Export</td>\n      <td>21256334</td>\n    </tr>\n    <tr>\n      <th>635</th>\n      <td>516</td>\n      <td>Namibia</td>\n      <td>156</td>\n      <td>China</td>\n      <td>Export</td>\n      <td>2991391</td>\n    </tr>\n    <tr>\n      <th>685</th>\n      <td>586</td>\n      <td>Pakistan</td>\n      <td>156</td>\n      <td>China</td>\n      <td>Export</td>\n      <td>314633</td>\n    </tr>\n    <tr>\n      <th>700</th>\n      <td>604</td>\n      <td>Peru</td>\n      <td>156</td>\n      <td>China</td>\n      <td>Export</td>\n      <td>8318062306</td>\n    </tr>\n    <tr>\n      <th>731</th>\n      <td>608</td>\n      <td>Philippines</td>\n      <td>156</td>\n      <td>China</td>\n      <td>Export</td>\n      <td>242323556</td>\n    </tr>\n    <tr>\n      <th>780</th>\n      <td>643</td>\n      <td>Russian Federation</td>\n      <td>156</td>\n      <td>China</td>\n      <td>Export</td>\n      <td>224055289</td>\n    </tr>\n    <tr>\n      <th>793</th>\n      <td>688</td>\n      <td>Serbia</td>\n      <td>156</td>\n      <td>China</td>\n      <td>Export</td>\n      <td>41</td>\n    </tr>\n    <tr>\n      <th>805</th>\n      <td>699</td>\n      <td>India</td>\n      <td>156</td>\n      <td>China</td>\n      <td>Export</td>\n      <td>293533475</td>\n    </tr>\n    <tr>\n      <th>835</th>\n      <td>704</td>\n      <td>Viet Nam</td>\n      <td>156</td>\n      <td>China</td>\n      <td>Export</td>\n      <td>71467</td>\n    </tr>\n    <tr>\n      <th>854</th>\n      <td>710</td>\n      <td>South Africa</td>\n      <td>156</td>\n      <td>China</td>\n      <td>Export</td>\n      <td>31830175</td>\n    </tr>\n    <tr>\n      <th>896</th>\n      <td>724</td>\n      <td>Spain</td>\n      <td>156</td>\n      <td>China</td>\n      <td>Export</td>\n      <td>746141115</td>\n    </tr>\n    <tr>\n      <th>980</th>\n      <td>792</td>\n      <td>Turkey</td>\n      <td>156</td>\n      <td>China</td>\n      <td>Export</td>\n      <td>76043743</td>\n    </tr>\n    <tr>\n      <th>1028</th>\n      <td>842</td>\n      <td>USA</td>\n      <td>156</td>\n      <td>China</td>\n      <td>Export</td>\n      <td>4248920</td>\n    </tr>\n    <tr>\n      <th>1069</th>\n      <td>894</td>\n      <td>Zambia</td>\n      <td>156</td>\n      <td>China</td>\n      <td>Export</td>\n      <td>1657677</td>\n    </tr>\n    <tr>\n      <th>1086</th>\n      <td>180</td>\n      <td>Dem. Rep. of the Congo</td>\n      <td>156</td>\n      <td>China</td>\n      <td>Export</td>\n      <td>566480615</td>\n    </tr>\n    <tr>\n      <th>1106</th>\n      <td>268</td>\n      <td>Georgia</td>\n      <td>156</td>\n      <td>China</td>\n      <td>Export</td>\n      <td>171641028</td>\n    </tr>\n    <tr>\n      <th>1122</th>\n      <td>478</td>\n      <td>Mauritania</td>\n      <td>156</td>\n      <td>China</td>\n      <td>Export</td>\n      <td>195646154</td>\n    </tr>\n    <tr>\n      <th>1129</th>\n      <td>484</td>\n      <td>Mexico</td>\n      <td>156</td>\n      <td>China</td>\n      <td>Export</td>\n      <td>2067770798</td>\n    </tr>\n    <tr>\n      <th>1142</th>\n      <td>682</td>\n      <td>Saudi Arabia</td>\n      <td>156</td>\n      <td>China</td>\n      <td>Export</td>\n      <td>135065597</td>\n    </tr>\n  </tbody>\n</table>\n</div>"
     },
     "metadata": {},
     "execution_count": 229
    }
   ],
   "source": [
    "partnersChinaImportFrom = ChinaImportReport.loc[:,\"Partner Code\"]\n",
    "\n",
    "groupedDataOfExport = (data[data[\"Trade Flow\"] == \"Export\"]\n",
    "    .groupby(\"Partner Code\")\n",
    ")\n",
    "\n",
    "partnersExportToChina = groupedDataOfExport.get_group(156)\n",
    "\n",
    "reportOfPartnersExportToChina = partnersExportToChina[partnersExportToChina[\"Partner Code\"] == 156]\n",
    "\n",
    "partnerNum = reportOfPartnersExportToChina.shape[0]\n",
    "print(\"中上报的进口记录中，进口对象的个数: \", partnerNum)\n",
    "\n",
    "reportOfPartnersExportToChina.head(partnerNum)\n"
   ]
  },
  {
   "source": [
    "对比上面两个表格，显然各国出入口数据是**普遍**有出入的：\n",
    "\n",
    "首先，进出口对象数量上就不一致：中国上报记录中显示，中国 2019 年共从 56 个国家进口铜资源；而只有 41 个国家（或中国港澳台地区，以下简称国家）上报了对中国出口铜资源的记录\n",
    "\n",
    "其次，对于中国的进口对象，其上报的出口记录的贸易金额和中国上报的进口贸易金额并不一致，有的甚至出入较大\n",
    "\n",
    "这可能是有以下的原因导致的：\n",
    "\n",
    "1. 由于政策和统计方法不同导致的数据出入\n",
    "2. 由于货物在进出口过程中经第三方国家中转，而进出口国家对于出入口的目标国家登记不一致导致\n",
    "3. 其他可能原因"
   ],
   "cell_type": "markdown",
   "metadata": {}
  },
  {
   "source": [
    "## 2. 构建网络\n",
    "\n",
    "根据以上数据和分析，构建网络：\n",
    "\n",
    "1. 以国家为节点，进出口关系为有向，构建有向无权图\n",
    "\n",
    "2. 对于进出口关系，忽略各个国家之间上报数据的差异，即只要在任何一条记录中出现进出口关系即为他们添加边"
   ],
   "cell_type": "markdown",
   "metadata": {}
  },
  {
   "cell_type": "code",
   "execution_count": null,
   "metadata": {},
   "outputs": [],
   "source": []
  }
 ]
}
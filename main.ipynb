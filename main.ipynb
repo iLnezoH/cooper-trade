{
 "metadata": {
  "language_info": {
   "codemirror_mode": {
    "name": "ipython",
    "version": 3
   },
   "file_extension": ".py",
   "mimetype": "text/x-python",
   "name": "python",
   "nbconvert_exporter": "python",
   "pygments_lexer": "ipython3",
   "version": "3.9.5"
  },
  "orig_nbformat": 4,
  "kernelspec": {
   "name": "python3",
   "display_name": "Python 3.9.5 64-bit"
  },
  "interpreter": {
   "hash": "aee8b7b246df8f9039afb4144a1f6fd8d2ca17a180786b69acc140d282b71a49"
  }
 },
 "nbformat": 4,
 "nbformat_minor": 2,
 "cells": [
  {
   "source": [
    "## 1. 数据处理和分析\n",
    "\n",
    "### 1.1 数据预处理\n",
    "\n",
    "读取从 [UN Comtrade Database](https://comtrade.un.org/data/) 获取的 2019 年全球铜及其精炼物（2603）贸易记录，并处理：\n",
    "\n",
    "1. 去除贸易对象为 World 的数据行\n",
    "2. 并保留关心的数据列：报告者及其代码、贸易对象及代码、贸易类型、贸易额\n",
    "\n",
    "**！注**：数据中上报者（Reporter）可能包含国家和地区以及**中国**港澳台地区，为方便起见以下统称“国家”."
   ],
   "cell_type": "markdown",
   "metadata": {}
  },
  {
   "cell_type": "code",
   "execution_count": 1,
   "metadata": {},
   "outputs": [
    {
     "output_type": "execute_result",
     "data": {
      "text/plain": [
       "      Reporter Code      Reporter  Partner Code               Partner  \\\n",
       "2                31    Azerbaijan           702             Singapore   \n",
       "3                31    Azerbaijan           757           Switzerland   \n",
       "4                31    Azerbaijan           826        United Kingdom   \n",
       "5                31    Azerbaijan           860            Uzbekistan   \n",
       "6                31    Azerbaijan           899            Areas, nes   \n",
       "...             ...           ...           ...                   ...   \n",
       "1146            682  Saudi Arabia           699                 India   \n",
       "1147            682  Saudi Arabia           784  United Arab Emirates   \n",
       "1148            682  Saudi Arabia           842                   USA   \n",
       "1150            804       Ukraine           156                 China   \n",
       "1152            818         Egypt           682          Saudi Arabia   \n",
       "\n",
       "     Trade Flow  Trade Value (US$)  \n",
       "2        Export             419159  \n",
       "3        Export            3043343  \n",
       "4        Import                 79  \n",
       "5        Export           17248944  \n",
       "6        Import               1007  \n",
       "...         ...                ...  \n",
       "1146     Export          119513031  \n",
       "1147     Import             133847  \n",
       "1148     Import             678083  \n",
       "1150     Import               3199  \n",
       "1152     Export               1039  \n",
       "\n",
       "[998 rows x 6 columns]"
      ],
      "text/html": "<div>\n<style scoped>\n    .dataframe tbody tr th:only-of-type {\n        vertical-align: middle;\n    }\n\n    .dataframe tbody tr th {\n        vertical-align: top;\n    }\n\n    .dataframe thead th {\n        text-align: right;\n    }\n</style>\n<table border=\"1\" class=\"dataframe\">\n  <thead>\n    <tr style=\"text-align: right;\">\n      <th></th>\n      <th>Reporter Code</th>\n      <th>Reporter</th>\n      <th>Partner Code</th>\n      <th>Partner</th>\n      <th>Trade Flow</th>\n      <th>Trade Value (US$)</th>\n    </tr>\n  </thead>\n  <tbody>\n    <tr>\n      <th>2</th>\n      <td>31</td>\n      <td>Azerbaijan</td>\n      <td>702</td>\n      <td>Singapore</td>\n      <td>Export</td>\n      <td>419159</td>\n    </tr>\n    <tr>\n      <th>3</th>\n      <td>31</td>\n      <td>Azerbaijan</td>\n      <td>757</td>\n      <td>Switzerland</td>\n      <td>Export</td>\n      <td>3043343</td>\n    </tr>\n    <tr>\n      <th>4</th>\n      <td>31</td>\n      <td>Azerbaijan</td>\n      <td>826</td>\n      <td>United Kingdom</td>\n      <td>Import</td>\n      <td>79</td>\n    </tr>\n    <tr>\n      <th>5</th>\n      <td>31</td>\n      <td>Azerbaijan</td>\n      <td>860</td>\n      <td>Uzbekistan</td>\n      <td>Export</td>\n      <td>17248944</td>\n    </tr>\n    <tr>\n      <th>6</th>\n      <td>31</td>\n      <td>Azerbaijan</td>\n      <td>899</td>\n      <td>Areas, nes</td>\n      <td>Import</td>\n      <td>1007</td>\n    </tr>\n    <tr>\n      <th>...</th>\n      <td>...</td>\n      <td>...</td>\n      <td>...</td>\n      <td>...</td>\n      <td>...</td>\n      <td>...</td>\n    </tr>\n    <tr>\n      <th>1146</th>\n      <td>682</td>\n      <td>Saudi Arabia</td>\n      <td>699</td>\n      <td>India</td>\n      <td>Export</td>\n      <td>119513031</td>\n    </tr>\n    <tr>\n      <th>1147</th>\n      <td>682</td>\n      <td>Saudi Arabia</td>\n      <td>784</td>\n      <td>United Arab Emirates</td>\n      <td>Import</td>\n      <td>133847</td>\n    </tr>\n    <tr>\n      <th>1148</th>\n      <td>682</td>\n      <td>Saudi Arabia</td>\n      <td>842</td>\n      <td>USA</td>\n      <td>Import</td>\n      <td>678083</td>\n    </tr>\n    <tr>\n      <th>1150</th>\n      <td>804</td>\n      <td>Ukraine</td>\n      <td>156</td>\n      <td>China</td>\n      <td>Import</td>\n      <td>3199</td>\n    </tr>\n    <tr>\n      <th>1152</th>\n      <td>818</td>\n      <td>Egypt</td>\n      <td>682</td>\n      <td>Saudi Arabia</td>\n      <td>Export</td>\n      <td>1039</td>\n    </tr>\n  </tbody>\n</table>\n<p>998 rows × 6 columns</p>\n</div>"
     },
     "metadata": {},
     "execution_count": 1
    }
   ],
   "source": [
    "from src.modules.data import Data\n",
    "\n",
    "data = Data(\"src/data/2019-world-copper-2063-trade.csv\")\n",
    "data.data"
   ]
  },
  {
   "source": [
    "### 1.2 数据分析与检验\n",
    "\n",
    "1. 获取贸易参与者"
   ],
   "cell_type": "markdown",
   "metadata": {}
  },
  {
   "cell_type": "code",
   "execution_count": 2,
   "metadata": {},
   "outputs": [
    {
     "output_type": "stream",
     "name": "stdout",
     "text": [
      "上报进贸易记录的国家总数（不含重复）:  89\n上报进贸易记录的中的贸易对象国家总数（不含重复）:  109\n上报进贸易记录的国家，和记录中的贸易对象国家总数（不含重复）:  119\n"
     ]
    }
   ],
   "source": [
    "allParticipants = data.getAllParticipants()\n",
    "allReporters = data.getAllReporters()\n",
    "allPartners = data.getAllPartners()\n",
    "\n",
    "\n",
    "print(\"上报进贸易记录的国家总数（不含重复）: \", allReporters.shape[0])\n",
    "print(\"上报进贸易记录的中的贸易对象国家总数（不含重复）: \", allPartners.shape[0])\n",
    "print(\"上报进贸易记录的国家，和记录中的贸易对象国家总数（不含重复）: \", allParticipants.shape[0])"
   ]
  },
  {
   "source": [
    "2. 数据检验\n",
    "\n",
    "从上面数据可以看出，各国上报的记录显然是有出入的，即上报记录中涉及的国家数要比上报数据的国家数多，这至少说明了一些参与了贸易的国家没有上报贸易记录\n",
    "\n",
    "下面以中国上报的记录为例检查和说明：\n",
    "\n",
    "        1. 查看中国上报的进口记录"
   ],
   "cell_type": "markdown",
   "metadata": {}
  },
  {
   "cell_type": "code",
   "execution_count": 3,
   "metadata": {},
   "outputs": [
    {
     "output_type": "stream",
     "name": "stdout",
     "text": [
      "中国上报的进口记录中，涉及出口国家的个数:  56\n"
     ]
    },
    {
     "output_type": "execute_result",
     "data": {
      "text/plain": [
       "     Reporter Code Reporter  Partner Code                           Partner  \\\n",
       "247            156    China             8                           Albania   \n",
       "248            156    China            36                         Australia   \n",
       "250            156    China            51                           Armenia   \n",
       "251            156    China            68  Bolivia (Plurinational State of)   \n",
       "252            156    China            76                            Brazil   \n",
       "255            156    China           100                          Bulgaria   \n",
       "256            156    China           104                           Myanmar   \n",
       "258            156    China           124                            Canada   \n",
       "260            156    China           152                             Chile   \n",
       "261            156    China           170                          Colombia   \n",
       "262            156    China           178                             Congo   \n",
       "263            156    China           180            Dem. Rep. of the Congo   \n",
       "265            156    China           212                          Dominica   \n",
       "266            156    China           214                    Dominican Rep.   \n",
       "267            156    China           218                           Ecuador   \n",
       "268            156    China           231                          Ethiopia   \n",
       "269            156    China           232                           Eritrea   \n",
       "271            156    China           360                         Indonesia   \n",
       "272            156    China           364                              Iran   \n",
       "275            156    China           398                        Kazakhstan   \n",
       "276            156    China           404                             Kenya   \n",
       "278            156    China           410                     Rep. of Korea   \n",
       "279            156    China           417                        Kyrgyzstan   \n",
       "280            156    China           418            Lao People's Dem. Rep.   \n",
       "281            156    China           450                        Madagascar   \n",
       "282            156    China           458                          Malaysia   \n",
       "283            156    China           478                        Mauritania   \n",
       "284            156    China           484                            Mexico   \n",
       "285            156    China           490                   Other Asia, nes   \n",
       "286            156    China           496                          Mongolia   \n",
       "287            156    China           504                           Morocco   \n",
       "288            156    China           508                        Mozambique   \n",
       "289            156    China           516                           Namibia   \n",
       "290            156    China           566                           Nigeria   \n",
       "292            156    China           586                          Pakistan   \n",
       "293            156    China           591                            Panama   \n",
       "294            156    China           598                  Papua New Guinea   \n",
       "295            156    China           604                              Peru   \n",
       "296            156    China           608                       Philippines   \n",
       "297            156    China           642                           Romania   \n",
       "298            156    China           643                Russian Federation   \n",
       "299            156    China           682                      Saudi Arabia   \n",
       "300            156    China           688                            Serbia   \n",
       "301            156    China           699                             India   \n",
       "302            156    China           704                          Viet Nam   \n",
       "303            156    China           706                           Somalia   \n",
       "304            156    China           710                      South Africa   \n",
       "305            156    China           716                          Zimbabwe   \n",
       "306            156    China           724                             Spain   \n",
       "307            156    China           764                          Thailand   \n",
       "308            156    China           784              United Arab Emirates   \n",
       "309            156    China           792                            Turkey   \n",
       "310            156    China           826                    United Kingdom   \n",
       "311            156    China           834           United Rep. of Tanzania   \n",
       "312            156    China           842                               USA   \n",
       "313            156    China           894                            Zambia   \n",
       "\n",
       "    Trade Flow  Trade Value (US$)  \n",
       "247     Import           17013004  \n",
       "248     Import         1666113958  \n",
       "250     Import          510563982  \n",
       "251     Import            2677980  \n",
       "252     Import          557705819  \n",
       "255     Import                 50  \n",
       "256     Import            2850825  \n",
       "258     Import          910149220  \n",
       "260     Import        12076025483  \n",
       "261     Import           56382455  \n",
       "262     Import             520238  \n",
       "263     Import          386995691  \n",
       "265     Import                 57  \n",
       "266     Import          123783836  \n",
       "267     Import            4952430  \n",
       "268     Import              10326  \n",
       "269     Import          105319016  \n",
       "271     Import          618533133  \n",
       "272     Import           23701028  \n",
       "275     Import          964109620  \n",
       "276     Import             501479  \n",
       "278     Import                709  \n",
       "279     Import             199725  \n",
       "280     Import          458829040  \n",
       "281     Import             440772  \n",
       "282     Import           34683639  \n",
       "283     Import          209832472  \n",
       "284     Import         1986012762  \n",
       "285     Import          111136358  \n",
       "286     Import         1795514292  \n",
       "287     Import           17746697  \n",
       "288     Import            2099031  \n",
       "289     Import              18079  \n",
       "290     Import               9853  \n",
       "292     Import             193330  \n",
       "293     Import          387665029  \n",
       "294     Import          159701250  \n",
       "295     Import         9052329871  \n",
       "296     Import          268285022  \n",
       "297     Import           12115525  \n",
       "298     Import          234860468  \n",
       "299     Import          152889096  \n",
       "300     Import                111  \n",
       "301     Import           78282781  \n",
       "302     Import           22101901  \n",
       "303     Import             154153  \n",
       "304     Import           17009652  \n",
       "305     Import             783889  \n",
       "306     Import          872750734  \n",
       "307     Import             115337  \n",
       "308     Import           70360785  \n",
       "309     Import           60658162  \n",
       "310     Import              74307  \n",
       "311     Import            8523190  \n",
       "312     Import           13566717  \n",
       "313     Import           23748142  "
      ],
      "text/html": "<div>\n<style scoped>\n    .dataframe tbody tr th:only-of-type {\n        vertical-align: middle;\n    }\n\n    .dataframe tbody tr th {\n        vertical-align: top;\n    }\n\n    .dataframe thead th {\n        text-align: right;\n    }\n</style>\n<table border=\"1\" class=\"dataframe\">\n  <thead>\n    <tr style=\"text-align: right;\">\n      <th></th>\n      <th>Reporter Code</th>\n      <th>Reporter</th>\n      <th>Partner Code</th>\n      <th>Partner</th>\n      <th>Trade Flow</th>\n      <th>Trade Value (US$)</th>\n    </tr>\n  </thead>\n  <tbody>\n    <tr>\n      <th>247</th>\n      <td>156</td>\n      <td>China</td>\n      <td>8</td>\n      <td>Albania</td>\n      <td>Import</td>\n      <td>17013004</td>\n    </tr>\n    <tr>\n      <th>248</th>\n      <td>156</td>\n      <td>China</td>\n      <td>36</td>\n      <td>Australia</td>\n      <td>Import</td>\n      <td>1666113958</td>\n    </tr>\n    <tr>\n      <th>250</th>\n      <td>156</td>\n      <td>China</td>\n      <td>51</td>\n      <td>Armenia</td>\n      <td>Import</td>\n      <td>510563982</td>\n    </tr>\n    <tr>\n      <th>251</th>\n      <td>156</td>\n      <td>China</td>\n      <td>68</td>\n      <td>Bolivia (Plurinational State of)</td>\n      <td>Import</td>\n      <td>2677980</td>\n    </tr>\n    <tr>\n      <th>252</th>\n      <td>156</td>\n      <td>China</td>\n      <td>76</td>\n      <td>Brazil</td>\n      <td>Import</td>\n      <td>557705819</td>\n    </tr>\n    <tr>\n      <th>255</th>\n      <td>156</td>\n      <td>China</td>\n      <td>100</td>\n      <td>Bulgaria</td>\n      <td>Import</td>\n      <td>50</td>\n    </tr>\n    <tr>\n      <th>256</th>\n      <td>156</td>\n      <td>China</td>\n      <td>104</td>\n      <td>Myanmar</td>\n      <td>Import</td>\n      <td>2850825</td>\n    </tr>\n    <tr>\n      <th>258</th>\n      <td>156</td>\n      <td>China</td>\n      <td>124</td>\n      <td>Canada</td>\n      <td>Import</td>\n      <td>910149220</td>\n    </tr>\n    <tr>\n      <th>260</th>\n      <td>156</td>\n      <td>China</td>\n      <td>152</td>\n      <td>Chile</td>\n      <td>Import</td>\n      <td>12076025483</td>\n    </tr>\n    <tr>\n      <th>261</th>\n      <td>156</td>\n      <td>China</td>\n      <td>170</td>\n      <td>Colombia</td>\n      <td>Import</td>\n      <td>56382455</td>\n    </tr>\n    <tr>\n      <th>262</th>\n      <td>156</td>\n      <td>China</td>\n      <td>178</td>\n      <td>Congo</td>\n      <td>Import</td>\n      <td>520238</td>\n    </tr>\n    <tr>\n      <th>263</th>\n      <td>156</td>\n      <td>China</td>\n      <td>180</td>\n      <td>Dem. Rep. of the Congo</td>\n      <td>Import</td>\n      <td>386995691</td>\n    </tr>\n    <tr>\n      <th>265</th>\n      <td>156</td>\n      <td>China</td>\n      <td>212</td>\n      <td>Dominica</td>\n      <td>Import</td>\n      <td>57</td>\n    </tr>\n    <tr>\n      <th>266</th>\n      <td>156</td>\n      <td>China</td>\n      <td>214</td>\n      <td>Dominican Rep.</td>\n      <td>Import</td>\n      <td>123783836</td>\n    </tr>\n    <tr>\n      <th>267</th>\n      <td>156</td>\n      <td>China</td>\n      <td>218</td>\n      <td>Ecuador</td>\n      <td>Import</td>\n      <td>4952430</td>\n    </tr>\n    <tr>\n      <th>268</th>\n      <td>156</td>\n      <td>China</td>\n      <td>231</td>\n      <td>Ethiopia</td>\n      <td>Import</td>\n      <td>10326</td>\n    </tr>\n    <tr>\n      <th>269</th>\n      <td>156</td>\n      <td>China</td>\n      <td>232</td>\n      <td>Eritrea</td>\n      <td>Import</td>\n      <td>105319016</td>\n    </tr>\n    <tr>\n      <th>271</th>\n      <td>156</td>\n      <td>China</td>\n      <td>360</td>\n      <td>Indonesia</td>\n      <td>Import</td>\n      <td>618533133</td>\n    </tr>\n    <tr>\n      <th>272</th>\n      <td>156</td>\n      <td>China</td>\n      <td>364</td>\n      <td>Iran</td>\n      <td>Import</td>\n      <td>23701028</td>\n    </tr>\n    <tr>\n      <th>275</th>\n      <td>156</td>\n      <td>China</td>\n      <td>398</td>\n      <td>Kazakhstan</td>\n      <td>Import</td>\n      <td>964109620</td>\n    </tr>\n    <tr>\n      <th>276</th>\n      <td>156</td>\n      <td>China</td>\n      <td>404</td>\n      <td>Kenya</td>\n      <td>Import</td>\n      <td>501479</td>\n    </tr>\n    <tr>\n      <th>278</th>\n      <td>156</td>\n      <td>China</td>\n      <td>410</td>\n      <td>Rep. of Korea</td>\n      <td>Import</td>\n      <td>709</td>\n    </tr>\n    <tr>\n      <th>279</th>\n      <td>156</td>\n      <td>China</td>\n      <td>417</td>\n      <td>Kyrgyzstan</td>\n      <td>Import</td>\n      <td>199725</td>\n    </tr>\n    <tr>\n      <th>280</th>\n      <td>156</td>\n      <td>China</td>\n      <td>418</td>\n      <td>Lao People's Dem. Rep.</td>\n      <td>Import</td>\n      <td>458829040</td>\n    </tr>\n    <tr>\n      <th>281</th>\n      <td>156</td>\n      <td>China</td>\n      <td>450</td>\n      <td>Madagascar</td>\n      <td>Import</td>\n      <td>440772</td>\n    </tr>\n    <tr>\n      <th>282</th>\n      <td>156</td>\n      <td>China</td>\n      <td>458</td>\n      <td>Malaysia</td>\n      <td>Import</td>\n      <td>34683639</td>\n    </tr>\n    <tr>\n      <th>283</th>\n      <td>156</td>\n      <td>China</td>\n      <td>478</td>\n      <td>Mauritania</td>\n      <td>Import</td>\n      <td>209832472</td>\n    </tr>\n    <tr>\n      <th>284</th>\n      <td>156</td>\n      <td>China</td>\n      <td>484</td>\n      <td>Mexico</td>\n      <td>Import</td>\n      <td>1986012762</td>\n    </tr>\n    <tr>\n      <th>285</th>\n      <td>156</td>\n      <td>China</td>\n      <td>490</td>\n      <td>Other Asia, nes</td>\n      <td>Import</td>\n      <td>111136358</td>\n    </tr>\n    <tr>\n      <th>286</th>\n      <td>156</td>\n      <td>China</td>\n      <td>496</td>\n      <td>Mongolia</td>\n      <td>Import</td>\n      <td>1795514292</td>\n    </tr>\n    <tr>\n      <th>287</th>\n      <td>156</td>\n      <td>China</td>\n      <td>504</td>\n      <td>Morocco</td>\n      <td>Import</td>\n      <td>17746697</td>\n    </tr>\n    <tr>\n      <th>288</th>\n      <td>156</td>\n      <td>China</td>\n      <td>508</td>\n      <td>Mozambique</td>\n      <td>Import</td>\n      <td>2099031</td>\n    </tr>\n    <tr>\n      <th>289</th>\n      <td>156</td>\n      <td>China</td>\n      <td>516</td>\n      <td>Namibia</td>\n      <td>Import</td>\n      <td>18079</td>\n    </tr>\n    <tr>\n      <th>290</th>\n      <td>156</td>\n      <td>China</td>\n      <td>566</td>\n      <td>Nigeria</td>\n      <td>Import</td>\n      <td>9853</td>\n    </tr>\n    <tr>\n      <th>292</th>\n      <td>156</td>\n      <td>China</td>\n      <td>586</td>\n      <td>Pakistan</td>\n      <td>Import</td>\n      <td>193330</td>\n    </tr>\n    <tr>\n      <th>293</th>\n      <td>156</td>\n      <td>China</td>\n      <td>591</td>\n      <td>Panama</td>\n      <td>Import</td>\n      <td>387665029</td>\n    </tr>\n    <tr>\n      <th>294</th>\n      <td>156</td>\n      <td>China</td>\n      <td>598</td>\n      <td>Papua New Guinea</td>\n      <td>Import</td>\n      <td>159701250</td>\n    </tr>\n    <tr>\n      <th>295</th>\n      <td>156</td>\n      <td>China</td>\n      <td>604</td>\n      <td>Peru</td>\n      <td>Import</td>\n      <td>9052329871</td>\n    </tr>\n    <tr>\n      <th>296</th>\n      <td>156</td>\n      <td>China</td>\n      <td>608</td>\n      <td>Philippines</td>\n      <td>Import</td>\n      <td>268285022</td>\n    </tr>\n    <tr>\n      <th>297</th>\n      <td>156</td>\n      <td>China</td>\n      <td>642</td>\n      <td>Romania</td>\n      <td>Import</td>\n      <td>12115525</td>\n    </tr>\n    <tr>\n      <th>298</th>\n      <td>156</td>\n      <td>China</td>\n      <td>643</td>\n      <td>Russian Federation</td>\n      <td>Import</td>\n      <td>234860468</td>\n    </tr>\n    <tr>\n      <th>299</th>\n      <td>156</td>\n      <td>China</td>\n      <td>682</td>\n      <td>Saudi Arabia</td>\n      <td>Import</td>\n      <td>152889096</td>\n    </tr>\n    <tr>\n      <th>300</th>\n      <td>156</td>\n      <td>China</td>\n      <td>688</td>\n      <td>Serbia</td>\n      <td>Import</td>\n      <td>111</td>\n    </tr>\n    <tr>\n      <th>301</th>\n      <td>156</td>\n      <td>China</td>\n      <td>699</td>\n      <td>India</td>\n      <td>Import</td>\n      <td>78282781</td>\n    </tr>\n    <tr>\n      <th>302</th>\n      <td>156</td>\n      <td>China</td>\n      <td>704</td>\n      <td>Viet Nam</td>\n      <td>Import</td>\n      <td>22101901</td>\n    </tr>\n    <tr>\n      <th>303</th>\n      <td>156</td>\n      <td>China</td>\n      <td>706</td>\n      <td>Somalia</td>\n      <td>Import</td>\n      <td>154153</td>\n    </tr>\n    <tr>\n      <th>304</th>\n      <td>156</td>\n      <td>China</td>\n      <td>710</td>\n      <td>South Africa</td>\n      <td>Import</td>\n      <td>17009652</td>\n    </tr>\n    <tr>\n      <th>305</th>\n      <td>156</td>\n      <td>China</td>\n      <td>716</td>\n      <td>Zimbabwe</td>\n      <td>Import</td>\n      <td>783889</td>\n    </tr>\n    <tr>\n      <th>306</th>\n      <td>156</td>\n      <td>China</td>\n      <td>724</td>\n      <td>Spain</td>\n      <td>Import</td>\n      <td>872750734</td>\n    </tr>\n    <tr>\n      <th>307</th>\n      <td>156</td>\n      <td>China</td>\n      <td>764</td>\n      <td>Thailand</td>\n      <td>Import</td>\n      <td>115337</td>\n    </tr>\n    <tr>\n      <th>308</th>\n      <td>156</td>\n      <td>China</td>\n      <td>784</td>\n      <td>United Arab Emirates</td>\n      <td>Import</td>\n      <td>70360785</td>\n    </tr>\n    <tr>\n      <th>309</th>\n      <td>156</td>\n      <td>China</td>\n      <td>792</td>\n      <td>Turkey</td>\n      <td>Import</td>\n      <td>60658162</td>\n    </tr>\n    <tr>\n      <th>310</th>\n      <td>156</td>\n      <td>China</td>\n      <td>826</td>\n      <td>United Kingdom</td>\n      <td>Import</td>\n      <td>74307</td>\n    </tr>\n    <tr>\n      <th>311</th>\n      <td>156</td>\n      <td>China</td>\n      <td>834</td>\n      <td>United Rep. of Tanzania</td>\n      <td>Import</td>\n      <td>8523190</td>\n    </tr>\n    <tr>\n      <th>312</th>\n      <td>156</td>\n      <td>China</td>\n      <td>842</td>\n      <td>USA</td>\n      <td>Import</td>\n      <td>13566717</td>\n    </tr>\n    <tr>\n      <th>313</th>\n      <td>156</td>\n      <td>China</td>\n      <td>894</td>\n      <td>Zambia</td>\n      <td>Import</td>\n      <td>23748142</td>\n    </tr>\n  </tbody>\n</table>\n</div>"
     },
     "metadata": {},
     "execution_count": 3
    }
   ],
   "source": [
    "chinaImportLog = data.getCountryLog(156, \"Import\")\n",
    "partnerNum1 = chinaImportLog.shape[0]\n",
    "\n",
    "print(\"中国上报的进口记录中，涉及出口国家的个数: \", partnerNum1)\n",
    "chinaImportLog.head(partnerNum1)"
   ]
  },
  {
   "source": [
    "        2. 查看中国进口对象上报的对中国的出口记录"
   ],
   "cell_type": "markdown",
   "metadata": {}
  },
  {
   "cell_type": "code",
   "execution_count": 4,
   "metadata": {},
   "outputs": [
    {
     "output_type": "stream",
     "name": "stdout",
     "text": [
      "全球上报了对中国有出口记录的国家 43\n"
     ]
    },
    {
     "output_type": "execute_result",
     "data": {
      "text/plain": [
       "      Reporter Code                          Reporter  Partner Code Partner  \\\n",
       "13               36                         Australia           156   China   \n",
       "36               51                           Armenia           156   China   \n",
       "68               68  Bolivia (Plurinational State of)           156   China   \n",
       "88               76                            Brazil           156   China   \n",
       "116             100                          Bulgaria           156   China   \n",
       "161             124                            Canada           156   China   \n",
       "208             152                             Chile           156   China   \n",
       "316             170                          Colombia           156   China   \n",
       "328             204                             Benin           156   China   \n",
       "334             218                           Ecuador           156   China   \n",
       "386             276                           Germany           156   China   \n",
       "416             344              China, Hong Kong SAR           156   China   \n",
       "427             360                         Indonesia           156   China   \n",
       "465             381                             Italy           156   China   \n",
       "507             398                        Kazakhstan           156   China   \n",
       "515             404                             Kenya           156   China   \n",
       "526             410                     Rep. of Korea           156   China   \n",
       "550             418            Lao People's Dem. Rep.           156   China   \n",
       "562             450                        Madagascar           156   China   \n",
       "571             458                          Malaysia           156   China   \n",
       "600             490                   Other Asia, nes           156   China   \n",
       "616             496                          Mongolia           156   China   \n",
       "621             504                           Morocco           156   China   \n",
       "635             516                           Namibia           156   China   \n",
       "685             586                          Pakistan           156   China   \n",
       "700             604                              Peru           156   China   \n",
       "731             608                       Philippines           156   China   \n",
       "780             643                Russian Federation           156   China   \n",
       "793             688                            Serbia           156   China   \n",
       "805             699                             India           156   China   \n",
       "835             704                          Viet Nam           156   China   \n",
       "854             710                      South Africa           156   China   \n",
       "896             724                             Spain           156   China   \n",
       "980             792                            Turkey           156   China   \n",
       "1028            842                               USA           156   China   \n",
       "1069            894                            Zambia           156   China   \n",
       "1086            180            Dem. Rep. of the Congo           156   China   \n",
       "1106            268                           Georgia           156   China   \n",
       "1122            478                        Mauritania           156   China   \n",
       "1129            484                            Mexico           156   China   \n",
       "1142            682                      Saudi Arabia           156   China   \n",
       "636             516                           Namibia           156   China   \n",
       "1107            268                           Georgia           156   China   \n",
       "\n",
       "     Trade Flow  Trade Value (US$)  \n",
       "13       Export         1585564428  \n",
       "36       Export          174415305  \n",
       "68       Export            3882938  \n",
       "88       Export          442971407  \n",
       "116      Export           71216190  \n",
       "161      Export          764979617  \n",
       "208      Export         9649325301  \n",
       "316      Export           40352028  \n",
       "328      Export               1708  \n",
       "334      Export            3562481  \n",
       "386      Export            7449316  \n",
       "416      Export             152061  \n",
       "427      Export          599729496  \n",
       "465      Export              35819  \n",
       "507      Export          738608504  \n",
       "515      Export              15282  \n",
       "526      Export          260380148  \n",
       "550      Export          589052464  \n",
       "562      Export             511442  \n",
       "571      Export          182078771  \n",
       "600      Export          772507869  \n",
       "616      Export         1795868367  \n",
       "621      Export           21256334  \n",
       "635      Export            2991391  \n",
       "685      Export             314633  \n",
       "700      Export         8318062306  \n",
       "731      Export          242323556  \n",
       "780      Export          224055289  \n",
       "793      Export                 41  \n",
       "805      Export          293533475  \n",
       "835      Export              71467  \n",
       "854      Export           31830175  \n",
       "896      Export          746141115  \n",
       "980      Export           76043743  \n",
       "1028     Export            4248920  \n",
       "1069     Export            1657677  \n",
       "1086     Export          566480615  \n",
       "1106     Export          171641028  \n",
       "1122     Export          195646154  \n",
       "1129     Export         2067770798  \n",
       "1142     Export          135065597  \n",
       "636   Re-Export            2973160  \n",
       "1107  Re-Export           65397569  "
      ],
      "text/html": "<div>\n<style scoped>\n    .dataframe tbody tr th:only-of-type {\n        vertical-align: middle;\n    }\n\n    .dataframe tbody tr th {\n        vertical-align: top;\n    }\n\n    .dataframe thead th {\n        text-align: right;\n    }\n</style>\n<table border=\"1\" class=\"dataframe\">\n  <thead>\n    <tr style=\"text-align: right;\">\n      <th></th>\n      <th>Reporter Code</th>\n      <th>Reporter</th>\n      <th>Partner Code</th>\n      <th>Partner</th>\n      <th>Trade Flow</th>\n      <th>Trade Value (US$)</th>\n    </tr>\n  </thead>\n  <tbody>\n    <tr>\n      <th>13</th>\n      <td>36</td>\n      <td>Australia</td>\n      <td>156</td>\n      <td>China</td>\n      <td>Export</td>\n      <td>1585564428</td>\n    </tr>\n    <tr>\n      <th>36</th>\n      <td>51</td>\n      <td>Armenia</td>\n      <td>156</td>\n      <td>China</td>\n      <td>Export</td>\n      <td>174415305</td>\n    </tr>\n    <tr>\n      <th>68</th>\n      <td>68</td>\n      <td>Bolivia (Plurinational State of)</td>\n      <td>156</td>\n      <td>China</td>\n      <td>Export</td>\n      <td>3882938</td>\n    </tr>\n    <tr>\n      <th>88</th>\n      <td>76</td>\n      <td>Brazil</td>\n      <td>156</td>\n      <td>China</td>\n      <td>Export</td>\n      <td>442971407</td>\n    </tr>\n    <tr>\n      <th>116</th>\n      <td>100</td>\n      <td>Bulgaria</td>\n      <td>156</td>\n      <td>China</td>\n      <td>Export</td>\n      <td>71216190</td>\n    </tr>\n    <tr>\n      <th>161</th>\n      <td>124</td>\n      <td>Canada</td>\n      <td>156</td>\n      <td>China</td>\n      <td>Export</td>\n      <td>764979617</td>\n    </tr>\n    <tr>\n      <th>208</th>\n      <td>152</td>\n      <td>Chile</td>\n      <td>156</td>\n      <td>China</td>\n      <td>Export</td>\n      <td>9649325301</td>\n    </tr>\n    <tr>\n      <th>316</th>\n      <td>170</td>\n      <td>Colombia</td>\n      <td>156</td>\n      <td>China</td>\n      <td>Export</td>\n      <td>40352028</td>\n    </tr>\n    <tr>\n      <th>328</th>\n      <td>204</td>\n      <td>Benin</td>\n      <td>156</td>\n      <td>China</td>\n      <td>Export</td>\n      <td>1708</td>\n    </tr>\n    <tr>\n      <th>334</th>\n      <td>218</td>\n      <td>Ecuador</td>\n      <td>156</td>\n      <td>China</td>\n      <td>Export</td>\n      <td>3562481</td>\n    </tr>\n    <tr>\n      <th>386</th>\n      <td>276</td>\n      <td>Germany</td>\n      <td>156</td>\n      <td>China</td>\n      <td>Export</td>\n      <td>7449316</td>\n    </tr>\n    <tr>\n      <th>416</th>\n      <td>344</td>\n      <td>China, Hong Kong SAR</td>\n      <td>156</td>\n      <td>China</td>\n      <td>Export</td>\n      <td>152061</td>\n    </tr>\n    <tr>\n      <th>427</th>\n      <td>360</td>\n      <td>Indonesia</td>\n      <td>156</td>\n      <td>China</td>\n      <td>Export</td>\n      <td>599729496</td>\n    </tr>\n    <tr>\n      <th>465</th>\n      <td>381</td>\n      <td>Italy</td>\n      <td>156</td>\n      <td>China</td>\n      <td>Export</td>\n      <td>35819</td>\n    </tr>\n    <tr>\n      <th>507</th>\n      <td>398</td>\n      <td>Kazakhstan</td>\n      <td>156</td>\n      <td>China</td>\n      <td>Export</td>\n      <td>738608504</td>\n    </tr>\n    <tr>\n      <th>515</th>\n      <td>404</td>\n      <td>Kenya</td>\n      <td>156</td>\n      <td>China</td>\n      <td>Export</td>\n      <td>15282</td>\n    </tr>\n    <tr>\n      <th>526</th>\n      <td>410</td>\n      <td>Rep. of Korea</td>\n      <td>156</td>\n      <td>China</td>\n      <td>Export</td>\n      <td>260380148</td>\n    </tr>\n    <tr>\n      <th>550</th>\n      <td>418</td>\n      <td>Lao People's Dem. Rep.</td>\n      <td>156</td>\n      <td>China</td>\n      <td>Export</td>\n      <td>589052464</td>\n    </tr>\n    <tr>\n      <th>562</th>\n      <td>450</td>\n      <td>Madagascar</td>\n      <td>156</td>\n      <td>China</td>\n      <td>Export</td>\n      <td>511442</td>\n    </tr>\n    <tr>\n      <th>571</th>\n      <td>458</td>\n      <td>Malaysia</td>\n      <td>156</td>\n      <td>China</td>\n      <td>Export</td>\n      <td>182078771</td>\n    </tr>\n    <tr>\n      <th>600</th>\n      <td>490</td>\n      <td>Other Asia, nes</td>\n      <td>156</td>\n      <td>China</td>\n      <td>Export</td>\n      <td>772507869</td>\n    </tr>\n    <tr>\n      <th>616</th>\n      <td>496</td>\n      <td>Mongolia</td>\n      <td>156</td>\n      <td>China</td>\n      <td>Export</td>\n      <td>1795868367</td>\n    </tr>\n    <tr>\n      <th>621</th>\n      <td>504</td>\n      <td>Morocco</td>\n      <td>156</td>\n      <td>China</td>\n      <td>Export</td>\n      <td>21256334</td>\n    </tr>\n    <tr>\n      <th>635</th>\n      <td>516</td>\n      <td>Namibia</td>\n      <td>156</td>\n      <td>China</td>\n      <td>Export</td>\n      <td>2991391</td>\n    </tr>\n    <tr>\n      <th>685</th>\n      <td>586</td>\n      <td>Pakistan</td>\n      <td>156</td>\n      <td>China</td>\n      <td>Export</td>\n      <td>314633</td>\n    </tr>\n    <tr>\n      <th>700</th>\n      <td>604</td>\n      <td>Peru</td>\n      <td>156</td>\n      <td>China</td>\n      <td>Export</td>\n      <td>8318062306</td>\n    </tr>\n    <tr>\n      <th>731</th>\n      <td>608</td>\n      <td>Philippines</td>\n      <td>156</td>\n      <td>China</td>\n      <td>Export</td>\n      <td>242323556</td>\n    </tr>\n    <tr>\n      <th>780</th>\n      <td>643</td>\n      <td>Russian Federation</td>\n      <td>156</td>\n      <td>China</td>\n      <td>Export</td>\n      <td>224055289</td>\n    </tr>\n    <tr>\n      <th>793</th>\n      <td>688</td>\n      <td>Serbia</td>\n      <td>156</td>\n      <td>China</td>\n      <td>Export</td>\n      <td>41</td>\n    </tr>\n    <tr>\n      <th>805</th>\n      <td>699</td>\n      <td>India</td>\n      <td>156</td>\n      <td>China</td>\n      <td>Export</td>\n      <td>293533475</td>\n    </tr>\n    <tr>\n      <th>835</th>\n      <td>704</td>\n      <td>Viet Nam</td>\n      <td>156</td>\n      <td>China</td>\n      <td>Export</td>\n      <td>71467</td>\n    </tr>\n    <tr>\n      <th>854</th>\n      <td>710</td>\n      <td>South Africa</td>\n      <td>156</td>\n      <td>China</td>\n      <td>Export</td>\n      <td>31830175</td>\n    </tr>\n    <tr>\n      <th>896</th>\n      <td>724</td>\n      <td>Spain</td>\n      <td>156</td>\n      <td>China</td>\n      <td>Export</td>\n      <td>746141115</td>\n    </tr>\n    <tr>\n      <th>980</th>\n      <td>792</td>\n      <td>Turkey</td>\n      <td>156</td>\n      <td>China</td>\n      <td>Export</td>\n      <td>76043743</td>\n    </tr>\n    <tr>\n      <th>1028</th>\n      <td>842</td>\n      <td>USA</td>\n      <td>156</td>\n      <td>China</td>\n      <td>Export</td>\n      <td>4248920</td>\n    </tr>\n    <tr>\n      <th>1069</th>\n      <td>894</td>\n      <td>Zambia</td>\n      <td>156</td>\n      <td>China</td>\n      <td>Export</td>\n      <td>1657677</td>\n    </tr>\n    <tr>\n      <th>1086</th>\n      <td>180</td>\n      <td>Dem. Rep. of the Congo</td>\n      <td>156</td>\n      <td>China</td>\n      <td>Export</td>\n      <td>566480615</td>\n    </tr>\n    <tr>\n      <th>1106</th>\n      <td>268</td>\n      <td>Georgia</td>\n      <td>156</td>\n      <td>China</td>\n      <td>Export</td>\n      <td>171641028</td>\n    </tr>\n    <tr>\n      <th>1122</th>\n      <td>478</td>\n      <td>Mauritania</td>\n      <td>156</td>\n      <td>China</td>\n      <td>Export</td>\n      <td>195646154</td>\n    </tr>\n    <tr>\n      <th>1129</th>\n      <td>484</td>\n      <td>Mexico</td>\n      <td>156</td>\n      <td>China</td>\n      <td>Export</td>\n      <td>2067770798</td>\n    </tr>\n    <tr>\n      <th>1142</th>\n      <td>682</td>\n      <td>Saudi Arabia</td>\n      <td>156</td>\n      <td>China</td>\n      <td>Export</td>\n      <td>135065597</td>\n    </tr>\n    <tr>\n      <th>636</th>\n      <td>516</td>\n      <td>Namibia</td>\n      <td>156</td>\n      <td>China</td>\n      <td>Re-Export</td>\n      <td>2973160</td>\n    </tr>\n    <tr>\n      <th>1107</th>\n      <td>268</td>\n      <td>Georgia</td>\n      <td>156</td>\n      <td>China</td>\n      <td>Re-Export</td>\n      <td>65397569</td>\n    </tr>\n  </tbody>\n</table>\n</div>"
     },
     "metadata": {},
     "execution_count": 4
    }
   ],
   "source": [
    "exportToChinaLog = data.getCountryLog(156, \"Export\", \"parter\")\n",
    "partnerNum2 = exportToChinaLog.shape[0]\n",
    "\n",
    "print(\"全球上报了对中国有出口记录的国家\", partnerNum2)\n",
    "exportToChinaLog.head(partnerNum2)\n"
   ]
  },
  {
   "source": [
    "对比上面两个表格，显然各国出入口数据是**普遍**有出入的：\n",
    "\n",
    "首先，进出口对象数量上就不一致：中国上报记录中显示，中国 2019 年共从 56 个国家进口铜资源；而只有 43 个国家上报了对中国出口铜资源的记录\n",
    "\n",
    "其次，对于有些进出口双方都上报了记录的情况，双方上报的贸易金额不一致，有的甚至出入较大\n",
    "\n",
    "这可能是有以下的原因导致的：\n",
    "\n",
    "1. 由于政策和统计方法不同导致的上报数据的结果不同. \n",
    "2. 由于货物在进出口过程中经第三方国家中转，而进出口国家对于出入口的目标国家登记不一致导致.\n",
    "3. 其他可能原因."
   ],
   "cell_type": "markdown",
   "metadata": {}
  },
  {
   "source": [
    "## 2. 构建网络\n",
    "\n",
    "根据以上数据和分析，构建网络：\n",
    "\n",
    "1. 以国家为节点，进出口关系为指向（出口国 -> 进口国），构建有向无权图\n",
    "\n",
    "2. 对于进出口关系，忽略各个国家之间上报数据的差异，即只要在任何一条记录中出现进出口关系即双方存在贸易关系，则为对应节点添加连边"
   ],
   "cell_type": "markdown",
   "metadata": {}
  },
  {
   "cell_type": "code",
   "execution_count": 5,
   "metadata": {},
   "outputs": [],
   "source": [
    "from src.modules.network import Net\n",
    "\n",
    "net = Net(data)\n",
    "G = net.G"
   ]
  },
  {
   "source": [
    "绘制网络："
   ],
   "cell_type": "markdown",
   "metadata": {}
  },
  {
   "cell_type": "code",
   "execution_count": 6,
   "metadata": {},
   "outputs": [],
   "source": [
    "# net.draw()"
   ]
  },
  {
   "source": [
    "## 3. 基于连接信息熵的节点重要性"
   ],
   "cell_type": "markdown",
   "metadata": {}
  },
  {
   "source": [
    "### 3.1 定义\n",
    "\n",
    "#### 3.1.1 连接度 $A_i$\n",
    "定义有向加权网络中节点的连接度为\n",
    "$$\n",
    "A_i = \\theta\\sum_{j\\in \\Gamma_{i\\_in}}k_j + (1-\\theta)\\sum_{j\\in \\Gamma_{i\\_out}}k_j\n",
    "$$"
   ],
   "cell_type": "markdown",
   "metadata": {}
  },
  {
   "source": [
    "其中 $\\Gamma_{i\\_in}$ 是指向节点 $i$ 的邻居节点集，$\\Gamma_{i\\_out}$ 是由节点 $i$ 指向的邻居节点集；$k_j$ 是对应节点的度；$\\theta \\in [0,1]$ 是参数.\n",
    "\n",
    "具体地，有向加权网络中，定义节点 $k_j$ 的度为："
   ],
   "cell_type": "markdown",
   "metadata": {}
  },
  {
   "source": [
    "$$\n",
    "\\begin{aligned}\n",
    "k_j &= \\lambda k_i^{in} + (1-\\lambda)k_i^{out} \\\\\n",
    "    &= \\lambda \\sum_{i=1}^m w_{ij} + (1 - \\lambda)\\sum_{i=1}^m w_{ji}\n",
    "\\end{aligned}\n",
    "$$"
   ],
   "cell_type": "markdown",
   "metadata": {}
  },
  {
   "source": [
    "其中 $w_{uv}$ 表示由节点 $u$ 指向节点 $v$ 的边的权重，若该边不存在则记为 $0$；$\\lambda$ 为出入边的权重参数.\n",
    "\n",
    "具体地上式表示，在节点 $j$ 与其邻居节点的连边中，按权重求出入连边的权重和."
   ],
   "cell_type": "markdown",
   "metadata": {}
  },
  {
   "source": [
    "#### 3.1.2 连边概率 $P_{i_j}$\n",
    "\n",
    "定义连边概率 $P_{i_j}$ 为节点 $i$ 被其邻居节点 $j$ 选择进行连边的概率：\n",
    "$$\n",
    "P_{i_j} = \\frac{k_i}{A_j}, \\ \\ \\ \\ (j\\in\\Gamma_i)\n",
    "$$"
   ],
   "cell_type": "markdown",
   "metadata": {}
  },
  {
   "source": [
    "#### 3.1.3 连接信息熵 $E_i$\n",
    "\n",
    "定义有向网络中连接信息熵如下："
   ],
   "cell_type": "markdown",
   "metadata": {}
  },
  {
   "source": [
    "$$\n",
    "E_i = \\sum\\limits_{j\\in\\Gamma_j}\\left| P_{i_j}\\log_2 P_{i_j} \\right|\n",
    "$$"
   ],
   "cell_type": "markdown",
   "metadata": {}
  },
  {
   "source": [
    "*这里取绝对值是因为 $\\theta$ 加权的原因，$P_{i_j}$ 可能大于 $1$*"
   ],
   "cell_type": "markdown",
   "metadata": {}
  },
  {
   "source": [
    "def getStrength(G, node, l = 0.75):\n",
    "    in_edges = G.in_edges(node, data=\"weight\")\n",
    "    out_edges = G.out_edges(node, data=\"weight\")\n",
    "\n",
    "    in_strength = sum([data[2] for data in in_edges])\n",
    "    out_strength = sum([data[2] for data in out_edges])\n",
    "\n",
    "    return l * in_strength + (1 - l) * out_strength"
   ],
   "cell_type": "code",
   "metadata": {},
   "execution_count": 7,
   "outputs": []
  },
  {
   "cell_type": "code",
   "execution_count": 8,
   "metadata": {},
   "outputs": [],
   "source": [
    "def getAdjacencyDegree(G, node, theta = 0.75, l = 0.75):\n",
    "    successors = G.successors(node)\n",
    "    predecessors = G.predecessors(node)\n",
    "\n",
    "    in_degree = sum([ getStrength(G, node, l) for node in predecessors ])\n",
    "    out_degree = sum([ getStrength(G, node, l) for node in successors ])\n",
    "\n",
    "    return theta * in_degree + (1 - theta) * out_degree"
   ]
  },
  {
   "cell_type": "code",
   "execution_count": 9,
   "metadata": {},
   "outputs": [],
   "source": [
    "def getSelectionProbability(G, i, j, l = 0.75, theta = 0.75):\n",
    "    return getStrength(G, i, l) / getAdjacencyDegree(G, j, theta, l)"
   ]
  },
  {
   "cell_type": "code",
   "execution_count": 10,
   "metadata": {},
   "outputs": [],
   "source": [
    "import math\n",
    "\n",
    "def getAdjacencyEntropy(G, i, l=0.75, theta=0.75):\n",
    "    successors = G.successors(i)\n",
    "    predecessors = G.predecessors(i)\n",
    "\n",
    "    neighbors = set((*successors, *predecessors))\n",
    "    \n",
    "    E = 0\n",
    "\n",
    "    for neighbor in neighbors:\n",
    "        p = getSelectionProbability(G, i, neighbor)\n",
    "        E += abs(p * math.log(p, 2))\n",
    "\n",
    "    return E"
   ]
  },
  {
   "cell_type": "code",
   "execution_count": 11,
   "metadata": {},
   "outputs": [],
   "source": [
    "import networkx as nx"
   ]
  },
  {
   "cell_type": "code",
   "execution_count": 12,
   "metadata": {},
   "outputs": [
    {
     "output_type": "display_data",
     "data": {
      "text/plain": "<Figure size 432x288 with 1 Axes>",
      "image/svg+xml": "<?xml version=\"1.0\" encoding=\"utf-8\" standalone=\"no\"?>\n<!DOCTYPE svg PUBLIC \"-//W3C//DTD SVG 1.1//EN\"\n  \"http://www.w3.org/Graphics/SVG/1.1/DTD/svg11.dtd\">\n<svg height=\"302.4pt\" version=\"1.1\" viewBox=\"0 0 446.4 302.4\" width=\"446.4pt\" xmlns=\"http://www.w3.org/2000/svg\" xmlns:xlink=\"http://www.w3.org/1999/xlink\">\n <metadata>\n  <rdf:RDF xmlns:cc=\"http://creativecommons.org/ns#\" xmlns:dc=\"http://purl.org/dc/elements/1.1/\" xmlns:rdf=\"http://www.w3.org/1999/02/22-rdf-syntax-ns#\">\n   <cc:Work>\n    <dc:type rdf:resource=\"http://purl.org/dc/dcmitype/StillImage\"/>\n    <dc:date>2021-07-12T21:25:18.458956</dc:date>\n    <dc:format>image/svg+xml</dc:format>\n    <dc:creator>\n     <cc:Agent>\n      <dc:title>Matplotlib v3.4.2, https://matplotlib.org/</dc:title>\n     </cc:Agent>\n    </dc:creator>\n   </cc:Work>\n  </rdf:RDF>\n </metadata>\n <defs>\n  <style type=\"text/css\">*{stroke-linecap:butt;stroke-linejoin:round;}</style>\n </defs>\n <g id=\"figure_1\">\n  <g id=\"patch_1\">\n   <path d=\"M 0 302.4 \nL 446.4 302.4 \nL 446.4 0 \nL 0 0 \nz\n\" style=\"fill:#ffffff;\"/>\n  </g>\n  <g id=\"axes_1\">\n   <g id=\"patch_2\">\n    <path clip-path=\"url(#pc0f53224ca)\" d=\"M 115.435976 36.874208 \nQ 154.029331 61.687385 191.682255 85.895922 \n\" style=\"fill:none;stroke:#000000;stroke-linecap:round;\"/>\n    <path clip-path=\"url(#pc0f53224ca)\" d=\"M 189.399279 82.050403 \nL 191.682255 85.895922 \nL 187.236054 85.414991 \nL 189.399279 82.050403 \nz\n\" style=\"stroke:#000000;stroke-linecap:round;\"/>\n   </g>\n   <g id=\"patch_3\">\n    <path clip-path=\"url(#pc0f53224ca)\" d=\"M 204.698403 98.398567 \nQ 218.384703 119.001571 231.452364 138.673294 \n\" style=\"fill:none;stroke:#000000;stroke-linecap:round;\"/>\n    <path clip-path=\"url(#pc0f53224ca)\" d=\"M 230.904985 134.234783 \nL 231.452364 138.673294 \nL 227.573128 136.448091 \nL 230.904985 134.234783 \nz\n\" style=\"stroke:#000000;stroke-linecap:round;\"/>\n   </g>\n   <g id=\"patch_4\">\n    <path clip-path=\"url(#pc0f53224ca)\" d=\"M 230.395802 141.058835 \nQ 172.506954 89.504111 115.453033 38.692956 \n\" style=\"fill:none;stroke:#000000;stroke-linecap:round;\"/>\n    <path clip-path=\"url(#pc0f53224ca)\" d=\"M 117.110019 42.846797 \nL 115.453033 38.692956 \nL 119.770298 39.859672 \nL 117.110019 42.846797 \nz\n\" style=\"stroke:#000000;stroke-linecap:round;\"/>\n   </g>\n   <g id=\"patch_5\">\n    <path clip-path=\"url(#pc0f53224ca)\" d=\"M 228.661294 144.037408 \nQ 140.774387 114.236443 53.9463 84.794506 \n\" style=\"fill:none;stroke:#000000;stroke-linecap:round;\"/>\n    <path clip-path=\"url(#pc0f53224ca)\" d=\"M 57.0922 87.973077 \nL 53.9463 84.794506 \nL 58.376697 84.184929 \nL 57.0922 87.973077 \nz\n\" style=\"stroke:#000000;stroke-linecap:round;\"/>\n   </g>\n   <g id=\"patch_6\">\n    <path clip-path=\"url(#pc0f53224ca)\" d=\"M 243.79808 152.009328 \nQ 319.289056 208.514357 393.88496 264.349425 \n\" style=\"fill:none;stroke:#000000;stroke-linecap:round;\"/>\n    <path clip-path=\"url(#pc0f53224ca)\" d=\"M 391.88112 260.351348 \nL 393.88496 264.349425 \nL 389.484194 263.553651 \nL 391.88112 260.351348 \nz\n\" style=\"stroke:#000000;stroke-linecap:round;\"/>\n   </g>\n   <g id=\"patch_7\">\n    <path clip-path=\"url(#pc0f53224ca)\" d=\"M 228.209861 147.203235 \nQ 206.161324 148.183518 185.229718 149.114143 \n\" style=\"fill:none;stroke:#000000;stroke-linecap:round;\"/>\n    <path clip-path=\"url(#pc0f53224ca)\" d=\"M 189.314603 150.934503 \nL 185.229718 149.114143 \nL 189.136938 146.938451 \nL 189.314603 150.934503 \nz\n\" style=\"stroke:#000000;stroke-linecap:round;\"/>\n   </g>\n   <g id=\"patch_8\">\n    <path clip-path=\"url(#pc0f53224ca)\" d=\"M 245.072556 149.588945 \nQ 303.683857 169.36849 361.23582 188.79054 \n\" style=\"fill:none;stroke:#000000;stroke-linecap:round;\"/>\n    <path clip-path=\"url(#pc0f53224ca)\" d=\"M 358.085322 185.616527 \nL 361.23582 188.79054 \nL 356.806311 189.40653 \nL 358.085322 185.616527 \nz\n\" style=\"stroke:#000000;stroke-linecap:round;\"/>\n   </g>\n   <g id=\"patch_9\">\n    <path clip-path=\"url(#pc0f53224ca)\" d=\"M 53.332368 82.185672 \nQ 122.29546 86.418773 190.142618 90.583375 \n\" style=\"fill:none;stroke:#000000;stroke-linecap:round;\"/>\n    <path clip-path=\"url(#pc0f53224ca)\" d=\"M 186.272666 88.342065 \nL 190.142618 90.583375 \nL 186.027598 92.33455 \nL 186.272666 88.342065 \nz\n\" style=\"stroke:#000000;stroke-linecap:round;\"/>\n   </g>\n   <g id=\"patch_10\">\n    <path clip-path=\"url(#pc0f53224ca)\" d=\"M 183.92287 151.38636 \nQ 272.97844 170.731976 360.941458 189.840255 \n\" style=\"fill:none;stroke:#000000;stroke-linecap:round;\"/>\n    <path clip-path=\"url(#pc0f53224ca)\" d=\"M 357.457182 187.036718 \nL 360.941458 189.840255 \nL 356.608063 190.945554 \nL 357.457182 187.036718 \nz\n\" style=\"stroke:#000000;stroke-linecap:round;\"/>\n   </g>\n   <g id=\"patch_11\">\n    <path clip-path=\"url(#pc0f53224ca)\" d=\"M 167.779552 145.559927 \nQ 110.078323 115.603535 53.369372 86.162298 \n\" style=\"fill:none;stroke:#000000;stroke-linecap:round;\"/>\n    <path clip-path=\"url(#pc0f53224ca)\" d=\"M 55.997916 89.780413 \nL 53.369372 86.162298 \nL 57.84099 86.230332 \nL 55.997916 89.780413 \nz\n\" style=\"stroke:#000000;stroke-linecap:round;\"/>\n   </g>\n   <g id=\"patch_12\">\n    <path clip-path=\"url(#pc0f53224ca)\" d=\"M 373.705246 199.960922 \nQ 386.10453 231.060721 398.089757 261.121983 \n\" style=\"fill:none;stroke:#000000;stroke-linecap:round;\"/>\n    <path clip-path=\"url(#pc0f53224ca)\" d=\"M 398.466169 256.665716 \nL 398.089757 261.121983 \nL 394.750591 258.147093 \nL 398.466169 256.665716 \nz\n\" style=\"stroke:#000000;stroke-linecap:round;\"/>\n   </g>\n   <g id=\"PathCollection_1\">\n    <defs>\n     <path d=\"M 0 8.660254 \nC 2.296726 8.660254 4.499694 7.747755 6.123724 6.123724 \nC 7.747755 4.499694 8.660254 2.296726 8.660254 0 \nC 8.660254 -2.296726 7.747755 -4.499694 6.123724 -6.123724 \nC 4.499694 -7.747755 2.296726 -8.660254 0 -8.660254 \nC -2.296726 -8.660254 -4.499694 -7.747755 -6.123724 -6.123724 \nC -7.747755 -4.499694 -8.660254 -2.296726 -8.660254 0 \nC -8.660254 2.296726 -7.747755 4.499694 -6.123724 6.123724 \nC -4.499694 7.747755 -2.296726 8.660254 0 8.660254 \nz\n\" id=\"m0e149349ba\" style=\"stroke:#1f78b4;\"/>\n    </defs>\n    <g clip-path=\"url(#pc0f53224ca)\">\n     <use style=\"fill:#1f78b4;stroke:#1f78b4;\" x=\"108.153058\" xlink:href=\"#m0e149349ba\" y=\"32.191736\"/>\n     <use style=\"fill:#1f78b4;stroke:#1f78b4;\" x=\"199.904938\" xlink:href=\"#m0e149349ba\" y=\"91.182607\"/>\n     <use style=\"fill:#1f78b4;stroke:#1f78b4;\" x=\"236.863121\" xlink:href=\"#m0e149349ba\" y=\"146.818509\"/>\n     <use style=\"fill:#1f78b4;stroke:#1f78b4;\" x=\"44.687603\" xlink:href=\"#m0e149349ba\" y=\"81.655038\"/>\n     <use style=\"fill:#1f78b4;stroke:#1f78b4;\" x=\"401.712397\" xlink:href=\"#m0e149349ba\" y=\"270.208264\"/>\n     <use style=\"fill:#1f78b4;stroke:#1f78b4;\" x=\"175.462073\" xlink:href=\"#m0e149349ba\" y=\"149.548414\"/>\n     <use style=\"fill:#1f78b4;stroke:#1f78b4;\" x=\"370.49787\" xlink:href=\"#m0e149349ba\" y=\"191.916203\"/>\n    </g>\n   </g>\n   <g id=\"text_1\">\n    <g clip-path=\"url(#pc0f53224ca)\">\n     <!-- a -->\n     <g transform=\"translate(104.476183 35.502986)scale(0.12 -0.12)\">\n      <defs>\n       <path d=\"M 2194 1759 \nQ 1497 1759 1228 1600 \nQ 959 1441 959 1056 \nQ 959 750 1161 570 \nQ 1363 391 1709 391 \nQ 2188 391 2477 730 \nQ 2766 1069 2766 1631 \nL 2766 1759 \nL 2194 1759 \nz\nM 3341 1997 \nL 3341 0 \nL 2766 0 \nL 2766 531 \nQ 2569 213 2275 61 \nQ 1981 -91 1556 -91 \nQ 1019 -91 701 211 \nQ 384 513 384 1019 \nQ 384 1609 779 1909 \nQ 1175 2209 1959 2209 \nL 2766 2209 \nL 2766 2266 \nQ 2766 2663 2505 2880 \nQ 2244 3097 1772 3097 \nQ 1472 3097 1187 3025 \nQ 903 2953 641 2809 \nL 641 3341 \nQ 956 3463 1253 3523 \nQ 1550 3584 1831 3584 \nQ 2591 3584 2966 3190 \nQ 3341 2797 3341 1997 \nz\n\" id=\"DejaVuSans-61\" transform=\"scale(0.015625)\"/>\n      </defs>\n      <use xlink:href=\"#DejaVuSans-61\"/>\n     </g>\n    </g>\n   </g>\n   <g id=\"text_2\">\n    <g clip-path=\"url(#pc0f53224ca)\">\n     <!-- b -->\n     <g transform=\"translate(196.095875 94.493857)scale(0.12 -0.12)\">\n      <defs>\n       <path d=\"M 3116 1747 \nQ 3116 2381 2855 2742 \nQ 2594 3103 2138 3103 \nQ 1681 3103 1420 2742 \nQ 1159 2381 1159 1747 \nQ 1159 1113 1420 752 \nQ 1681 391 2138 391 \nQ 2594 391 2855 752 \nQ 3116 1113 3116 1747 \nz\nM 1159 2969 \nQ 1341 3281 1617 3432 \nQ 1894 3584 2278 3584 \nQ 2916 3584 3314 3078 \nQ 3713 2572 3713 1747 \nQ 3713 922 3314 415 \nQ 2916 -91 2278 -91 \nQ 1894 -91 1617 61 \nQ 1341 213 1159 525 \nL 1159 0 \nL 581 0 \nL 581 4863 \nL 1159 4863 \nL 1159 2969 \nz\n\" id=\"DejaVuSans-62\" transform=\"scale(0.015625)\"/>\n      </defs>\n      <use xlink:href=\"#DejaVuSans-62\"/>\n     </g>\n    </g>\n   </g>\n   <g id=\"text_3\">\n    <g clip-path=\"url(#pc0f53224ca)\">\n     <!-- g -->\n     <g transform=\"translate(233.054059 150.129759)scale(0.12 -0.12)\">\n      <defs>\n       <path d=\"M 2906 1791 \nQ 2906 2416 2648 2759 \nQ 2391 3103 1925 3103 \nQ 1463 3103 1205 2759 \nQ 947 2416 947 1791 \nQ 947 1169 1205 825 \nQ 1463 481 1925 481 \nQ 2391 481 2648 825 \nQ 2906 1169 2906 1791 \nz\nM 3481 434 \nQ 3481 -459 3084 -895 \nQ 2688 -1331 1869 -1331 \nQ 1566 -1331 1297 -1286 \nQ 1028 -1241 775 -1147 \nL 775 -588 \nQ 1028 -725 1275 -790 \nQ 1522 -856 1778 -856 \nQ 2344 -856 2625 -561 \nQ 2906 -266 2906 331 \nL 2906 616 \nQ 2728 306 2450 153 \nQ 2172 0 1784 0 \nQ 1141 0 747 490 \nQ 353 981 353 1791 \nQ 353 2603 747 3093 \nQ 1141 3584 1784 3584 \nQ 2172 3584 2450 3431 \nQ 2728 3278 2906 2969 \nL 2906 3500 \nL 3481 3500 \nL 3481 434 \nz\n\" id=\"DejaVuSans-67\" transform=\"scale(0.015625)\"/>\n      </defs>\n      <use xlink:href=\"#DejaVuSans-67\"/>\n     </g>\n    </g>\n   </g>\n   <g id=\"text_4\">\n    <g clip-path=\"url(#pc0f53224ca)\">\n     <!-- c -->\n     <g transform=\"translate(41.388541 84.966288)scale(0.12 -0.12)\">\n      <defs>\n       <path d=\"M 3122 3366 \nL 3122 2828 \nQ 2878 2963 2633 3030 \nQ 2388 3097 2138 3097 \nQ 1578 3097 1268 2742 \nQ 959 2388 959 1747 \nQ 959 1106 1268 751 \nQ 1578 397 2138 397 \nQ 2388 397 2633 464 \nQ 2878 531 3122 666 \nL 3122 134 \nQ 2881 22 2623 -34 \nQ 2366 -91 2075 -91 \nQ 1284 -91 818 406 \nQ 353 903 353 1747 \nQ 353 2603 823 3093 \nQ 1294 3584 2113 3584 \nQ 2378 3584 2631 3529 \nQ 2884 3475 3122 3366 \nz\n\" id=\"DejaVuSans-63\" transform=\"scale(0.015625)\"/>\n      </defs>\n      <use xlink:href=\"#DejaVuSans-63\"/>\n     </g>\n    </g>\n   </g>\n   <g id=\"text_5\">\n    <g clip-path=\"url(#pc0f53224ca)\">\n     <!-- f -->\n     <g transform=\"translate(399.600209 273.519514)scale(0.12 -0.12)\">\n      <defs>\n       <path d=\"M 2375 4863 \nL 2375 4384 \nL 1825 4384 \nQ 1516 4384 1395 4259 \nQ 1275 4134 1275 3809 \nL 1275 3500 \nL 2222 3500 \nL 2222 3053 \nL 1275 3053 \nL 1275 0 \nL 697 0 \nL 697 3053 \nL 147 3053 \nL 147 3500 \nL 697 3500 \nL 697 3744 \nQ 697 4328 969 4595 \nQ 1241 4863 1831 4863 \nL 2375 4863 \nz\n\" id=\"DejaVuSans-66\" transform=\"scale(0.015625)\"/>\n      </defs>\n      <use xlink:href=\"#DejaVuSans-66\"/>\n     </g>\n    </g>\n   </g>\n   <g id=\"text_6\">\n    <g clip-path=\"url(#pc0f53224ca)\">\n     <!-- d -->\n     <g transform=\"translate(171.65301 152.859664)scale(0.12 -0.12)\">\n      <defs>\n       <path d=\"M 2906 2969 \nL 2906 4863 \nL 3481 4863 \nL 3481 0 \nL 2906 0 \nL 2906 525 \nQ 2725 213 2448 61 \nQ 2172 -91 1784 -91 \nQ 1150 -91 751 415 \nQ 353 922 353 1747 \nQ 353 2572 751 3078 \nQ 1150 3584 1784 3584 \nQ 2172 3584 2448 3432 \nQ 2725 3281 2906 2969 \nz\nM 947 1747 \nQ 947 1113 1208 752 \nQ 1469 391 1925 391 \nQ 2381 391 2643 752 \nQ 2906 1113 2906 1747 \nQ 2906 2381 2643 2742 \nQ 2381 3103 1925 3103 \nQ 1469 3103 1208 2742 \nQ 947 2381 947 1747 \nz\n\" id=\"DejaVuSans-64\" transform=\"scale(0.015625)\"/>\n      </defs>\n      <use xlink:href=\"#DejaVuSans-64\"/>\n     </g>\n    </g>\n   </g>\n   <g id=\"text_7\">\n    <g clip-path=\"url(#pc0f53224ca)\">\n     <!-- e -->\n     <g transform=\"translate(366.805995 195.227453)scale(0.12 -0.12)\">\n      <defs>\n       <path d=\"M 3597 1894 \nL 3597 1613 \nL 953 1613 \nQ 991 1019 1311 708 \nQ 1631 397 2203 397 \nQ 2534 397 2845 478 \nQ 3156 559 3463 722 \nL 3463 178 \nQ 3153 47 2828 -22 \nQ 2503 -91 2169 -91 \nQ 1331 -91 842 396 \nQ 353 884 353 1716 \nQ 353 2575 817 3079 \nQ 1281 3584 2069 3584 \nQ 2775 3584 3186 3129 \nQ 3597 2675 3597 1894 \nz\nM 3022 2063 \nQ 3016 2534 2758 2815 \nQ 2500 3097 2075 3097 \nQ 1594 3097 1305 2825 \nQ 1016 2553 972 2059 \nL 3022 2063 \nz\n\" id=\"DejaVuSans-65\" transform=\"scale(0.015625)\"/>\n      </defs>\n      <use xlink:href=\"#DejaVuSans-65\"/>\n     </g>\n    </g>\n   </g>\n  </g>\n </g>\n <defs>\n  <clipPath id=\"pc0f53224ca\">\n   <rect height=\"288\" width=\"432\" x=\"7.2\" y=\"7.2\"/>\n  </clipPath>\n </defs>\n</svg>\n",
      "image/png": "[encoded data removed]"
     },
     "metadata": {}
    }
   ],
   "source": [
    "tG = nx.DiGraph()\n",
    "\n",
    "tG.add_edge('a','b', weight=1)\n",
    "tG.add_edge('g','a', weight=1)\n",
    "tG.add_edge('b','g', weight=1)\n",
    "tG.add_edge('c','b', weight=1)\n",
    "tG.add_edge('g','c', weight=1)\n",
    "tG.add_edge('g','f', weight=1)\n",
    "tG.add_edge('g','d', weight=1)\n",
    "tG.add_edge('g','e', weight=1)\n",
    "tG.add_edge('e','f', weight=1)\n",
    "tG.add_edge('d','e', weight=1)\n",
    "tG.add_edge('d','c', weight=1)\n",
    "\n",
    "nx.draw(tG, with_labels=True)"
   ]
  },
  {
   "cell_type": "code",
   "execution_count": 13,
   "metadata": {},
   "outputs": [
    {
     "output_type": "execute_result",
     "data": {
      "text/plain": [
       "0.3902439024390244"
      ]
     },
     "metadata": {},
     "execution_count": 13
    }
   ],
   "source": [
    "getSelectionProbability(tG, 'a', 'b')"
   ]
  },
  {
   "cell_type": "code",
   "execution_count": 14,
   "metadata": {},
   "outputs": [
    {
     "output_type": "execute_result",
     "data": {
      "text/plain": [
       "0.32"
      ]
     },
     "metadata": {},
     "execution_count": 14
    }
   ],
   "source": [
    "getSelectionProbability(tG, 'a', 'g')"
   ]
  },
  {
   "cell_type": "code",
   "execution_count": 15,
   "metadata": {},
   "outputs": [
    {
     "output_type": "execute_result",
     "data": {
      "text/plain": [
       "1.0558103727739936"
      ]
     },
     "metadata": {},
     "execution_count": 15
    }
   ],
   "source": [
    "getAdjacencyEntropy(tG, 'a')"
   ]
  },
  {
   "cell_type": "code",
   "execution_count": 16,
   "metadata": {},
   "outputs": [
    {
     "output_type": "execute_result",
     "data": {
      "text/plain": [
       "0.0696289402277759"
      ]
     },
     "metadata": {},
     "execution_count": 16
    }
   ],
   "source": [
    "getAdjacencyEntropy(G, 31)"
   ]
  },
  {
   "cell_type": "code",
   "execution_count": 17,
   "metadata": {},
   "outputs": [
    {
     "output_type": "display_data",
     "data": {
      "text/plain": "<Figure size 1440x360 with 1 Axes>",
      "image/svg+xml": "<?xml version=\"1.0\" encoding=\"utf-8\" standalone=\"no\"?>\n<!DOCTYPE svg PUBLIC \"-//W3C//DTD SVG 1.1//EN\"\n  \"http://www.w3.org/Graphics/SVG/1.1/DTD/svg11.dtd\">\n<svg height=\"302.878125pt\" version=\"1.1\" viewBox=\"0 0 1156.4875 302.878125\" width=\"1156.4875pt\" xmlns=\"http://www.w3.org/2000/svg\" xmlns:xlink=\"http://www.w3.org/1999/xlink\">\n <metadata>\n  <rdf:RDF xmlns:cc=\"http://creativecommons.org/ns#\" xmlns:dc=\"http://purl.org/dc/elements/1.1/\" xmlns:rdf=\"http://www.w3.org/1999/02/22-rdf-syntax-ns#\">\n   <cc:Work>\n    <dc:type rdf:resource=\"http://purl.org/dc/dcmitype/StillImage\"/>\n    <dc:date>2021-07-12T21:25:18.907312</dc:date>\n    <dc:format>image/svg+xml</dc:format>\n    <dc:creator>\n     <cc:Agent>\n      <dc:title>Matplotlib v3.4.2, https://matplotlib.org/</dc:title>\n     </cc:Agent>\n    </dc:creator>\n   </cc:Work>\n  </rdf:RDF>\n </metadata>\n <defs>\n  <style type=\"text/css\">*{stroke-linecap:butt;stroke-linejoin:round;}</style>\n </defs>\n <g id=\"figure_1\">\n  <g id=\"patch_1\">\n   <path d=\"M 0 302.878125 \nL 1156.4875 302.878125 \nL 1156.4875 0 \nL 0 0 \nz\n\" style=\"fill:none;\"/>\n  </g>\n  <g id=\"axes_1\">\n   <g id=\"patch_2\">\n    <path d=\"M 33.2875 279 \nL 1149.2875 279 \nL 1149.2875 7.2 \nL 33.2875 7.2 \nz\n\" style=\"fill:#ffffff;\"/>\n   </g>\n   <g id=\"patch_3\">\n    <path clip-path=\"url(#pbe91e0f187)\" d=\"M 84.014773 279 \nL 125.006508 279 \nL 125.006508 20.142857 \nL 84.014773 20.142857 \nz\n\" style=\"fill:#0000ff;\"/>\n   </g>\n   <g id=\"patch_4\">\n    <path clip-path=\"url(#pbe91e0f187)\" d=\"M 135.254442 279 \nL 176.246178 279 \nL 176.246178 232.891616 \nL 135.254442 232.891616 \nz\n\" style=\"fill:#0000ff;\"/>\n   </g>\n   <g id=\"patch_5\">\n    <path clip-path=\"url(#pbe91e0f187)\" d=\"M 186.494112 279 \nL 227.485847 279 \nL 227.485847 250.275128 \nL 186.494112 250.275128 \nz\n\" style=\"fill:#0000ff;\"/>\n   </g>\n   <g id=\"patch_6\">\n    <path clip-path=\"url(#pbe91e0f187)\" d=\"M 237.733781 279 \nL 278.725517 279 \nL 278.725517 258.405828 \nL 237.733781 258.405828 \nz\n\" style=\"fill:#0000ff;\"/>\n   </g>\n   <g id=\"patch_7\">\n    <path clip-path=\"url(#pbe91e0f187)\" d=\"M 288.97345 279 \nL 329.965186 279 \nL 329.965186 260.2737 \nL 288.97345 260.2737 \nz\n\" style=\"fill:#0000ff;\"/>\n   </g>\n   <g id=\"patch_8\">\n    <path clip-path=\"url(#pbe91e0f187)\" d=\"M 340.21312 279 \nL 381.204855 279 \nL 381.204855 261.32496 \nL 340.21312 261.32496 \nz\n\" style=\"fill:#0000ff;\"/>\n   </g>\n   <g id=\"patch_9\">\n    <path clip-path=\"url(#pbe91e0f187)\" d=\"M 391.452789 279 \nL 432.444525 279 \nL 432.444525 262.603133 \nL 391.452789 262.603133 \nz\n\" style=\"fill:#0000ff;\"/>\n   </g>\n   <g id=\"patch_10\">\n    <path clip-path=\"url(#pbe91e0f187)\" d=\"M 442.692459 279 \nL 483.684194 279 \nL 483.684194 263.399791 \nL 442.692459 263.399791 \nz\n\" style=\"fill:#0000ff;\"/>\n   </g>\n   <g id=\"patch_11\">\n    <path clip-path=\"url(#pbe91e0f187)\" d=\"M 493.932128 279 \nL 534.923864 279 \nL 534.923864 264.893105 \nL 493.932128 264.893105 \nz\n\" style=\"fill:#0000ff;\"/>\n   </g>\n   <g id=\"patch_12\">\n    <path clip-path=\"url(#pbe91e0f187)\" d=\"M 545.171798 279 \nL 586.163533 279 \nL 586.163533 264.914876 \nL 545.171798 264.914876 \nz\n\" style=\"fill:#0000ff;\"/>\n   </g>\n   <g id=\"patch_13\">\n    <path clip-path=\"url(#pbe91e0f187)\" d=\"M 596.411467 279 \nL 637.403202 279 \nL 637.403202 265.534347 \nL 596.411467 265.534347 \nz\n\" style=\"fill:#0000ff;\"/>\n   </g>\n   <g id=\"patch_14\">\n    <path clip-path=\"url(#pbe91e0f187)\" d=\"M 647.651136 279 \nL 688.642872 279 \nL 688.642872 265.901558 \nL 647.651136 265.901558 \nz\n\" style=\"fill:#0000ff;\"/>\n   </g>\n   <g id=\"patch_15\">\n    <path clip-path=\"url(#pbe91e0f187)\" d=\"M 698.890806 279 \nL 739.882541 279 \nL 739.882541 266.218919 \nL 698.890806 266.218919 \nz\n\" style=\"fill:#0000ff;\"/>\n   </g>\n   <g id=\"patch_16\">\n    <path clip-path=\"url(#pbe91e0f187)\" d=\"M 750.130475 279 \nL 791.122211 279 \nL 791.122211 267.099509 \nL 750.130475 267.099509 \nz\n\" style=\"fill:#0000ff;\"/>\n   </g>\n   <g id=\"patch_17\">\n    <path clip-path=\"url(#pbe91e0f187)\" d=\"M 801.370145 279 \nL 842.36188 279 \nL 842.36188 267.209741 \nL 801.370145 267.209741 \nz\n\" style=\"fill:#0000ff;\"/>\n   </g>\n   <g id=\"patch_18\">\n    <path clip-path=\"url(#pbe91e0f187)\" d=\"M 852.609814 279 \nL 893.60155 279 \nL 893.60155 269.070067 \nL 852.609814 269.070067 \nz\n\" style=\"fill:#0000ff;\"/>\n   </g>\n   <g id=\"patch_19\">\n    <path clip-path=\"url(#pbe91e0f187)\" d=\"M 903.849483 279 \nL 944.841219 279 \nL 944.841219 269.915416 \nL 903.849483 269.915416 \nz\n\" style=\"fill:#0000ff;\"/>\n   </g>\n   <g id=\"patch_20\">\n    <path clip-path=\"url(#pbe91e0f187)\" d=\"M 955.089153 279 \nL 996.080888 279 \nL 996.080888 270.163235 \nL 955.089153 270.163235 \nz\n\" style=\"fill:#0000ff;\"/>\n   </g>\n   <g id=\"patch_21\">\n    <path clip-path=\"url(#pbe91e0f187)\" d=\"M 1006.328822 279 \nL 1047.320558 279 \nL 1047.320558 270.490349 \nL 1006.328822 270.490349 \nz\n\" style=\"fill:#0000ff;\"/>\n   </g>\n   <g id=\"patch_22\">\n    <path clip-path=\"url(#pbe91e0f187)\" d=\"M 1057.568492 279 \nL 1098.560227 279 \nL 1098.560227 270.817669 \nL 1057.568492 270.817669 \nz\n\" style=\"fill:#0000ff;\"/>\n   </g>\n   <g id=\"matplotlib.axis_1\">\n    <g id=\"xtick_1\">\n     <g id=\"line2d_1\">\n      <defs>\n       <path d=\"M 0 0 \nL 0 3.5 \n\" id=\"m6fcc44ba4e\" style=\"stroke:#000000;stroke-width:0.8;\"/>\n      </defs>\n      <g>\n       <use style=\"stroke:#000000;stroke-width:0.8;\" x=\"104.51064\" xlink:href=\"#m6fcc44ba4e\" y=\"279\"/>\n      </g>\n     </g>\n     <g id=\"text_1\">\n      <!-- China -->\n      <g transform=\"translate(90.228609 293.598437)scale(0.1 -0.1)\">\n       <defs>\n        <path d=\"M 4122 4306 \nL 4122 3641 \nQ 3803 3938 3442 4084 \nQ 3081 4231 2675 4231 \nQ 1875 4231 1450 3742 \nQ 1025 3253 1025 2328 \nQ 1025 1406 1450 917 \nQ 1875 428 2675 428 \nQ 3081 428 3442 575 \nQ 3803 722 4122 1019 \nL 4122 359 \nQ 3791 134 3420 21 \nQ 3050 -91 2638 -91 \nQ 1578 -91 968 557 \nQ 359 1206 359 2328 \nQ 359 3453 968 4101 \nQ 1578 4750 2638 4750 \nQ 3056 4750 3426 4639 \nQ 3797 4528 4122 4306 \nz\n\" id=\"DejaVuSans-43\" transform=\"scale(0.015625)\"/>\n        <path d=\"M 3513 2113 \nL 3513 0 \nL 2938 0 \nL 2938 2094 \nQ 2938 2591 2744 2837 \nQ 2550 3084 2163 3084 \nQ 1697 3084 1428 2787 \nQ 1159 2491 1159 1978 \nL 1159 0 \nL 581 0 \nL 581 4863 \nL 1159 4863 \nL 1159 2956 \nQ 1366 3272 1645 3428 \nQ 1925 3584 2291 3584 \nQ 2894 3584 3203 3211 \nQ 3513 2838 3513 2113 \nz\n\" id=\"DejaVuSans-68\" transform=\"scale(0.015625)\"/>\n        <path d=\"M 603 3500 \nL 1178 3500 \nL 1178 0 \nL 603 0 \nL 603 3500 \nz\nM 603 4863 \nL 1178 4863 \nL 1178 4134 \nL 603 4134 \nL 603 4863 \nz\n\" id=\"DejaVuSans-69\" transform=\"scale(0.015625)\"/>\n        <path d=\"M 3513 2113 \nL 3513 0 \nL 2938 0 \nL 2938 2094 \nQ 2938 2591 2744 2837 \nQ 2550 3084 2163 3084 \nQ 1697 3084 1428 2787 \nQ 1159 2491 1159 1978 \nL 1159 0 \nL 581 0 \nL 581 3500 \nL 1159 3500 \nL 1159 2956 \nQ 1366 3272 1645 3428 \nQ 1925 3584 2291 3584 \nQ 2894 3584 3203 3211 \nQ 3513 2838 3513 2113 \nz\n\" id=\"DejaVuSans-6e\" transform=\"scale(0.015625)\"/>\n        <path d=\"M 2194 1759 \nQ 1497 1759 1228 1600 \nQ 959 1441 959 1056 \nQ 959 750 1161 570 \nQ 1363 391 1709 391 \nQ 2188 391 2477 730 \nQ 2766 1069 2766 1631 \nL 2766 1759 \nL 2194 1759 \nz\nM 3341 1997 \nL 3341 0 \nL 2766 0 \nL 2766 531 \nQ 2569 213 2275 61 \nQ 1981 -91 1556 -91 \nQ 1019 -91 701 211 \nQ 384 513 384 1019 \nQ 384 1609 779 1909 \nQ 1175 2209 1959 2209 \nL 2766 2209 \nL 2766 2266 \nQ 2766 2663 2505 2880 \nQ 2244 3097 1772 3097 \nQ 1472 3097 1187 3025 \nQ 903 2953 641 2809 \nL 641 3341 \nQ 956 3463 1253 3523 \nQ 1550 3584 1831 3584 \nQ 2591 3584 2966 3190 \nQ 3341 2797 3341 1997 \nz\n\" id=\"DejaVuSans-61\" transform=\"scale(0.015625)\"/>\n       </defs>\n       <use xlink:href=\"#DejaVuSans-43\"/>\n       <use x=\"69.824219\" xlink:href=\"#DejaVuSans-68\"/>\n       <use x=\"133.203125\" xlink:href=\"#DejaVuSans-69\"/>\n       <use x=\"160.986328\" xlink:href=\"#DejaVuSans-6e\"/>\n       <use x=\"224.365234\" xlink:href=\"#DejaVuSans-61\"/>\n      </g>\n     </g>\n    </g>\n    <g id=\"xtick_2\">\n     <g id=\"line2d_2\">\n      <g>\n       <use style=\"stroke:#000000;stroke-width:0.8;\" x=\"155.75031\" xlink:href=\"#m6fcc44ba4e\" y=\"279\"/>\n      </g>\n     </g>\n     <g id=\"text_2\">\n      <!-- Chile -->\n      <g transform=\"translate(143.235466 293.598437)scale(0.1 -0.1)\">\n       <defs>\n        <path d=\"M 603 4863 \nL 1178 4863 \nL 1178 0 \nL 603 0 \nL 603 4863 \nz\n\" id=\"DejaVuSans-6c\" transform=\"scale(0.015625)\"/>\n        <path d=\"M 3597 1894 \nL 3597 1613 \nL 953 1613 \nQ 991 1019 1311 708 \nQ 1631 397 2203 397 \nQ 2534 397 2845 478 \nQ 3156 559 3463 722 \nL 3463 178 \nQ 3153 47 2828 -22 \nQ 2503 -91 2169 -91 \nQ 1331 -91 842 396 \nQ 353 884 353 1716 \nQ 353 2575 817 3079 \nQ 1281 3584 2069 3584 \nQ 2775 3584 3186 3129 \nQ 3597 2675 3597 1894 \nz\nM 3022 2063 \nQ 3016 2534 2758 2815 \nQ 2500 3097 2075 3097 \nQ 1594 3097 1305 2825 \nQ 1016 2553 972 2059 \nL 3022 2063 \nz\n\" id=\"DejaVuSans-65\" transform=\"scale(0.015625)\"/>\n       </defs>\n       <use xlink:href=\"#DejaVuSans-43\"/>\n       <use x=\"69.824219\" xlink:href=\"#DejaVuSans-68\"/>\n       <use x=\"133.203125\" xlink:href=\"#DejaVuSans-69\"/>\n       <use x=\"160.986328\" xlink:href=\"#DejaVuSans-6c\"/>\n       <use x=\"188.769531\" xlink:href=\"#DejaVuSans-65\"/>\n      </g>\n     </g>\n    </g>\n    <g id=\"xtick_3\">\n     <g id=\"line2d_3\">\n      <g>\n       <use style=\"stroke:#000000;stroke-width:0.8;\" x=\"206.989979\" xlink:href=\"#m6fcc44ba4e\" y=\"279\"/>\n      </g>\n     </g>\n     <g id=\"text_3\">\n      <!-- Spain -->\n      <g transform=\"translate(193.019667 293.598437)scale(0.1 -0.1)\">\n       <defs>\n        <path d=\"M 3425 4513 \nL 3425 3897 \nQ 3066 4069 2747 4153 \nQ 2428 4238 2131 4238 \nQ 1616 4238 1336 4038 \nQ 1056 3838 1056 3469 \nQ 1056 3159 1242 3001 \nQ 1428 2844 1947 2747 \nL 2328 2669 \nQ 3034 2534 3370 2195 \nQ 3706 1856 3706 1288 \nQ 3706 609 3251 259 \nQ 2797 -91 1919 -91 \nQ 1588 -91 1214 -16 \nQ 841 59 441 206 \nL 441 856 \nQ 825 641 1194 531 \nQ 1563 422 1919 422 \nQ 2459 422 2753 634 \nQ 3047 847 3047 1241 \nQ 3047 1584 2836 1778 \nQ 2625 1972 2144 2069 \nL 1759 2144 \nQ 1053 2284 737 2584 \nQ 422 2884 422 3419 \nQ 422 4038 858 4394 \nQ 1294 4750 2059 4750 \nQ 2388 4750 2728 4690 \nQ 3069 4631 3425 4513 \nz\n\" id=\"DejaVuSans-53\" transform=\"scale(0.015625)\"/>\n        <path d=\"M 1159 525 \nL 1159 -1331 \nL 581 -1331 \nL 581 3500 \nL 1159 3500 \nL 1159 2969 \nQ 1341 3281 1617 3432 \nQ 1894 3584 2278 3584 \nQ 2916 3584 3314 3078 \nQ 3713 2572 3713 1747 \nQ 3713 922 3314 415 \nQ 2916 -91 2278 -91 \nQ 1894 -91 1617 61 \nQ 1341 213 1159 525 \nz\nM 3116 1747 \nQ 3116 2381 2855 2742 \nQ 2594 3103 2138 3103 \nQ 1681 3103 1420 2742 \nQ 1159 2381 1159 1747 \nQ 1159 1113 1420 752 \nQ 1681 391 2138 391 \nQ 2594 391 2855 752 \nQ 3116 1113 3116 1747 \nz\n\" id=\"DejaVuSans-70\" transform=\"scale(0.015625)\"/>\n       </defs>\n       <use xlink:href=\"#DejaVuSans-53\"/>\n       <use x=\"63.476562\" xlink:href=\"#DejaVuSans-70\"/>\n       <use x=\"126.953125\" xlink:href=\"#DejaVuSans-61\"/>\n       <use x=\"188.232422\" xlink:href=\"#DejaVuSans-69\"/>\n       <use x=\"216.015625\" xlink:href=\"#DejaVuSans-6e\"/>\n      </g>\n     </g>\n    </g>\n    <g id=\"xtick_4\">\n     <g id=\"line2d_4\">\n      <g>\n       <use style=\"stroke:#000000;stroke-width:0.8;\" x=\"258.229649\" xlink:href=\"#m6fcc44ba4e\" y=\"279\"/>\n      </g>\n     </g>\n     <g id=\"text_4\">\n      <!-- Bulgaria -->\n      <g transform=\"translate(237.494493 293.598437)scale(0.1 -0.1)\">\n       <defs>\n        <path d=\"M 1259 2228 \nL 1259 519 \nL 2272 519 \nQ 2781 519 3026 730 \nQ 3272 941 3272 1375 \nQ 3272 1813 3026 2020 \nQ 2781 2228 2272 2228 \nL 1259 2228 \nz\nM 1259 4147 \nL 1259 2741 \nL 2194 2741 \nQ 2656 2741 2882 2914 \nQ 3109 3088 3109 3444 \nQ 3109 3797 2882 3972 \nQ 2656 4147 2194 4147 \nL 1259 4147 \nz\nM 628 4666 \nL 2241 4666 \nQ 2963 4666 3353 4366 \nQ 3744 4066 3744 3513 \nQ 3744 3084 3544 2831 \nQ 3344 2578 2956 2516 \nQ 3422 2416 3680 2098 \nQ 3938 1781 3938 1306 \nQ 3938 681 3513 340 \nQ 3088 0 2303 0 \nL 628 0 \nL 628 4666 \nz\n\" id=\"DejaVuSans-42\" transform=\"scale(0.015625)\"/>\n        <path d=\"M 544 1381 \nL 544 3500 \nL 1119 3500 \nL 1119 1403 \nQ 1119 906 1312 657 \nQ 1506 409 1894 409 \nQ 2359 409 2629 706 \nQ 2900 1003 2900 1516 \nL 2900 3500 \nL 3475 3500 \nL 3475 0 \nL 2900 0 \nL 2900 538 \nQ 2691 219 2414 64 \nQ 2138 -91 1772 -91 \nQ 1169 -91 856 284 \nQ 544 659 544 1381 \nz\nM 1991 3584 \nL 1991 3584 \nz\n\" id=\"DejaVuSans-75\" transform=\"scale(0.015625)\"/>\n        <path d=\"M 2906 1791 \nQ 2906 2416 2648 2759 \nQ 2391 3103 1925 3103 \nQ 1463 3103 1205 2759 \nQ 947 2416 947 1791 \nQ 947 1169 1205 825 \nQ 1463 481 1925 481 \nQ 2391 481 2648 825 \nQ 2906 1169 2906 1791 \nz\nM 3481 434 \nQ 3481 -459 3084 -895 \nQ 2688 -1331 1869 -1331 \nQ 1566 -1331 1297 -1286 \nQ 1028 -1241 775 -1147 \nL 775 -588 \nQ 1028 -725 1275 -790 \nQ 1522 -856 1778 -856 \nQ 2344 -856 2625 -561 \nQ 2906 -266 2906 331 \nL 2906 616 \nQ 2728 306 2450 153 \nQ 2172 0 1784 0 \nQ 1141 0 747 490 \nQ 353 981 353 1791 \nQ 353 2603 747 3093 \nQ 1141 3584 1784 3584 \nQ 2172 3584 2450 3431 \nQ 2728 3278 2906 2969 \nL 2906 3500 \nL 3481 3500 \nL 3481 434 \nz\n\" id=\"DejaVuSans-67\" transform=\"scale(0.015625)\"/>\n        <path d=\"M 2631 2963 \nQ 2534 3019 2420 3045 \nQ 2306 3072 2169 3072 \nQ 1681 3072 1420 2755 \nQ 1159 2438 1159 1844 \nL 1159 0 \nL 581 0 \nL 581 3500 \nL 1159 3500 \nL 1159 2956 \nQ 1341 3275 1631 3429 \nQ 1922 3584 2338 3584 \nQ 2397 3584 2469 3576 \nQ 2541 3569 2628 3553 \nL 2631 2963 \nz\n\" id=\"DejaVuSans-72\" transform=\"scale(0.015625)\"/>\n       </defs>\n       <use xlink:href=\"#DejaVuSans-42\"/>\n       <use x=\"68.603516\" xlink:href=\"#DejaVuSans-75\"/>\n       <use x=\"131.982422\" xlink:href=\"#DejaVuSans-6c\"/>\n       <use x=\"159.765625\" xlink:href=\"#DejaVuSans-67\"/>\n       <use x=\"223.242188\" xlink:href=\"#DejaVuSans-61\"/>\n       <use x=\"284.521484\" xlink:href=\"#DejaVuSans-72\"/>\n       <use x=\"325.634766\" xlink:href=\"#DejaVuSans-69\"/>\n       <use x=\"353.417969\" xlink:href=\"#DejaVuSans-61\"/>\n      </g>\n     </g>\n    </g>\n    <g id=\"xtick_5\">\n     <g id=\"line2d_5\">\n      <g>\n       <use style=\"stroke:#000000;stroke-width:0.8;\" x=\"309.469318\" xlink:href=\"#m6fcc44ba4e\" y=\"279\"/>\n      </g>\n     </g>\n     <g id=\"text_5\">\n      <!-- Peru -->\n      <g transform=\"translate(298.334943 293.598437)scale(0.1 -0.1)\">\n       <defs>\n        <path d=\"M 1259 4147 \nL 1259 2394 \nL 2053 2394 \nQ 2494 2394 2734 2622 \nQ 2975 2850 2975 3272 \nQ 2975 3691 2734 3919 \nQ 2494 4147 2053 4147 \nL 1259 4147 \nz\nM 628 4666 \nL 2053 4666 \nQ 2838 4666 3239 4311 \nQ 3641 3956 3641 3272 \nQ 3641 2581 3239 2228 \nQ 2838 1875 2053 1875 \nL 1259 1875 \nL 1259 0 \nL 628 0 \nL 628 4666 \nz\n\" id=\"DejaVuSans-50\" transform=\"scale(0.015625)\"/>\n       </defs>\n       <use xlink:href=\"#DejaVuSans-50\"/>\n       <use x=\"56.677734\" xlink:href=\"#DejaVuSans-65\"/>\n       <use x=\"118.201172\" xlink:href=\"#DejaVuSans-72\"/>\n       <use x=\"159.314453\" xlink:href=\"#DejaVuSans-75\"/>\n      </g>\n     </g>\n    </g>\n    <g id=\"xtick_6\">\n     <g id=\"line2d_6\">\n      <g>\n       <use style=\"stroke:#000000;stroke-width:0.8;\" x=\"360.708988\" xlink:href=\"#m6fcc44ba4e\" y=\"279\"/>\n      </g>\n     </g>\n     <g id=\"text_6\">\n      <!-- Poland -->\n      <g transform=\"translate(344.019925 293.598437)scale(0.1 -0.1)\">\n       <defs>\n        <path d=\"M 1959 3097 \nQ 1497 3097 1228 2736 \nQ 959 2375 959 1747 \nQ 959 1119 1226 758 \nQ 1494 397 1959 397 \nQ 2419 397 2687 759 \nQ 2956 1122 2956 1747 \nQ 2956 2369 2687 2733 \nQ 2419 3097 1959 3097 \nz\nM 1959 3584 \nQ 2709 3584 3137 3096 \nQ 3566 2609 3566 1747 \nQ 3566 888 3137 398 \nQ 2709 -91 1959 -91 \nQ 1206 -91 779 398 \nQ 353 888 353 1747 \nQ 353 2609 779 3096 \nQ 1206 3584 1959 3584 \nz\n\" id=\"DejaVuSans-6f\" transform=\"scale(0.015625)\"/>\n        <path d=\"M 2906 2969 \nL 2906 4863 \nL 3481 4863 \nL 3481 0 \nL 2906 0 \nL 2906 525 \nQ 2725 213 2448 61 \nQ 2172 -91 1784 -91 \nQ 1150 -91 751 415 \nQ 353 922 353 1747 \nQ 353 2572 751 3078 \nQ 1150 3584 1784 3584 \nQ 2172 3584 2448 3432 \nQ 2725 3281 2906 2969 \nz\nM 947 1747 \nQ 947 1113 1208 752 \nQ 1469 391 1925 391 \nQ 2381 391 2643 752 \nQ 2906 1113 2906 1747 \nQ 2906 2381 2643 2742 \nQ 2381 3103 1925 3103 \nQ 1469 3103 1208 2742 \nQ 947 2381 947 1747 \nz\n\" id=\"DejaVuSans-64\" transform=\"scale(0.015625)\"/>\n       </defs>\n       <use xlink:href=\"#DejaVuSans-50\"/>\n       <use x=\"56.677734\" xlink:href=\"#DejaVuSans-6f\"/>\n       <use x=\"117.859375\" xlink:href=\"#DejaVuSans-6c\"/>\n       <use x=\"145.642578\" xlink:href=\"#DejaVuSans-61\"/>\n       <use x=\"206.921875\" xlink:href=\"#DejaVuSans-6e\"/>\n       <use x=\"270.300781\" xlink:href=\"#DejaVuSans-64\"/>\n      </g>\n     </g>\n    </g>\n    <g id=\"xtick_7\">\n     <g id=\"line2d_7\">\n      <g>\n       <use style=\"stroke:#000000;stroke-width:0.8;\" x=\"411.948657\" xlink:href=\"#m6fcc44ba4e\" y=\"279\"/>\n      </g>\n     </g>\n     <g id=\"text_7\">\n      <!-- Rep. of Korea -->\n      <g transform=\"translate(378.690063 293.598437)scale(0.1 -0.1)\">\n       <defs>\n        <path d=\"M 2841 2188 \nQ 3044 2119 3236 1894 \nQ 3428 1669 3622 1275 \nL 4263 0 \nL 3584 0 \nL 2988 1197 \nQ 2756 1666 2539 1819 \nQ 2322 1972 1947 1972 \nL 1259 1972 \nL 1259 0 \nL 628 0 \nL 628 4666 \nL 2053 4666 \nQ 2853 4666 3247 4331 \nQ 3641 3997 3641 3322 \nQ 3641 2881 3436 2590 \nQ 3231 2300 2841 2188 \nz\nM 1259 4147 \nL 1259 2491 \nL 2053 2491 \nQ 2509 2491 2742 2702 \nQ 2975 2913 2975 3322 \nQ 2975 3731 2742 3939 \nQ 2509 4147 2053 4147 \nL 1259 4147 \nz\n\" id=\"DejaVuSans-52\" transform=\"scale(0.015625)\"/>\n        <path d=\"M 684 794 \nL 1344 794 \nL 1344 0 \nL 684 0 \nL 684 794 \nz\n\" id=\"DejaVuSans-2e\" transform=\"scale(0.015625)\"/>\n        <path id=\"DejaVuSans-20\" transform=\"scale(0.015625)\"/>\n        <path d=\"M 2375 4863 \nL 2375 4384 \nL 1825 4384 \nQ 1516 4384 1395 4259 \nQ 1275 4134 1275 3809 \nL 1275 3500 \nL 2222 3500 \nL 2222 3053 \nL 1275 3053 \nL 1275 0 \nL 697 0 \nL 697 3053 \nL 147 3053 \nL 147 3500 \nL 697 3500 \nL 697 3744 \nQ 697 4328 969 4595 \nQ 1241 4863 1831 4863 \nL 2375 4863 \nz\n\" id=\"DejaVuSans-66\" transform=\"scale(0.015625)\"/>\n        <path d=\"M 628 4666 \nL 1259 4666 \nL 1259 2694 \nL 3353 4666 \nL 4166 4666 \nL 1850 2491 \nL 4331 0 \nL 3500 0 \nL 1259 2247 \nL 1259 0 \nL 628 0 \nL 628 4666 \nz\n\" id=\"DejaVuSans-4b\" transform=\"scale(0.015625)\"/>\n       </defs>\n       <use xlink:href=\"#DejaVuSans-52\"/>\n       <use x=\"64.982422\" xlink:href=\"#DejaVuSans-65\"/>\n       <use x=\"126.505859\" xlink:href=\"#DejaVuSans-70\"/>\n       <use x=\"189.982422\" xlink:href=\"#DejaVuSans-2e\"/>\n       <use x=\"221.769531\" xlink:href=\"#DejaVuSans-20\"/>\n       <use x=\"253.556641\" xlink:href=\"#DejaVuSans-6f\"/>\n       <use x=\"314.738281\" xlink:href=\"#DejaVuSans-66\"/>\n       <use x=\"349.943359\" xlink:href=\"#DejaVuSans-20\"/>\n       <use x=\"381.730469\" xlink:href=\"#DejaVuSans-4b\"/>\n       <use x=\"442.306641\" xlink:href=\"#DejaVuSans-6f\"/>\n       <use x=\"503.488281\" xlink:href=\"#DejaVuSans-72\"/>\n       <use x=\"542.351562\" xlink:href=\"#DejaVuSans-65\"/>\n       <use x=\"603.875\" xlink:href=\"#DejaVuSans-61\"/>\n      </g>\n     </g>\n    </g>\n    <g id=\"xtick_8\">\n     <g id=\"line2d_8\">\n      <g>\n       <use style=\"stroke:#000000;stroke-width:0.8;\" x=\"463.188326\" xlink:href=\"#m6fcc44ba4e\" y=\"279\"/>\n      </g>\n     </g>\n     <g id=\"text_8\">\n      <!-- Georgia -->\n      <g transform=\"translate(443.582858 293.598437)scale(0.1 -0.1)\">\n       <defs>\n        <path d=\"M 3809 666 \nL 3809 1919 \nL 2778 1919 \nL 2778 2438 \nL 4434 2438 \nL 4434 434 \nQ 4069 175 3628 42 \nQ 3188 -91 2688 -91 \nQ 1594 -91 976 548 \nQ 359 1188 359 2328 \nQ 359 3472 976 4111 \nQ 1594 4750 2688 4750 \nQ 3144 4750 3555 4637 \nQ 3966 4525 4313 4306 \nL 4313 3634 \nQ 3963 3931 3569 4081 \nQ 3175 4231 2741 4231 \nQ 1884 4231 1454 3753 \nQ 1025 3275 1025 2328 \nQ 1025 1384 1454 906 \nQ 1884 428 2741 428 \nQ 3075 428 3337 486 \nQ 3600 544 3809 666 \nz\n\" id=\"DejaVuSans-47\" transform=\"scale(0.015625)\"/>\n       </defs>\n       <use xlink:href=\"#DejaVuSans-47\"/>\n       <use x=\"77.490234\" xlink:href=\"#DejaVuSans-65\"/>\n       <use x=\"139.013672\" xlink:href=\"#DejaVuSans-6f\"/>\n       <use x=\"200.195312\" xlink:href=\"#DejaVuSans-72\"/>\n       <use x=\"239.558594\" xlink:href=\"#DejaVuSans-67\"/>\n       <use x=\"303.035156\" xlink:href=\"#DejaVuSans-69\"/>\n       <use x=\"330.818359\" xlink:href=\"#DejaVuSans-61\"/>\n      </g>\n     </g>\n    </g>\n    <g id=\"xtick_9\">\n     <g id=\"line2d_9\">\n      <g>\n       <use style=\"stroke:#000000;stroke-width:0.8;\" x=\"514.427996\" xlink:href=\"#m6fcc44ba4e\" y=\"279\"/>\n      </g>\n     </g>\n     <g id=\"text_9\">\n      <!-- Germany -->\n      <g transform=\"translate(491.446746 293.598437)scale(0.1 -0.1)\">\n       <defs>\n        <path d=\"M 3328 2828 \nQ 3544 3216 3844 3400 \nQ 4144 3584 4550 3584 \nQ 5097 3584 5394 3201 \nQ 5691 2819 5691 2113 \nL 5691 0 \nL 5113 0 \nL 5113 2094 \nQ 5113 2597 4934 2840 \nQ 4756 3084 4391 3084 \nQ 3944 3084 3684 2787 \nQ 3425 2491 3425 1978 \nL 3425 0 \nL 2847 0 \nL 2847 2094 \nQ 2847 2600 2669 2842 \nQ 2491 3084 2119 3084 \nQ 1678 3084 1418 2786 \nQ 1159 2488 1159 1978 \nL 1159 0 \nL 581 0 \nL 581 3500 \nL 1159 3500 \nL 1159 2956 \nQ 1356 3278 1631 3431 \nQ 1906 3584 2284 3584 \nQ 2666 3584 2933 3390 \nQ 3200 3197 3328 2828 \nz\n\" id=\"DejaVuSans-6d\" transform=\"scale(0.015625)\"/>\n        <path d=\"M 2059 -325 \nQ 1816 -950 1584 -1140 \nQ 1353 -1331 966 -1331 \nL 506 -1331 \nL 506 -850 \nL 844 -850 \nQ 1081 -850 1212 -737 \nQ 1344 -625 1503 -206 \nL 1606 56 \nL 191 3500 \nL 800 3500 \nL 1894 763 \nL 2988 3500 \nL 3597 3500 \nL 2059 -325 \nz\n\" id=\"DejaVuSans-79\" transform=\"scale(0.015625)\"/>\n       </defs>\n       <use xlink:href=\"#DejaVuSans-47\"/>\n       <use x=\"77.490234\" xlink:href=\"#DejaVuSans-65\"/>\n       <use x=\"139.013672\" xlink:href=\"#DejaVuSans-72\"/>\n       <use x=\"178.376953\" xlink:href=\"#DejaVuSans-6d\"/>\n       <use x=\"275.789062\" xlink:href=\"#DejaVuSans-61\"/>\n       <use x=\"337.068359\" xlink:href=\"#DejaVuSans-6e\"/>\n       <use x=\"400.447266\" xlink:href=\"#DejaVuSans-79\"/>\n      </g>\n     </g>\n    </g>\n    <g id=\"xtick_10\">\n     <g id=\"line2d_10\">\n      <g>\n       <use style=\"stroke:#000000;stroke-width:0.8;\" x=\"565.667665\" xlink:href=\"#m6fcc44ba4e\" y=\"279\"/>\n      </g>\n     </g>\n     <g id=\"text_10\">\n      <!-- USA -->\n      <g transform=\"translate(555.320009 293.598437)scale(0.1 -0.1)\">\n       <defs>\n        <path d=\"M 556 4666 \nL 1191 4666 \nL 1191 1831 \nQ 1191 1081 1462 751 \nQ 1734 422 2344 422 \nQ 2950 422 3222 751 \nQ 3494 1081 3494 1831 \nL 3494 4666 \nL 4128 4666 \nL 4128 1753 \nQ 4128 841 3676 375 \nQ 3225 -91 2344 -91 \nQ 1459 -91 1007 375 \nQ 556 841 556 1753 \nL 556 4666 \nz\n\" id=\"DejaVuSans-55\" transform=\"scale(0.015625)\"/>\n        <path d=\"M 2188 4044 \nL 1331 1722 \nL 3047 1722 \nL 2188 4044 \nz\nM 1831 4666 \nL 2547 4666 \nL 4325 0 \nL 3669 0 \nL 3244 1197 \nL 1141 1197 \nL 716 0 \nL 50 0 \nL 1831 4666 \nz\n\" id=\"DejaVuSans-41\" transform=\"scale(0.015625)\"/>\n       </defs>\n       <use xlink:href=\"#DejaVuSans-55\"/>\n       <use x=\"73.193359\" xlink:href=\"#DejaVuSans-53\"/>\n       <use x=\"138.544922\" xlink:href=\"#DejaVuSans-41\"/>\n      </g>\n     </g>\n    </g>\n    <g id=\"xtick_11\">\n     <g id=\"line2d_11\">\n      <g>\n       <use style=\"stroke:#000000;stroke-width:0.8;\" x=\"616.907335\" xlink:href=\"#m6fcc44ba4e\" y=\"279\"/>\n      </g>\n     </g>\n     <g id=\"text_11\">\n      <!-- Japan -->\n      <g transform=\"translate(602.961241 293.598437)scale(0.1 -0.1)\">\n       <defs>\n        <path d=\"M 628 4666 \nL 1259 4666 \nL 1259 325 \nQ 1259 -519 939 -900 \nQ 619 -1281 -91 -1281 \nL -331 -1281 \nL -331 -750 \nL -134 -750 \nQ 284 -750 456 -515 \nQ 628 -281 628 325 \nL 628 4666 \nz\n\" id=\"DejaVuSans-4a\" transform=\"scale(0.015625)\"/>\n       </defs>\n       <use xlink:href=\"#DejaVuSans-4a\"/>\n       <use x=\"29.492188\" xlink:href=\"#DejaVuSans-61\"/>\n       <use x=\"90.771484\" xlink:href=\"#DejaVuSans-70\"/>\n       <use x=\"154.248047\" xlink:href=\"#DejaVuSans-61\"/>\n       <use x=\"215.527344\" xlink:href=\"#DejaVuSans-6e\"/>\n      </g>\n     </g>\n    </g>\n    <g id=\"xtick_12\">\n     <g id=\"line2d_12\">\n      <g>\n       <use style=\"stroke:#000000;stroke-width:0.8;\" x=\"668.147004\" xlink:href=\"#m6fcc44ba4e\" y=\"279\"/>\n      </g>\n     </g>\n     <g id=\"text_12\">\n      <!-- Switzerland -->\n      <g transform=\"translate(638.98216 293.598437)scale(0.1 -0.1)\">\n       <defs>\n        <path d=\"M 269 3500 \nL 844 3500 \nL 1563 769 \nL 2278 3500 \nL 2956 3500 \nL 3675 769 \nL 4391 3500 \nL 4966 3500 \nL 4050 0 \nL 3372 0 \nL 2619 2869 \nL 1863 0 \nL 1184 0 \nL 269 3500 \nz\n\" id=\"DejaVuSans-77\" transform=\"scale(0.015625)\"/>\n        <path d=\"M 1172 4494 \nL 1172 3500 \nL 2356 3500 \nL 2356 3053 \nL 1172 3053 \nL 1172 1153 \nQ 1172 725 1289 603 \nQ 1406 481 1766 481 \nL 2356 481 \nL 2356 0 \nL 1766 0 \nQ 1100 0 847 248 \nQ 594 497 594 1153 \nL 594 3053 \nL 172 3053 \nL 172 3500 \nL 594 3500 \nL 594 4494 \nL 1172 4494 \nz\n\" id=\"DejaVuSans-74\" transform=\"scale(0.015625)\"/>\n        <path d=\"M 353 3500 \nL 3084 3500 \nL 3084 2975 \nL 922 459 \nL 3084 459 \nL 3084 0 \nL 275 0 \nL 275 525 \nL 2438 3041 \nL 353 3041 \nL 353 3500 \nz\n\" id=\"DejaVuSans-7a\" transform=\"scale(0.015625)\"/>\n       </defs>\n       <use xlink:href=\"#DejaVuSans-53\"/>\n       <use x=\"63.476562\" xlink:href=\"#DejaVuSans-77\"/>\n       <use x=\"145.263672\" xlink:href=\"#DejaVuSans-69\"/>\n       <use x=\"173.046875\" xlink:href=\"#DejaVuSans-74\"/>\n       <use x=\"212.255859\" xlink:href=\"#DejaVuSans-7a\"/>\n       <use x=\"264.746094\" xlink:href=\"#DejaVuSans-65\"/>\n       <use x=\"326.269531\" xlink:href=\"#DejaVuSans-72\"/>\n       <use x=\"367.382812\" xlink:href=\"#DejaVuSans-6c\"/>\n       <use x=\"395.166016\" xlink:href=\"#DejaVuSans-61\"/>\n       <use x=\"456.445312\" xlink:href=\"#DejaVuSans-6e\"/>\n       <use x=\"519.824219\" xlink:href=\"#DejaVuSans-64\"/>\n      </g>\n     </g>\n    </g>\n    <g id=\"xtick_13\">\n     <g id=\"line2d_13\">\n      <g>\n       <use style=\"stroke:#000000;stroke-width:0.8;\" x=\"719.386674\" xlink:href=\"#m6fcc44ba4e\" y=\"279\"/>\n      </g>\n     </g>\n     <g id=\"text_13\">\n      <!-- Belgium -->\n      <g transform=\"translate(698.888236 293.598437)scale(0.1 -0.1)\">\n       <use xlink:href=\"#DejaVuSans-42\"/>\n       <use x=\"68.603516\" xlink:href=\"#DejaVuSans-65\"/>\n       <use x=\"130.126953\" xlink:href=\"#DejaVuSans-6c\"/>\n       <use x=\"157.910156\" xlink:href=\"#DejaVuSans-67\"/>\n       <use x=\"221.386719\" xlink:href=\"#DejaVuSans-69\"/>\n       <use x=\"249.169922\" xlink:href=\"#DejaVuSans-75\"/>\n       <use x=\"312.548828\" xlink:href=\"#DejaVuSans-6d\"/>\n      </g>\n     </g>\n    </g>\n    <g id=\"xtick_14\">\n     <g id=\"line2d_14\">\n      <g>\n       <use style=\"stroke:#000000;stroke-width:0.8;\" x=\"770.626343\" xlink:href=\"#m6fcc44ba4e\" y=\"279\"/>\n      </g>\n     </g>\n     <g id=\"text_14\">\n      <!-- Cambodia -->\n      <g transform=\"translate(745.339624 293.598437)scale(0.1 -0.1)\">\n       <defs>\n        <path d=\"M 3116 1747 \nQ 3116 2381 2855 2742 \nQ 2594 3103 2138 3103 \nQ 1681 3103 1420 2742 \nQ 1159 2381 1159 1747 \nQ 1159 1113 1420 752 \nQ 1681 391 2138 391 \nQ 2594 391 2855 752 \nQ 3116 1113 3116 1747 \nz\nM 1159 2969 \nQ 1341 3281 1617 3432 \nQ 1894 3584 2278 3584 \nQ 2916 3584 3314 3078 \nQ 3713 2572 3713 1747 \nQ 3713 922 3314 415 \nQ 2916 -91 2278 -91 \nQ 1894 -91 1617 61 \nQ 1341 213 1159 525 \nL 1159 0 \nL 581 0 \nL 581 4863 \nL 1159 4863 \nL 1159 2969 \nz\n\" id=\"DejaVuSans-62\" transform=\"scale(0.015625)\"/>\n       </defs>\n       <use xlink:href=\"#DejaVuSans-43\"/>\n       <use x=\"69.824219\" xlink:href=\"#DejaVuSans-61\"/>\n       <use x=\"131.103516\" xlink:href=\"#DejaVuSans-6d\"/>\n       <use x=\"228.515625\" xlink:href=\"#DejaVuSans-62\"/>\n       <use x=\"291.992188\" xlink:href=\"#DejaVuSans-6f\"/>\n       <use x=\"353.173828\" xlink:href=\"#DejaVuSans-64\"/>\n       <use x=\"416.650391\" xlink:href=\"#DejaVuSans-69\"/>\n       <use x=\"444.433594\" xlink:href=\"#DejaVuSans-61\"/>\n      </g>\n     </g>\n    </g>\n    <g id=\"xtick_15\">\n     <g id=\"line2d_15\">\n      <g>\n       <use style=\"stroke:#000000;stroke-width:0.8;\" x=\"821.866012\" xlink:href=\"#m6fcc44ba4e\" y=\"279\"/>\n      </g>\n     </g>\n     <g id=\"text_15\">\n      <!-- Libya -->\n      <g transform=\"translate(808.493356 293.598437)scale(0.1 -0.1)\">\n       <defs>\n        <path d=\"M 628 4666 \nL 1259 4666 \nL 1259 531 \nL 3531 531 \nL 3531 0 \nL 628 0 \nL 628 4666 \nz\n\" id=\"DejaVuSans-4c\" transform=\"scale(0.015625)\"/>\n       </defs>\n       <use xlink:href=\"#DejaVuSans-4c\"/>\n       <use x=\"55.712891\" xlink:href=\"#DejaVuSans-69\"/>\n       <use x=\"83.496094\" xlink:href=\"#DejaVuSans-62\"/>\n       <use x=\"146.972656\" xlink:href=\"#DejaVuSans-79\"/>\n       <use x=\"206.152344\" xlink:href=\"#DejaVuSans-61\"/>\n      </g>\n     </g>\n    </g>\n    <g id=\"xtick_16\">\n     <g id=\"line2d_16\">\n      <g>\n       <use style=\"stroke:#000000;stroke-width:0.8;\" x=\"873.105682\" xlink:href=\"#m6fcc44ba4e\" y=\"279\"/>\n      </g>\n     </g>\n     <g id=\"text_16\">\n      <!-- Canada -->\n      <g transform=\"translate(854.079119 293.598437)scale(0.1 -0.1)\">\n       <use xlink:href=\"#DejaVuSans-43\"/>\n       <use x=\"69.824219\" xlink:href=\"#DejaVuSans-61\"/>\n       <use x=\"131.103516\" xlink:href=\"#DejaVuSans-6e\"/>\n       <use x=\"194.482422\" xlink:href=\"#DejaVuSans-61\"/>\n       <use x=\"255.761719\" xlink:href=\"#DejaVuSans-64\"/>\n       <use x=\"319.238281\" xlink:href=\"#DejaVuSans-61\"/>\n      </g>\n     </g>\n    </g>\n    <g id=\"xtick_17\">\n     <g id=\"line2d_17\">\n      <g>\n       <use style=\"stroke:#000000;stroke-width:0.8;\" x=\"924.345351\" xlink:href=\"#m6fcc44ba4e\" y=\"279\"/>\n      </g>\n     </g>\n     <g id=\"text_17\">\n      <!-- Netherlands -->\n      <g transform=\"translate(893.866445 293.598437)scale(0.1 -0.1)\">\n       <defs>\n        <path d=\"M 628 4666 \nL 1478 4666 \nL 3547 763 \nL 3547 4666 \nL 4159 4666 \nL 4159 0 \nL 3309 0 \nL 1241 3903 \nL 1241 0 \nL 628 0 \nL 628 4666 \nz\n\" id=\"DejaVuSans-4e\" transform=\"scale(0.015625)\"/>\n        <path d=\"M 2834 3397 \nL 2834 2853 \nQ 2591 2978 2328 3040 \nQ 2066 3103 1784 3103 \nQ 1356 3103 1142 2972 \nQ 928 2841 928 2578 \nQ 928 2378 1081 2264 \nQ 1234 2150 1697 2047 \nL 1894 2003 \nQ 2506 1872 2764 1633 \nQ 3022 1394 3022 966 \nQ 3022 478 2636 193 \nQ 2250 -91 1575 -91 \nQ 1294 -91 989 -36 \nQ 684 19 347 128 \nL 347 722 \nQ 666 556 975 473 \nQ 1284 391 1588 391 \nQ 1994 391 2212 530 \nQ 2431 669 2431 922 \nQ 2431 1156 2273 1281 \nQ 2116 1406 1581 1522 \nL 1381 1569 \nQ 847 1681 609 1914 \nQ 372 2147 372 2553 \nQ 372 3047 722 3315 \nQ 1072 3584 1716 3584 \nQ 2034 3584 2315 3537 \nQ 2597 3491 2834 3397 \nz\n\" id=\"DejaVuSans-73\" transform=\"scale(0.015625)\"/>\n       </defs>\n       <use xlink:href=\"#DejaVuSans-4e\"/>\n       <use x=\"74.804688\" xlink:href=\"#DejaVuSans-65\"/>\n       <use x=\"136.328125\" xlink:href=\"#DejaVuSans-74\"/>\n       <use x=\"175.537109\" xlink:href=\"#DejaVuSans-68\"/>\n       <use x=\"238.916016\" xlink:href=\"#DejaVuSans-65\"/>\n       <use x=\"300.439453\" xlink:href=\"#DejaVuSans-72\"/>\n       <use x=\"341.552734\" xlink:href=\"#DejaVuSans-6c\"/>\n       <use x=\"369.335938\" xlink:href=\"#DejaVuSans-61\"/>\n       <use x=\"430.615234\" xlink:href=\"#DejaVuSans-6e\"/>\n       <use x=\"493.994141\" xlink:href=\"#DejaVuSans-64\"/>\n       <use x=\"557.470703\" xlink:href=\"#DejaVuSans-73\"/>\n      </g>\n     </g>\n    </g>\n    <g id=\"xtick_18\">\n     <g id=\"line2d_18\">\n      <g>\n       <use style=\"stroke:#000000;stroke-width:0.8;\" x=\"975.585021\" xlink:href=\"#m6fcc44ba4e\" y=\"279\"/>\n      </g>\n     </g>\n     <g id=\"text_18\">\n      <!-- Kazakhstan -->\n      <g transform=\"translate(946.779552 293.598437)scale(0.1 -0.1)\">\n       <defs>\n        <path d=\"M 581 4863 \nL 1159 4863 \nL 1159 1991 \nL 2875 3500 \nL 3609 3500 \nL 1753 1863 \nL 3688 0 \nL 2938 0 \nL 1159 1709 \nL 1159 0 \nL 581 0 \nL 581 4863 \nz\n\" id=\"DejaVuSans-6b\" transform=\"scale(0.015625)\"/>\n       </defs>\n       <use xlink:href=\"#DejaVuSans-4b\"/>\n       <use x=\"63.826172\" xlink:href=\"#DejaVuSans-61\"/>\n       <use x=\"125.105469\" xlink:href=\"#DejaVuSans-7a\"/>\n       <use x=\"177.595703\" xlink:href=\"#DejaVuSans-61\"/>\n       <use x=\"238.875\" xlink:href=\"#DejaVuSans-6b\"/>\n       <use x=\"296.785156\" xlink:href=\"#DejaVuSans-68\"/>\n       <use x=\"360.164062\" xlink:href=\"#DejaVuSans-73\"/>\n       <use x=\"412.263672\" xlink:href=\"#DejaVuSans-74\"/>\n       <use x=\"451.472656\" xlink:href=\"#DejaVuSans-61\"/>\n       <use x=\"512.751953\" xlink:href=\"#DejaVuSans-6e\"/>\n      </g>\n     </g>\n    </g>\n    <g id=\"xtick_19\">\n     <g id=\"line2d_19\">\n      <g>\n       <use style=\"stroke:#000000;stroke-width:0.8;\" x=\"1026.82469\" xlink:href=\"#m6fcc44ba4e\" y=\"279\"/>\n      </g>\n     </g>\n     <g id=\"text_19\">\n      <!-- India -->\n      <g transform=\"translate(1014.553596 293.598437)scale(0.1 -0.1)\">\n       <defs>\n        <path d=\"M 628 4666 \nL 1259 4666 \nL 1259 0 \nL 628 0 \nL 628 4666 \nz\n\" id=\"DejaVuSans-49\" transform=\"scale(0.015625)\"/>\n       </defs>\n       <use xlink:href=\"#DejaVuSans-49\"/>\n       <use x=\"29.492188\" xlink:href=\"#DejaVuSans-6e\"/>\n       <use x=\"92.871094\" xlink:href=\"#DejaVuSans-64\"/>\n       <use x=\"156.347656\" xlink:href=\"#DejaVuSans-69\"/>\n       <use x=\"184.130859\" xlink:href=\"#DejaVuSans-61\"/>\n      </g>\n     </g>\n    </g>\n    <g id=\"xtick_20\">\n     <g id=\"line2d_20\">\n      <g>\n       <use style=\"stroke:#000000;stroke-width:0.8;\" x=\"1078.06436\" xlink:href=\"#m6fcc44ba4e\" y=\"279\"/>\n      </g>\n     </g>\n     <g id=\"text_20\">\n      <!-- Brazil -->\n      <g transform=\"translate(1064.112016 293.598437)scale(0.1 -0.1)\">\n       <use xlink:href=\"#DejaVuSans-42\"/>\n       <use x=\"68.603516\" xlink:href=\"#DejaVuSans-72\"/>\n       <use x=\"109.716797\" xlink:href=\"#DejaVuSans-61\"/>\n       <use x=\"170.996094\" xlink:href=\"#DejaVuSans-7a\"/>\n       <use x=\"223.486328\" xlink:href=\"#DejaVuSans-69\"/>\n       <use x=\"251.269531\" xlink:href=\"#DejaVuSans-6c\"/>\n      </g>\n     </g>\n    </g>\n   </g>\n   <g id=\"matplotlib.axis_2\">\n    <g id=\"ytick_1\">\n     <g id=\"line2d_21\">\n      <defs>\n       <path d=\"M 0 0 \nL -3.5 0 \n\" id=\"m7cff792e0e\" style=\"stroke:#000000;stroke-width:0.8;\"/>\n      </defs>\n      <g>\n       <use style=\"stroke:#000000;stroke-width:0.8;\" x=\"33.2875\" xlink:href=\"#m7cff792e0e\" y=\"279\"/>\n      </g>\n     </g>\n     <g id=\"text_21\">\n      <!-- 0 -->\n      <g transform=\"translate(19.925 282.799219)scale(0.1 -0.1)\">\n       <defs>\n        <path d=\"M 2034 4250 \nQ 1547 4250 1301 3770 \nQ 1056 3291 1056 2328 \nQ 1056 1369 1301 889 \nQ 1547 409 2034 409 \nQ 2525 409 2770 889 \nQ 3016 1369 3016 2328 \nQ 3016 3291 2770 3770 \nQ 2525 4250 2034 4250 \nz\nM 2034 4750 \nQ 2819 4750 3233 4129 \nQ 3647 3509 3647 2328 \nQ 3647 1150 3233 529 \nQ 2819 -91 2034 -91 \nQ 1250 -91 836 529 \nQ 422 1150 422 2328 \nQ 422 3509 836 4129 \nQ 1250 4750 2034 4750 \nz\n\" id=\"DejaVuSans-30\" transform=\"scale(0.015625)\"/>\n       </defs>\n       <use xlink:href=\"#DejaVuSans-30\"/>\n      </g>\n     </g>\n    </g>\n    <g id=\"ytick_2\">\n     <g id=\"line2d_22\">\n      <g>\n       <use style=\"stroke:#000000;stroke-width:0.8;\" x=\"33.2875\" xlink:href=\"#m7cff792e0e\" y=\"242.155439\"/>\n      </g>\n     </g>\n     <g id=\"text_22\">\n      <!-- 25 -->\n      <g transform=\"translate(13.5625 245.954658)scale(0.1 -0.1)\">\n       <defs>\n        <path d=\"M 1228 531 \nL 3431 531 \nL 3431 0 \nL 469 0 \nL 469 531 \nQ 828 903 1448 1529 \nQ 2069 2156 2228 2338 \nQ 2531 2678 2651 2914 \nQ 2772 3150 2772 3378 \nQ 2772 3750 2511 3984 \nQ 2250 4219 1831 4219 \nQ 1534 4219 1204 4116 \nQ 875 4013 500 3803 \nL 500 4441 \nQ 881 4594 1212 4672 \nQ 1544 4750 1819 4750 \nQ 2544 4750 2975 4387 \nQ 3406 4025 3406 3419 \nQ 3406 3131 3298 2873 \nQ 3191 2616 2906 2266 \nQ 2828 2175 2409 1742 \nQ 1991 1309 1228 531 \nz\n\" id=\"DejaVuSans-32\" transform=\"scale(0.015625)\"/>\n        <path d=\"M 691 4666 \nL 3169 4666 \nL 3169 4134 \nL 1269 4134 \nL 1269 2991 \nQ 1406 3038 1543 3061 \nQ 1681 3084 1819 3084 \nQ 2600 3084 3056 2656 \nQ 3513 2228 3513 1497 \nQ 3513 744 3044 326 \nQ 2575 -91 1722 -91 \nQ 1428 -91 1123 -41 \nQ 819 9 494 109 \nL 494 744 \nQ 775 591 1075 516 \nQ 1375 441 1709 441 \nQ 2250 441 2565 725 \nQ 2881 1009 2881 1497 \nQ 2881 1984 2565 2268 \nQ 2250 2553 1709 2553 \nQ 1456 2553 1204 2497 \nQ 953 2441 691 2322 \nL 691 4666 \nz\n\" id=\"DejaVuSans-35\" transform=\"scale(0.015625)\"/>\n       </defs>\n       <use xlink:href=\"#DejaVuSans-32\"/>\n       <use x=\"63.623047\" xlink:href=\"#DejaVuSans-35\"/>\n      </g>\n     </g>\n    </g>\n    <g id=\"ytick_3\">\n     <g id=\"line2d_23\">\n      <g>\n       <use style=\"stroke:#000000;stroke-width:0.8;\" x=\"33.2875\" xlink:href=\"#m7cff792e0e\" y=\"205.310878\"/>\n      </g>\n     </g>\n     <g id=\"text_23\">\n      <!-- 50 -->\n      <g transform=\"translate(13.5625 209.110097)scale(0.1 -0.1)\">\n       <use xlink:href=\"#DejaVuSans-35\"/>\n       <use x=\"63.623047\" xlink:href=\"#DejaVuSans-30\"/>\n      </g>\n     </g>\n    </g>\n    <g id=\"ytick_4\">\n     <g id=\"line2d_24\">\n      <g>\n       <use style=\"stroke:#000000;stroke-width:0.8;\" x=\"33.2875\" xlink:href=\"#m7cff792e0e\" y=\"168.466317\"/>\n      </g>\n     </g>\n     <g id=\"text_24\">\n      <!-- 75 -->\n      <g transform=\"translate(13.5625 172.265536)scale(0.1 -0.1)\">\n       <defs>\n        <path d=\"M 525 4666 \nL 3525 4666 \nL 3525 4397 \nL 1831 0 \nL 1172 0 \nL 2766 4134 \nL 525 4134 \nL 525 4666 \nz\n\" id=\"DejaVuSans-37\" transform=\"scale(0.015625)\"/>\n       </defs>\n       <use xlink:href=\"#DejaVuSans-37\"/>\n       <use x=\"63.623047\" xlink:href=\"#DejaVuSans-35\"/>\n      </g>\n     </g>\n    </g>\n    <g id=\"ytick_5\">\n     <g id=\"line2d_25\">\n      <g>\n       <use style=\"stroke:#000000;stroke-width:0.8;\" x=\"33.2875\" xlink:href=\"#m7cff792e0e\" y=\"131.621757\"/>\n      </g>\n     </g>\n     <g id=\"text_25\">\n      <!-- 100 -->\n      <g transform=\"translate(7.2 135.420975)scale(0.1 -0.1)\">\n       <defs>\n        <path d=\"M 794 531 \nL 1825 531 \nL 1825 4091 \nL 703 3866 \nL 703 4441 \nL 1819 4666 \nL 2450 4666 \nL 2450 531 \nL 3481 531 \nL 3481 0 \nL 794 0 \nL 794 531 \nz\n\" id=\"DejaVuSans-31\" transform=\"scale(0.015625)\"/>\n       </defs>\n       <use xlink:href=\"#DejaVuSans-31\"/>\n       <use x=\"63.623047\" xlink:href=\"#DejaVuSans-30\"/>\n       <use x=\"127.246094\" xlink:href=\"#DejaVuSans-30\"/>\n      </g>\n     </g>\n    </g>\n    <g id=\"ytick_6\">\n     <g id=\"line2d_26\">\n      <g>\n       <use style=\"stroke:#000000;stroke-width:0.8;\" x=\"33.2875\" xlink:href=\"#m7cff792e0e\" y=\"94.777196\"/>\n      </g>\n     </g>\n     <g id=\"text_26\">\n      <!-- 125 -->\n      <g transform=\"translate(7.2 98.576415)scale(0.1 -0.1)\">\n       <use xlink:href=\"#DejaVuSans-31\"/>\n       <use x=\"63.623047\" xlink:href=\"#DejaVuSans-32\"/>\n       <use x=\"127.246094\" xlink:href=\"#DejaVuSans-35\"/>\n      </g>\n     </g>\n    </g>\n    <g id=\"ytick_7\">\n     <g id=\"line2d_27\">\n      <g>\n       <use style=\"stroke:#000000;stroke-width:0.8;\" x=\"33.2875\" xlink:href=\"#m7cff792e0e\" y=\"57.932635\"/>\n      </g>\n     </g>\n     <g id=\"text_27\">\n      <!-- 150 -->\n      <g transform=\"translate(7.2 61.731854)scale(0.1 -0.1)\">\n       <use xlink:href=\"#DejaVuSans-31\"/>\n       <use x=\"63.623047\" xlink:href=\"#DejaVuSans-35\"/>\n       <use x=\"127.246094\" xlink:href=\"#DejaVuSans-30\"/>\n      </g>\n     </g>\n    </g>\n    <g id=\"ytick_8\">\n     <g id=\"line2d_28\">\n      <g>\n       <use style=\"stroke:#000000;stroke-width:0.8;\" x=\"33.2875\" xlink:href=\"#m7cff792e0e\" y=\"21.088074\"/>\n      </g>\n     </g>\n     <g id=\"text_28\">\n      <!-- 175 -->\n      <g transform=\"translate(7.2 24.887293)scale(0.1 -0.1)\">\n       <use xlink:href=\"#DejaVuSans-31\"/>\n       <use x=\"63.623047\" xlink:href=\"#DejaVuSans-37\"/>\n       <use x=\"127.246094\" xlink:href=\"#DejaVuSans-35\"/>\n      </g>\n     </g>\n    </g>\n   </g>\n   <g id=\"patch_23\">\n    <path d=\"M 33.2875 279 \nL 33.2875 7.2 \n\" style=\"fill:none;stroke:#000000;stroke-linecap:square;stroke-linejoin:miter;stroke-width:0.8;\"/>\n   </g>\n   <g id=\"patch_24\">\n    <path d=\"M 1149.2875 279 \nL 1149.2875 7.2 \n\" style=\"fill:none;stroke:#000000;stroke-linecap:square;stroke-linejoin:miter;stroke-width:0.8;\"/>\n   </g>\n   <g id=\"patch_25\">\n    <path d=\"M 33.2875 279 \nL 1149.2875 279 \n\" style=\"fill:none;stroke:#000000;stroke-linecap:square;stroke-linejoin:miter;stroke-width:0.8;\"/>\n   </g>\n   <g id=\"patch_26\">\n    <path d=\"M 33.2875 7.2 \nL 1149.2875 7.2 \n\" style=\"fill:none;stroke:#000000;stroke-linecap:square;stroke-linejoin:miter;stroke-width:0.8;\"/>\n   </g>\n  </g>\n </g>\n <defs>\n  <clipPath id=\"pbe91e0f187\">\n   <rect height=\"271.8\" width=\"1116\" x=\"33.2875\" y=\"7.2\"/>\n  </clipPath>\n </defs>\n</svg>\n",
      "image/png": "[encoded data removed]"
     },
     "metadata": {
      "needs_background": "light"
     }
    }
   ],
   "source": [
    "net.drawEntropiesBar()"
   ]
  }
 ]
}